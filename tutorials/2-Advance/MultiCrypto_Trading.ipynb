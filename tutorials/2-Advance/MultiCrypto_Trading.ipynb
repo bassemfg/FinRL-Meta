{
 "cells": [
  {
   "cell_type": "markdown",
   "metadata": {
    "id": "Yl3liTlqF2tZ"
   },
   "source": [
    "# Multiple Cryptocurrencies Trading Demo"
   ]
  },
  {
   "cell_type": "markdown",
   "metadata": {
    "id": "Ph-kT4laFy5k"
   },
   "source": [
    "## Installation"
   ]
  },
  {
   "cell_type": "markdown",
   "metadata": {
    "id": "NVuCBw07AGgJ"
   },
   "source": [
    "\n",
    "[![Open in Colab](https://colab.research.google.com/assets/colab-badge.svg)](https://colab.research.google.com/github/AI4Finance-Foundation/FinRL-Meta/blob/master/Demo_MultiCrypto_Trading.ipynb)"
   ]
  },
  {
   "cell_type": "code",
   "execution_count": 1,
   "metadata": {
    "id": "GfKfNSTnEqsq",
    "pycharm": {
     "is_executing": true
    }
   },
   "outputs": [
    {
     "data": {
      "text/plain": [
       "\"\\n%cd /\\n!git clone https://github.com/AI4Finance-Foundation/FinRL-Meta\\n%cd /FinRL-Meta/\\n!pip install git+https://github.com/AI4Finance-LLC/ElegantRL.git\\n!pip install git+https://github.com/AI4Finance-LLC/FinRL-Library.git\\n!pip install yfinance stockstats\\n!pip install alpaca_trade_api\\n!pip install ray[default]\\n!pip install lz4\\n!pip install ray[tune]\\n!pip install tensorboardX\\n!pip install gputil\\n!pip install trading_calendars\\n!pip install wrds\\n!pip install rqdatac\\n!pip install sqlalchemy==1.2.19\\n!pip install tushare\\n!pip install baostock\\n!pip install quandl\\n#install talib\\n#!wget http://prdownloads.sourceforge.net/ta-lib/ta-lib-0.4.0-src.tar.gz \\n#!tar xvzf ta-lib-0.4.0-src.tar.gz\\n#import os\\n#os.chdir('ta-lib') \\n#!./configure --prefix=/usr\\n#!make\\n#!make install\\n#os.chdir('../')\\n#!pip install TA-Lib\\n\""
      ]
     },
     "execution_count": 1,
     "metadata": {},
     "output_type": "execute_result"
    }
   ],
   "source": [
    "'''\n",
    "%cd /\n",
    "!git clone https://github.com/AI4Finance-Foundation/FinRL-Meta\n",
    "%cd /FinRL-Meta/\n",
    "!pip install git+https://github.com/AI4Finance-LLC/ElegantRL.git\n",
    "!pip install git+https://github.com/AI4Finance-LLC/FinRL-Library.git\n",
    "!pip install yfinance stockstats\n",
    "!pip install alpaca_trade_api\n",
    "!pip install ray[default]\n",
    "!pip install lz4\n",
    "!pip install ray[tune]\n",
    "!pip install tensorboardX\n",
    "!pip install gputil\n",
    "!pip install trading_calendars\n",
    "!pip install wrds\n",
    "!pip install rqdatac\n",
    "!pip install sqlalchemy==1.2.19\n",
    "!pip install tushare\n",
    "!pip install baostock\n",
    "!pip install quandl\n",
    "#install talib\n",
    "#!wget http://prdownloads.sourceforge.net/ta-lib/ta-lib-0.4.0-src.tar.gz \n",
    "#!tar xvzf ta-lib-0.4.0-src.tar.gz\n",
    "#import os\n",
    "#os.chdir('ta-lib') \n",
    "#!./configure --prefix=/usr\n",
    "#!make\n",
    "#!make install\n",
    "#os.chdir('../')\n",
    "#!pip install TA-Lib\n",
    "'''"
   ]
  },
  {
   "cell_type": "markdown",
   "metadata": {
    "id": "vpUwP86TF9LE"
   },
   "source": [
    "## Import Related Packages"
   ]
  },
  {
   "cell_type": "code",
   "execution_count": 2,
   "metadata": {
    "colab": {
     "base_uri": "https://localhost:8080/"
    },
    "id": "S3W6tDA_FFGA",
    "outputId": "074304b8-c615-45a2-c6e1-7be01aecf9ca",
    "pycharm": {
     "is_executing": true
    }
   },
   "outputs": [
    {
     "name": "stdout",
     "output_type": "stream",
     "text": [
      "/home/bassem/code/FinRL-Meta/meta/env_crypto_trading\n",
      "/home/bassem/code/FinRL-Meta/meta/env_crypto_trading\n"
     ]
    }
   ],
   "source": [
    "import os\n",
    "#import sys \n",
    "#sys.path.insert(0, '/home/bassem/code/FinRL-Meta/meta/')\n",
    "#import os.path, sys\n",
    "#sys.path.append(os.path.join(os.path.dirname(os.path.realpath(__file__)), os.pardir))\n",
    "%cd ../../meta/env_crypto_trading\n",
    "#print(os.path.dirname(os.getcwd()))\n",
    "print((os.getcwd()))\n",
    "from env_multiple_crypto import CryptoEnv\n"
   ]
  },
  {
   "cell_type": "markdown",
   "metadata": {
    "id": "lSDuv3R9H6Y5"
   },
   "source": [
    "## Functions for Training and Testing"
   ]
  },
  {
   "cell_type": "code",
   "execution_count": 3,
   "metadata": {
    "id": "3u8KdIcwH59J",
    "pycharm": {
     "is_executing": true
    }
   },
   "outputs": [
    {
     "name": "stdout",
     "output_type": "stream",
     "text": [
      "/home/bassem/code/FinRL-Meta\n",
      "/home/bassem/code/FinRL-Meta\n"
     ]
    }
   ],
   "source": [
    "%cd ../../\n",
    "#print(os.path.dirname(os.getcwd()))\n",
    "print((os.getcwd()))\n"
   ]
  },
  {
   "cell_type": "code",
   "execution_count": 4,
   "metadata": {},
   "outputs": [],
   "source": [
    "\n",
    "from agents.elegantrl_models import DRLAgent as DRLAgent_erl\n",
    "from agents.rllib_models import DRLAgent as DRLAgent_rllib\n",
    "from agents.stablebaselines3_models import DRLAgent as DRLAgent_sb3\n",
    "from meta.data_processor import DataProcessor\n",
    "\n",
    "def train(start_date, end_date, ticker_list, data_source, time_interval, \n",
    "          technical_indicator_list, drl_lib, env, model_name, if_vix=True,\n",
    "          **kwargs):\n",
    "    \n",
    "    #process data using unified data processor\n",
    "    DP = DataProcessor(data_source, start_date, end_date, time_interval, **kwargs)\n",
    "    price_array, tech_array, turbulence_array = DP.run(ticker_list,\n",
    "                                                        technical_indicator_list, \n",
    "                                                        if_vix, cache=True)\n",
    "\n",
    "    data_config = {'price_array': price_array,\n",
    "                   'tech_array': tech_array,\n",
    "                   'turbulence_array': turbulence_array}\n",
    "\n",
    "    #build environment using processed data\n",
    "    env_instance = env(config=data_config)\n",
    "\n",
    "    #read parameters and load agents\n",
    "    current_working_dir = kwargs.get('current_working_dir','./'+str(model_name))\n",
    "\n",
    "    if drl_lib == 'elegantrl':\n",
    "        break_step = kwargs.get('break_step', 1e6)\n",
    "        erl_params = kwargs.get('erl_params')\n",
    "\n",
    "        agent = DRLAgent_erl(env = env,\n",
    "                             price_array = price_array,\n",
    "                             tech_array=tech_array,\n",
    "                             turbulence_array=turbulence_array)\n",
    "\n",
    "        model = agent.get_model(model_name, model_kwargs = erl_params)\n",
    "\n",
    "        trained_model = agent.train_model(model=model, \n",
    "                                          cwd=current_working_dir,\n",
    "                                          total_timesteps=break_step)\n",
    "        \n",
    "      \n",
    "    elif drl_lib == 'rllib':\n",
    "        total_episodes = kwargs.get('total_episodes', 100)\n",
    "        rllib_params = kwargs.get('rllib_params')\n",
    "\n",
    "        agent_rllib = DRLAgent_rllib(env = env,\n",
    "                       price_array=price_array,\n",
    "                       tech_array=tech_array,\n",
    "                       turbulence_array=turbulence_array)\n",
    "\n",
    "        model,model_config = agent_rllib.get_model(model_name)\n",
    "\n",
    "        model_config['lr'] = rllib_params['lr']\n",
    "        model_config['train_batch_size'] = rllib_params['train_batch_size']\n",
    "        model_config['gamma'] = rllib_params['gamma']\n",
    "\n",
    "        trained_model = agent_rllib.train_model(model=model, \n",
    "                                          model_name=model_name,\n",
    "                                          model_config=model_config,\n",
    "                                          total_episodes=total_episodes)\n",
    "        trained_model.save(current_working_dir)\n",
    "        \n",
    "            \n",
    "    elif drl_lib == 'stable_baselines3':\n",
    "        total_timesteps = kwargs.get('total_timesteps', 1e6)\n",
    "        agent_params = kwargs.get('agent_params')\n",
    "\n",
    "        agent = DRLAgent_sb3(env = env_instance)\n",
    "\n",
    "        model = agent.get_model(model_name, model_kwargs = agent_params)\n",
    "        trained_model = agent.train_model(model=model, \n",
    "                                tb_log_name=model_name,\n",
    "                                total_timesteps=total_timesteps)\n",
    "        print('Training finished!')\n",
    "        trained_model.save(current_working_dir)\n",
    "        print('Trained model saved in ' + str(current_working_dir))\n",
    "    else:\n",
    "        raise ValueError('DRL library input is NOT supported. Please check.')\n"
   ]
  },
  {
   "cell_type": "code",
   "execution_count": 5,
   "metadata": {
    "id": "j4sKCkoAIegn",
    "pycharm": {
     "is_executing": true
    }
   },
   "outputs": [],
   "source": [
    "# import DRL agents\n",
    "from agents.stablebaselines3_models import DRLAgent as DRLAgent_sb3\n",
    "from agents.rllib_models import DRLAgent as DRLAgent_rllib\n",
    "from agents.elegantrl_models import DRLAgent as DRLAgent_erl\n",
    "\n",
    "# import data processor\n",
    "from meta.data_processor import DataProcessor\n",
    "\n",
    "def test(start_date, end_date, ticker_list, data_source, time_interval,\n",
    "            technical_indicator_list, drl_lib, env, model_name, if_vix=True,\n",
    "            **kwargs):\n",
    "  \n",
    "    #process data using unified data processor\n",
    "    DP = DataProcessor(data_source, start_date, end_date, time_interval, **kwargs)\n",
    "    price_array, tech_array, turbulence_array = DP.run(ticker_list,\n",
    "                                                        technical_indicator_list, \n",
    "                                                        if_vix, cache=True)\n",
    "    \n",
    "    \n",
    "    np.save('./price_array.npy', price_array)\n",
    "    data_config = {'price_array':price_array,\n",
    "                   'tech_array':tech_array,\n",
    "                   'turbulence_array':turbulence_array}\n",
    "    #build environment using processed data\n",
    "    env_instance = env(config=data_config)\n",
    "\n",
    "    env_config = {\n",
    "        \"price_array\": price_array,\n",
    "        \"tech_array\": tech_array,\n",
    "        \"turbulence_array\": turbulence_array,\n",
    "        \"if_train\": False,\n",
    "    }\n",
    "    env_instance = env(config=env_config)\n",
    "\n",
    "    # load elegantrl needs state dim, action dim and net dim\n",
    "    net_dimension = kwargs.get(\"net_dimension\", 2 ** 7)\n",
    "    current_working_dir = kwargs.get(\"current_working_dir\", \"./\" + str(model_name))\n",
    "    print(\"price_array: \", len(price_array))\n",
    "\n",
    "    if drl_lib == \"elegantrl\":\n",
    "        episode_total_assets = DRLAgent_erl.DRL_prediction(\n",
    "            model_name=model_name,\n",
    "            cwd=current_working_dir,\n",
    "            net_dimension=net_dimension,\n",
    "            environment=env_instance,\n",
    "        )\n",
    "\n",
    "        return episode_total_assets\n",
    "\n",
    "    elif drl_lib == \"rllib\":\n",
    "        # load agent\n",
    "        episode_total_assets = DRLAgent_rllib.DRL_prediction(\n",
    "            model_name=model_name,\n",
    "            env=env,\n",
    "            price_array=price_array,\n",
    "            tech_array=tech_array,\n",
    "            turbulence_array=turbulence_array,\n",
    "            agent_path=current_working_dir,\n",
    "        )\n",
    "\n",
    "        return episode_total_assets\n",
    "\n",
    "    elif drl_lib == \"stable_baselines3\":\n",
    "        episode_total_assets = DRLAgent_sb3.DRL_prediction_load_from_file(\n",
    "            model_name=model_name, environment=env_instance, cwd=current_working_dir\n",
    "        )\n",
    "\n",
    "        return episode_total_assets\n",
    "    else:\n",
    "        raise ValueError(\"DRL library input is NOT supported. Please check.\")\n"
   ]
  },
  {
   "cell_type": "markdown",
   "metadata": {
    "id": "TWLiSsz3Imqf"
   },
   "source": [
    "## Multiple Cryptocurrencies Trading Env"
   ]
  },
  {
   "cell_type": "code",
   "execution_count": 6,
   "metadata": {
    "id": "UUTc4dhRIraO"
   },
   "outputs": [],
   "source": [
    "import numpy as np\n",
    "import math\n",
    "\n",
    "class CryptoEnv:  # custom env\n",
    "    def __init__(self, config, lookback=1, initial_capital=1e6, \n",
    "                 buy_cost_pct=1e-3, sell_cost_pct=1e-3, gamma=0.99):\n",
    "        self.lookback = lookback\n",
    "        self.initial_total_asset = initial_capital\n",
    "        self.initial_cash = initial_capital\n",
    "        self.buy_cost_pct = buy_cost_pct\n",
    "        self.sell_cost_pct = sell_cost_pct\n",
    "        self.max_stock = 1\n",
    "        self.gamma = gamma\n",
    "        self.price_array = config['price_array']\n",
    "        self.tech_array = config['tech_array']\n",
    "        self._generate_action_normalizer()\n",
    "        self.crypto_num = self.price_array.shape[1]\n",
    "        self.max_step = self.price_array.shape[0] - lookback - 1\n",
    "        \n",
    "        # reset\n",
    "        self.time = lookback-1\n",
    "        self.cash = self.initial_cash\n",
    "        self.current_price = self.price_array[self.time]\n",
    "        self.current_tech = self.tech_array[self.time]\n",
    "        self.stocks = np.zeros(self.crypto_num, dtype=np.float32)\n",
    "\n",
    "        self.total_asset = self.cash + (self.stocks * self.price_array[self.time]).sum()\n",
    "        self.episode_return = 0.0  \n",
    "        self.gamma_return = 0.0\n",
    "        \n",
    "\n",
    "        '''env information'''\n",
    "        self.env_name = 'MulticryptoEnv'\n",
    "        self.state_dim = 1 + (self.price_array.shape[1] + self.tech_array.shape[1])*lookback\n",
    "        self.action_dim = self.price_array.shape[1]\n",
    "        self.if_discrete = False\n",
    "        self.target_return = 10\n",
    "\n",
    "\n",
    "    def reset(self) -> np.ndarray:\n",
    "        self.time = self.lookback-1\n",
    "        self.current_price = self.price_array[self.time]\n",
    "        self.current_tech = self.tech_array[self.time]\n",
    "        self.cash = self.initial_cash  # reset()\n",
    "        self.stocks = np.zeros(self.crypto_num, dtype=np.float32)\n",
    "        self.total_asset = self.cash + (self.stocks * self.price_array[self.time]).sum()\n",
    "        \n",
    "        state = self.get_state()\n",
    "        return state\n",
    "\n",
    "    def step(self, actions) -> (np.ndarray, float, bool, None):\n",
    "        self.time += 1\n",
    "        \n",
    "        price = self.price_array[self.time]\n",
    "        for i in range(self.action_dim):\n",
    "            norm_vector_i = self.action_norm_vector[i]\n",
    "            actions[i] = actions[i] * norm_vector_i\n",
    "            \n",
    "        for index in np.where(actions < 0)[0]:  # sell_index:\n",
    "            if price[index] > 0:  # Sell only if current asset is > 0\n",
    "                sell_num_shares = min(self.stocks[index], -actions[index])\n",
    "                self.stocks[index] -= sell_num_shares\n",
    "                self.cash += price[index] * sell_num_shares * (1 - self.sell_cost_pct)\n",
    "                \n",
    "        for index in np.where(actions > 0)[0]:  # buy_index:\n",
    "            if price[index] > 0:  # Buy only if the price is > 0 (no missing data in this particular date)\n",
    "                buy_num_shares = min(self.cash // price[index], actions[index])\n",
    "                self.stocks[index] += buy_num_shares\n",
    "                self.cash -= price[index] * buy_num_shares * (1 + self.buy_cost_pct)\n",
    "\n",
    "        \"\"\"update time\"\"\"\n",
    "        done = self.time == self.max_step\n",
    "        state = self.get_state()\n",
    "        next_total_asset = self.cash + (self.stocks * self.price_array[self.time]).sum()\n",
    "        reward = (next_total_asset - self.total_asset) * 2 ** -16  \n",
    "        self.total_asset = next_total_asset\n",
    "        self.gamma_return = self.gamma_return * self.gamma + reward \n",
    "        self.cumu_return = self.total_asset / self.initial_cash\n",
    "        if done:\n",
    "            reward = self.gamma_return\n",
    "            self.episode_return = self.total_asset / self.initial_cash\n",
    "        return state, reward, done, None\n",
    "\n",
    "    def get_state(self):\n",
    "        state =  np.hstack((self.cash * 2 ** -18, self.stocks * 2 ** -3))\n",
    "        for i in range(self.lookback):\n",
    "            tech_i = self.tech_array[self.time-i]\n",
    "            normalized_tech_i = tech_i * 2 ** -15\n",
    "            state = np.hstack((state, normalized_tech_i)).astype(np.float32)\n",
    "        return state\n",
    "    \n",
    "    def close(self):\n",
    "        pass\n",
    "\n",
    "    def _generate_action_normalizer(self):\n",
    "        action_norm_vector = []\n",
    "        price_0 = self.price_array[0]\n",
    "        for price in price_0:\n",
    "            x = math.floor(math.log(price, 10)) #the order of magnitude \n",
    "            action_norm_vector.append(1/((10)**x)) \n",
    "            \n",
    "        action_norm_vector = np.asarray(action_norm_vector) * 10000\n",
    "        self.action_norm_vector = np.asarray(action_norm_vector)\n",
    "        "
   ]
  },
  {
   "cell_type": "markdown",
   "metadata": {
    "id": "C8YsfqhOGBaf"
   },
   "source": [
    "## Set Parameters"
   ]
  },
  {
   "cell_type": "code",
   "execution_count": 7,
   "metadata": {
    "id": "m2uDrp5uFM3t"
   },
   "outputs": [],
   "source": [
    "TICKER_LIST = ['BTCUSDT','ETHUSDT','ADAUSDT','BNBUSDT','XRPUSDT',\n",
    "                'SOLUSDT','DOTUSDT', 'DOGEUSDT','AVAXUSDT','UNIUSDT']\n",
    "env = CryptoEnv\n",
    "TRAIN_START_DATE = '2021-09-01'\n",
    "TRAIN_END_DATE = '2021-09-02'\n",
    "\n",
    "TEST_START_DATE = '2021-09-21'\n",
    "TEST_END_DATE = '2021-09-30'\n",
    "\n",
    "INDICATORS = ['macd', 'rsi', 'cci', 'dx'] #self-defined technical indicator list is NOT supported yet\n",
    "\n",
    "ERL_PARAMS = {\"learning_rate\": 2**-15,\"batch_size\": 2**11,\n",
    "                \"gamma\": 0.99, \"seed\":312,\"net_dimension\": 2**9, \n",
    "                \"target_step\": 5000, \"eval_gap\": 30, \"eval_times\": 1}"
   ]
  },
  {
   "cell_type": "markdown",
   "metadata": {
    "id": "NFar1DpfGFvP"
   },
   "source": [
    "## Training"
   ]
  },
  {
   "cell_type": "code",
   "execution_count": 8,
   "metadata": {
    "colab": {
     "base_uri": "https://localhost:8080/",
     "height": 936
    },
    "id": "Hwt2kM5pFPiK",
    "outputId": "1aeba427-a555-4a95-c137-843edcf4c04d"
   },
   "outputs": [
    {
     "name": "stdout",
     "output_type": "stream",
     "text": [
      "binance successfully connected\n",
      "Using cached file ./cache/BTCUSDT_ETHUSDT_ADAUSDT_BNBUSDT_XRPUSDT_SOLUSDT_DOTUSDT_DOGEUSDT_AVAXUSDT_UNIUSDT_binance_2021-09-01_2021-09-02_5m.pickle\n",
      "tech_indicator_list:  ['macd', 'rsi', 'cci', 'dx']\n",
      "indicator:  macd\n",
      "indicator:  rsi\n",
      "indicator:  cci\n"
     ]
    },
    {
     "name": "stderr",
     "output_type": "stream",
     "text": [
      "/home/bassem/code/FinRL-Meta/meta/data_processors/_base.py:147: FutureWarning: The frame.append method is deprecated and will be removed from pandas in a future version. Use pandas.concat instead.\n",
      "  indicator_df = indicator_df.append(\n",
      "/home/bassem/code/FinRL-Meta/meta/data_processors/_base.py:147: FutureWarning: The frame.append method is deprecated and will be removed from pandas in a future version. Use pandas.concat instead.\n",
      "  indicator_df = indicator_df.append(\n",
      "/home/bassem/code/FinRL-Meta/meta/data_processors/_base.py:147: FutureWarning: The frame.append method is deprecated and will be removed from pandas in a future version. Use pandas.concat instead.\n",
      "  indicator_df = indicator_df.append(\n",
      "/home/bassem/code/FinRL-Meta/meta/data_processors/_base.py:147: FutureWarning: The frame.append method is deprecated and will be removed from pandas in a future version. Use pandas.concat instead.\n",
      "  indicator_df = indicator_df.append(\n",
      "/home/bassem/code/FinRL-Meta/meta/data_processors/_base.py:147: FutureWarning: The frame.append method is deprecated and will be removed from pandas in a future version. Use pandas.concat instead.\n",
      "  indicator_df = indicator_df.append(\n",
      "/home/bassem/code/FinRL-Meta/meta/data_processors/_base.py:147: FutureWarning: The frame.append method is deprecated and will be removed from pandas in a future version. Use pandas.concat instead.\n",
      "  indicator_df = indicator_df.append(\n",
      "/home/bassem/code/FinRL-Meta/meta/data_processors/_base.py:147: FutureWarning: The frame.append method is deprecated and will be removed from pandas in a future version. Use pandas.concat instead.\n",
      "  indicator_df = indicator_df.append(\n",
      "/home/bassem/code/FinRL-Meta/meta/data_processors/_base.py:147: FutureWarning: The frame.append method is deprecated and will be removed from pandas in a future version. Use pandas.concat instead.\n",
      "  indicator_df = indicator_df.append(\n",
      "/home/bassem/code/FinRL-Meta/meta/data_processors/_base.py:147: FutureWarning: The frame.append method is deprecated and will be removed from pandas in a future version. Use pandas.concat instead.\n",
      "  indicator_df = indicator_df.append(\n",
      "/home/bassem/code/FinRL-Meta/meta/data_processors/_base.py:147: FutureWarning: The frame.append method is deprecated and will be removed from pandas in a future version. Use pandas.concat instead.\n",
      "  indicator_df = indicator_df.append(\n",
      "/home/bassem/code/FinRL-Meta/meta/data_processors/_base.py:147: FutureWarning: The frame.append method is deprecated and will be removed from pandas in a future version. Use pandas.concat instead.\n",
      "  indicator_df = indicator_df.append(\n",
      "/home/bassem/code/FinRL-Meta/meta/data_processors/_base.py:147: FutureWarning: The frame.append method is deprecated and will be removed from pandas in a future version. Use pandas.concat instead.\n",
      "  indicator_df = indicator_df.append(\n",
      "/home/bassem/code/FinRL-Meta/meta/data_processors/_base.py:147: FutureWarning: The frame.append method is deprecated and will be removed from pandas in a future version. Use pandas.concat instead.\n",
      "  indicator_df = indicator_df.append(\n",
      "/home/bassem/code/FinRL-Meta/meta/data_processors/_base.py:147: FutureWarning: The frame.append method is deprecated and will be removed from pandas in a future version. Use pandas.concat instead.\n",
      "  indicator_df = indicator_df.append(\n",
      "/home/bassem/code/FinRL-Meta/meta/data_processors/_base.py:147: FutureWarning: The frame.append method is deprecated and will be removed from pandas in a future version. Use pandas.concat instead.\n",
      "  indicator_df = indicator_df.append(\n",
      "/home/bassem/code/FinRL-Meta/meta/data_processors/_base.py:147: FutureWarning: The frame.append method is deprecated and will be removed from pandas in a future version. Use pandas.concat instead.\n",
      "  indicator_df = indicator_df.append(\n",
      "/home/bassem/code/FinRL-Meta/meta/data_processors/_base.py:147: FutureWarning: The frame.append method is deprecated and will be removed from pandas in a future version. Use pandas.concat instead.\n",
      "  indicator_df = indicator_df.append(\n",
      "/home/bassem/code/FinRL-Meta/meta/data_processors/_base.py:147: FutureWarning: The frame.append method is deprecated and will be removed from pandas in a future version. Use pandas.concat instead.\n",
      "  indicator_df = indicator_df.append(\n",
      "/home/bassem/code/FinRL-Meta/meta/data_processors/_base.py:147: FutureWarning: The frame.append method is deprecated and will be removed from pandas in a future version. Use pandas.concat instead.\n",
      "  indicator_df = indicator_df.append(\n",
      "/home/bassem/code/FinRL-Meta/meta/data_processors/_base.py:147: FutureWarning: The frame.append method is deprecated and will be removed from pandas in a future version. Use pandas.concat instead.\n",
      "  indicator_df = indicator_df.append(\n",
      "/home/bassem/code/FinRL-Meta/meta/data_processors/_base.py:147: FutureWarning: The frame.append method is deprecated and will be removed from pandas in a future version. Use pandas.concat instead.\n",
      "  indicator_df = indicator_df.append(\n",
      "/home/bassem/code/FinRL-Meta/meta/data_processors/_base.py:147: FutureWarning: The frame.append method is deprecated and will be removed from pandas in a future version. Use pandas.concat instead.\n",
      "  indicator_df = indicator_df.append(\n",
      "/home/bassem/code/FinRL-Meta/meta/data_processors/_base.py:147: FutureWarning: The frame.append method is deprecated and will be removed from pandas in a future version. Use pandas.concat instead.\n",
      "  indicator_df = indicator_df.append(\n",
      "/home/bassem/code/FinRL-Meta/meta/data_processors/_base.py:147: FutureWarning: The frame.append method is deprecated and will be removed from pandas in a future version. Use pandas.concat instead.\n",
      "  indicator_df = indicator_df.append(\n",
      "/home/bassem/code/FinRL-Meta/meta/data_processors/_base.py:147: FutureWarning: The frame.append method is deprecated and will be removed from pandas in a future version. Use pandas.concat instead.\n",
      "  indicator_df = indicator_df.append(\n",
      "/home/bassem/code/FinRL-Meta/meta/data_processors/_base.py:147: FutureWarning: The frame.append method is deprecated and will be removed from pandas in a future version. Use pandas.concat instead.\n",
      "  indicator_df = indicator_df.append(\n",
      "/home/bassem/code/FinRL-Meta/meta/data_processors/_base.py:147: FutureWarning: The frame.append method is deprecated and will be removed from pandas in a future version. Use pandas.concat instead.\n",
      "  indicator_df = indicator_df.append(\n",
      "/home/bassem/code/FinRL-Meta/meta/data_processors/_base.py:147: FutureWarning: The frame.append method is deprecated and will be removed from pandas in a future version. Use pandas.concat instead.\n",
      "  indicator_df = indicator_df.append(\n",
      "/home/bassem/code/FinRL-Meta/meta/data_processors/_base.py:147: FutureWarning: The frame.append method is deprecated and will be removed from pandas in a future version. Use pandas.concat instead.\n",
      "  indicator_df = indicator_df.append(\n",
      "/home/bassem/code/FinRL-Meta/meta/data_processors/_base.py:147: FutureWarning: The frame.append method is deprecated and will be removed from pandas in a future version. Use pandas.concat instead.\n",
      "  indicator_df = indicator_df.append(\n",
      "/home/bassem/code/FinRL-Meta/meta/data_processors/_base.py:147: FutureWarning: The frame.append method is deprecated and will be removed from pandas in a future version. Use pandas.concat instead.\n",
      "  indicator_df = indicator_df.append(\n",
      "/home/bassem/code/FinRL-Meta/meta/data_processors/_base.py:147: FutureWarning: The frame.append method is deprecated and will be removed from pandas in a future version. Use pandas.concat instead.\n",
      "  indicator_df = indicator_df.append(\n",
      "/home/bassem/code/FinRL-Meta/meta/data_processors/_base.py:147: FutureWarning: The frame.append method is deprecated and will be removed from pandas in a future version. Use pandas.concat instead.\n",
      "  indicator_df = indicator_df.append(\n",
      "/home/bassem/code/FinRL-Meta/meta/data_processors/_base.py:147: FutureWarning: The frame.append method is deprecated and will be removed from pandas in a future version. Use pandas.concat instead.\n",
      "  indicator_df = indicator_df.append(\n"
     ]
    },
    {
     "name": "stdout",
     "output_type": "stream",
     "text": [
      "indicator:  dx\n",
      "Succesfully add technical indicators\n",
      "Successfully transformed into array\n",
      "| Arguments Remove cwd: ./test_ppo\n",
      "################################################################################\n",
      "ID     Step    Time |    maxR    curR    curS |    objC   objA   etc.\n"
     ]
    },
    {
     "name": "stderr",
     "output_type": "stream",
     "text": [
      "/home/bassem/code/FinRL-Meta/meta/data_processors/_base.py:147: FutureWarning: The frame.append method is deprecated and will be removed from pandas in a future version. Use pandas.concat instead.\n",
      "  indicator_df = indicator_df.append(\n",
      "/home/bassem/code/FinRL-Meta/meta/data_processors/_base.py:147: FutureWarning: The frame.append method is deprecated and will be removed from pandas in a future version. Use pandas.concat instead.\n",
      "  indicator_df = indicator_df.append(\n",
      "/home/bassem/code/FinRL-Meta/meta/data_processors/_base.py:147: FutureWarning: The frame.append method is deprecated and will be removed from pandas in a future version. Use pandas.concat instead.\n",
      "  indicator_df = indicator_df.append(\n",
      "/home/bassem/code/FinRL-Meta/meta/data_processors/_base.py:147: FutureWarning: The frame.append method is deprecated and will be removed from pandas in a future version. Use pandas.concat instead.\n",
      "  indicator_df = indicator_df.append(\n",
      "/home/bassem/code/FinRL-Meta/meta/data_processors/_base.py:147: FutureWarning: The frame.append method is deprecated and will be removed from pandas in a future version. Use pandas.concat instead.\n",
      "  indicator_df = indicator_df.append(\n",
      "/home/bassem/code/FinRL-Meta/meta/data_processors/_base.py:147: FutureWarning: The frame.append method is deprecated and will be removed from pandas in a future version. Use pandas.concat instead.\n",
      "  indicator_df = indicator_df.append(\n",
      "/home/bassem/anaconda3/lib/python3.9/site-packages/torch/cuda/__init__.py:80: UserWarning: CUDA initialization: CUDA unknown error - this may be due to an incorrectly set up environment, e.g. changing env variable CUDA_VISIBLE_DEVICES after program start. Setting the available devices to be zero. (Triggered internally at  ../c10/cuda/CUDAFunctions.cpp:112.)\n",
      "  return torch._C._cuda_getDeviceCount() > 0\n"
     ]
    },
    {
     "ename": "AttributeError",
     "evalue": "'AgentPPO' object has no attribute 'traj_list'",
     "output_type": "error",
     "traceback": [
      "\u001b[0;31m---------------------------------------------------------------------------\u001b[0m",
      "\u001b[0;31mAttributeError\u001b[0m                            Traceback (most recent call last)",
      "\u001b[1;32m/home/bassem/code/FinRL-Meta/tutorials/2-Advance/MultiCrypto_Trading.ipynb Cell 16\u001b[0m in \u001b[0;36m<cell line: 1>\u001b[0;34m()\u001b[0m\n\u001b[0;32m----> <a href='vscode-notebook-cell:/home/bassem/code/FinRL-Meta/tutorials/2-Advance/MultiCrypto_Trading.ipynb#ch0000014?line=0'>1</a>\u001b[0m train(start_date\u001b[39m=\u001b[39;49mTRAIN_START_DATE, \n\u001b[1;32m      <a href='vscode-notebook-cell:/home/bassem/code/FinRL-Meta/tutorials/2-Advance/MultiCrypto_Trading.ipynb#ch0000014?line=1'>2</a>\u001b[0m       end_date\u001b[39m=\u001b[39;49mTRAIN_END_DATE,\n\u001b[1;32m      <a href='vscode-notebook-cell:/home/bassem/code/FinRL-Meta/tutorials/2-Advance/MultiCrypto_Trading.ipynb#ch0000014?line=2'>3</a>\u001b[0m       ticker_list\u001b[39m=\u001b[39;49mTICKER_LIST, \n\u001b[1;32m      <a href='vscode-notebook-cell:/home/bassem/code/FinRL-Meta/tutorials/2-Advance/MultiCrypto_Trading.ipynb#ch0000014?line=3'>4</a>\u001b[0m       data_source\u001b[39m=\u001b[39;49m\u001b[39m'\u001b[39;49m\u001b[39mbinance\u001b[39;49m\u001b[39m'\u001b[39;49m,\n\u001b[1;32m      <a href='vscode-notebook-cell:/home/bassem/code/FinRL-Meta/tutorials/2-Advance/MultiCrypto_Trading.ipynb#ch0000014?line=4'>5</a>\u001b[0m       time_interval\u001b[39m=\u001b[39;49m\u001b[39m'\u001b[39;49m\u001b[39m5m\u001b[39;49m\u001b[39m'\u001b[39;49m, \n\u001b[1;32m      <a href='vscode-notebook-cell:/home/bassem/code/FinRL-Meta/tutorials/2-Advance/MultiCrypto_Trading.ipynb#ch0000014?line=5'>6</a>\u001b[0m       technical_indicator_list\u001b[39m=\u001b[39;49mINDICATORS,\n\u001b[1;32m      <a href='vscode-notebook-cell:/home/bassem/code/FinRL-Meta/tutorials/2-Advance/MultiCrypto_Trading.ipynb#ch0000014?line=6'>7</a>\u001b[0m       drl_lib\u001b[39m=\u001b[39;49m\u001b[39m'\u001b[39;49m\u001b[39melegantrl\u001b[39;49m\u001b[39m'\u001b[39;49m, \n\u001b[1;32m      <a href='vscode-notebook-cell:/home/bassem/code/FinRL-Meta/tutorials/2-Advance/MultiCrypto_Trading.ipynb#ch0000014?line=7'>8</a>\u001b[0m       env\u001b[39m=\u001b[39;49menv, \n\u001b[1;32m      <a href='vscode-notebook-cell:/home/bassem/code/FinRL-Meta/tutorials/2-Advance/MultiCrypto_Trading.ipynb#ch0000014?line=8'>9</a>\u001b[0m       model_name\u001b[39m=\u001b[39;49m\u001b[39m'\u001b[39;49m\u001b[39mppo\u001b[39;49m\u001b[39m'\u001b[39;49m, \n\u001b[1;32m     <a href='vscode-notebook-cell:/home/bassem/code/FinRL-Meta/tutorials/2-Advance/MultiCrypto_Trading.ipynb#ch0000014?line=9'>10</a>\u001b[0m       current_working_dir\u001b[39m=\u001b[39;49m\u001b[39m'\u001b[39;49m\u001b[39m./test_ppo\u001b[39;49m\u001b[39m'\u001b[39;49m,\n\u001b[1;32m     <a href='vscode-notebook-cell:/home/bassem/code/FinRL-Meta/tutorials/2-Advance/MultiCrypto_Trading.ipynb#ch0000014?line=10'>11</a>\u001b[0m       erl_params\u001b[39m=\u001b[39;49mERL_PARAMS,\n\u001b[1;32m     <a href='vscode-notebook-cell:/home/bassem/code/FinRL-Meta/tutorials/2-Advance/MultiCrypto_Trading.ipynb#ch0000014?line=11'>12</a>\u001b[0m       break_step\u001b[39m=\u001b[39;49m\u001b[39m5e4\u001b[39;49m,\n\u001b[1;32m     <a href='vscode-notebook-cell:/home/bassem/code/FinRL-Meta/tutorials/2-Advance/MultiCrypto_Trading.ipynb#ch0000014?line=12'>13</a>\u001b[0m       if_vix\u001b[39m=\u001b[39;49m\u001b[39mFalse\u001b[39;49;00m,gpu_id\u001b[39m=\u001b[39;49m\u001b[39m0\u001b[39;49m,\n\u001b[1;32m     <a href='vscode-notebook-cell:/home/bassem/code/FinRL-Meta/tutorials/2-Advance/MultiCrypto_Trading.ipynb#ch0000014?line=13'>14</a>\u001b[0m       )\n",
      "\u001b[1;32m/home/bassem/code/FinRL-Meta/tutorials/2-Advance/MultiCrypto_Trading.ipynb Cell 16\u001b[0m in \u001b[0;36mtrain\u001b[0;34m(start_date, end_date, ticker_list, data_source, time_interval, technical_indicator_list, drl_lib, env, model_name, if_vix, **kwargs)\u001b[0m\n\u001b[1;32m     <a href='vscode-notebook-cell:/home/bassem/code/FinRL-Meta/tutorials/2-Advance/MultiCrypto_Trading.ipynb#ch0000014?line=29'>30</a>\u001b[0m     agent \u001b[39m=\u001b[39m DRLAgent_erl(env \u001b[39m=\u001b[39m env,\n\u001b[1;32m     <a href='vscode-notebook-cell:/home/bassem/code/FinRL-Meta/tutorials/2-Advance/MultiCrypto_Trading.ipynb#ch0000014?line=30'>31</a>\u001b[0m                          price_array \u001b[39m=\u001b[39m price_array,\n\u001b[1;32m     <a href='vscode-notebook-cell:/home/bassem/code/FinRL-Meta/tutorials/2-Advance/MultiCrypto_Trading.ipynb#ch0000014?line=31'>32</a>\u001b[0m                          tech_array\u001b[39m=\u001b[39mtech_array,\n\u001b[1;32m     <a href='vscode-notebook-cell:/home/bassem/code/FinRL-Meta/tutorials/2-Advance/MultiCrypto_Trading.ipynb#ch0000014?line=32'>33</a>\u001b[0m                          turbulence_array\u001b[39m=\u001b[39mturbulence_array)\n\u001b[1;32m     <a href='vscode-notebook-cell:/home/bassem/code/FinRL-Meta/tutorials/2-Advance/MultiCrypto_Trading.ipynb#ch0000014?line=34'>35</a>\u001b[0m     model \u001b[39m=\u001b[39m agent\u001b[39m.\u001b[39mget_model(model_name, model_kwargs \u001b[39m=\u001b[39m erl_params)\n\u001b[0;32m---> <a href='vscode-notebook-cell:/home/bassem/code/FinRL-Meta/tutorials/2-Advance/MultiCrypto_Trading.ipynb#ch0000014?line=36'>37</a>\u001b[0m     trained_model \u001b[39m=\u001b[39m agent\u001b[39m.\u001b[39;49mtrain_model(model\u001b[39m=\u001b[39;49mmodel, \n\u001b[1;32m     <a href='vscode-notebook-cell:/home/bassem/code/FinRL-Meta/tutorials/2-Advance/MultiCrypto_Trading.ipynb#ch0000014?line=37'>38</a>\u001b[0m                                       cwd\u001b[39m=\u001b[39;49mcurrent_working_dir,\n\u001b[1;32m     <a href='vscode-notebook-cell:/home/bassem/code/FinRL-Meta/tutorials/2-Advance/MultiCrypto_Trading.ipynb#ch0000014?line=38'>39</a>\u001b[0m                                       total_timesteps\u001b[39m=\u001b[39;49mbreak_step)\n\u001b[1;32m     <a href='vscode-notebook-cell:/home/bassem/code/FinRL-Meta/tutorials/2-Advance/MultiCrypto_Trading.ipynb#ch0000014?line=41'>42</a>\u001b[0m \u001b[39melif\u001b[39;00m drl_lib \u001b[39m==\u001b[39m \u001b[39m'\u001b[39m\u001b[39mrllib\u001b[39m\u001b[39m'\u001b[39m:\n\u001b[1;32m     <a href='vscode-notebook-cell:/home/bassem/code/FinRL-Meta/tutorials/2-Advance/MultiCrypto_Trading.ipynb#ch0000014?line=42'>43</a>\u001b[0m     total_episodes \u001b[39m=\u001b[39m kwargs\u001b[39m.\u001b[39mget(\u001b[39m'\u001b[39m\u001b[39mtotal_episodes\u001b[39m\u001b[39m'\u001b[39m, \u001b[39m100\u001b[39m)\n",
      "File \u001b[0;32m~/code/FinRL-Meta/agents/elegantrl_models.py:80\u001b[0m, in \u001b[0;36mDRLAgent.train_model\u001b[0;34m(self, model, cwd, total_timesteps)\u001b[0m\n\u001b[1;32m     78\u001b[0m model\u001b[39m.\u001b[39mcwd \u001b[39m=\u001b[39m cwd\n\u001b[1;32m     79\u001b[0m model\u001b[39m.\u001b[39mbreak_step \u001b[39m=\u001b[39m total_timesteps\n\u001b[0;32m---> 80\u001b[0m train_and_evaluate(model)\n",
      "File \u001b[0;32m~/anaconda3/lib/python3.9/site-packages/elegantrl/train/run.py:80\u001b[0m, in \u001b[0;36mtrain_and_evaluate\u001b[0;34m(***failed resolving arguments***)\u001b[0m\n\u001b[1;32m     78\u001b[0m if_train \u001b[39m=\u001b[39m \u001b[39mTrue\u001b[39;00m\n\u001b[1;32m     79\u001b[0m \u001b[39mwhile\u001b[39;00m if_train:\n\u001b[0;32m---> 80\u001b[0m     trajectory, step \u001b[39m=\u001b[39m agent\u001b[39m.\u001b[39;49mexplore_env(env, horizon_len, \u001b[39mFalse\u001b[39;49;00m)\n\u001b[1;32m     81\u001b[0m     steps \u001b[39m+\u001b[39m\u001b[39m=\u001b[39m step\n\u001b[1;32m     82\u001b[0m     \u001b[39mif\u001b[39;00m if_off_policy:\n",
      "File \u001b[0;32m~/anaconda3/lib/python3.9/site-packages/elegantrl/agents/AgentPPO.py:88\u001b[0m, in \u001b[0;36mAgentPPO.explore_one_env\u001b[0;34m(self, env, target_step, random_exploration)\u001b[0m\n\u001b[1;32m     86\u001b[0m \u001b[39mself\u001b[39m\u001b[39m.\u001b[39mstates[\u001b[39m0\u001b[39m] \u001b[39m=\u001b[39m state\n\u001b[1;32m     87\u001b[0m last_done[\u001b[39m0\u001b[39m] \u001b[39m=\u001b[39m step_i\n\u001b[0;32m---> 88\u001b[0m \u001b[39mreturn\u001b[39;00m \u001b[39mself\u001b[39;49m\u001b[39m.\u001b[39;49mconvert_trajectory(traj_list, last_done), step_i\n",
      "File \u001b[0;32m~/anaconda3/lib/python3.9/site-packages/elegantrl/agents/AgentBase.py:260\u001b[0m, in \u001b[0;36mAgentBase.convert_trajectory\u001b[0;34m(***failed resolving arguments***)\u001b[0m\n\u001b[1;32m    257\u001b[0m \u001b[39mfor\u001b[39;00m env_i \u001b[39min\u001b[39;00m \u001b[39mrange\u001b[39m(\u001b[39mself\u001b[39m\u001b[39m.\u001b[39menv_num):\n\u001b[1;32m    258\u001b[0m     last_step \u001b[39m=\u001b[39m last_done[env_i]\n\u001b[0;32m--> 260\u001b[0m     pre_item \u001b[39m=\u001b[39m \u001b[39mself\u001b[39;49m\u001b[39m.\u001b[39;49mtraj_list[env_i][j]\n\u001b[1;32m    261\u001b[0m     \u001b[39mif\u001b[39;00m \u001b[39mlen\u001b[39m(pre_item):\n\u001b[1;32m    262\u001b[0m         cur_item\u001b[39m.\u001b[39mappend(pre_item)\n",
      "\u001b[0;31mAttributeError\u001b[0m: 'AgentPPO' object has no attribute 'traj_list'"
     ]
    }
   ],
   "source": [
    "train(start_date=TRAIN_START_DATE, \n",
    "      end_date=TRAIN_END_DATE,\n",
    "      ticker_list=TICKER_LIST, \n",
    "      data_source='binance',\n",
    "      time_interval='5m', \n",
    "      technical_indicator_list=INDICATORS,\n",
    "      drl_lib='elegantrl', \n",
    "      env=env, \n",
    "      model_name='ppo', \n",
    "      current_working_dir='./test_ppo',\n",
    "      erl_params=ERL_PARAMS,\n",
    "      break_step=5e4,\n",
    "      if_vix=False,gpu_id=0,\n",
    "      )"
   ]
  },
  {
   "cell_type": "markdown",
   "metadata": {
    "id": "6y7bIQdkGLLU"
   },
   "source": [
    "## Testing"
   ]
  },
  {
   "cell_type": "code",
   "execution_count": null,
   "metadata": {
    "id": "44EXeZglFS8d"
   },
   "outputs": [
    {
     "name": "stdout",
     "output_type": "stream",
     "text": [
      "binance successfully connected\n"
     ]
    },
    {
     "name": "stderr",
     "output_type": "stream",
     "text": [
      "/home/bassem/code/FinRL-Meta/meta/data_processors/binance.py:192: FutureWarning: The frame.append method is deprecated and will be removed from pandas in a future version. Use pandas.concat instead.\n",
      "  final_df = final_df.append(new_df)\n",
      "/home/bassem/code/FinRL-Meta/meta/data_processors/binance.py:192: FutureWarning: The frame.append method is deprecated and will be removed from pandas in a future version. Use pandas.concat instead.\n",
      "  final_df = final_df.append(new_df)\n",
      "/home/bassem/code/FinRL-Meta/meta/data_processors/binance.py:192: FutureWarning: The frame.append method is deprecated and will be removed from pandas in a future version. Use pandas.concat instead.\n",
      "  final_df = final_df.append(new_df)\n",
      "/home/bassem/code/FinRL-Meta/meta/data_processors/binance.py:58: FutureWarning: The frame.append method is deprecated and will be removed from pandas in a future version. Use pandas.concat instead.\n",
      "  final_df = final_df.append(df)\n",
      "/home/bassem/code/FinRL-Meta/meta/data_processors/binance.py:192: FutureWarning: The frame.append method is deprecated and will be removed from pandas in a future version. Use pandas.concat instead.\n",
      "  final_df = final_df.append(new_df)\n",
      "/home/bassem/code/FinRL-Meta/meta/data_processors/binance.py:192: FutureWarning: The frame.append method is deprecated and will be removed from pandas in a future version. Use pandas.concat instead.\n",
      "  final_df = final_df.append(new_df)\n",
      "/home/bassem/code/FinRL-Meta/meta/data_processors/binance.py:192: FutureWarning: The frame.append method is deprecated and will be removed from pandas in a future version. Use pandas.concat instead.\n",
      "  final_df = final_df.append(new_df)\n",
      "/home/bassem/code/FinRL-Meta/meta/data_processors/binance.py:58: FutureWarning: The frame.append method is deprecated and will be removed from pandas in a future version. Use pandas.concat instead.\n",
      "  final_df = final_df.append(df)\n",
      "/home/bassem/code/FinRL-Meta/meta/data_processors/binance.py:192: FutureWarning: The frame.append method is deprecated and will be removed from pandas in a future version. Use pandas.concat instead.\n",
      "  final_df = final_df.append(new_df)\n",
      "/home/bassem/code/FinRL-Meta/meta/data_processors/binance.py:192: FutureWarning: The frame.append method is deprecated and will be removed from pandas in a future version. Use pandas.concat instead.\n",
      "  final_df = final_df.append(new_df)\n",
      "/home/bassem/code/FinRL-Meta/meta/data_processors/binance.py:192: FutureWarning: The frame.append method is deprecated and will be removed from pandas in a future version. Use pandas.concat instead.\n",
      "  final_df = final_df.append(new_df)\n",
      "/home/bassem/code/FinRL-Meta/meta/data_processors/binance.py:58: FutureWarning: The frame.append method is deprecated and will be removed from pandas in a future version. Use pandas.concat instead.\n",
      "  final_df = final_df.append(df)\n",
      "/home/bassem/code/FinRL-Meta/meta/data_processors/binance.py:192: FutureWarning: The frame.append method is deprecated and will be removed from pandas in a future version. Use pandas.concat instead.\n",
      "  final_df = final_df.append(new_df)\n",
      "/home/bassem/code/FinRL-Meta/meta/data_processors/binance.py:192: FutureWarning: The frame.append method is deprecated and will be removed from pandas in a future version. Use pandas.concat instead.\n",
      "  final_df = final_df.append(new_df)\n",
      "/home/bassem/code/FinRL-Meta/meta/data_processors/binance.py:192: FutureWarning: The frame.append method is deprecated and will be removed from pandas in a future version. Use pandas.concat instead.\n",
      "  final_df = final_df.append(new_df)\n",
      "/home/bassem/code/FinRL-Meta/meta/data_processors/binance.py:58: FutureWarning: The frame.append method is deprecated and will be removed from pandas in a future version. Use pandas.concat instead.\n",
      "  final_df = final_df.append(df)\n",
      "/home/bassem/code/FinRL-Meta/meta/data_processors/binance.py:192: FutureWarning: The frame.append method is deprecated and will be removed from pandas in a future version. Use pandas.concat instead.\n",
      "  final_df = final_df.append(new_df)\n",
      "/home/bassem/code/FinRL-Meta/meta/data_processors/binance.py:192: FutureWarning: The frame.append method is deprecated and will be removed from pandas in a future version. Use pandas.concat instead.\n",
      "  final_df = final_df.append(new_df)\n",
      "/home/bassem/code/FinRL-Meta/meta/data_processors/binance.py:192: FutureWarning: The frame.append method is deprecated and will be removed from pandas in a future version. Use pandas.concat instead.\n",
      "  final_df = final_df.append(new_df)\n",
      "/home/bassem/code/FinRL-Meta/meta/data_processors/binance.py:58: FutureWarning: The frame.append method is deprecated and will be removed from pandas in a future version. Use pandas.concat instead.\n",
      "  final_df = final_df.append(df)\n",
      "/home/bassem/code/FinRL-Meta/meta/data_processors/binance.py:192: FutureWarning: The frame.append method is deprecated and will be removed from pandas in a future version. Use pandas.concat instead.\n",
      "  final_df = final_df.append(new_df)\n",
      "/home/bassem/code/FinRL-Meta/meta/data_processors/binance.py:192: FutureWarning: The frame.append method is deprecated and will be removed from pandas in a future version. Use pandas.concat instead.\n",
      "  final_df = final_df.append(new_df)\n",
      "/home/bassem/code/FinRL-Meta/meta/data_processors/binance.py:192: FutureWarning: The frame.append method is deprecated and will be removed from pandas in a future version. Use pandas.concat instead.\n",
      "  final_df = final_df.append(new_df)\n",
      "/home/bassem/code/FinRL-Meta/meta/data_processors/binance.py:58: FutureWarning: The frame.append method is deprecated and will be removed from pandas in a future version. Use pandas.concat instead.\n",
      "  final_df = final_df.append(df)\n",
      "/home/bassem/code/FinRL-Meta/meta/data_processors/binance.py:192: FutureWarning: The frame.append method is deprecated and will be removed from pandas in a future version. Use pandas.concat instead.\n",
      "  final_df = final_df.append(new_df)\n",
      "/home/bassem/code/FinRL-Meta/meta/data_processors/binance.py:192: FutureWarning: The frame.append method is deprecated and will be removed from pandas in a future version. Use pandas.concat instead.\n",
      "  final_df = final_df.append(new_df)\n",
      "/home/bassem/code/FinRL-Meta/meta/data_processors/binance.py:192: FutureWarning: The frame.append method is deprecated and will be removed from pandas in a future version. Use pandas.concat instead.\n",
      "  final_df = final_df.append(new_df)\n",
      "/home/bassem/code/FinRL-Meta/meta/data_processors/binance.py:58: FutureWarning: The frame.append method is deprecated and will be removed from pandas in a future version. Use pandas.concat instead.\n",
      "  final_df = final_df.append(df)\n",
      "/home/bassem/code/FinRL-Meta/meta/data_processors/binance.py:192: FutureWarning: The frame.append method is deprecated and will be removed from pandas in a future version. Use pandas.concat instead.\n",
      "  final_df = final_df.append(new_df)\n",
      "/home/bassem/code/FinRL-Meta/meta/data_processors/binance.py:192: FutureWarning: The frame.append method is deprecated and will be removed from pandas in a future version. Use pandas.concat instead.\n",
      "  final_df = final_df.append(new_df)\n",
      "/home/bassem/code/FinRL-Meta/meta/data_processors/binance.py:192: FutureWarning: The frame.append method is deprecated and will be removed from pandas in a future version. Use pandas.concat instead.\n",
      "  final_df = final_df.append(new_df)\n",
      "/home/bassem/code/FinRL-Meta/meta/data_processors/binance.py:58: FutureWarning: The frame.append method is deprecated and will be removed from pandas in a future version. Use pandas.concat instead.\n",
      "  final_df = final_df.append(df)\n",
      "/home/bassem/code/FinRL-Meta/meta/data_processors/binance.py:192: FutureWarning: The frame.append method is deprecated and will be removed from pandas in a future version. Use pandas.concat instead.\n",
      "  final_df = final_df.append(new_df)\n",
      "/home/bassem/code/FinRL-Meta/meta/data_processors/binance.py:192: FutureWarning: The frame.append method is deprecated and will be removed from pandas in a future version. Use pandas.concat instead.\n",
      "  final_df = final_df.append(new_df)\n",
      "/home/bassem/code/FinRL-Meta/meta/data_processors/binance.py:192: FutureWarning: The frame.append method is deprecated and will be removed from pandas in a future version. Use pandas.concat instead.\n",
      "  final_df = final_df.append(new_df)\n",
      "/home/bassem/code/FinRL-Meta/meta/data_processors/binance.py:58: FutureWarning: The frame.append method is deprecated and will be removed from pandas in a future version. Use pandas.concat instead.\n",
      "  final_df = final_df.append(df)\n",
      "/home/bassem/code/FinRL-Meta/meta/data_processors/binance.py:192: FutureWarning: The frame.append method is deprecated and will be removed from pandas in a future version. Use pandas.concat instead.\n",
      "  final_df = final_df.append(new_df)\n",
      "/home/bassem/code/FinRL-Meta/meta/data_processors/binance.py:192: FutureWarning: The frame.append method is deprecated and will be removed from pandas in a future version. Use pandas.concat instead.\n",
      "  final_df = final_df.append(new_df)\n",
      "/home/bassem/code/FinRL-Meta/meta/data_processors/binance.py:192: FutureWarning: The frame.append method is deprecated and will be removed from pandas in a future version. Use pandas.concat instead.\n",
      "  final_df = final_df.append(new_df)\n",
      "/home/bassem/code/FinRL-Meta/meta/data_processors/binance.py:58: FutureWarning: The frame.append method is deprecated and will be removed from pandas in a future version. Use pandas.concat instead.\n",
      "  final_df = final_df.append(df)\n"
     ]
    },
    {
     "name": "stdout",
     "output_type": "stream",
     "text": [
      "tech_indicator_list:  ['macd', 'rsi', 'cci', 'dx']\n",
      "indicator:  macd\n",
      "indicator:  rsi\n",
      "indicator:  cci\n"
     ]
    },
    {
     "name": "stderr",
     "output_type": "stream",
     "text": [
      "/home/bassem/code/FinRL-Meta/meta/data_processors/_base.py:147: FutureWarning: The frame.append method is deprecated and will be removed from pandas in a future version. Use pandas.concat instead.\n",
      "  indicator_df = indicator_df.append(\n",
      "/home/bassem/code/FinRL-Meta/meta/data_processors/_base.py:147: FutureWarning: The frame.append method is deprecated and will be removed from pandas in a future version. Use pandas.concat instead.\n",
      "  indicator_df = indicator_df.append(\n",
      "/home/bassem/code/FinRL-Meta/meta/data_processors/_base.py:147: FutureWarning: The frame.append method is deprecated and will be removed from pandas in a future version. Use pandas.concat instead.\n",
      "  indicator_df = indicator_df.append(\n",
      "/home/bassem/code/FinRL-Meta/meta/data_processors/_base.py:147: FutureWarning: The frame.append method is deprecated and will be removed from pandas in a future version. Use pandas.concat instead.\n",
      "  indicator_df = indicator_df.append(\n",
      "/home/bassem/code/FinRL-Meta/meta/data_processors/_base.py:147: FutureWarning: The frame.append method is deprecated and will be removed from pandas in a future version. Use pandas.concat instead.\n",
      "  indicator_df = indicator_df.append(\n",
      "/home/bassem/code/FinRL-Meta/meta/data_processors/_base.py:147: FutureWarning: The frame.append method is deprecated and will be removed from pandas in a future version. Use pandas.concat instead.\n",
      "  indicator_df = indicator_df.append(\n",
      "/home/bassem/code/FinRL-Meta/meta/data_processors/_base.py:147: FutureWarning: The frame.append method is deprecated and will be removed from pandas in a future version. Use pandas.concat instead.\n",
      "  indicator_df = indicator_df.append(\n",
      "/home/bassem/code/FinRL-Meta/meta/data_processors/_base.py:147: FutureWarning: The frame.append method is deprecated and will be removed from pandas in a future version. Use pandas.concat instead.\n",
      "  indicator_df = indicator_df.append(\n",
      "/home/bassem/code/FinRL-Meta/meta/data_processors/_base.py:147: FutureWarning: The frame.append method is deprecated and will be removed from pandas in a future version. Use pandas.concat instead.\n",
      "  indicator_df = indicator_df.append(\n",
      "/home/bassem/code/FinRL-Meta/meta/data_processors/_base.py:147: FutureWarning: The frame.append method is deprecated and will be removed from pandas in a future version. Use pandas.concat instead.\n",
      "  indicator_df = indicator_df.append(\n",
      "/home/bassem/code/FinRL-Meta/meta/data_processors/_base.py:147: FutureWarning: The frame.append method is deprecated and will be removed from pandas in a future version. Use pandas.concat instead.\n",
      "  indicator_df = indicator_df.append(\n",
      "/home/bassem/code/FinRL-Meta/meta/data_processors/_base.py:147: FutureWarning: The frame.append method is deprecated and will be removed from pandas in a future version. Use pandas.concat instead.\n",
      "  indicator_df = indicator_df.append(\n",
      "/home/bassem/code/FinRL-Meta/meta/data_processors/_base.py:147: FutureWarning: The frame.append method is deprecated and will be removed from pandas in a future version. Use pandas.concat instead.\n",
      "  indicator_df = indicator_df.append(\n",
      "/home/bassem/code/FinRL-Meta/meta/data_processors/_base.py:147: FutureWarning: The frame.append method is deprecated and will be removed from pandas in a future version. Use pandas.concat instead.\n",
      "  indicator_df = indicator_df.append(\n",
      "/home/bassem/code/FinRL-Meta/meta/data_processors/_base.py:147: FutureWarning: The frame.append method is deprecated and will be removed from pandas in a future version. Use pandas.concat instead.\n",
      "  indicator_df = indicator_df.append(\n",
      "/home/bassem/code/FinRL-Meta/meta/data_processors/_base.py:147: FutureWarning: The frame.append method is deprecated and will be removed from pandas in a future version. Use pandas.concat instead.\n",
      "  indicator_df = indicator_df.append(\n",
      "/home/bassem/code/FinRL-Meta/meta/data_processors/_base.py:147: FutureWarning: The frame.append method is deprecated and will be removed from pandas in a future version. Use pandas.concat instead.\n",
      "  indicator_df = indicator_df.append(\n",
      "/home/bassem/code/FinRL-Meta/meta/data_processors/_base.py:147: FutureWarning: The frame.append method is deprecated and will be removed from pandas in a future version. Use pandas.concat instead.\n",
      "  indicator_df = indicator_df.append(\n",
      "/home/bassem/code/FinRL-Meta/meta/data_processors/_base.py:147: FutureWarning: The frame.append method is deprecated and will be removed from pandas in a future version. Use pandas.concat instead.\n",
      "  indicator_df = indicator_df.append(\n",
      "/home/bassem/code/FinRL-Meta/meta/data_processors/_base.py:147: FutureWarning: The frame.append method is deprecated and will be removed from pandas in a future version. Use pandas.concat instead.\n",
      "  indicator_df = indicator_df.append(\n",
      "/home/bassem/code/FinRL-Meta/meta/data_processors/_base.py:147: FutureWarning: The frame.append method is deprecated and will be removed from pandas in a future version. Use pandas.concat instead.\n",
      "  indicator_df = indicator_df.append(\n",
      "/home/bassem/code/FinRL-Meta/meta/data_processors/_base.py:147: FutureWarning: The frame.append method is deprecated and will be removed from pandas in a future version. Use pandas.concat instead.\n",
      "  indicator_df = indicator_df.append(\n",
      "/home/bassem/code/FinRL-Meta/meta/data_processors/_base.py:147: FutureWarning: The frame.append method is deprecated and will be removed from pandas in a future version. Use pandas.concat instead.\n",
      "  indicator_df = indicator_df.append(\n",
      "/home/bassem/code/FinRL-Meta/meta/data_processors/_base.py:147: FutureWarning: The frame.append method is deprecated and will be removed from pandas in a future version. Use pandas.concat instead.\n",
      "  indicator_df = indicator_df.append(\n",
      "/home/bassem/code/FinRL-Meta/meta/data_processors/_base.py:147: FutureWarning: The frame.append method is deprecated and will be removed from pandas in a future version. Use pandas.concat instead.\n",
      "  indicator_df = indicator_df.append(\n",
      "/home/bassem/code/FinRL-Meta/meta/data_processors/_base.py:147: FutureWarning: The frame.append method is deprecated and will be removed from pandas in a future version. Use pandas.concat instead.\n",
      "  indicator_df = indicator_df.append(\n",
      "/home/bassem/code/FinRL-Meta/meta/data_processors/_base.py:147: FutureWarning: The frame.append method is deprecated and will be removed from pandas in a future version. Use pandas.concat instead.\n",
      "  indicator_df = indicator_df.append(\n",
      "/home/bassem/code/FinRL-Meta/meta/data_processors/_base.py:147: FutureWarning: The frame.append method is deprecated and will be removed from pandas in a future version. Use pandas.concat instead.\n",
      "  indicator_df = indicator_df.append(\n",
      "/home/bassem/code/FinRL-Meta/meta/data_processors/_base.py:147: FutureWarning: The frame.append method is deprecated and will be removed from pandas in a future version. Use pandas.concat instead.\n",
      "  indicator_df = indicator_df.append(\n",
      "/home/bassem/code/FinRL-Meta/meta/data_processors/_base.py:147: FutureWarning: The frame.append method is deprecated and will be removed from pandas in a future version. Use pandas.concat instead.\n",
      "  indicator_df = indicator_df.append(\n",
      "/home/bassem/code/FinRL-Meta/meta/data_processors/_base.py:147: FutureWarning: The frame.append method is deprecated and will be removed from pandas in a future version. Use pandas.concat instead.\n",
      "  indicator_df = indicator_df.append(\n",
      "/home/bassem/code/FinRL-Meta/meta/data_processors/_base.py:147: FutureWarning: The frame.append method is deprecated and will be removed from pandas in a future version. Use pandas.concat instead.\n",
      "  indicator_df = indicator_df.append(\n",
      "/home/bassem/code/FinRL-Meta/meta/data_processors/_base.py:147: FutureWarning: The frame.append method is deprecated and will be removed from pandas in a future version. Use pandas.concat instead.\n",
      "  indicator_df = indicator_df.append(\n",
      "/home/bassem/code/FinRL-Meta/meta/data_processors/_base.py:147: FutureWarning: The frame.append method is deprecated and will be removed from pandas in a future version. Use pandas.concat instead.\n",
      "  indicator_df = indicator_df.append(\n",
      "/home/bassem/code/FinRL-Meta/meta/data_processors/_base.py:147: FutureWarning: The frame.append method is deprecated and will be removed from pandas in a future version. Use pandas.concat instead.\n",
      "  indicator_df = indicator_df.append(\n",
      "/home/bassem/code/FinRL-Meta/meta/data_processors/_base.py:147: FutureWarning: The frame.append method is deprecated and will be removed from pandas in a future version. Use pandas.concat instead.\n",
      "  indicator_df = indicator_df.append(\n",
      "/home/bassem/code/FinRL-Meta/meta/data_processors/_base.py:147: FutureWarning: The frame.append method is deprecated and will be removed from pandas in a future version. Use pandas.concat instead.\n",
      "  indicator_df = indicator_df.append(\n",
      "/home/bassem/code/FinRL-Meta/meta/data_processors/_base.py:147: FutureWarning: The frame.append method is deprecated and will be removed from pandas in a future version. Use pandas.concat instead.\n",
      "  indicator_df = indicator_df.append(\n",
      "/home/bassem/code/FinRL-Meta/meta/data_processors/_base.py:147: FutureWarning: The frame.append method is deprecated and will be removed from pandas in a future version. Use pandas.concat instead.\n",
      "  indicator_df = indicator_df.append(\n",
      "/home/bassem/code/FinRL-Meta/meta/data_processors/_base.py:147: FutureWarning: The frame.append method is deprecated and will be removed from pandas in a future version. Use pandas.concat instead.\n",
      "  indicator_df = indicator_df.append(\n"
     ]
    },
    {
     "name": "stdout",
     "output_type": "stream",
     "text": [
      "indicator:  dx\n",
      "Succesfully add technical indicators\n",
      "Successfully transformed into array\n",
      "price_array:  2567\n"
     ]
    },
    {
     "ename": "ValueError",
     "evalue": "Fail to load agent!",
     "output_type": "error",
     "traceback": [
      "\u001b[0;31m---------------------------------------------------------------------------\u001b[0m",
      "\u001b[0;31mRuntimeError\u001b[0m                              Traceback (most recent call last)",
      "File \u001b[0;32m~/code/FinRL-Meta/agents/elegantrl_models.py:93\u001b[0m, in \u001b[0;36mDRLAgent.DRL_prediction\u001b[0;34m(model_name, cwd, net_dimension, environment)\u001b[0m\n\u001b[1;32m     92\u001b[0m \u001b[39mtry\u001b[39;00m:\n\u001b[0;32m---> 93\u001b[0m     agent \u001b[39m=\u001b[39m init_agent(args, gpu_id\u001b[39m=\u001b[39;49m\u001b[39m0\u001b[39;49m)\n\u001b[1;32m     94\u001b[0m     act \u001b[39m=\u001b[39m agent\u001b[39m.\u001b[39mact\n",
      "File \u001b[0;32m~/anaconda3/lib/python3.9/site-packages/elegantrl/train/run.py:15\u001b[0m, in \u001b[0;36minit_agent\u001b[0;34m(args, gpu_id, env)\u001b[0m\n\u001b[1;32m     14\u001b[0m \u001b[39mdef\u001b[39;00m \u001b[39minit_agent\u001b[39m(args, gpu_id: \u001b[39mint\u001b[39m, env\u001b[39m=\u001b[39m\u001b[39mNone\u001b[39;00m):\n\u001b[0;32m---> 15\u001b[0m     agent \u001b[39m=\u001b[39m args\u001b[39m.\u001b[39;49magent(args\u001b[39m.\u001b[39;49mnet_dim, args\u001b[39m.\u001b[39;49mstate_dim, args\u001b[39m.\u001b[39;49maction_dim, gpu_id\u001b[39m=\u001b[39;49mgpu_id, args\u001b[39m=\u001b[39;49margs)\n\u001b[1;32m     16\u001b[0m     agent\u001b[39m.\u001b[39msave_or_load_agent(args\u001b[39m.\u001b[39mcwd, if_save\u001b[39m=\u001b[39m\u001b[39mFalse\u001b[39;00m)\n",
      "File \u001b[0;32m~/anaconda3/lib/python3.9/site-packages/elegantrl/agents/AgentPPO.py:38\u001b[0m, in \u001b[0;36mAgentPPO.__init__\u001b[0;34m(self, net_dim, state_dim, action_dim, gpu_id, args)\u001b[0m\n\u001b[1;32m     37\u001b[0m \u001b[39mself\u001b[39m\u001b[39m.\u001b[39mif_cri_target \u001b[39m=\u001b[39m \u001b[39mgetattr\u001b[39m(args, \u001b[39m\"\u001b[39m\u001b[39mif_cri_target\u001b[39m\u001b[39m\"\u001b[39m, \u001b[39mFalse\u001b[39;00m)\n\u001b[0;32m---> 38\u001b[0m AgentBase\u001b[39m.\u001b[39;49m\u001b[39m__init__\u001b[39;49m(\u001b[39mself\u001b[39;49m, net_dim, state_dim, action_dim, gpu_id, args)\n\u001b[1;32m     40\u001b[0m \u001b[39mself\u001b[39m\u001b[39m.\u001b[39mratio_clip \u001b[39m=\u001b[39m \u001b[39mgetattr\u001b[39m(\n\u001b[1;32m     41\u001b[0m     args, \u001b[39m\"\u001b[39m\u001b[39mratio_clip\u001b[39m\u001b[39m\"\u001b[39m, \u001b[39m0.25\u001b[39m\n\u001b[1;32m     42\u001b[0m )  \u001b[39m# could be 0.00 ~ 0.50 `ratio.clamp(1 - clip, 1 + clip)`\u001b[39;00m\n",
      "File \u001b[0;32m~/anaconda3/lib/python3.9/site-packages/elegantrl/agents/AgentBase.py:47\u001b[0m, in \u001b[0;36mAgentBase.__init__\u001b[0;34m(self, net_dim, state_dim, action_dim, gpu_id, args)\u001b[0m\n\u001b[1;32m     46\u001b[0m cri_class \u001b[39m=\u001b[39m \u001b[39mgetattr\u001b[39m(\u001b[39mself\u001b[39m, \u001b[39m\"\u001b[39m\u001b[39mcri_class\u001b[39m\u001b[39m\"\u001b[39m, \u001b[39mNone\u001b[39;00m)\n\u001b[0;32m---> 47\u001b[0m \u001b[39mself\u001b[39m\u001b[39m.\u001b[39mact \u001b[39m=\u001b[39m act_class(net_dim, \u001b[39mself\u001b[39;49m\u001b[39m.\u001b[39;49mnum_layer, state_dim, action_dim)\u001b[39m.\u001b[39;49mto(\u001b[39mself\u001b[39;49m\u001b[39m.\u001b[39;49mdevice)\n\u001b[1;32m     48\u001b[0m \u001b[39mself\u001b[39m\u001b[39m.\u001b[39mcri \u001b[39m=\u001b[39m cri_class(net_dim, \u001b[39mself\u001b[39m\u001b[39m.\u001b[39mnum_layer, state_dim, action_dim)\u001b[39m.\u001b[39mto(\u001b[39mself\u001b[39m\u001b[39m.\u001b[39mdevice) \\\n\u001b[1;32m     49\u001b[0m     \u001b[39mif\u001b[39;00m cri_class \u001b[39melse\u001b[39;00m \u001b[39mself\u001b[39m\u001b[39m.\u001b[39mact\n",
      "File \u001b[0;32m~/anaconda3/lib/python3.9/site-packages/torch/nn/modules/module.py:899\u001b[0m, in \u001b[0;36mModule.to\u001b[0;34m(self, *args, **kwargs)\u001b[0m\n\u001b[1;32m    897\u001b[0m     \u001b[39mreturn\u001b[39;00m t\u001b[39m.\u001b[39mto(device, dtype \u001b[39mif\u001b[39;00m t\u001b[39m.\u001b[39mis_floating_point() \u001b[39mor\u001b[39;00m t\u001b[39m.\u001b[39mis_complex() \u001b[39melse\u001b[39;00m \u001b[39mNone\u001b[39;00m, non_blocking)\n\u001b[0;32m--> 899\u001b[0m \u001b[39mreturn\u001b[39;00m \u001b[39mself\u001b[39;49m\u001b[39m.\u001b[39;49m_apply(convert)\n",
      "File \u001b[0;32m~/anaconda3/lib/python3.9/site-packages/torch/nn/modules/module.py:570\u001b[0m, in \u001b[0;36mModule._apply\u001b[0;34m(self, fn)\u001b[0m\n\u001b[1;32m    569\u001b[0m \u001b[39mfor\u001b[39;00m module \u001b[39min\u001b[39;00m \u001b[39mself\u001b[39m\u001b[39m.\u001b[39mchildren():\n\u001b[0;32m--> 570\u001b[0m     module\u001b[39m.\u001b[39;49m_apply(fn)\n\u001b[1;32m    572\u001b[0m \u001b[39mdef\u001b[39;00m \u001b[39mcompute_should_use_set_data\u001b[39m(tensor, tensor_applied):\n",
      "File \u001b[0;32m~/anaconda3/lib/python3.9/site-packages/torch/nn/modules/module.py:570\u001b[0m, in \u001b[0;36mModule._apply\u001b[0;34m(self, fn)\u001b[0m\n\u001b[1;32m    569\u001b[0m \u001b[39mfor\u001b[39;00m module \u001b[39min\u001b[39;00m \u001b[39mself\u001b[39m\u001b[39m.\u001b[39mchildren():\n\u001b[0;32m--> 570\u001b[0m     module\u001b[39m.\u001b[39;49m_apply(fn)\n\u001b[1;32m    572\u001b[0m \u001b[39mdef\u001b[39;00m \u001b[39mcompute_should_use_set_data\u001b[39m(tensor, tensor_applied):\n",
      "File \u001b[0;32m~/anaconda3/lib/python3.9/site-packages/torch/nn/modules/module.py:593\u001b[0m, in \u001b[0;36mModule._apply\u001b[0;34m(self, fn)\u001b[0m\n\u001b[1;32m    592\u001b[0m \u001b[39mwith\u001b[39;00m torch\u001b[39m.\u001b[39mno_grad():\n\u001b[0;32m--> 593\u001b[0m     param_applied \u001b[39m=\u001b[39m fn(param)\n\u001b[1;32m    594\u001b[0m should_use_set_data \u001b[39m=\u001b[39m compute_should_use_set_data(param, param_applied)\n",
      "File \u001b[0;32m~/anaconda3/lib/python3.9/site-packages/torch/nn/modules/module.py:897\u001b[0m, in \u001b[0;36mModule.to.<locals>.convert\u001b[0;34m(t)\u001b[0m\n\u001b[1;32m    895\u001b[0m     \u001b[39mreturn\u001b[39;00m t\u001b[39m.\u001b[39mto(device, dtype \u001b[39mif\u001b[39;00m t\u001b[39m.\u001b[39mis_floating_point() \u001b[39mor\u001b[39;00m t\u001b[39m.\u001b[39mis_complex() \u001b[39melse\u001b[39;00m \u001b[39mNone\u001b[39;00m,\n\u001b[1;32m    896\u001b[0m                 non_blocking, memory_format\u001b[39m=\u001b[39mconvert_to_format)\n\u001b[0;32m--> 897\u001b[0m \u001b[39mreturn\u001b[39;00m t\u001b[39m.\u001b[39;49mto(device, dtype \u001b[39mif\u001b[39;49;00m t\u001b[39m.\u001b[39;49mis_floating_point() \u001b[39mor\u001b[39;49;00m t\u001b[39m.\u001b[39;49mis_complex() \u001b[39melse\u001b[39;49;00m \u001b[39mNone\u001b[39;49;00m, non_blocking)\n",
      "\u001b[0;31mRuntimeError\u001b[0m: CUDA error: all CUDA-capable devices are busy or unavailable\nCUDA kernel errors might be asynchronously reported at some other API call,so the stacktrace below might be incorrect.\nFor debugging consider passing CUDA_LAUNCH_BLOCKING=1.",
      "\nDuring handling of the above exception, another exception occurred:\n",
      "\u001b[0;31mValueError\u001b[0m                                Traceback (most recent call last)",
      "\u001b[1;32m/home/bassem/code/FinRL-Meta/tutorials/2-Advance/MultiCrypto_Trading.ipynb Cell 18\u001b[0m in \u001b[0;36m<cell line: 1>\u001b[0;34m()\u001b[0m\n\u001b[0;32m----> <a href='vscode-notebook-cell:/home/bassem/code/FinRL-Meta/tutorials/2-Advance/MultiCrypto_Trading.ipynb#ch0000016?line=0'>1</a>\u001b[0m account_value_erl \u001b[39m=\u001b[39m test(start_date \u001b[39m=\u001b[39;49m TEST_START_DATE, \n\u001b[1;32m      <a href='vscode-notebook-cell:/home/bassem/code/FinRL-Meta/tutorials/2-Advance/MultiCrypto_Trading.ipynb#ch0000016?line=1'>2</a>\u001b[0m                         end_date \u001b[39m=\u001b[39;49m TEST_END_DATE,\n\u001b[1;32m      <a href='vscode-notebook-cell:/home/bassem/code/FinRL-Meta/tutorials/2-Advance/MultiCrypto_Trading.ipynb#ch0000016?line=2'>3</a>\u001b[0m                         ticker_list \u001b[39m=\u001b[39;49m TICKER_LIST, \n\u001b[1;32m      <a href='vscode-notebook-cell:/home/bassem/code/FinRL-Meta/tutorials/2-Advance/MultiCrypto_Trading.ipynb#ch0000016?line=3'>4</a>\u001b[0m                         data_source \u001b[39m=\u001b[39;49m \u001b[39m'\u001b[39;49m\u001b[39mbinance\u001b[39;49m\u001b[39m'\u001b[39;49m,\n\u001b[1;32m      <a href='vscode-notebook-cell:/home/bassem/code/FinRL-Meta/tutorials/2-Advance/MultiCrypto_Trading.ipynb#ch0000016?line=4'>5</a>\u001b[0m                         time_interval\u001b[39m=\u001b[39;49m \u001b[39m'\u001b[39;49m\u001b[39m5m\u001b[39;49m\u001b[39m'\u001b[39;49m, \n\u001b[1;32m      <a href='vscode-notebook-cell:/home/bassem/code/FinRL-Meta/tutorials/2-Advance/MultiCrypto_Trading.ipynb#ch0000016?line=5'>6</a>\u001b[0m                         technical_indicator_list\u001b[39m=\u001b[39;49m INDICATORS,\n\u001b[1;32m      <a href='vscode-notebook-cell:/home/bassem/code/FinRL-Meta/tutorials/2-Advance/MultiCrypto_Trading.ipynb#ch0000016?line=6'>7</a>\u001b[0m                         drl_lib\u001b[39m=\u001b[39;49m\u001b[39m'\u001b[39;49m\u001b[39melegantrl\u001b[39;49m\u001b[39m'\u001b[39;49m, \n\u001b[1;32m      <a href='vscode-notebook-cell:/home/bassem/code/FinRL-Meta/tutorials/2-Advance/MultiCrypto_Trading.ipynb#ch0000016?line=7'>8</a>\u001b[0m                         env\u001b[39m=\u001b[39;49menv, \n\u001b[1;32m      <a href='vscode-notebook-cell:/home/bassem/code/FinRL-Meta/tutorials/2-Advance/MultiCrypto_Trading.ipynb#ch0000016?line=8'>9</a>\u001b[0m                         model_name\u001b[39m=\u001b[39;49m\u001b[39m'\u001b[39;49m\u001b[39mppo\u001b[39;49m\u001b[39m'\u001b[39;49m, \n\u001b[1;32m     <a href='vscode-notebook-cell:/home/bassem/code/FinRL-Meta/tutorials/2-Advance/MultiCrypto_Trading.ipynb#ch0000016?line=9'>10</a>\u001b[0m                         current_working_dir\u001b[39m=\u001b[39;49m\u001b[39m'\u001b[39;49m\u001b[39m./test_ppo\u001b[39;49m\u001b[39m'\u001b[39;49m, \n\u001b[1;32m     <a href='vscode-notebook-cell:/home/bassem/code/FinRL-Meta/tutorials/2-Advance/MultiCrypto_Trading.ipynb#ch0000016?line=10'>11</a>\u001b[0m                         net_dimension \u001b[39m=\u001b[39;49m \u001b[39m2\u001b[39;49m\u001b[39m*\u001b[39;49m\u001b[39m*\u001b[39;49m\u001b[39m9\u001b[39;49m, \n\u001b[1;32m     <a href='vscode-notebook-cell:/home/bassem/code/FinRL-Meta/tutorials/2-Advance/MultiCrypto_Trading.ipynb#ch0000016?line=11'>12</a>\u001b[0m                         if_vix\u001b[39m=\u001b[39;49m\u001b[39mFalse\u001b[39;49;00m\n\u001b[1;32m     <a href='vscode-notebook-cell:/home/bassem/code/FinRL-Meta/tutorials/2-Advance/MultiCrypto_Trading.ipynb#ch0000016?line=12'>13</a>\u001b[0m                         )\n",
      "\u001b[1;32m/home/bassem/code/FinRL-Meta/tutorials/2-Advance/MultiCrypto_Trading.ipynb Cell 18\u001b[0m in \u001b[0;36mtest\u001b[0;34m(start_date, end_date, ticker_list, data_source, time_interval, technical_indicator_list, drl_lib, env, model_name, if_vix, **kwargs)\u001b[0m\n\u001b[1;32m     <a href='vscode-notebook-cell:/home/bassem/code/FinRL-Meta/tutorials/2-Advance/MultiCrypto_Trading.ipynb#ch0000016?line=37'>38</a>\u001b[0m \u001b[39mprint\u001b[39m(\u001b[39m\"\u001b[39m\u001b[39mprice_array: \u001b[39m\u001b[39m\"\u001b[39m, \u001b[39mlen\u001b[39m(price_array))\n\u001b[1;32m     <a href='vscode-notebook-cell:/home/bassem/code/FinRL-Meta/tutorials/2-Advance/MultiCrypto_Trading.ipynb#ch0000016?line=39'>40</a>\u001b[0m \u001b[39mif\u001b[39;00m drl_lib \u001b[39m==\u001b[39m \u001b[39m\"\u001b[39m\u001b[39melegantrl\u001b[39m\u001b[39m\"\u001b[39m:\n\u001b[0;32m---> <a href='vscode-notebook-cell:/home/bassem/code/FinRL-Meta/tutorials/2-Advance/MultiCrypto_Trading.ipynb#ch0000016?line=40'>41</a>\u001b[0m     episode_total_assets \u001b[39m=\u001b[39m DRLAgent_erl\u001b[39m.\u001b[39;49mDRL_prediction(\n\u001b[1;32m     <a href='vscode-notebook-cell:/home/bassem/code/FinRL-Meta/tutorials/2-Advance/MultiCrypto_Trading.ipynb#ch0000016?line=41'>42</a>\u001b[0m         model_name\u001b[39m=\u001b[39;49mmodel_name,\n\u001b[1;32m     <a href='vscode-notebook-cell:/home/bassem/code/FinRL-Meta/tutorials/2-Advance/MultiCrypto_Trading.ipynb#ch0000016?line=42'>43</a>\u001b[0m         cwd\u001b[39m=\u001b[39;49mcurrent_working_dir,\n\u001b[1;32m     <a href='vscode-notebook-cell:/home/bassem/code/FinRL-Meta/tutorials/2-Advance/MultiCrypto_Trading.ipynb#ch0000016?line=43'>44</a>\u001b[0m         net_dimension\u001b[39m=\u001b[39;49mnet_dimension,\n\u001b[1;32m     <a href='vscode-notebook-cell:/home/bassem/code/FinRL-Meta/tutorials/2-Advance/MultiCrypto_Trading.ipynb#ch0000016?line=44'>45</a>\u001b[0m         environment\u001b[39m=\u001b[39;49menv_instance,\n\u001b[1;32m     <a href='vscode-notebook-cell:/home/bassem/code/FinRL-Meta/tutorials/2-Advance/MultiCrypto_Trading.ipynb#ch0000016?line=45'>46</a>\u001b[0m     )\n\u001b[1;32m     <a href='vscode-notebook-cell:/home/bassem/code/FinRL-Meta/tutorials/2-Advance/MultiCrypto_Trading.ipynb#ch0000016?line=47'>48</a>\u001b[0m     \u001b[39mreturn\u001b[39;00m episode_total_assets\n\u001b[1;32m     <a href='vscode-notebook-cell:/home/bassem/code/FinRL-Meta/tutorials/2-Advance/MultiCrypto_Trading.ipynb#ch0000016?line=49'>50</a>\u001b[0m \u001b[39melif\u001b[39;00m drl_lib \u001b[39m==\u001b[39m \u001b[39m\"\u001b[39m\u001b[39mrllib\u001b[39m\u001b[39m\"\u001b[39m:\n\u001b[1;32m     <a href='vscode-notebook-cell:/home/bassem/code/FinRL-Meta/tutorials/2-Advance/MultiCrypto_Trading.ipynb#ch0000016?line=50'>51</a>\u001b[0m     \u001b[39m# load agent\u001b[39;00m\n",
      "File \u001b[0;32m~/code/FinRL-Meta/agents/elegantrl_models.py:97\u001b[0m, in \u001b[0;36mDRLAgent.DRL_prediction\u001b[0;34m(model_name, cwd, net_dimension, environment)\u001b[0m\n\u001b[1;32m     95\u001b[0m     device \u001b[39m=\u001b[39m agent\u001b[39m.\u001b[39mdevice\n\u001b[1;32m     96\u001b[0m \u001b[39mexcept\u001b[39;00m \u001b[39mBaseException\u001b[39;00m:\n\u001b[0;32m---> 97\u001b[0m     \u001b[39mraise\u001b[39;00m \u001b[39mValueError\u001b[39;00m(\u001b[39m\"\u001b[39m\u001b[39mFail to load agent!\u001b[39m\u001b[39m\"\u001b[39m)\n\u001b[1;32m     99\u001b[0m \u001b[39m# test on the testing env\u001b[39;00m\n\u001b[1;32m    100\u001b[0m _torch \u001b[39m=\u001b[39m torch\n",
      "\u001b[0;31mValueError\u001b[0m: Fail to load agent!"
     ]
    }
   ],
   "source": [
    "account_value_erl = test(start_date = TEST_START_DATE, \n",
    "                        end_date = TEST_END_DATE,\n",
    "                        ticker_list = TICKER_LIST, \n",
    "                        data_source = 'binance',\n",
    "                        time_interval= '5m', \n",
    "                        technical_indicator_list= INDICATORS,\n",
    "                        drl_lib='elegantrl', \n",
    "                        env=env, \n",
    "                        model_name='ppo', \n",
    "                        current_working_dir='./test_ppo', \n",
    "                        net_dimension = 2**9, \n",
    "                        if_vix=False\n",
    "                        )"
   ]
  },
  {
   "cell_type": "markdown",
   "metadata": {
    "id": "TSQ8YMCZGN1H"
   },
   "source": [
    "## Plotting"
   ]
  },
  {
   "cell_type": "code",
   "execution_count": null,
   "metadata": {
    "id": "fInPrpp6QoKK"
   },
   "outputs": [
    {
     "ename": "NameError",
     "evalue": "name 'account_value_erl' is not defined",
     "output_type": "error",
     "traceback": [
      "\u001b[0;31m---------------------------------------------------------------------------\u001b[0m",
      "\u001b[0;31mNameError\u001b[0m                                 Traceback (most recent call last)",
      "\u001b[1;32m/home/bassem/code/FinRL-Meta/tutorials/2-Advance/MultiCrypto_Trading.ipynb Cell 20\u001b[0m in \u001b[0;36m<cell line: 6>\u001b[0;34m()\u001b[0m\n\u001b[1;32m      <a href='vscode-notebook-cell:/home/bassem/code/FinRL-Meta/tutorials/2-Advance/MultiCrypto_Trading.ipynb#ch0000018?line=3'>4</a>\u001b[0m get_ipython()\u001b[39m.\u001b[39mrun_line_magic(\u001b[39m'\u001b[39m\u001b[39mmatplotlib\u001b[39m\u001b[39m'\u001b[39m, \u001b[39m'\u001b[39m\u001b[39minline\u001b[39m\u001b[39m'\u001b[39m)\n\u001b[1;32m      <a href='vscode-notebook-cell:/home/bassem/code/FinRL-Meta/tutorials/2-Advance/MultiCrypto_Trading.ipynb#ch0000018?line=4'>5</a>\u001b[0m \u001b[39m#calculate agent returns\u001b[39;00m\n\u001b[0;32m----> <a href='vscode-notebook-cell:/home/bassem/code/FinRL-Meta/tutorials/2-Advance/MultiCrypto_Trading.ipynb#ch0000018?line=5'>6</a>\u001b[0m account_value_erl \u001b[39m=\u001b[39m np\u001b[39m.\u001b[39marray(account_value_erl)\n\u001b[1;32m      <a href='vscode-notebook-cell:/home/bassem/code/FinRL-Meta/tutorials/2-Advance/MultiCrypto_Trading.ipynb#ch0000018?line=6'>7</a>\u001b[0m agent_returns \u001b[39m=\u001b[39m account_value_erl\u001b[39m/\u001b[39maccount_value_erl[\u001b[39m0\u001b[39m]\n\u001b[1;32m      <a href='vscode-notebook-cell:/home/bassem/code/FinRL-Meta/tutorials/2-Advance/MultiCrypto_Trading.ipynb#ch0000018?line=7'>8</a>\u001b[0m \u001b[39m#calculate buy-and-hold btc returns\u001b[39;00m\n",
      "\u001b[0;31mNameError\u001b[0m: name 'account_value_erl' is not defined"
     ]
    }
   ],
   "source": [
    "import matplotlib.pyplot as plt\n",
    "import matplotlib.ticker as ticker\n",
    "import matplotlib.dates as mdates\n",
    "%matplotlib inline\n",
    "#calculate agent returns\n",
    "account_value_erl = np.array(account_value_erl)\n",
    "agent_returns = account_value_erl/account_value_erl[0]\n",
    "#calculate buy-and-hold btc returns\n",
    "price_array = np.load('./price_array.npy')\n",
    "btc_prices = price_array[:,0]\n",
    "buy_hold_btc_returns = btc_prices/btc_prices[0]\n",
    "#calculate equal weight portfolio returns\n",
    "price_array = np.load('./price_array.npy')\n",
    "initial_prices = price_array[0,:]\n",
    "equal_weight = np.array([1e5/initial_prices[i] for i in range(len(TICKER_LIST))])\n",
    "equal_weight_values = []\n",
    "for i in range(0, price_array.shape[0]):\n",
    "    equal_weight_values.append(np.sum(equal_weight * price_array[i]))\n",
    "equal_weight_values = np.array(equal_weight_values)\n",
    "equal_returns = equal_weight_values/equal_weight_values[0]\n",
    "#plot \n",
    "plt.figure(dpi=200)\n",
    "plt.grid()\n",
    "plt.grid(which='minor', axis='y')\n",
    "plt.title('Cryptocurrency Trading ', fontsize=20)\n",
    "plt.plot(agent_returns, label='ElegantRL Agent', color = 'red')\n",
    "plt.plot(buy_hold_btc_returns, label='Buy-and-Hold BTC', color='blue')\n",
    "plt.plot(equal_returns, label='Equal Weight Portfolio', color='green')\n",
    "plt.ylabel('Return', fontsize=16)\n",
    "plt.xlabel('Times (5min)', fontsize=16)\n",
    "plt.xticks(size=14)\n",
    "plt.yticks(size=14)\n",
    "'''ax = plt.gca()\n",
    "ax.xaxis.set_major_locator(ticker.MultipleLocator(210))\n",
    "ax.xaxis.set_minor_locator(ticker.MultipleLocator(21))\n",
    "ax.yaxis.set_minor_locator(ticker.MultipleLocator(0.005))\n",
    "ax.yaxis.set_major_formatter(ticker.PercentFormatter(xmax=1, decimals=2))\n",
    "ax.xaxis.set_major_formatter(ticker.FixedFormatter([]))'''\n",
    "plt.legend(fontsize=10.5)"
   ]
  },
  {
   "cell_type": "code",
   "execution_count": null,
   "metadata": {
    "id": "UuI8e3JK08Iw"
   },
   "outputs": [],
   "source": []
  }
 ],
 "metadata": {
  "accelerator": "GPU",
  "colab": {
   "collapsed_sections": [],
   "name": "Demo_MultiCrypto_Trading.ipynb",
   "provenance": []
  },
  "kernelspec": {
   "display_name": "Python 3.9.12 ('base')",
   "language": "python",
   "name": "python3"
  },
  "language_info": {
   "codemirror_mode": {
    "name": "ipython",
    "version": 3
   },
   "file_extension": ".py",
   "mimetype": "text/x-python",
   "name": "python",
   "nbconvert_exporter": "python",
   "pygments_lexer": "ipython3",
   "version": "3.9.12"
  },
  "vscode": {
   "interpreter": {
    "hash": "3b3d28beda150a23b2654663fc7b6a7c024622bec4872c2b09c2a988d21c6137"
   }
  }
 },
 "nbformat": 4,
 "nbformat_minor": 0
}
