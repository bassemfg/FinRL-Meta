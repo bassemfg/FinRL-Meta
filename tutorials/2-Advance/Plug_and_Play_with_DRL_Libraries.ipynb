{
 "cells": [
  {
   "cell_type": "markdown",
   "metadata": {
    "collapsed": false
   },
   "source": [
    "<a href=\"https://colab.research.google.com/github/AI4Finance-Foundation/FinRL-Meta/blob/master/Demo_Plug_and_Play_with_DRL_Libraries.ipynb\" target=\"_parent\"><img src=\"https://colab.research.google.com/assets/colab-badge.svg\" alt=\"Open In Colab\"/></a>"
   ]
  },
  {
   "cell_type": "markdown",
   "metadata": {
    "collapsed": false
   },
   "source": [
    "# FinRL-Meta: Plug-and-Play with DRL Libraries\n",
    "Demostration for plug-and-play with ElegantRL, Stable-baselines3, RLlib"
   ]
  },
  {
   "cell_type": "markdown",
   "metadata": {
    "collapsed": false
   },
   "source": [
    "## Part 1: Getting Started - Install Python Packages"
   ]
  },
  {
   "cell_type": "markdown",
   "metadata": {
    "collapsed": false
   },
   "source": [
    " ### 1.1 Install DRL libraries: FinRL, ElegantRL, RLlib"
   ]
  },
  {
   "cell_type": "code",
   "execution_count": 1,
   "metadata": {
    "collapsed": false,
    "pycharm": {
     "name": "#%%\n"
    }
   },
   "outputs": [
    {
     "name": "stdout",
     "output_type": "stream",
     "text": [
      "/bin/bash: /home/bassem/anaconda3/lib/libtinfo.so.6: no version information available (required by /bin/bash)\n",
      "Collecting git+https://github.com/AI4Finance-LLC/ElegantRL.git\n",
      "  Cloning https://github.com/AI4Finance-LLC/ElegantRL.git to /tmp/pip-req-build-ngcpmgtf\n",
      "  Running command git clone -q https://github.com/AI4Finance-LLC/ElegantRL.git /tmp/pip-req-build-ngcpmgtf\n",
      "  Resolved https://github.com/AI4Finance-LLC/ElegantRL.git to commit 114162d57b5d3b407a9d9427a61fa951277dd5be\n",
      "Requirement already satisfied: gym in /home/bassem/anaconda3/lib/python3.9/site-packages (from elegantrl==0.3.3) (0.21.0)\n",
      "Requirement already satisfied: matplotlib in /home/bassem/anaconda3/lib/python3.9/site-packages (from elegantrl==0.3.3) (3.5.2)\n",
      "Requirement already satisfied: numpy in /home/bassem/anaconda3/lib/python3.9/site-packages (from elegantrl==0.3.3) (1.21.6)\n",
      "Requirement already satisfied: pybullet in /home/bassem/anaconda3/lib/python3.9/site-packages (from elegantrl==0.3.3) (3.2.5)\n",
      "Requirement already satisfied: torch in /home/bassem/anaconda3/lib/python3.9/site-packages (from elegantrl==0.3.3) (1.10.2)\n",
      "Requirement already satisfied: opencv-python in /home/bassem/anaconda3/lib/python3.9/site-packages (from elegantrl==0.3.3) (4.6.0.66)\n",
      "Requirement already satisfied: box2d-py in /home/bassem/anaconda3/lib/python3.9/site-packages (from elegantrl==0.3.3) (2.3.8)\n",
      "Requirement already satisfied: cloudpickle>=1.2.0 in /home/bassem/anaconda3/lib/python3.9/site-packages (from gym->elegantrl==0.3.3) (2.1.0)\n",
      "Requirement already satisfied: cycler>=0.10 in /home/bassem/anaconda3/lib/python3.9/site-packages (from matplotlib->elegantrl==0.3.3) (0.11.0)\n",
      "Requirement already satisfied: kiwisolver>=1.0.1 in /home/bassem/anaconda3/lib/python3.9/site-packages (from matplotlib->elegantrl==0.3.3) (1.4.3)\n",
      "Requirement already satisfied: python-dateutil>=2.7 in /home/bassem/anaconda3/lib/python3.9/site-packages (from matplotlib->elegantrl==0.3.3) (2.8.2)\n",
      "Requirement already satisfied: fonttools>=4.22.0 in /home/bassem/anaconda3/lib/python3.9/site-packages (from matplotlib->elegantrl==0.3.3) (4.34.4)\n",
      "Requirement already satisfied: pillow>=6.2.0 in /home/bassem/anaconda3/lib/python3.9/site-packages (from matplotlib->elegantrl==0.3.3) (9.0.1)\n",
      "Requirement already satisfied: pyparsing>=2.2.1 in /home/bassem/anaconda3/lib/python3.9/site-packages (from matplotlib->elegantrl==0.3.3) (3.0.9)\n",
      "Requirement already satisfied: packaging>=20.0 in /home/bassem/anaconda3/lib/python3.9/site-packages (from matplotlib->elegantrl==0.3.3) (21.3)\n",
      "Requirement already satisfied: six>=1.5 in /home/bassem/anaconda3/lib/python3.9/site-packages (from python-dateutil>=2.7->matplotlib->elegantrl==0.3.3) (1.16.0)\n",
      "Requirement already satisfied: typing-extensions in /home/bassem/anaconda3/lib/python3.9/site-packages (from torch->elegantrl==0.3.3) (4.3.0)\n",
      "/bin/bash: /home/bassem/anaconda3/lib/libtinfo.so.6: no version information available (required by /bin/bash)\n",
      "Requirement already satisfied: ray[default] in /home/bassem/anaconda3/lib/python3.9/site-packages (1.13.0)\n",
      "Requirement already satisfied: msgpack<2.0.0,>=1.0.0 in /home/bassem/anaconda3/lib/python3.9/site-packages (from ray[default]) (1.0.3)\n",
      "Requirement already satisfied: frozenlist in /home/bassem/anaconda3/lib/python3.9/site-packages (from ray[default]) (1.3.0)\n",
      "Requirement already satisfied: grpcio<=1.43.0,>=1.28.1 in /home/bassem/anaconda3/lib/python3.9/site-packages (from ray[default]) (1.43.0)\n",
      "Requirement already satisfied: click<=8.0.4,>=7.0 in /home/bassem/anaconda3/lib/python3.9/site-packages (from ray[default]) (8.0.4)\n",
      "Requirement already satisfied: numpy>=1.19.3 in /home/bassem/anaconda3/lib/python3.9/site-packages (from ray[default]) (1.21.6)\n",
      "Requirement already satisfied: protobuf<4.0.0,>=3.15.3 in /home/bassem/anaconda3/lib/python3.9/site-packages (from ray[default]) (3.18.1)\n",
      "Requirement already satisfied: requests in /home/bassem/anaconda3/lib/python3.9/site-packages (from ray[default]) (2.28.1)\n",
      "Requirement already satisfied: virtualenv in /home/bassem/anaconda3/lib/python3.9/site-packages (from ray[default]) (20.15.1)\n",
      "Requirement already satisfied: jsonschema in /home/bassem/anaconda3/lib/python3.9/site-packages (from ray[default]) (4.6.2)\n",
      "Requirement already satisfied: attrs in /home/bassem/anaconda3/lib/python3.9/site-packages (from ray[default]) (21.4.0)\n",
      "Requirement already satisfied: aiosignal in /home/bassem/anaconda3/lib/python3.9/site-packages (from ray[default]) (1.2.0)\n",
      "Requirement already satisfied: filelock in /home/bassem/anaconda3/lib/python3.9/site-packages (from ray[default]) (3.7.1)\n",
      "Requirement already satisfied: pyyaml in /home/bassem/anaconda3/lib/python3.9/site-packages (from ray[default]) (6.0)\n",
      "Requirement already satisfied: smart-open in /home/bassem/anaconda3/lib/python3.9/site-packages (from ray[default]) (5.2.1)\n",
      "Requirement already satisfied: py-spy>=0.2.0 in /home/bassem/anaconda3/lib/python3.9/site-packages (from ray[default]) (0.3.12)\n",
      "Requirement already satisfied: aiohttp-cors in /home/bassem/anaconda3/lib/python3.9/site-packages (from ray[default]) (0.7.0)\n",
      "Requirement already satisfied: gpustat>=1.0.0b1 in /home/bassem/anaconda3/lib/python3.9/site-packages (from ray[default]) (1.0.0rc1)\n",
      "Requirement already satisfied: colorful in /home/bassem/anaconda3/lib/python3.9/site-packages (from ray[default]) (0.5.4)\n",
      "Requirement already satisfied: opencensus in /home/bassem/anaconda3/lib/python3.9/site-packages (from ray[default]) (0.10.0)\n",
      "Requirement already satisfied: prometheus-client<0.14.0,>=0.7.1 in /home/bassem/anaconda3/lib/python3.9/site-packages (from ray[default]) (0.13.1)\n",
      "Requirement already satisfied: aiohttp>=3.7 in /home/bassem/anaconda3/lib/python3.9/site-packages (from ray[default]) (3.8.1)\n",
      "Requirement already satisfied: charset-normalizer<3.0,>=2.0 in /home/bassem/anaconda3/lib/python3.9/site-packages (from aiohttp>=3.7->ray[default]) (2.1.0)\n",
      "Requirement already satisfied: async-timeout<5.0,>=4.0.0a3 in /home/bassem/anaconda3/lib/python3.9/site-packages (from aiohttp>=3.7->ray[default]) (4.0.2)\n",
      "Requirement already satisfied: yarl<2.0,>=1.0 in /home/bassem/anaconda3/lib/python3.9/site-packages (from aiohttp>=3.7->ray[default]) (1.7.2)\n",
      "Requirement already satisfied: multidict<7.0,>=4.5 in /home/bassem/anaconda3/lib/python3.9/site-packages (from aiohttp>=3.7->ray[default]) (6.0.2)\n",
      "Requirement already satisfied: six>=1.7 in /home/bassem/anaconda3/lib/python3.9/site-packages (from gpustat>=1.0.0b1->ray[default]) (1.16.0)\n",
      "Requirement already satisfied: nvidia-ml-py<=11.495.46,>=11.450.129 in /home/bassem/anaconda3/lib/python3.9/site-packages (from gpustat>=1.0.0b1->ray[default]) (11.495.46)\n",
      "Requirement already satisfied: blessed>=1.17.1 in /home/bassem/anaconda3/lib/python3.9/site-packages (from gpustat>=1.0.0b1->ray[default]) (1.19.1)\n",
      "Requirement already satisfied: psutil>=5.6.0 in /home/bassem/anaconda3/lib/python3.9/site-packages (from gpustat>=1.0.0b1->ray[default]) (5.8.0)\n",
      "Requirement already satisfied: wcwidth>=0.1.4 in /home/bassem/anaconda3/lib/python3.9/site-packages (from blessed>=1.17.1->gpustat>=1.0.0b1->ray[default]) (0.2.5)\n",
      "Requirement already satisfied: idna>=2.0 in /home/bassem/anaconda3/lib/python3.9/site-packages (from yarl<2.0,>=1.0->aiohttp>=3.7->ray[default]) (3.3)\n",
      "Requirement already satisfied: pyrsistent!=0.17.0,!=0.17.1,!=0.17.2,>=0.14.0 in /home/bassem/anaconda3/lib/python3.9/site-packages (from jsonschema->ray[default]) (0.18.1)\n",
      "Requirement already satisfied: opencensus-context>=0.1.2 in /home/bassem/anaconda3/lib/python3.9/site-packages (from opencensus->ray[default]) (0.1.2)\n",
      "Requirement already satisfied: google-api-core<3.0.0,>=1.0.0 in /home/bassem/anaconda3/lib/python3.9/site-packages (from opencensus->ray[default]) (2.8.2)\n",
      "Requirement already satisfied: google-auth<3.0dev,>=1.25.0 in /home/bassem/anaconda3/lib/python3.9/site-packages (from google-api-core<3.0.0,>=1.0.0->opencensus->ray[default]) (2.9.0)\n",
      "Requirement already satisfied: googleapis-common-protos<2.0dev,>=1.56.2 in /home/bassem/anaconda3/lib/python3.9/site-packages (from google-api-core<3.0.0,>=1.0.0->opencensus->ray[default]) (1.56.3)\n",
      "Requirement already satisfied: rsa<5,>=3.1.4 in /home/bassem/anaconda3/lib/python3.9/site-packages (from google-auth<3.0dev,>=1.25.0->google-api-core<3.0.0,>=1.0.0->opencensus->ray[default]) (4.8)\n",
      "Requirement already satisfied: cachetools<6.0,>=2.0.0 in /home/bassem/anaconda3/lib/python3.9/site-packages (from google-auth<3.0dev,>=1.25.0->google-api-core<3.0.0,>=1.0.0->opencensus->ray[default]) (4.2.2)\n",
      "Requirement already satisfied: pyasn1-modules>=0.2.1 in /home/bassem/anaconda3/lib/python3.9/site-packages (from google-auth<3.0dev,>=1.25.0->google-api-core<3.0.0,>=1.0.0->opencensus->ray[default]) (0.2.8)\n",
      "Requirement already satisfied: pyasn1<0.5.0,>=0.4.6 in /home/bassem/anaconda3/lib/python3.9/site-packages (from pyasn1-modules>=0.2.1->google-auth<3.0dev,>=1.25.0->google-api-core<3.0.0,>=1.0.0->opencensus->ray[default]) (0.4.8)\n",
      "Requirement already satisfied: certifi>=2017.4.17 in /home/bassem/anaconda3/lib/python3.9/site-packages (from requests->ray[default]) (2022.6.15)\n",
      "Requirement already satisfied: urllib3<1.27,>=1.21.1 in /home/bassem/anaconda3/lib/python3.9/site-packages (from requests->ray[default]) (1.26.10)\n",
      "Requirement already satisfied: distlib<1,>=0.3.1 in /home/bassem/anaconda3/lib/python3.9/site-packages (from virtualenv->ray[default]) (0.3.4)\n",
      "Requirement already satisfied: platformdirs<3,>=2 in /home/bassem/anaconda3/lib/python3.9/site-packages (from virtualenv->ray[default]) (2.5.2)\n",
      "/bin/bash: /home/bassem/anaconda3/lib/libtinfo.so.6: no version information available (required by /bin/bash)\n",
      "Collecting git+https://github.com/AI4Finance-LLC/FinRL-Library.git\n",
      "  Cloning https://github.com/AI4Finance-LLC/FinRL-Library.git to /tmp/pip-req-build-k0o955k8\n",
      "  Running command git clone -q https://github.com/AI4Finance-LLC/FinRL-Library.git /tmp/pip-req-build-k0o955k8\n",
      "  Resolved https://github.com/AI4Finance-LLC/FinRL-Library.git to commit 0ade291503e031fc2013d462554f14c9e8817c5c\n",
      "Collecting pyfolio@ git+https://github.com/quantopian/pyfolio.git#egg=pyfolio-0.9.2\n",
      "  Cloning https://github.com/quantopian/pyfolio.git to /tmp/pip-install-kk9oeaxj/pyfolio_f5ed91cf1fb84120bec9b3e060a777a7\n",
      "  Running command git clone -q https://github.com/quantopian/pyfolio.git /tmp/pip-install-kk9oeaxj/pyfolio_f5ed91cf1fb84120bec9b3e060a777a7\n",
      "  Resolved https://github.com/quantopian/pyfolio.git to commit 4b901f6d73aa02ceb6d04b7d83502e5c6f2e81aa\n",
      "Collecting elegantrl@ git+https://github.com/AI4Finance-Foundation/ElegantRL.git#egg=elegantrl\n",
      "  Cloning https://github.com/AI4Finance-Foundation/ElegantRL.git to /tmp/pip-install-kk9oeaxj/elegantrl_9a46d85d927d4370b546c3e8e525d0d4\n",
      "  Running command git clone -q https://github.com/AI4Finance-Foundation/ElegantRL.git /tmp/pip-install-kk9oeaxj/elegantrl_9a46d85d927d4370b546c3e8e525d0d4\n",
      "  Resolved https://github.com/AI4Finance-Foundation/ElegantRL.git to commit 114162d57b5d3b407a9d9427a61fa951277dd5be\n",
      "Requirement already satisfied: alpaca_trade_api>=2.1.0 in /home/bassem/anaconda3/lib/python3.9/site-packages (from finrl==0.3.5) (2.2.0)\n",
      "Requirement already satisfied: ccxt==1.66.32 in /home/bassem/anaconda3/lib/python3.9/site-packages (from finrl==0.3.5) (1.66.32)\n",
      "Requirement already satisfied: elegantrl in /home/bassem/anaconda3/lib/python3.9/site-packages (from finrl==0.3.5) (0.3.3)\n",
      "Requirement already satisfied: exchange_calendars in /home/bassem/anaconda3/lib/python3.9/site-packages (from finrl==0.3.5) (4.1.1)\n",
      "Requirement already satisfied: gputil in /home/bassem/anaconda3/lib/python3.9/site-packages (from finrl==0.3.5) (1.4.0)\n",
      "Requirement already satisfied: gym>=0.17 in /home/bassem/anaconda3/lib/python3.9/site-packages (from finrl==0.3.5) (0.21.0)\n",
      "Requirement already satisfied: jqdatasdk in /home/bassem/anaconda3/lib/python3.9/site-packages (from finrl==0.3.5) (1.8.10)\n",
      "Requirement already satisfied: lz4 in /home/bassem/anaconda3/lib/python3.9/site-packages (from finrl==0.3.5) (4.0.1)\n",
      "Requirement already satisfied: matplotlib in /home/bassem/anaconda3/lib/python3.9/site-packages (from finrl==0.3.5) (3.5.2)\n",
      "Requirement already satisfied: numpy>=1.17.3 in /home/bassem/anaconda3/lib/python3.9/site-packages (from finrl==0.3.5) (1.21.6)\n",
      "Requirement already satisfied: pandas>=1.1.5 in /home/bassem/anaconda3/lib/python3.9/site-packages (from finrl==0.3.5) (1.4.3)\n",
      "Requirement already satisfied: pre-commit in /home/bassem/anaconda3/lib/python3.9/site-packages (from finrl==0.3.5) (2.19.0)\n",
      "Requirement already satisfied: pytest in /home/bassem/anaconda3/lib/python3.9/site-packages (from finrl==0.3.5) (7.1.1)\n",
      "Requirement already satisfied: ray[default] in /home/bassem/anaconda3/lib/python3.9/site-packages (from finrl==0.3.5) (1.13.0)\n",
      "Requirement already satisfied: scikit-learn>=0.21.0 in /home/bassem/anaconda3/lib/python3.9/site-packages (from finrl==0.3.5) (1.0.2)\n",
      "Requirement already satisfied: setuptools==59.5.0 in /home/bassem/anaconda3/lib/python3.9/site-packages (from finrl==0.3.5) (59.5.0)\n",
      "Requirement already satisfied: stable-baselines3[extra] in /home/bassem/anaconda3/lib/python3.9/site-packages (from finrl==0.3.5) (1.5.0)\n",
      "Requirement already satisfied: stockstats>=0.4.0 in /home/bassem/anaconda3/lib/python3.9/site-packages (from finrl==0.3.5) (0.4.1)\n",
      "Requirement already satisfied: tensorboardX in /home/bassem/anaconda3/lib/python3.9/site-packages (from finrl==0.3.5) (2.5.1)\n",
      "Requirement already satisfied: wheel>=0.33.6 in /home/bassem/anaconda3/lib/python3.9/site-packages (from finrl==0.3.5) (0.37.1)\n",
      "Requirement already satisfied: wrds in /home/bassem/anaconda3/lib/python3.9/site-packages (from finrl==0.3.5) (3.1.1)\n",
      "Requirement already satisfied: yfinance in /home/bassem/anaconda3/lib/python3.9/site-packages (from finrl==0.3.5) (0.1.72)\n",
      "Requirement already satisfied: aiohttp>=3.8 in /home/bassem/anaconda3/lib/python3.9/site-packages (from ccxt==1.66.32->finrl==0.3.5) (3.8.1)\n",
      "Requirement already satisfied: certifi>=2018.1.18 in /home/bassem/anaconda3/lib/python3.9/site-packages (from ccxt==1.66.32->finrl==0.3.5) (2022.6.15)\n",
      "Requirement already satisfied: yarl==1.7.2 in /home/bassem/anaconda3/lib/python3.9/site-packages (from ccxt==1.66.32->finrl==0.3.5) (1.7.2)\n",
      "Requirement already satisfied: requests>=2.18.4 in /home/bassem/anaconda3/lib/python3.9/site-packages (from ccxt==1.66.32->finrl==0.3.5) (2.28.1)\n",
      "Requirement already satisfied: aiodns>=1.1.1 in /home/bassem/anaconda3/lib/python3.9/site-packages (from ccxt==1.66.32->finrl==0.3.5) (3.0.0)\n",
      "Requirement already satisfied: cryptography>=2.6.1 in /home/bassem/anaconda3/lib/python3.9/site-packages (from ccxt==1.66.32->finrl==0.3.5) (37.0.4)\n",
      "Requirement already satisfied: idna>=2.0 in /home/bassem/anaconda3/lib/python3.9/site-packages (from yarl==1.7.2->ccxt==1.66.32->finrl==0.3.5) (3.3)\n",
      "Requirement already satisfied: multidict>=4.0 in /home/bassem/anaconda3/lib/python3.9/site-packages (from yarl==1.7.2->ccxt==1.66.32->finrl==0.3.5) (6.0.2)\n",
      "Requirement already satisfied: pycares>=4.0.0 in /home/bassem/anaconda3/lib/python3.9/site-packages (from aiodns>=1.1.1->ccxt==1.66.32->finrl==0.3.5) (4.2.1)\n",
      "Requirement already satisfied: charset-normalizer<3.0,>=2.0 in /home/bassem/anaconda3/lib/python3.9/site-packages (from aiohttp>=3.8->ccxt==1.66.32->finrl==0.3.5) (2.1.0)\n",
      "Requirement already satisfied: aiosignal>=1.1.2 in /home/bassem/anaconda3/lib/python3.9/site-packages (from aiohttp>=3.8->ccxt==1.66.32->finrl==0.3.5) (1.2.0)\n",
      "Requirement already satisfied: frozenlist>=1.1.1 in /home/bassem/anaconda3/lib/python3.9/site-packages (from aiohttp>=3.8->ccxt==1.66.32->finrl==0.3.5) (1.3.0)\n",
      "Requirement already satisfied: attrs>=17.3.0 in /home/bassem/anaconda3/lib/python3.9/site-packages (from aiohttp>=3.8->ccxt==1.66.32->finrl==0.3.5) (21.4.0)\n",
      "Requirement already satisfied: async-timeout<5.0,>=4.0.0a3 in /home/bassem/anaconda3/lib/python3.9/site-packages (from aiohttp>=3.8->ccxt==1.66.32->finrl==0.3.5) (4.0.2)\n",
      "Requirement already satisfied: websocket-client<2,>=0.56.0 in /home/bassem/anaconda3/lib/python3.9/site-packages (from alpaca_trade_api>=2.1.0->finrl==0.3.5) (0.57.0)\n",
      "Requirement already satisfied: deprecation==2.1.0 in /home/bassem/anaconda3/lib/python3.9/site-packages (from alpaca_trade_api>=2.1.0->finrl==0.3.5) (2.1.0)\n",
      "Requirement already satisfied: PyYAML==6.0 in /home/bassem/anaconda3/lib/python3.9/site-packages (from alpaca_trade_api>=2.1.0->finrl==0.3.5) (6.0)\n",
      "Requirement already satisfied: websockets<11,>=9.0 in /home/bassem/anaconda3/lib/python3.9/site-packages (from alpaca_trade_api>=2.1.0->finrl==0.3.5) (10.3)\n",
      "Requirement already satisfied: urllib3<2,>1.24 in /home/bassem/anaconda3/lib/python3.9/site-packages (from alpaca_trade_api>=2.1.0->finrl==0.3.5) (1.26.10)\n",
      "Requirement already satisfied: msgpack==1.0.3 in /home/bassem/anaconda3/lib/python3.9/site-packages (from alpaca_trade_api>=2.1.0->finrl==0.3.5) (1.0.3)\n",
      "Requirement already satisfied: packaging in /home/bassem/anaconda3/lib/python3.9/site-packages (from deprecation==2.1.0->alpaca_trade_api>=2.1.0->finrl==0.3.5) (21.3)\n",
      "Requirement already satisfied: cffi>=1.12 in /home/bassem/anaconda3/lib/python3.9/site-packages (from cryptography>=2.6.1->ccxt==1.66.32->finrl==0.3.5) (1.15.1)\n",
      "Requirement already satisfied: pycparser in /home/bassem/anaconda3/lib/python3.9/site-packages (from cffi>=1.12->cryptography>=2.6.1->ccxt==1.66.32->finrl==0.3.5) (2.21)\n",
      "Requirement already satisfied: cloudpickle>=1.2.0 in /home/bassem/anaconda3/lib/python3.9/site-packages (from gym>=0.17->finrl==0.3.5) (2.1.0)\n",
      "Requirement already satisfied: python-dateutil>=2.8.1 in /home/bassem/anaconda3/lib/python3.9/site-packages (from pandas>=1.1.5->finrl==0.3.5) (2.8.2)\n",
      "Requirement already satisfied: pytz>=2020.1 in /home/bassem/anaconda3/lib/python3.9/site-packages (from pandas>=1.1.5->finrl==0.3.5) (2022.1)\n",
      "Requirement already satisfied: six>=1.5 in /home/bassem/anaconda3/lib/python3.9/site-packages (from python-dateutil>=2.8.1->pandas>=1.1.5->finrl==0.3.5) (1.16.0)\n",
      "Requirement already satisfied: scipy>=1.1.0 in /home/bassem/anaconda3/lib/python3.9/site-packages (from scikit-learn>=0.21.0->finrl==0.3.5) (1.7.3)\n",
      "Requirement already satisfied: joblib>=0.11 in /home/bassem/anaconda3/lib/python3.9/site-packages (from scikit-learn>=0.21.0->finrl==0.3.5) (1.1.0)\n",
      "Requirement already satisfied: threadpoolctl>=2.0.0 in /home/bassem/anaconda3/lib/python3.9/site-packages (from scikit-learn>=0.21.0->finrl==0.3.5) (3.1.0)\n",
      "Requirement already satisfied: pybullet in /home/bassem/anaconda3/lib/python3.9/site-packages (from elegantrl@ git+https://github.com/AI4Finance-Foundation/ElegantRL.git#egg=elegantrl->finrl==0.3.5) (3.2.5)\n",
      "Requirement already satisfied: torch in /home/bassem/anaconda3/lib/python3.9/site-packages (from elegantrl@ git+https://github.com/AI4Finance-Foundation/ElegantRL.git#egg=elegantrl->finrl==0.3.5) (1.10.2)\n",
      "Requirement already satisfied: opencv-python in /home/bassem/anaconda3/lib/python3.9/site-packages (from elegantrl@ git+https://github.com/AI4Finance-Foundation/ElegantRL.git#egg=elegantrl->finrl==0.3.5) (4.6.0.66)\n",
      "Requirement already satisfied: box2d-py in /home/bassem/anaconda3/lib/python3.9/site-packages (from elegantrl@ git+https://github.com/AI4Finance-Foundation/ElegantRL.git#egg=elegantrl->finrl==0.3.5) (2.3.8)\n",
      "Requirement already satisfied: korean-lunar-calendar in /home/bassem/anaconda3/lib/python3.9/site-packages (from exchange_calendars->finrl==0.3.5) (0.2.1)\n",
      "Requirement already satisfied: pyluach in /home/bassem/anaconda3/lib/python3.9/site-packages (from exchange_calendars->finrl==0.3.5) (2.0.0)\n",
      "Requirement already satisfied: toolz in /home/bassem/anaconda3/lib/python3.9/site-packages (from exchange_calendars->finrl==0.3.5) (0.11.2)\n",
      "Requirement already satisfied: pymysql>=0.7.6 in /home/bassem/anaconda3/lib/python3.9/site-packages (from jqdatasdk->finrl==0.3.5) (1.0.2)\n",
      "Requirement already satisfied: thriftpy2>=0.3.9 in /home/bassem/anaconda3/lib/python3.9/site-packages (from jqdatasdk->finrl==0.3.5) (0.4.14)\n",
      "Requirement already satisfied: SQLAlchemy>=1.2.8 in /home/bassem/anaconda3/lib/python3.9/site-packages (from jqdatasdk->finrl==0.3.5) (1.2.19)\n",
      "Requirement already satisfied: ply<4.0,>=3.4 in /home/bassem/anaconda3/lib/python3.9/site-packages (from thriftpy2>=0.3.9->jqdatasdk->finrl==0.3.5) (3.11)\n",
      "Requirement already satisfied: kiwisolver>=1.0.1 in /home/bassem/anaconda3/lib/python3.9/site-packages (from matplotlib->finrl==0.3.5) (1.4.3)\n",
      "Requirement already satisfied: pillow>=6.2.0 in /home/bassem/anaconda3/lib/python3.9/site-packages (from matplotlib->finrl==0.3.5) (9.0.1)\n",
      "Requirement already satisfied: cycler>=0.10 in /home/bassem/anaconda3/lib/python3.9/site-packages (from matplotlib->finrl==0.3.5) (0.11.0)\n",
      "Requirement already satisfied: fonttools>=4.22.0 in /home/bassem/anaconda3/lib/python3.9/site-packages (from matplotlib->finrl==0.3.5) (4.34.4)\n",
      "Requirement already satisfied: pyparsing>=2.2.1 in /home/bassem/anaconda3/lib/python3.9/site-packages (from matplotlib->finrl==0.3.5) (3.0.9)\n",
      "Requirement already satisfied: virtualenv>=20.0.8 in /home/bassem/anaconda3/lib/python3.9/site-packages (from pre-commit->finrl==0.3.5) (20.15.1)\n",
      "Requirement already satisfied: nodeenv>=0.11.1 in /home/bassem/anaconda3/lib/python3.9/site-packages (from pre-commit->finrl==0.3.5) (1.7.0)\n",
      "Requirement already satisfied: cfgv>=2.0.0 in /home/bassem/anaconda3/lib/python3.9/site-packages (from pre-commit->finrl==0.3.5) (3.3.1)\n",
      "Requirement already satisfied: identify>=1.0.0 in /home/bassem/anaconda3/lib/python3.9/site-packages (from pre-commit->finrl==0.3.5) (2.5.1)\n",
      "Requirement already satisfied: toml in /home/bassem/anaconda3/lib/python3.9/site-packages (from pre-commit->finrl==0.3.5) (0.10.2)\n",
      "Requirement already satisfied: filelock<4,>=3.2 in /home/bassem/anaconda3/lib/python3.9/site-packages (from virtualenv>=20.0.8->pre-commit->finrl==0.3.5) (3.7.1)\n",
      "Requirement already satisfied: platformdirs<3,>=2 in /home/bassem/anaconda3/lib/python3.9/site-packages (from virtualenv>=20.0.8->pre-commit->finrl==0.3.5) (2.5.2)\n",
      "Requirement already satisfied: distlib<1,>=0.3.1 in /home/bassem/anaconda3/lib/python3.9/site-packages (from virtualenv>=20.0.8->pre-commit->finrl==0.3.5) (0.3.4)\n",
      "Requirement already satisfied: ipython>=3.2.3 in /home/bassem/anaconda3/lib/python3.9/site-packages (from pyfolio@ git+https://github.com/quantopian/pyfolio.git#egg=pyfolio-0.9.2->finrl==0.3.5) (8.4.0)\n",
      "Requirement already satisfied: seaborn>=0.7.1 in /home/bassem/anaconda3/lib/python3.9/site-packages (from pyfolio@ git+https://github.com/quantopian/pyfolio.git#egg=pyfolio-0.9.2->finrl==0.3.5) (0.11.2)\n",
      "Requirement already satisfied: empyrical>=0.5.0 in /home/bassem/anaconda3/lib/python3.9/site-packages (from pyfolio@ git+https://github.com/quantopian/pyfolio.git#egg=pyfolio-0.9.2->finrl==0.3.5) (0.5.5)\n",
      "Requirement already satisfied: pandas-datareader>=0.2 in /home/bassem/anaconda3/lib/python3.9/site-packages (from empyrical>=0.5.0->pyfolio@ git+https://github.com/quantopian/pyfolio.git#egg=pyfolio-0.9.2->finrl==0.3.5) (0.10.0)\n",
      "Requirement already satisfied: decorator in /home/bassem/anaconda3/lib/python3.9/site-packages (from ipython>=3.2.3->pyfolio@ git+https://github.com/quantopian/pyfolio.git#egg=pyfolio-0.9.2->finrl==0.3.5) (5.1.1)\n",
      "Requirement already satisfied: pexpect>4.3 in /home/bassem/anaconda3/lib/python3.9/site-packages (from ipython>=3.2.3->pyfolio@ git+https://github.com/quantopian/pyfolio.git#egg=pyfolio-0.9.2->finrl==0.3.5) (4.8.0)\n",
      "Requirement already satisfied: matplotlib-inline in /home/bassem/anaconda3/lib/python3.9/site-packages (from ipython>=3.2.3->pyfolio@ git+https://github.com/quantopian/pyfolio.git#egg=pyfolio-0.9.2->finrl==0.3.5) (0.1.3)\n",
      "Requirement already satisfied: prompt-toolkit!=3.0.0,!=3.0.1,<3.1.0,>=2.0.0 in /home/bassem/anaconda3/lib/python3.9/site-packages (from ipython>=3.2.3->pyfolio@ git+https://github.com/quantopian/pyfolio.git#egg=pyfolio-0.9.2->finrl==0.3.5) (3.0.30)\n",
      "Requirement already satisfied: stack-data in /home/bassem/anaconda3/lib/python3.9/site-packages (from ipython>=3.2.3->pyfolio@ git+https://github.com/quantopian/pyfolio.git#egg=pyfolio-0.9.2->finrl==0.3.5) (0.3.0)\n",
      "Requirement already satisfied: pickleshare in /home/bassem/anaconda3/lib/python3.9/site-packages (from ipython>=3.2.3->pyfolio@ git+https://github.com/quantopian/pyfolio.git#egg=pyfolio-0.9.2->finrl==0.3.5) (0.7.5)\n",
      "Requirement already satisfied: traitlets>=5 in /home/bassem/anaconda3/lib/python3.9/site-packages (from ipython>=3.2.3->pyfolio@ git+https://github.com/quantopian/pyfolio.git#egg=pyfolio-0.9.2->finrl==0.3.5) (5.3.0)\n",
      "Requirement already satisfied: jedi>=0.16 in /home/bassem/anaconda3/lib/python3.9/site-packages (from ipython>=3.2.3->pyfolio@ git+https://github.com/quantopian/pyfolio.git#egg=pyfolio-0.9.2->finrl==0.3.5) (0.18.1)\n",
      "Requirement already satisfied: pygments>=2.4.0 in /home/bassem/anaconda3/lib/python3.9/site-packages (from ipython>=3.2.3->pyfolio@ git+https://github.com/quantopian/pyfolio.git#egg=pyfolio-0.9.2->finrl==0.3.5) (2.12.0)\n",
      "Requirement already satisfied: backcall in /home/bassem/anaconda3/lib/python3.9/site-packages (from ipython>=3.2.3->pyfolio@ git+https://github.com/quantopian/pyfolio.git#egg=pyfolio-0.9.2->finrl==0.3.5) (0.2.0)\n",
      "Requirement already satisfied: parso<0.9.0,>=0.8.0 in /home/bassem/anaconda3/lib/python3.9/site-packages (from jedi>=0.16->ipython>=3.2.3->pyfolio@ git+https://github.com/quantopian/pyfolio.git#egg=pyfolio-0.9.2->finrl==0.3.5) (0.8.3)\n",
      "Requirement already satisfied: lxml in /home/bassem/anaconda3/lib/python3.9/site-packages (from pandas-datareader>=0.2->empyrical>=0.5.0->pyfolio@ git+https://github.com/quantopian/pyfolio.git#egg=pyfolio-0.9.2->finrl==0.3.5) (4.9.1)\n",
      "Requirement already satisfied: ptyprocess>=0.5 in /home/bassem/anaconda3/lib/python3.9/site-packages (from pexpect>4.3->ipython>=3.2.3->pyfolio@ git+https://github.com/quantopian/pyfolio.git#egg=pyfolio-0.9.2->finrl==0.3.5) (0.7.0)\n",
      "Requirement already satisfied: wcwidth in /home/bassem/anaconda3/lib/python3.9/site-packages (from prompt-toolkit!=3.0.0,!=3.0.1,<3.1.0,>=2.0.0->ipython>=3.2.3->pyfolio@ git+https://github.com/quantopian/pyfolio.git#egg=pyfolio-0.9.2->finrl==0.3.5) (0.2.5)\n",
      "Requirement already satisfied: iniconfig in /home/bassem/anaconda3/lib/python3.9/site-packages (from pytest->finrl==0.3.5) (1.1.1)\n",
      "Requirement already satisfied: pluggy<2.0,>=0.12 in /home/bassem/anaconda3/lib/python3.9/site-packages (from pytest->finrl==0.3.5) (1.0.0)\n",
      "Requirement already satisfied: py>=1.8.2 in /home/bassem/anaconda3/lib/python3.9/site-packages (from pytest->finrl==0.3.5) (1.11.0)\n",
      "Requirement already satisfied: tomli>=1.0.0 in /home/bassem/anaconda3/lib/python3.9/site-packages (from pytest->finrl==0.3.5) (2.0.1)\n",
      "Requirement already satisfied: grpcio<=1.43.0,>=1.28.1 in /home/bassem/anaconda3/lib/python3.9/site-packages (from ray[default]->finrl==0.3.5) (1.43.0)\n",
      "Requirement already satisfied: jsonschema in /home/bassem/anaconda3/lib/python3.9/site-packages (from ray[default]->finrl==0.3.5) (4.6.2)\n",
      "Requirement already satisfied: click<=8.0.4,>=7.0 in /home/bassem/anaconda3/lib/python3.9/site-packages (from ray[default]->finrl==0.3.5) (8.0.4)\n",
      "Requirement already satisfied: protobuf<4.0.0,>=3.15.3 in /home/bassem/anaconda3/lib/python3.9/site-packages (from ray[default]->finrl==0.3.5) (3.18.1)\n",
      "Requirement already satisfied: colorful in /home/bassem/anaconda3/lib/python3.9/site-packages (from ray[default]->finrl==0.3.5) (0.5.4)\n",
      "Requirement already satisfied: gpustat>=1.0.0b1 in /home/bassem/anaconda3/lib/python3.9/site-packages (from ray[default]->finrl==0.3.5) (1.0.0rc1)\n",
      "Requirement already satisfied: py-spy>=0.2.0 in /home/bassem/anaconda3/lib/python3.9/site-packages (from ray[default]->finrl==0.3.5) (0.3.12)\n",
      "Requirement already satisfied: aiohttp-cors in /home/bassem/anaconda3/lib/python3.9/site-packages (from ray[default]->finrl==0.3.5) (0.7.0)\n",
      "Requirement already satisfied: prometheus-client<0.14.0,>=0.7.1 in /home/bassem/anaconda3/lib/python3.9/site-packages (from ray[default]->finrl==0.3.5) (0.13.1)\n",
      "Requirement already satisfied: smart-open in /home/bassem/anaconda3/lib/python3.9/site-packages (from ray[default]->finrl==0.3.5) (5.2.1)\n",
      "Requirement already satisfied: opencensus in /home/bassem/anaconda3/lib/python3.9/site-packages (from ray[default]->finrl==0.3.5) (0.10.0)\n",
      "Requirement already satisfied: blessed>=1.17.1 in /home/bassem/anaconda3/lib/python3.9/site-packages (from gpustat>=1.0.0b1->ray[default]->finrl==0.3.5) (1.19.1)\n",
      "Requirement already satisfied: nvidia-ml-py<=11.495.46,>=11.450.129 in /home/bassem/anaconda3/lib/python3.9/site-packages (from gpustat>=1.0.0b1->ray[default]->finrl==0.3.5) (11.495.46)\n",
      "Requirement already satisfied: psutil>=5.6.0 in /home/bassem/anaconda3/lib/python3.9/site-packages (from gpustat>=1.0.0b1->ray[default]->finrl==0.3.5) (5.8.0)\n",
      "Requirement already satisfied: pyrsistent!=0.17.0,!=0.17.1,!=0.17.2,>=0.14.0 in /home/bassem/anaconda3/lib/python3.9/site-packages (from jsonschema->ray[default]->finrl==0.3.5) (0.18.1)\n",
      "Requirement already satisfied: opencensus-context>=0.1.2 in /home/bassem/anaconda3/lib/python3.9/site-packages (from opencensus->ray[default]->finrl==0.3.5) (0.1.2)\n",
      "Requirement already satisfied: google-api-core<3.0.0,>=1.0.0 in /home/bassem/anaconda3/lib/python3.9/site-packages (from opencensus->ray[default]->finrl==0.3.5) (2.8.2)\n",
      "Requirement already satisfied: googleapis-common-protos<2.0dev,>=1.56.2 in /home/bassem/anaconda3/lib/python3.9/site-packages (from google-api-core<3.0.0,>=1.0.0->opencensus->ray[default]->finrl==0.3.5) (1.56.3)\n",
      "Requirement already satisfied: google-auth<3.0dev,>=1.25.0 in /home/bassem/anaconda3/lib/python3.9/site-packages (from google-api-core<3.0.0,>=1.0.0->opencensus->ray[default]->finrl==0.3.5) (2.9.0)\n",
      "Requirement already satisfied: cachetools<6.0,>=2.0.0 in /home/bassem/anaconda3/lib/python3.9/site-packages (from google-auth<3.0dev,>=1.25.0->google-api-core<3.0.0,>=1.0.0->opencensus->ray[default]->finrl==0.3.5) (4.2.2)\n",
      "Requirement already satisfied: pyasn1-modules>=0.2.1 in /home/bassem/anaconda3/lib/python3.9/site-packages (from google-auth<3.0dev,>=1.25.0->google-api-core<3.0.0,>=1.0.0->opencensus->ray[default]->finrl==0.3.5) (0.2.8)\n",
      "Requirement already satisfied: rsa<5,>=3.1.4 in /home/bassem/anaconda3/lib/python3.9/site-packages (from google-auth<3.0dev,>=1.25.0->google-api-core<3.0.0,>=1.0.0->opencensus->ray[default]->finrl==0.3.5) (4.8)\n",
      "Requirement already satisfied: pyasn1<0.5.0,>=0.4.6 in /home/bassem/anaconda3/lib/python3.9/site-packages (from pyasn1-modules>=0.2.1->google-auth<3.0dev,>=1.25.0->google-api-core<3.0.0,>=1.0.0->opencensus->ray[default]->finrl==0.3.5) (0.4.8)\n",
      "Requirement already satisfied: tabulate in /home/bassem/anaconda3/lib/python3.9/site-packages (from ray[default]->finrl==0.3.5) (0.8.10)\n",
      "Requirement already satisfied: ale-py~=0.7.4 in /home/bassem/anaconda3/lib/python3.9/site-packages (from stable-baselines3[extra]->finrl==0.3.5) (0.7.5)\n",
      "Requirement already satisfied: tensorboard>=2.2.0 in /home/bassem/anaconda3/lib/python3.9/site-packages (from stable-baselines3[extra]->finrl==0.3.5) (2.9.1)\n",
      "Requirement already satisfied: autorom[accept-rom-license]~=0.4.2 in /home/bassem/anaconda3/lib/python3.9/site-packages (from stable-baselines3[extra]->finrl==0.3.5) (0.4.2)\n",
      "Requirement already satisfied: importlib-metadata>=4.10.0 in /home/bassem/anaconda3/lib/python3.9/site-packages (from ale-py~=0.7.4->stable-baselines3[extra]->finrl==0.3.5) (4.12.0)\n",
      "Requirement already satisfied: importlib-resources in /home/bassem/anaconda3/lib/python3.9/site-packages (from ale-py~=0.7.4->stable-baselines3[extra]->finrl==0.3.5) (5.8.0)\n",
      "Requirement already satisfied: tqdm in /home/bassem/anaconda3/lib/python3.9/site-packages (from autorom[accept-rom-license]~=0.4.2->stable-baselines3[extra]->finrl==0.3.5) (4.64.0)\n",
      "Requirement already satisfied: AutoROM.accept-rom-license in /home/bassem/anaconda3/lib/python3.9/site-packages (from autorom[accept-rom-license]~=0.4.2->stable-baselines3[extra]->finrl==0.3.5) (0.4.2)\n",
      "Requirement already satisfied: zipp>=0.5 in /home/bassem/anaconda3/lib/python3.9/site-packages (from importlib-metadata>=4.10.0->ale-py~=0.7.4->stable-baselines3[extra]->finrl==0.3.5) (3.8.0)\n",
      "Requirement already satisfied: werkzeug>=1.0.1 in /home/bassem/anaconda3/lib/python3.9/site-packages (from tensorboard>=2.2.0->stable-baselines3[extra]->finrl==0.3.5) (2.1.2)\n",
      "Requirement already satisfied: google-auth-oauthlib<0.5,>=0.4.1 in /home/bassem/anaconda3/lib/python3.9/site-packages (from tensorboard>=2.2.0->stable-baselines3[extra]->finrl==0.3.5) (0.4.6)\n",
      "Requirement already satisfied: tensorboard-data-server<0.7.0,>=0.6.0 in /home/bassem/anaconda3/lib/python3.9/site-packages (from tensorboard>=2.2.0->stable-baselines3[extra]->finrl==0.3.5) (0.6.1)\n",
      "Requirement already satisfied: markdown>=2.6.8 in /home/bassem/anaconda3/lib/python3.9/site-packages (from tensorboard>=2.2.0->stable-baselines3[extra]->finrl==0.3.5) (3.3.7)\n",
      "Requirement already satisfied: tensorboard-plugin-wit>=1.6.0 in /home/bassem/anaconda3/lib/python3.9/site-packages (from tensorboard>=2.2.0->stable-baselines3[extra]->finrl==0.3.5) (1.8.1)\n",
      "Requirement already satisfied: absl-py>=0.4 in /home/bassem/anaconda3/lib/python3.9/site-packages (from tensorboard>=2.2.0->stable-baselines3[extra]->finrl==0.3.5) (1.1.0)\n",
      "Requirement already satisfied: requests-oauthlib>=0.7.0 in /home/bassem/anaconda3/lib/python3.9/site-packages (from google-auth-oauthlib<0.5,>=0.4.1->tensorboard>=2.2.0->stable-baselines3[extra]->finrl==0.3.5) (1.3.1)\n",
      "Requirement already satisfied: oauthlib>=3.0.0 in /home/bassem/anaconda3/lib/python3.9/site-packages (from requests-oauthlib>=0.7.0->google-auth-oauthlib<0.5,>=0.4.1->tensorboard>=2.2.0->stable-baselines3[extra]->finrl==0.3.5) (3.2.0)\n",
      "Requirement already satisfied: typing-extensions in /home/bassem/anaconda3/lib/python3.9/site-packages (from torch->elegantrl@ git+https://github.com/AI4Finance-Foundation/ElegantRL.git#egg=elegantrl->finrl==0.3.5) (4.3.0)\n",
      "Requirement already satisfied: pure-eval in /home/bassem/anaconda3/lib/python3.9/site-packages (from stack-data->ipython>=3.2.3->pyfolio@ git+https://github.com/quantopian/pyfolio.git#egg=pyfolio-0.9.2->finrl==0.3.5) (0.2.2)\n",
      "Requirement already satisfied: executing in /home/bassem/anaconda3/lib/python3.9/site-packages (from stack-data->ipython>=3.2.3->pyfolio@ git+https://github.com/quantopian/pyfolio.git#egg=pyfolio-0.9.2->finrl==0.3.5) (0.8.3)\n",
      "Requirement already satisfied: asttokens in /home/bassem/anaconda3/lib/python3.9/site-packages (from stack-data->ipython>=3.2.3->pyfolio@ git+https://github.com/quantopian/pyfolio.git#egg=pyfolio-0.9.2->finrl==0.3.5) (2.0.5)\n",
      "Requirement already satisfied: mock in /home/bassem/anaconda3/lib/python3.9/site-packages (from wrds->finrl==0.3.5) (4.0.3)\n",
      "Requirement already satisfied: psycopg2-binary in /home/bassem/anaconda3/lib/python3.9/site-packages (from wrds->finrl==0.3.5) (2.9.3)\n",
      "Requirement already satisfied: multitasking>=0.0.7 in /home/bassem/anaconda3/lib/python3.9/site-packages (from yfinance->finrl==0.3.5) (0.0.11)\n"
     ]
    }
   ],
   "source": [
    "## install elegantrl library\n",
    "#!pip install git+https://github.com/AI4Finance-LLC/ElegantRL.git\n",
    "## install rllib/ray library\n",
    "#!pip install ray[default]\n",
    "## install finrl library\n",
    "#!pip install git+https://github.com/AI4Finance-LLC/FinRL-Library.git"
   ]
  },
  {
   "cell_type": "markdown",
   "metadata": {
    "collapsed": false
   },
   "source": [
    "### 1.2 Check if the additional packages needed are present, if not install them"
   ]
  },
  {
   "cell_type": "code",
   "execution_count": 2,
   "metadata": {
    "collapsed": false,
    "pycharm": {
     "name": "#%%\n"
    }
   },
   "outputs": [],
   "source": [
    "# !pip install trading_calendars\n",
    "# !pip install alpaca_trade_api\n",
    "# !pip install ccxt\n",
    "# !pip install jqdatasdk\n",
    "# !pip install wrds\n",
    "\n",
    "# !pip install lz4\n",
    "# !pip install ray[tune]\n",
    "# !pip install tensorboardX\n",
    "# !pip install gputil"
   ]
  },
  {
   "cell_type": "markdown",
   "metadata": {
    "collapsed": false
   },
   "source": [
    "### 1.3 Import packages"
   ]
  },
  {
   "cell_type": "code",
   "execution_count": 3,
   "metadata": {
    "collapsed": false,
    "pycharm": {
     "name": "#%%\n"
    }
   },
   "outputs": [
    {
     "name": "stderr",
     "output_type": "stream",
     "text": [
      "/home/bassem/anaconda3/lib/python3.9/site-packages/pyfolio/pos.py:26: UserWarning: Module \"zipline.assets\" not found; multipliers will not be applied to position notionals.\n",
      "  warnings.warn(\n"
     ]
    }
   ],
   "source": [
    "import pandas as pd\n",
    "import numpy as np\n",
    "import matplotlib\n",
    "import matplotlib.pyplot as plt\n",
    "%matplotlib inline\n",
    "\n",
    "# matplotlib.use('Agg')\n",
    "import datetime\n",
    "\n",
    "import torch\n",
    "import ray\n",
    "from finrl import config\n",
    "from finrl import config_tickers\n",
    "from finrl.meta.preprocessor.yahoodownloader import YahooDownloader\n",
    "from finrl.meta.preprocessor.preprocessors import FeatureEngineer, data_split\n",
    "#from finrl.meta.env_stock_trading.env_stocktrading import StockTradingEnv\n",
    "from finrl.meta.env_stock_trading.env_stocktrading_np import StockTradingEnv\n",
    "from finrl.agents.stablebaselines3.models import DRLAgent as DRLAgent_sb3\n",
    "from finrl.agents.rllib.models import DRLAgent as DRLAgent_rllib\n",
    "from finrl.agents.elegantrl.models import DRLAgent as DRLAgent_erl\n",
    "\n",
    "from finrl.meta.data_processor import DataProcessor\n",
    "from finrl.plot import backtest_stats, backtest_plot, get_daily_return, get_baseline\n"
   ]
  },
  {
   "cell_type": "markdown",
   "metadata": {
    "collapsed": false
   },
   "source": [
    "## Part 2: Train & Test Function"
   ]
  },
  {
   "cell_type": "markdown",
   "metadata": {
    "collapsed": false
   },
   "source": [
    "### 2.1 Train"
   ]
  },
  {
   "cell_type": "code",
   "execution_count": 4,
   "metadata": {
    "collapsed": false,
    "pycharm": {
     "name": "#%%\n"
    }
   },
   "outputs": [],
   "source": [
    "def train(start_date, end_date, ticker_list, data_source, time_interval,\n",
    "          technical_indicator_list, drl_lib, env, model_name, if_vix = True,\n",
    "          **kwargs):\n",
    "\n",
    "    #fetch data\n",
    "    DP = DataProcessor(data_source, **kwargs)\n",
    "    df = DP.download_data(ticker_list, start_date, end_date, time_interval)\n",
    "    df = DP.clean_data(df)\n",
    "    df = DP.add_technical_indicator(df,technical_indicator_list)\n",
    "    if if_vix:\n",
    "        df = DP.add_vix(df)\n",
    "    price_array, tech_array, turbulence_array = DP.df_to_array(df, if_vix)\n",
    "    env_config = {'price_array':price_array,\n",
    "              'tech_array':tech_array,\n",
    "              'turbulence_array':turbulence_array,\n",
    "              'if_train':True}\n",
    "    env_instance = env(config=env_config)\n",
    "\n",
    "    #read parameters\n",
    "    cwd = kwargs.get('cwd','./'+str(model_name))\n",
    "\n",
    "    if drl_lib == 'elegantrl':\n",
    "        break_step = kwargs.get('break_step', 1e6)\n",
    "        erl_params = kwargs.get('erl_params')\n",
    "\n",
    "        agent = DRLAgent_erl(env = env,\n",
    "                             price_array = price_array,\n",
    "                             tech_array=tech_array,\n",
    "                             turbulence_array=turbulence_array)\n",
    "\n",
    "        model = agent.get_model(model_name, model_kwargs = erl_params)\n",
    "        trained_model = agent.train_model(model=model,\n",
    "                                          cwd=cwd,\n",
    "                                          total_timesteps=break_step)\n",
    "\n",
    "    elif drl_lib == 'rllib':\n",
    "        total_episodes = kwargs.get('total_episodes', 100)\n",
    "        rllib_params = kwargs.get('rllib_params')\n",
    "\n",
    "        agent_rllib = DRLAgent_rllib(env = env,\n",
    "                       price_array=price_array,\n",
    "                       tech_array=tech_array,\n",
    "                       turbulence_array=turbulence_array)\n",
    "\n",
    "        model,model_config = agent_rllib.get_model(model_name)\n",
    "\n",
    "        model_config['lr'] = rllib_params['lr']\n",
    "        model_config['train_batch_size'] = rllib_params['train_batch_size']\n",
    "        model_config['gamma'] = rllib_params['gamma']\n",
    "\n",
    "        #ray.shutdown()\n",
    "        trained_model = agent_rllib.train_model(model=model,\n",
    "                                          model_name=model_name,\n",
    "                                          model_config=model_config,\n",
    "                                          total_episodes=total_episodes)\n",
    "        trained_model.save(cwd)\n",
    "\n",
    "\n",
    "    elif drl_lib == 'stable_baselines3':\n",
    "        total_timesteps = kwargs.get('total_timesteps', 1e6)\n",
    "        agent_params = kwargs.get('agent_params')\n",
    "\n",
    "        agent = DRLAgent_sb3(env = env_instance)\n",
    "\n",
    "        model = agent.get_model(model_name, model_kwargs = agent_params)\n",
    "        trained_model = agent.train_model(model=model,\n",
    "                                tb_log_name=model_name,\n",
    "                                total_timesteps=total_timesteps)\n",
    "        print('Training finished!')\n",
    "        trained_model.save(cwd)\n",
    "        print('Trained model saved in ' + str(cwd))\n",
    "    else:\n",
    "        raise ValueError('DRL library input is NOT supported. Please check.')\n"
   ]
  },
  {
   "cell_type": "markdown",
   "metadata": {
    "collapsed": false
   },
   "source": [
    "### 2.2 Test"
   ]
  },
  {
   "cell_type": "code",
   "execution_count": 5,
   "metadata": {
    "collapsed": false,
    "pycharm": {
     "name": "#%%\n"
    }
   },
   "outputs": [],
   "source": [
    "def test(start_date, end_date, ticker_list, data_source, time_interval,\n",
    "         technical_indicator_list, drl_lib, env, model_name, if_vix = True,\n",
    "         **kwargs):\n",
    "    #fetch data\n",
    "    DP = DataProcessor(data_source, **kwargs)\n",
    "    df = DP.download_data(ticker_list, start_date, end_date, time_interval)\n",
    "    df = DP.clean_data(df)\n",
    "    df = DP.add_technical_indicator(df, technical_indicator_list)\n",
    "\n",
    "    if if_vix:\n",
    "        df = DP.add_vix(df)\n",
    "    price_array, tech_array, turbulence_array = DP.df_to_array(df, if_vix)\n",
    "\n",
    "    env_config = {'price_array':price_array,\n",
    "            'tech_array':tech_array,\n",
    "            'turbulence_array':turbulence_array,\n",
    "            'if_train':False}\n",
    "    env_instance = env(config=env_config)\n",
    "\n",
    "    #load elegantrl needs state dim, action dim and net dim\n",
    "    net_dimension = kwargs.get('net_dimension', 2**7)\n",
    "    cwd = kwargs.get('cwd','./'+str(model_name))\n",
    "    print(\"price_array: \",len(price_array))\n",
    "\n",
    "    if drl_lib == 'elegantrl':\n",
    "        episode_total_assets = DRLAgent_erl.DRL_prediction(model_name=model_name,\n",
    "                                            cwd=cwd,\n",
    "                                            net_dimension=net_dimension,\n",
    "                                            environment=env_instance)\n",
    "\n",
    "        return episode_total_assets\n",
    "\n",
    "    elif drl_lib == 'rllib':\n",
    "        #load agent\n",
    "        episode_total_assets = DRLAgent_rllib.DRL_prediction(\n",
    "                                  model_name=model_name,\n",
    "                                  env = env,\n",
    "                                  price_array=price_array,\n",
    "                                  tech_array=tech_array,\n",
    "                                  turbulence_array=turbulence_array,\n",
    "                                  agent_path = cwd)\n",
    "\n",
    "        return episode_total_assets\n",
    "\n",
    "\n",
    "    elif drl_lib == 'stable_baselines3':\n",
    "        episode_total_assets = DRLAgent_sb3.DRL_prediction_load_from_file(\n",
    "                                  model_name=model_name,\n",
    "                                  environment = env_instance,\n",
    "                                  cwd = cwd)\n",
    "\n",
    "        return episode_total_assets\n",
    "    else:\n",
    "        raise ValueError('DRL library input is NOT supported. Please check.')"
   ]
  },
  {
   "cell_type": "markdown",
   "metadata": {
    "collapsed": false
   },
   "source": [
    "## Part 3: Set DRL Environment"
   ]
  },
  {
   "cell_type": "markdown",
   "metadata": {
    "collapsed": false
   },
   "source": [
    "### 3.1 Get the stock trading env from neo_finrl"
   ]
  },
  {
   "cell_type": "code",
   "execution_count": 6,
   "metadata": {
    "collapsed": false,
    "pycharm": {
     "name": "#%%\n"
    }
   },
   "outputs": [],
   "source": [
    "from finrl.meta.env_stock_trading.env_stocktrading_np import StockTradingEnv"
   ]
  },
  {
   "cell_type": "code",
   "execution_count": 7,
   "metadata": {
    "collapsed": false,
    "pycharm": {
     "name": "#%%\n"
    }
   },
   "outputs": [],
   "source": [
    "import numpy as np\n",
    "import os\n",
    "import gym\n",
    "from numpy import random as rd\n",
    "\n",
    "class StockTradingEnv(gym.Env):\n",
    "\n",
    "    def __init__(self, config, initial_account=1e6,\n",
    "                 gamma=0.99, turbulence_thresh=99, min_stock_rate=0.1,\n",
    "                 max_stock=1e2, initial_capital=1e6, buy_cost_pct=1e-3,\n",
    "                 sell_cost_pct=1e-3,reward_scaling=2 ** -11,  initial_stocks=None,\n",
    "                 ):\n",
    "        price_ary = config['price_array']\n",
    "        tech_ary = config['tech_array']\n",
    "        turbulence_ary = config['turbulence_array']\n",
    "        if_train = config['if_train']\n",
    "        n = price_ary.shape[0]\n",
    "        self.price_ary =  price_ary.astype(np.float32)\n",
    "        self.tech_ary = tech_ary.astype(np.float32)\n",
    "        self.turbulence_ary = turbulence_ary\n",
    "\n",
    "        self.tech_ary = self.tech_ary * 2 ** -7\n",
    "        self.turbulence_bool = (turbulence_ary > turbulence_thresh).astype(np.float32)\n",
    "        self.turbulence_ary = (self.sigmoid_sign(turbulence_ary, turbulence_thresh) * 2 ** -5).astype(np.float32)\n",
    "\n",
    "        stock_dim = self.price_ary.shape[1]\n",
    "        self.gamma = gamma\n",
    "        self.max_stock = max_stock\n",
    "        self.min_stock_rate = min_stock_rate\n",
    "        self.buy_cost_pct = buy_cost_pct\n",
    "        self.sell_cost_pct = sell_cost_pct\n",
    "        self.reward_scaling = reward_scaling\n",
    "        self.initial_capital = initial_capital\n",
    "        self.initial_stocks = np.zeros(stock_dim, dtype=np.float32) if initial_stocks is None else initial_stocks\n",
    "\n",
    "        # reset()\n",
    "        self.day = None\n",
    "        self.amount = None\n",
    "        self.stocks = None\n",
    "        self.total_asset = None\n",
    "        self.gamma_reward = None\n",
    "        self.initial_total_asset = None\n",
    "\n",
    "        # environment information\n",
    "        self.env_name = 'StockEnv'\n",
    "        # self.state_dim = 1 + 2 + 2 * stock_dim + self.tech_ary.shape[1]\n",
    "        # # amount + (turbulence, turbulence_bool) + (price, stock) * stock_dim + tech_dim\n",
    "        self.state_dim = 1 + 2 + 3 * stock_dim + self.tech_ary.shape[1]\n",
    "        # amount + (turbulence, turbulence_bool) + (price, stock) * stock_dim + tech_dim\n",
    "        self.stocks_cd = None\n",
    "        self.action_dim = stock_dim\n",
    "        self.max_step = self.price_ary.shape[0] - 1\n",
    "        self.if_train = if_train\n",
    "        self.if_discrete = False\n",
    "        self.target_return = 5.0\n",
    "        self.episode_return = 0.0\n",
    "\n",
    "        self.observation_space = gym.spaces.Box(low=-3000, high=3000, shape=(self.state_dim,), dtype=np.float32)\n",
    "        self.action_space = gym.spaces.Box(low=-1, high=1, shape=(self.action_dim,), dtype=np.float32)\n",
    "\n",
    "    def reset(self):\n",
    "        self.day = 0\n",
    "        price = self.price_ary[self.day]\n",
    "\n",
    "        if self.if_train:\n",
    "            self.stocks = (self.initial_stocks + rd.randint(0, 64, size=self.initial_stocks.shape)).astype(np.float32)\n",
    "            self.stocks_cd = np.zeros_like(self.stocks)\n",
    "            self.amount = self.initial_capital * rd.uniform(0.95, 1.05) - (self.stocks * price).sum()\n",
    "        else:\n",
    "            self.stocks = self.initial_stocks.astype(np.float32)\n",
    "            self.stocks_cd = np.zeros_like(self.stocks)\n",
    "            self.amount = self.initial_capital\n",
    "\n",
    "        self.total_asset = self.amount + (self.stocks * price).sum()\n",
    "        self.initial_total_asset = self.total_asset\n",
    "        self.gamma_reward = 0.0\n",
    "        return self.get_state(price)  # state\n",
    "\n",
    "    def step(self, actions):\n",
    "        actions = (actions * self.max_stock).astype(int)\n",
    "\n",
    "        self.day += 1\n",
    "        price = self.price_ary[self.day]\n",
    "        self.stocks_cd += 1\n",
    "\n",
    "        if self.turbulence_bool[self.day] == 0:\n",
    "            min_action = int(self.max_stock * self.min_stock_rate)  # stock_cd\n",
    "            for index in np.where(actions < -min_action)[0]:  # sell_index:\n",
    "                if price[index] > 0:  # Sell only if current asset is > 0\n",
    "                    sell_num_shares = min(self.stocks[index], -actions[index])\n",
    "                    self.stocks[index] -= sell_num_shares\n",
    "                    self.amount += price[index] * sell_num_shares * (1 - self.sell_cost_pct)\n",
    "                    self.stocks_cd[index] = 0\n",
    "            for index in np.where(actions > min_action)[0]:  # buy_index:\n",
    "                if price[index] > 0:  # Buy only if the price is > 0 (no missing data in this particular date)\n",
    "                    buy_num_shares = min(self.amount // price[index], actions[index])\n",
    "                    self.stocks[index] += buy_num_shares\n",
    "                    self.amount -= price[index] * buy_num_shares * (1 + self.buy_cost_pct)\n",
    "                    self.stocks_cd[index] = 0\n",
    "\n",
    "        else:  # sell all when turbulence\n",
    "            self.amount += (self.stocks * price).sum() * (1 - self.sell_cost_pct)\n",
    "            self.stocks[:] = 0\n",
    "            self.stocks_cd[:] = 0\n",
    "\n",
    "        state = self.get_state(price)\n",
    "        total_asset = self.amount + (self.stocks * price).sum()\n",
    "        reward = (total_asset - self.total_asset) * self.reward_scaling\n",
    "        self.total_asset = total_asset\n",
    "\n",
    "        self.gamma_reward = self.gamma_reward * self.gamma + reward\n",
    "        done = self.day == self.max_step\n",
    "        if done:\n",
    "            reward = self.gamma_reward\n",
    "            self.episode_return = total_asset / self.initial_total_asset\n",
    "\n",
    "        return state, reward, done, dict()\n",
    "\n",
    "    def get_state(self, price):\n",
    "        amount = np.array(max(self.amount, 1e4) * (2 ** -12), dtype=np.float32)\n",
    "        scale = np.array(2 ** -6, dtype=np.float32)\n",
    "        return np.hstack((amount,\n",
    "                          self.turbulence_ary[self.day],\n",
    "                          self.turbulence_bool[self.day],\n",
    "                          price * scale,\n",
    "                          self.stocks * scale,\n",
    "                          self.stocks_cd,\n",
    "                          self.tech_ary[self.day],\n",
    "                          ))  # state.astype(np.float32)\n",
    "\n",
    "    @staticmethod\n",
    "    def sigmoid_sign(ary, thresh):\n",
    "        def sigmoid(x):\n",
    "            return 1 / (1 + np.exp(-x * np.e)) - 0.5\n",
    "\n",
    "        return sigmoid(ary / thresh) * thresh\n",
    "\n"
   ]
  },
  {
   "cell_type": "markdown",
   "metadata": {
    "collapsed": false
   },
   "source": [
    "### 3.2 Set some basic parameters"
   ]
  },
  {
   "cell_type": "code",
   "execution_count": 8,
   "metadata": {
    "collapsed": false,
    "pycharm": {
     "name": "#%%\n"
    }
   },
   "outputs": [],
   "source": [
    "env = StockTradingEnv"
   ]
  },
  {
   "cell_type": "code",
   "execution_count": 9,
   "metadata": {
    "collapsed": false,
    "pycharm": {
     "name": "#%%\n"
    }
   },
   "outputs": [],
   "source": [
    "TRAIN_START_DATE = '2014-01-01'\n",
    "TRAIN_END_DATE = '2021-02-28'\n",
    "\n",
    "TEST_START_DATE = '2021-03-01'\n",
    "TEST_END_DATE = '2022-05-01'\n",
    "\n",
    "INDICATORS = ['macd',\n",
    " 'boll_ub',\n",
    " 'boll_lb',\n",
    " 'rsi_30',\n",
    " 'dx_30',\n",
    " 'close_30_sma',\n",
    " 'close_60_sma']"
   ]
  },
  {
   "cell_type": "markdown",
   "metadata": {
    "collapsed": false
   },
   "source": [
    "## Part 4: Compare the three agents"
   ]
  },
  {
   "cell_type": "markdown",
   "metadata": {
    "collapsed": false
   },
   "source": [
    "### 4.1 eRL"
   ]
  },
  {
   "cell_type": "code",
   "execution_count": 10,
   "metadata": {
    "collapsed": false,
    "pycharm": {
     "name": "#%%\n"
    }
   },
   "outputs": [],
   "source": [
    "ERL_PARAMS = {\"learning_rate\": 3e-5,\"batch_size\": 2048,\"gamma\":  0.985,\n",
    "        \"seed\":312,\"net_dimension\":512, \"target_step\":5000, \"eval_gap\":60,\n",
    "        \"eval_times\":1}"
   ]
  },
  {
   "cell_type": "markdown",
   "metadata": {
    "collapsed": false
   },
   "source": [
    "#### Train"
   ]
  },
  {
   "cell_type": "code",
   "execution_count": 11,
   "metadata": {
    "collapsed": false,
    "pycharm": {
     "name": "#%%\n"
    }
   },
   "outputs": [
    {
     "name": "stdout",
     "output_type": "stream",
     "text": [
      "[*********************100%***********************]  1 of 1 completed\n",
      "[*********************100%***********************]  1 of 1 completed\n"
     ]
    },
    {
     "name": "stderr",
     "output_type": "stream",
     "text": [
      "/home/bassem/anaconda3/lib/python3.9/site-packages/finrl/meta/data_processors/processor_yahoofinance.py:56: FutureWarning: The frame.append method is deprecated and will be removed from pandas in a future version. Use pandas.concat instead.\n",
      "  data_df = data_df.append(temp_df)\n",
      "/home/bassem/anaconda3/lib/python3.9/site-packages/finrl/meta/data_processors/processor_yahoofinance.py:56: FutureWarning: The frame.append method is deprecated and will be removed from pandas in a future version. Use pandas.concat instead.\n",
      "  data_df = data_df.append(temp_df)\n"
     ]
    },
    {
     "name": "stdout",
     "output_type": "stream",
     "text": [
      "[*********************100%***********************]  1 of 1 completed\n"
     ]
    },
    {
     "name": "stderr",
     "output_type": "stream",
     "text": [
      "/home/bassem/anaconda3/lib/python3.9/site-packages/finrl/meta/data_processors/processor_yahoofinance.py:56: FutureWarning: The frame.append method is deprecated and will be removed from pandas in a future version. Use pandas.concat instead.\n",
      "  data_df = data_df.append(temp_df)\n"
     ]
    },
    {
     "name": "stdout",
     "output_type": "stream",
     "text": [
      "[*********************100%***********************]  1 of 1 completed\n"
     ]
    },
    {
     "name": "stderr",
     "output_type": "stream",
     "text": [
      "/home/bassem/anaconda3/lib/python3.9/site-packages/finrl/meta/data_processors/processor_yahoofinance.py:56: FutureWarning: The frame.append method is deprecated and will be removed from pandas in a future version. Use pandas.concat instead.\n",
      "  data_df = data_df.append(temp_df)\n"
     ]
    },
    {
     "name": "stdout",
     "output_type": "stream",
     "text": [
      "[*********************100%***********************]  1 of 1 completed\n",
      "[*********************100%***********************]  1 of 1 completed\n"
     ]
    },
    {
     "name": "stderr",
     "output_type": "stream",
     "text": [
      "/home/bassem/anaconda3/lib/python3.9/site-packages/finrl/meta/data_processors/processor_yahoofinance.py:56: FutureWarning: The frame.append method is deprecated and will be removed from pandas in a future version. Use pandas.concat instead.\n",
      "  data_df = data_df.append(temp_df)\n",
      "/home/bassem/anaconda3/lib/python3.9/site-packages/finrl/meta/data_processors/processor_yahoofinance.py:56: FutureWarning: The frame.append method is deprecated and will be removed from pandas in a future version. Use pandas.concat instead.\n",
      "  data_df = data_df.append(temp_df)\n"
     ]
    },
    {
     "name": "stdout",
     "output_type": "stream",
     "text": [
      "[*********************100%***********************]  1 of 1 completed\n",
      "[*********************100%***********************]  1 of 1 completed\n"
     ]
    },
    {
     "name": "stderr",
     "output_type": "stream",
     "text": [
      "/home/bassem/anaconda3/lib/python3.9/site-packages/finrl/meta/data_processors/processor_yahoofinance.py:56: FutureWarning: The frame.append method is deprecated and will be removed from pandas in a future version. Use pandas.concat instead.\n",
      "  data_df = data_df.append(temp_df)\n",
      "/home/bassem/anaconda3/lib/python3.9/site-packages/finrl/meta/data_processors/processor_yahoofinance.py:56: FutureWarning: The frame.append method is deprecated and will be removed from pandas in a future version. Use pandas.concat instead.\n",
      "  data_df = data_df.append(temp_df)\n"
     ]
    },
    {
     "name": "stdout",
     "output_type": "stream",
     "text": [
      "[*********************100%***********************]  1 of 1 completed\n"
     ]
    },
    {
     "name": "stderr",
     "output_type": "stream",
     "text": [
      "/home/bassem/anaconda3/lib/python3.9/site-packages/finrl/meta/data_processors/processor_yahoofinance.py:56: FutureWarning: The frame.append method is deprecated and will be removed from pandas in a future version. Use pandas.concat instead.\n",
      "  data_df = data_df.append(temp_df)\n"
     ]
    },
    {
     "name": "stdout",
     "output_type": "stream",
     "text": [
      "[*********************100%***********************]  1 of 1 completed\n"
     ]
    },
    {
     "name": "stderr",
     "output_type": "stream",
     "text": [
      "/home/bassem/anaconda3/lib/python3.9/site-packages/finrl/meta/data_processors/processor_yahoofinance.py:56: FutureWarning: The frame.append method is deprecated and will be removed from pandas in a future version. Use pandas.concat instead.\n",
      "  data_df = data_df.append(temp_df)\n"
     ]
    },
    {
     "name": "stdout",
     "output_type": "stream",
     "text": [
      "[*********************100%***********************]  1 of 1 completed\n",
      "[*********************100%***********************]  1 of 1 completed\n"
     ]
    },
    {
     "name": "stderr",
     "output_type": "stream",
     "text": [
      "/home/bassem/anaconda3/lib/python3.9/site-packages/finrl/meta/data_processors/processor_yahoofinance.py:56: FutureWarning: The frame.append method is deprecated and will be removed from pandas in a future version. Use pandas.concat instead.\n",
      "  data_df = data_df.append(temp_df)\n",
      "/home/bassem/anaconda3/lib/python3.9/site-packages/finrl/meta/data_processors/processor_yahoofinance.py:56: FutureWarning: The frame.append method is deprecated and will be removed from pandas in a future version. Use pandas.concat instead.\n",
      "  data_df = data_df.append(temp_df)\n"
     ]
    },
    {
     "name": "stdout",
     "output_type": "stream",
     "text": [
      "[*********************100%***********************]  1 of 1 completed\n"
     ]
    },
    {
     "name": "stderr",
     "output_type": "stream",
     "text": [
      "/home/bassem/anaconda3/lib/python3.9/site-packages/finrl/meta/data_processors/processor_yahoofinance.py:56: FutureWarning: The frame.append method is deprecated and will be removed from pandas in a future version. Use pandas.concat instead.\n",
      "  data_df = data_df.append(temp_df)\n"
     ]
    },
    {
     "name": "stdout",
     "output_type": "stream",
     "text": [
      "[*********************100%***********************]  1 of 1 completed\n"
     ]
    },
    {
     "name": "stderr",
     "output_type": "stream",
     "text": [
      "/home/bassem/anaconda3/lib/python3.9/site-packages/finrl/meta/data_processors/processor_yahoofinance.py:56: FutureWarning: The frame.append method is deprecated and will be removed from pandas in a future version. Use pandas.concat instead.\n",
      "  data_df = data_df.append(temp_df)\n"
     ]
    },
    {
     "name": "stdout",
     "output_type": "stream",
     "text": [
      "[*********************100%***********************]  1 of 1 completed\n"
     ]
    },
    {
     "name": "stderr",
     "output_type": "stream",
     "text": [
      "/home/bassem/anaconda3/lib/python3.9/site-packages/finrl/meta/data_processors/processor_yahoofinance.py:56: FutureWarning: The frame.append method is deprecated and will be removed from pandas in a future version. Use pandas.concat instead.\n",
      "  data_df = data_df.append(temp_df)\n"
     ]
    },
    {
     "name": "stdout",
     "output_type": "stream",
     "text": [
      "[*********************100%***********************]  1 of 1 completed\n"
     ]
    },
    {
     "name": "stderr",
     "output_type": "stream",
     "text": [
      "/home/bassem/anaconda3/lib/python3.9/site-packages/finrl/meta/data_processors/processor_yahoofinance.py:56: FutureWarning: The frame.append method is deprecated and will be removed from pandas in a future version. Use pandas.concat instead.\n",
      "  data_df = data_df.append(temp_df)\n"
     ]
    },
    {
     "name": "stdout",
     "output_type": "stream",
     "text": [
      "[*********************100%***********************]  1 of 1 completed\n"
     ]
    },
    {
     "name": "stderr",
     "output_type": "stream",
     "text": [
      "/home/bassem/anaconda3/lib/python3.9/site-packages/finrl/meta/data_processors/processor_yahoofinance.py:56: FutureWarning: The frame.append method is deprecated and will be removed from pandas in a future version. Use pandas.concat instead.\n",
      "  data_df = data_df.append(temp_df)\n"
     ]
    },
    {
     "name": "stdout",
     "output_type": "stream",
     "text": [
      "[*********************100%***********************]  1 of 1 completed\n"
     ]
    },
    {
     "name": "stderr",
     "output_type": "stream",
     "text": [
      "/home/bassem/anaconda3/lib/python3.9/site-packages/finrl/meta/data_processors/processor_yahoofinance.py:56: FutureWarning: The frame.append method is deprecated and will be removed from pandas in a future version. Use pandas.concat instead.\n",
      "  data_df = data_df.append(temp_df)\n"
     ]
    },
    {
     "name": "stdout",
     "output_type": "stream",
     "text": [
      "[*********************100%***********************]  1 of 1 completed\n"
     ]
    },
    {
     "name": "stderr",
     "output_type": "stream",
     "text": [
      "/home/bassem/anaconda3/lib/python3.9/site-packages/finrl/meta/data_processors/processor_yahoofinance.py:56: FutureWarning: The frame.append method is deprecated and will be removed from pandas in a future version. Use pandas.concat instead.\n",
      "  data_df = data_df.append(temp_df)\n"
     ]
    },
    {
     "name": "stdout",
     "output_type": "stream",
     "text": [
      "[*********************100%***********************]  1 of 1 completed\n"
     ]
    },
    {
     "name": "stderr",
     "output_type": "stream",
     "text": [
      "/home/bassem/anaconda3/lib/python3.9/site-packages/finrl/meta/data_processors/processor_yahoofinance.py:56: FutureWarning: The frame.append method is deprecated and will be removed from pandas in a future version. Use pandas.concat instead.\n",
      "  data_df = data_df.append(temp_df)\n"
     ]
    },
    {
     "name": "stdout",
     "output_type": "stream",
     "text": [
      "[*********************100%***********************]  1 of 1 completed\n",
      "[*********************100%***********************]  1 of 1 completed\n"
     ]
    },
    {
     "name": "stderr",
     "output_type": "stream",
     "text": [
      "/home/bassem/anaconda3/lib/python3.9/site-packages/finrl/meta/data_processors/processor_yahoofinance.py:56: FutureWarning: The frame.append method is deprecated and will be removed from pandas in a future version. Use pandas.concat instead.\n",
      "  data_df = data_df.append(temp_df)\n",
      "/home/bassem/anaconda3/lib/python3.9/site-packages/finrl/meta/data_processors/processor_yahoofinance.py:56: FutureWarning: The frame.append method is deprecated and will be removed from pandas in a future version. Use pandas.concat instead.\n",
      "  data_df = data_df.append(temp_df)\n"
     ]
    },
    {
     "name": "stdout",
     "output_type": "stream",
     "text": [
      "[*********************100%***********************]  1 of 1 completed\n",
      "[*********************100%***********************]  1 of 1 completed\n"
     ]
    },
    {
     "name": "stderr",
     "output_type": "stream",
     "text": [
      "/home/bassem/anaconda3/lib/python3.9/site-packages/finrl/meta/data_processors/processor_yahoofinance.py:56: FutureWarning: The frame.append method is deprecated and will be removed from pandas in a future version. Use pandas.concat instead.\n",
      "  data_df = data_df.append(temp_df)\n",
      "/home/bassem/anaconda3/lib/python3.9/site-packages/finrl/meta/data_processors/processor_yahoofinance.py:56: FutureWarning: The frame.append method is deprecated and will be removed from pandas in a future version. Use pandas.concat instead.\n",
      "  data_df = data_df.append(temp_df)\n"
     ]
    },
    {
     "name": "stdout",
     "output_type": "stream",
     "text": [
      "[*********************100%***********************]  1 of 1 completed\n",
      "[*********************100%***********************]  1 of 1 completed\n"
     ]
    },
    {
     "name": "stderr",
     "output_type": "stream",
     "text": [
      "/home/bassem/anaconda3/lib/python3.9/site-packages/finrl/meta/data_processors/processor_yahoofinance.py:56: FutureWarning: The frame.append method is deprecated and will be removed from pandas in a future version. Use pandas.concat instead.\n",
      "  data_df = data_df.append(temp_df)\n",
      "/home/bassem/anaconda3/lib/python3.9/site-packages/finrl/meta/data_processors/processor_yahoofinance.py:56: FutureWarning: The frame.append method is deprecated and will be removed from pandas in a future version. Use pandas.concat instead.\n",
      "  data_df = data_df.append(temp_df)\n"
     ]
    },
    {
     "name": "stdout",
     "output_type": "stream",
     "text": [
      "[*********************100%***********************]  1 of 1 completed\n",
      "[*********************100%***********************]  1 of 1 completed\n"
     ]
    },
    {
     "name": "stderr",
     "output_type": "stream",
     "text": [
      "/home/bassem/anaconda3/lib/python3.9/site-packages/finrl/meta/data_processors/processor_yahoofinance.py:56: FutureWarning: The frame.append method is deprecated and will be removed from pandas in a future version. Use pandas.concat instead.\n",
      "  data_df = data_df.append(temp_df)\n",
      "/home/bassem/anaconda3/lib/python3.9/site-packages/finrl/meta/data_processors/processor_yahoofinance.py:56: FutureWarning: The frame.append method is deprecated and will be removed from pandas in a future version. Use pandas.concat instead.\n",
      "  data_df = data_df.append(temp_df)\n"
     ]
    },
    {
     "name": "stdout",
     "output_type": "stream",
     "text": [
      "[*********************100%***********************]  1 of 1 completed\n",
      "[*********************100%***********************]  1 of 1 completed\n"
     ]
    },
    {
     "name": "stderr",
     "output_type": "stream",
     "text": [
      "/home/bassem/anaconda3/lib/python3.9/site-packages/finrl/meta/data_processors/processor_yahoofinance.py:56: FutureWarning: The frame.append method is deprecated and will be removed from pandas in a future version. Use pandas.concat instead.\n",
      "  data_df = data_df.append(temp_df)\n",
      "/home/bassem/anaconda3/lib/python3.9/site-packages/finrl/meta/data_processors/processor_yahoofinance.py:56: FutureWarning: The frame.append method is deprecated and will be removed from pandas in a future version. Use pandas.concat instead.\n",
      "  data_df = data_df.append(temp_df)\n"
     ]
    },
    {
     "name": "stdout",
     "output_type": "stream",
     "text": [
      "Shape of DataFrame:  (52719, 9)\n",
      "Clean data for AAPL\n"
     ]
    },
    {
     "name": "stderr",
     "output_type": "stream",
     "text": [
      "/home/bassem/anaconda3/lib/python3.9/site-packages/finrl/meta/data_processors/processor_yahoofinance.py:165: FutureWarning: The frame.append method is deprecated and will be removed from pandas in a future version. Use pandas.concat instead.\n",
      "  new_df = new_df.append(tmp_df)\n"
     ]
    },
    {
     "name": "stdout",
     "output_type": "stream",
     "text": [
      "Data clean for AAPL is finished.\n",
      "Clean data for AMGN\n"
     ]
    },
    {
     "name": "stderr",
     "output_type": "stream",
     "text": [
      "/home/bassem/anaconda3/lib/python3.9/site-packages/finrl/meta/data_processors/processor_yahoofinance.py:165: FutureWarning: The frame.append method is deprecated and will be removed from pandas in a future version. Use pandas.concat instead.\n",
      "  new_df = new_df.append(tmp_df)\n"
     ]
    },
    {
     "name": "stdout",
     "output_type": "stream",
     "text": [
      "Data clean for AMGN is finished.\n",
      "Clean data for AXP\n"
     ]
    },
    {
     "name": "stderr",
     "output_type": "stream",
     "text": [
      "/home/bassem/anaconda3/lib/python3.9/site-packages/finrl/meta/data_processors/processor_yahoofinance.py:165: FutureWarning: The frame.append method is deprecated and will be removed from pandas in a future version. Use pandas.concat instead.\n",
      "  new_df = new_df.append(tmp_df)\n"
     ]
    },
    {
     "name": "stdout",
     "output_type": "stream",
     "text": [
      "Data clean for AXP is finished.\n",
      "Clean data for BA\n"
     ]
    },
    {
     "name": "stderr",
     "output_type": "stream",
     "text": [
      "/home/bassem/anaconda3/lib/python3.9/site-packages/finrl/meta/data_processors/processor_yahoofinance.py:165: FutureWarning: The frame.append method is deprecated and will be removed from pandas in a future version. Use pandas.concat instead.\n",
      "  new_df = new_df.append(tmp_df)\n"
     ]
    },
    {
     "name": "stdout",
     "output_type": "stream",
     "text": [
      "Data clean for BA is finished.\n",
      "Clean data for CAT\n"
     ]
    },
    {
     "name": "stderr",
     "output_type": "stream",
     "text": [
      "/home/bassem/anaconda3/lib/python3.9/site-packages/finrl/meta/data_processors/processor_yahoofinance.py:165: FutureWarning: The frame.append method is deprecated and will be removed from pandas in a future version. Use pandas.concat instead.\n",
      "  new_df = new_df.append(tmp_df)\n"
     ]
    },
    {
     "name": "stdout",
     "output_type": "stream",
     "text": [
      "Data clean for CAT is finished.\n",
      "Clean data for CRM\n"
     ]
    },
    {
     "name": "stderr",
     "output_type": "stream",
     "text": [
      "/home/bassem/anaconda3/lib/python3.9/site-packages/finrl/meta/data_processors/processor_yahoofinance.py:165: FutureWarning: The frame.append method is deprecated and will be removed from pandas in a future version. Use pandas.concat instead.\n",
      "  new_df = new_df.append(tmp_df)\n"
     ]
    },
    {
     "name": "stdout",
     "output_type": "stream",
     "text": [
      "Data clean for CRM is finished.\n",
      "Clean data for CSCO\n"
     ]
    },
    {
     "name": "stderr",
     "output_type": "stream",
     "text": [
      "/home/bassem/anaconda3/lib/python3.9/site-packages/finrl/meta/data_processors/processor_yahoofinance.py:165: FutureWarning: The frame.append method is deprecated and will be removed from pandas in a future version. Use pandas.concat instead.\n",
      "  new_df = new_df.append(tmp_df)\n"
     ]
    },
    {
     "name": "stdout",
     "output_type": "stream",
     "text": [
      "Data clean for CSCO is finished.\n",
      "Clean data for CVX\n"
     ]
    },
    {
     "name": "stderr",
     "output_type": "stream",
     "text": [
      "/home/bassem/anaconda3/lib/python3.9/site-packages/finrl/meta/data_processors/processor_yahoofinance.py:165: FutureWarning: The frame.append method is deprecated and will be removed from pandas in a future version. Use pandas.concat instead.\n",
      "  new_df = new_df.append(tmp_df)\n"
     ]
    },
    {
     "name": "stdout",
     "output_type": "stream",
     "text": [
      "Data clean for CVX is finished.\n",
      "Clean data for DIS\n"
     ]
    },
    {
     "name": "stderr",
     "output_type": "stream",
     "text": [
      "/home/bassem/anaconda3/lib/python3.9/site-packages/finrl/meta/data_processors/processor_yahoofinance.py:165: FutureWarning: The frame.append method is deprecated and will be removed from pandas in a future version. Use pandas.concat instead.\n",
      "  new_df = new_df.append(tmp_df)\n"
     ]
    },
    {
     "name": "stdout",
     "output_type": "stream",
     "text": [
      "Data clean for DIS is finished.\n",
      "Clean data for DOW\n",
      "NaN data on start date, fill using first valid data.\n"
     ]
    },
    {
     "name": "stderr",
     "output_type": "stream",
     "text": [
      "/home/bassem/anaconda3/lib/python3.9/site-packages/finrl/meta/data_processors/processor_yahoofinance.py:165: FutureWarning: The frame.append method is deprecated and will be removed from pandas in a future version. Use pandas.concat instead.\n",
      "  new_df = new_df.append(tmp_df)\n"
     ]
    },
    {
     "name": "stdout",
     "output_type": "stream",
     "text": [
      "Data clean for DOW is finished.\n",
      "Clean data for GS\n"
     ]
    },
    {
     "name": "stderr",
     "output_type": "stream",
     "text": [
      "/home/bassem/anaconda3/lib/python3.9/site-packages/finrl/meta/data_processors/processor_yahoofinance.py:165: FutureWarning: The frame.append method is deprecated and will be removed from pandas in a future version. Use pandas.concat instead.\n",
      "  new_df = new_df.append(tmp_df)\n"
     ]
    },
    {
     "name": "stdout",
     "output_type": "stream",
     "text": [
      "Data clean for GS is finished.\n",
      "Clean data for HD\n"
     ]
    },
    {
     "name": "stderr",
     "output_type": "stream",
     "text": [
      "/home/bassem/anaconda3/lib/python3.9/site-packages/finrl/meta/data_processors/processor_yahoofinance.py:165: FutureWarning: The frame.append method is deprecated and will be removed from pandas in a future version. Use pandas.concat instead.\n",
      "  new_df = new_df.append(tmp_df)\n"
     ]
    },
    {
     "name": "stdout",
     "output_type": "stream",
     "text": [
      "Data clean for HD is finished.\n",
      "Clean data for HON\n"
     ]
    },
    {
     "name": "stderr",
     "output_type": "stream",
     "text": [
      "/home/bassem/anaconda3/lib/python3.9/site-packages/finrl/meta/data_processors/processor_yahoofinance.py:165: FutureWarning: The frame.append method is deprecated and will be removed from pandas in a future version. Use pandas.concat instead.\n",
      "  new_df = new_df.append(tmp_df)\n"
     ]
    },
    {
     "name": "stdout",
     "output_type": "stream",
     "text": [
      "Data clean for HON is finished.\n",
      "Clean data for IBM\n"
     ]
    },
    {
     "name": "stderr",
     "output_type": "stream",
     "text": [
      "/home/bassem/anaconda3/lib/python3.9/site-packages/finrl/meta/data_processors/processor_yahoofinance.py:165: FutureWarning: The frame.append method is deprecated and will be removed from pandas in a future version. Use pandas.concat instead.\n",
      "  new_df = new_df.append(tmp_df)\n"
     ]
    },
    {
     "name": "stdout",
     "output_type": "stream",
     "text": [
      "Data clean for IBM is finished.\n",
      "Clean data for INTC\n"
     ]
    },
    {
     "name": "stderr",
     "output_type": "stream",
     "text": [
      "/home/bassem/anaconda3/lib/python3.9/site-packages/finrl/meta/data_processors/processor_yahoofinance.py:165: FutureWarning: The frame.append method is deprecated and will be removed from pandas in a future version. Use pandas.concat instead.\n",
      "  new_df = new_df.append(tmp_df)\n"
     ]
    },
    {
     "name": "stdout",
     "output_type": "stream",
     "text": [
      "Data clean for INTC is finished.\n",
      "Clean data for JNJ\n"
     ]
    },
    {
     "name": "stderr",
     "output_type": "stream",
     "text": [
      "/home/bassem/anaconda3/lib/python3.9/site-packages/finrl/meta/data_processors/processor_yahoofinance.py:165: FutureWarning: The frame.append method is deprecated and will be removed from pandas in a future version. Use pandas.concat instead.\n",
      "  new_df = new_df.append(tmp_df)\n"
     ]
    },
    {
     "name": "stdout",
     "output_type": "stream",
     "text": [
      "Data clean for JNJ is finished.\n",
      "Clean data for JPM\n"
     ]
    },
    {
     "name": "stderr",
     "output_type": "stream",
     "text": [
      "/home/bassem/anaconda3/lib/python3.9/site-packages/finrl/meta/data_processors/processor_yahoofinance.py:165: FutureWarning: The frame.append method is deprecated and will be removed from pandas in a future version. Use pandas.concat instead.\n",
      "  new_df = new_df.append(tmp_df)\n"
     ]
    },
    {
     "name": "stdout",
     "output_type": "stream",
     "text": [
      "Data clean for JPM is finished.\n",
      "Clean data for KO\n"
     ]
    },
    {
     "name": "stderr",
     "output_type": "stream",
     "text": [
      "/home/bassem/anaconda3/lib/python3.9/site-packages/finrl/meta/data_processors/processor_yahoofinance.py:165: FutureWarning: The frame.append method is deprecated and will be removed from pandas in a future version. Use pandas.concat instead.\n",
      "  new_df = new_df.append(tmp_df)\n"
     ]
    },
    {
     "name": "stdout",
     "output_type": "stream",
     "text": [
      "Data clean for KO is finished.\n",
      "Clean data for MCD\n"
     ]
    },
    {
     "name": "stderr",
     "output_type": "stream",
     "text": [
      "/home/bassem/anaconda3/lib/python3.9/site-packages/finrl/meta/data_processors/processor_yahoofinance.py:165: FutureWarning: The frame.append method is deprecated and will be removed from pandas in a future version. Use pandas.concat instead.\n",
      "  new_df = new_df.append(tmp_df)\n"
     ]
    },
    {
     "name": "stdout",
     "output_type": "stream",
     "text": [
      "Data clean for MCD is finished.\n",
      "Clean data for MMM\n"
     ]
    },
    {
     "name": "stderr",
     "output_type": "stream",
     "text": [
      "/home/bassem/anaconda3/lib/python3.9/site-packages/finrl/meta/data_processors/processor_yahoofinance.py:165: FutureWarning: The frame.append method is deprecated and will be removed from pandas in a future version. Use pandas.concat instead.\n",
      "  new_df = new_df.append(tmp_df)\n"
     ]
    },
    {
     "name": "stdout",
     "output_type": "stream",
     "text": [
      "Data clean for MMM is finished.\n",
      "Clean data for MRK\n"
     ]
    },
    {
     "name": "stderr",
     "output_type": "stream",
     "text": [
      "/home/bassem/anaconda3/lib/python3.9/site-packages/finrl/meta/data_processors/processor_yahoofinance.py:165: FutureWarning: The frame.append method is deprecated and will be removed from pandas in a future version. Use pandas.concat instead.\n",
      "  new_df = new_df.append(tmp_df)\n"
     ]
    },
    {
     "name": "stdout",
     "output_type": "stream",
     "text": [
      "Data clean for MRK is finished.\n",
      "Clean data for MSFT\n"
     ]
    },
    {
     "name": "stderr",
     "output_type": "stream",
     "text": [
      "/home/bassem/anaconda3/lib/python3.9/site-packages/finrl/meta/data_processors/processor_yahoofinance.py:165: FutureWarning: The frame.append method is deprecated and will be removed from pandas in a future version. Use pandas.concat instead.\n",
      "  new_df = new_df.append(tmp_df)\n"
     ]
    },
    {
     "name": "stdout",
     "output_type": "stream",
     "text": [
      "Data clean for MSFT is finished.\n",
      "Clean data for NKE\n"
     ]
    },
    {
     "name": "stderr",
     "output_type": "stream",
     "text": [
      "/home/bassem/anaconda3/lib/python3.9/site-packages/finrl/meta/data_processors/processor_yahoofinance.py:165: FutureWarning: The frame.append method is deprecated and will be removed from pandas in a future version. Use pandas.concat instead.\n",
      "  new_df = new_df.append(tmp_df)\n"
     ]
    },
    {
     "name": "stdout",
     "output_type": "stream",
     "text": [
      "Data clean for NKE is finished.\n",
      "Clean data for PG\n"
     ]
    },
    {
     "name": "stderr",
     "output_type": "stream",
     "text": [
      "/home/bassem/anaconda3/lib/python3.9/site-packages/finrl/meta/data_processors/processor_yahoofinance.py:165: FutureWarning: The frame.append method is deprecated and will be removed from pandas in a future version. Use pandas.concat instead.\n",
      "  new_df = new_df.append(tmp_df)\n"
     ]
    },
    {
     "name": "stdout",
     "output_type": "stream",
     "text": [
      "Data clean for PG is finished.\n",
      "Clean data for TRV\n"
     ]
    },
    {
     "name": "stderr",
     "output_type": "stream",
     "text": [
      "/home/bassem/anaconda3/lib/python3.9/site-packages/finrl/meta/data_processors/processor_yahoofinance.py:165: FutureWarning: The frame.append method is deprecated and will be removed from pandas in a future version. Use pandas.concat instead.\n",
      "  new_df = new_df.append(tmp_df)\n"
     ]
    },
    {
     "name": "stdout",
     "output_type": "stream",
     "text": [
      "Data clean for TRV is finished.\n",
      "Clean data for UNH\n"
     ]
    },
    {
     "name": "stderr",
     "output_type": "stream",
     "text": [
      "/home/bassem/anaconda3/lib/python3.9/site-packages/finrl/meta/data_processors/processor_yahoofinance.py:165: FutureWarning: The frame.append method is deprecated and will be removed from pandas in a future version. Use pandas.concat instead.\n",
      "  new_df = new_df.append(tmp_df)\n"
     ]
    },
    {
     "name": "stdout",
     "output_type": "stream",
     "text": [
      "Data clean for UNH is finished.\n",
      "Clean data for V\n"
     ]
    },
    {
     "name": "stderr",
     "output_type": "stream",
     "text": [
      "/home/bassem/anaconda3/lib/python3.9/site-packages/finrl/meta/data_processors/processor_yahoofinance.py:165: FutureWarning: The frame.append method is deprecated and will be removed from pandas in a future version. Use pandas.concat instead.\n",
      "  new_df = new_df.append(tmp_df)\n"
     ]
    },
    {
     "name": "stdout",
     "output_type": "stream",
     "text": [
      "Data clean for V is finished.\n",
      "Clean data for VZ\n"
     ]
    },
    {
     "name": "stderr",
     "output_type": "stream",
     "text": [
      "/home/bassem/anaconda3/lib/python3.9/site-packages/finrl/meta/data_processors/processor_yahoofinance.py:165: FutureWarning: The frame.append method is deprecated and will be removed from pandas in a future version. Use pandas.concat instead.\n",
      "  new_df = new_df.append(tmp_df)\n"
     ]
    },
    {
     "name": "stdout",
     "output_type": "stream",
     "text": [
      "Data clean for VZ is finished.\n",
      "Clean data for WBA\n"
     ]
    },
    {
     "name": "stderr",
     "output_type": "stream",
     "text": [
      "/home/bassem/anaconda3/lib/python3.9/site-packages/finrl/meta/data_processors/processor_yahoofinance.py:165: FutureWarning: The frame.append method is deprecated and will be removed from pandas in a future version. Use pandas.concat instead.\n",
      "  new_df = new_df.append(tmp_df)\n"
     ]
    },
    {
     "name": "stdout",
     "output_type": "stream",
     "text": [
      "Data clean for WBA is finished.\n",
      "Clean data for WMT\n"
     ]
    },
    {
     "name": "stderr",
     "output_type": "stream",
     "text": [
      "/home/bassem/anaconda3/lib/python3.9/site-packages/finrl/meta/data_processors/processor_yahoofinance.py:165: FutureWarning: The frame.append method is deprecated and will be removed from pandas in a future version. Use pandas.concat instead.\n",
      "  new_df = new_df.append(tmp_df)\n",
      "/home/bassem/anaconda3/lib/python3.9/site-packages/finrl/meta/data_processors/processor_yahoofinance.py:199: FutureWarning: The frame.append method is deprecated and will be removed from pandas in a future version. Use pandas.concat instead.\n",
      "  indicator_df = indicator_df.append(\n",
      "/home/bassem/anaconda3/lib/python3.9/site-packages/finrl/meta/data_processors/processor_yahoofinance.py:199: FutureWarning: The frame.append method is deprecated and will be removed from pandas in a future version. Use pandas.concat instead.\n",
      "  indicator_df = indicator_df.append(\n",
      "/home/bassem/anaconda3/lib/python3.9/site-packages/finrl/meta/data_processors/processor_yahoofinance.py:199: FutureWarning: The frame.append method is deprecated and will be removed from pandas in a future version. Use pandas.concat instead.\n",
      "  indicator_df = indicator_df.append(\n",
      "/home/bassem/anaconda3/lib/python3.9/site-packages/finrl/meta/data_processors/processor_yahoofinance.py:199: FutureWarning: The frame.append method is deprecated and will be removed from pandas in a future version. Use pandas.concat instead.\n",
      "  indicator_df = indicator_df.append(\n",
      "/home/bassem/anaconda3/lib/python3.9/site-packages/finrl/meta/data_processors/processor_yahoofinance.py:199: FutureWarning: The frame.append method is deprecated and will be removed from pandas in a future version. Use pandas.concat instead.\n",
      "  indicator_df = indicator_df.append(\n",
      "/home/bassem/anaconda3/lib/python3.9/site-packages/finrl/meta/data_processors/processor_yahoofinance.py:199: FutureWarning: The frame.append method is deprecated and will be removed from pandas in a future version. Use pandas.concat instead.\n",
      "  indicator_df = indicator_df.append(\n",
      "/home/bassem/anaconda3/lib/python3.9/site-packages/finrl/meta/data_processors/processor_yahoofinance.py:199: FutureWarning: The frame.append method is deprecated and will be removed from pandas in a future version. Use pandas.concat instead.\n",
      "  indicator_df = indicator_df.append(\n",
      "/home/bassem/anaconda3/lib/python3.9/site-packages/finrl/meta/data_processors/processor_yahoofinance.py:199: FutureWarning: The frame.append method is deprecated and will be removed from pandas in a future version. Use pandas.concat instead.\n",
      "  indicator_df = indicator_df.append(\n",
      "/home/bassem/anaconda3/lib/python3.9/site-packages/finrl/meta/data_processors/processor_yahoofinance.py:199: FutureWarning: The frame.append method is deprecated and will be removed from pandas in a future version. Use pandas.concat instead.\n",
      "  indicator_df = indicator_df.append(\n",
      "/home/bassem/anaconda3/lib/python3.9/site-packages/finrl/meta/data_processors/processor_yahoofinance.py:199: FutureWarning: The frame.append method is deprecated and will be removed from pandas in a future version. Use pandas.concat instead.\n",
      "  indicator_df = indicator_df.append(\n",
      "/home/bassem/anaconda3/lib/python3.9/site-packages/finrl/meta/data_processors/processor_yahoofinance.py:199: FutureWarning: The frame.append method is deprecated and will be removed from pandas in a future version. Use pandas.concat instead.\n",
      "  indicator_df = indicator_df.append(\n",
      "/home/bassem/anaconda3/lib/python3.9/site-packages/finrl/meta/data_processors/processor_yahoofinance.py:199: FutureWarning: The frame.append method is deprecated and will be removed from pandas in a future version. Use pandas.concat instead.\n",
      "  indicator_df = indicator_df.append(\n",
      "/home/bassem/anaconda3/lib/python3.9/site-packages/finrl/meta/data_processors/processor_yahoofinance.py:199: FutureWarning: The frame.append method is deprecated and will be removed from pandas in a future version. Use pandas.concat instead.\n",
      "  indicator_df = indicator_df.append(\n",
      "/home/bassem/anaconda3/lib/python3.9/site-packages/finrl/meta/data_processors/processor_yahoofinance.py:199: FutureWarning: The frame.append method is deprecated and will be removed from pandas in a future version. Use pandas.concat instead.\n",
      "  indicator_df = indicator_df.append(\n",
      "/home/bassem/anaconda3/lib/python3.9/site-packages/finrl/meta/data_processors/processor_yahoofinance.py:199: FutureWarning: The frame.append method is deprecated and will be removed from pandas in a future version. Use pandas.concat instead.\n",
      "  indicator_df = indicator_df.append(\n",
      "/home/bassem/anaconda3/lib/python3.9/site-packages/finrl/meta/data_processors/processor_yahoofinance.py:199: FutureWarning: The frame.append method is deprecated and will be removed from pandas in a future version. Use pandas.concat instead.\n",
      "  indicator_df = indicator_df.append(\n",
      "/home/bassem/anaconda3/lib/python3.9/site-packages/finrl/meta/data_processors/processor_yahoofinance.py:199: FutureWarning: The frame.append method is deprecated and will be removed from pandas in a future version. Use pandas.concat instead.\n",
      "  indicator_df = indicator_df.append(\n",
      "/home/bassem/anaconda3/lib/python3.9/site-packages/finrl/meta/data_processors/processor_yahoofinance.py:199: FutureWarning: The frame.append method is deprecated and will be removed from pandas in a future version. Use pandas.concat instead.\n",
      "  indicator_df = indicator_df.append(\n",
      "/home/bassem/anaconda3/lib/python3.9/site-packages/finrl/meta/data_processors/processor_yahoofinance.py:199: FutureWarning: The frame.append method is deprecated and will be removed from pandas in a future version. Use pandas.concat instead.\n",
      "  indicator_df = indicator_df.append(\n",
      "/home/bassem/anaconda3/lib/python3.9/site-packages/finrl/meta/data_processors/processor_yahoofinance.py:199: FutureWarning: The frame.append method is deprecated and will be removed from pandas in a future version. Use pandas.concat instead.\n",
      "  indicator_df = indicator_df.append(\n",
      "/home/bassem/anaconda3/lib/python3.9/site-packages/finrl/meta/data_processors/processor_yahoofinance.py:199: FutureWarning: The frame.append method is deprecated and will be removed from pandas in a future version. Use pandas.concat instead.\n",
      "  indicator_df = indicator_df.append(\n",
      "/home/bassem/anaconda3/lib/python3.9/site-packages/finrl/meta/data_processors/processor_yahoofinance.py:199: FutureWarning: The frame.append method is deprecated and will be removed from pandas in a future version. Use pandas.concat instead.\n",
      "  indicator_df = indicator_df.append(\n",
      "/home/bassem/anaconda3/lib/python3.9/site-packages/finrl/meta/data_processors/processor_yahoofinance.py:199: FutureWarning: The frame.append method is deprecated and will be removed from pandas in a future version. Use pandas.concat instead.\n",
      "  indicator_df = indicator_df.append(\n",
      "/home/bassem/anaconda3/lib/python3.9/site-packages/finrl/meta/data_processors/processor_yahoofinance.py:199: FutureWarning: The frame.append method is deprecated and will be removed from pandas in a future version. Use pandas.concat instead.\n",
      "  indicator_df = indicator_df.append(\n",
      "/home/bassem/anaconda3/lib/python3.9/site-packages/finrl/meta/data_processors/processor_yahoofinance.py:199: FutureWarning: The frame.append method is deprecated and will be removed from pandas in a future version. Use pandas.concat instead.\n",
      "  indicator_df = indicator_df.append(\n",
      "/home/bassem/anaconda3/lib/python3.9/site-packages/finrl/meta/data_processors/processor_yahoofinance.py:199: FutureWarning: The frame.append method is deprecated and will be removed from pandas in a future version. Use pandas.concat instead.\n",
      "  indicator_df = indicator_df.append(\n",
      "/home/bassem/anaconda3/lib/python3.9/site-packages/finrl/meta/data_processors/processor_yahoofinance.py:199: FutureWarning: The frame.append method is deprecated and will be removed from pandas in a future version. Use pandas.concat instead.\n",
      "  indicator_df = indicator_df.append(\n",
      "/home/bassem/anaconda3/lib/python3.9/site-packages/finrl/meta/data_processors/processor_yahoofinance.py:199: FutureWarning: The frame.append method is deprecated and will be removed from pandas in a future version. Use pandas.concat instead.\n",
      "  indicator_df = indicator_df.append(\n",
      "/home/bassem/anaconda3/lib/python3.9/site-packages/finrl/meta/data_processors/processor_yahoofinance.py:199: FutureWarning: The frame.append method is deprecated and will be removed from pandas in a future version. Use pandas.concat instead.\n",
      "  indicator_df = indicator_df.append(\n",
      "/home/bassem/anaconda3/lib/python3.9/site-packages/finrl/meta/data_processors/processor_yahoofinance.py:199: FutureWarning: The frame.append method is deprecated and will be removed from pandas in a future version. Use pandas.concat instead.\n",
      "  indicator_df = indicator_df.append(\n"
     ]
    },
    {
     "name": "stdout",
     "output_type": "stream",
     "text": [
      "Data clean for WMT is finished.\n",
      "Data clean all finished!\n"
     ]
    },
    {
     "name": "stderr",
     "output_type": "stream",
     "text": [
      "/home/bassem/anaconda3/lib/python3.9/site-packages/finrl/meta/data_processors/processor_yahoofinance.py:199: FutureWarning: The frame.append method is deprecated and will be removed from pandas in a future version. Use pandas.concat instead.\n",
      "  indicator_df = indicator_df.append(\n",
      "/home/bassem/anaconda3/lib/python3.9/site-packages/finrl/meta/data_processors/processor_yahoofinance.py:199: FutureWarning: The frame.append method is deprecated and will be removed from pandas in a future version. Use pandas.concat instead.\n",
      "  indicator_df = indicator_df.append(\n",
      "/home/bassem/anaconda3/lib/python3.9/site-packages/finrl/meta/data_processors/processor_yahoofinance.py:199: FutureWarning: The frame.append method is deprecated and will be removed from pandas in a future version. Use pandas.concat instead.\n",
      "  indicator_df = indicator_df.append(\n",
      "/home/bassem/anaconda3/lib/python3.9/site-packages/finrl/meta/data_processors/processor_yahoofinance.py:199: FutureWarning: The frame.append method is deprecated and will be removed from pandas in a future version. Use pandas.concat instead.\n",
      "  indicator_df = indicator_df.append(\n",
      "/home/bassem/anaconda3/lib/python3.9/site-packages/finrl/meta/data_processors/processor_yahoofinance.py:199: FutureWarning: The frame.append method is deprecated and will be removed from pandas in a future version. Use pandas.concat instead.\n",
      "  indicator_df = indicator_df.append(\n",
      "/home/bassem/anaconda3/lib/python3.9/site-packages/finrl/meta/data_processors/processor_yahoofinance.py:199: FutureWarning: The frame.append method is deprecated and will be removed from pandas in a future version. Use pandas.concat instead.\n",
      "  indicator_df = indicator_df.append(\n",
      "/home/bassem/anaconda3/lib/python3.9/site-packages/finrl/meta/data_processors/processor_yahoofinance.py:199: FutureWarning: The frame.append method is deprecated and will be removed from pandas in a future version. Use pandas.concat instead.\n",
      "  indicator_df = indicator_df.append(\n",
      "/home/bassem/anaconda3/lib/python3.9/site-packages/finrl/meta/data_processors/processor_yahoofinance.py:199: FutureWarning: The frame.append method is deprecated and will be removed from pandas in a future version. Use pandas.concat instead.\n",
      "  indicator_df = indicator_df.append(\n",
      "/home/bassem/anaconda3/lib/python3.9/site-packages/finrl/meta/data_processors/processor_yahoofinance.py:199: FutureWarning: The frame.append method is deprecated and will be removed from pandas in a future version. Use pandas.concat instead.\n",
      "  indicator_df = indicator_df.append(\n",
      "/home/bassem/anaconda3/lib/python3.9/site-packages/finrl/meta/data_processors/processor_yahoofinance.py:199: FutureWarning: The frame.append method is deprecated and will be removed from pandas in a future version. Use pandas.concat instead.\n",
      "  indicator_df = indicator_df.append(\n",
      "/home/bassem/anaconda3/lib/python3.9/site-packages/finrl/meta/data_processors/processor_yahoofinance.py:199: FutureWarning: The frame.append method is deprecated and will be removed from pandas in a future version. Use pandas.concat instead.\n",
      "  indicator_df = indicator_df.append(\n",
      "/home/bassem/anaconda3/lib/python3.9/site-packages/finrl/meta/data_processors/processor_yahoofinance.py:199: FutureWarning: The frame.append method is deprecated and will be removed from pandas in a future version. Use pandas.concat instead.\n",
      "  indicator_df = indicator_df.append(\n",
      "/home/bassem/anaconda3/lib/python3.9/site-packages/finrl/meta/data_processors/processor_yahoofinance.py:199: FutureWarning: The frame.append method is deprecated and will be removed from pandas in a future version. Use pandas.concat instead.\n",
      "  indicator_df = indicator_df.append(\n",
      "/home/bassem/anaconda3/lib/python3.9/site-packages/finrl/meta/data_processors/processor_yahoofinance.py:199: FutureWarning: The frame.append method is deprecated and will be removed from pandas in a future version. Use pandas.concat instead.\n",
      "  indicator_df = indicator_df.append(\n",
      "/home/bassem/anaconda3/lib/python3.9/site-packages/finrl/meta/data_processors/processor_yahoofinance.py:199: FutureWarning: The frame.append method is deprecated and will be removed from pandas in a future version. Use pandas.concat instead.\n",
      "  indicator_df = indicator_df.append(\n",
      "/home/bassem/anaconda3/lib/python3.9/site-packages/finrl/meta/data_processors/processor_yahoofinance.py:199: FutureWarning: The frame.append method is deprecated and will be removed from pandas in a future version. Use pandas.concat instead.\n",
      "  indicator_df = indicator_df.append(\n",
      "/home/bassem/anaconda3/lib/python3.9/site-packages/finrl/meta/data_processors/processor_yahoofinance.py:199: FutureWarning: The frame.append method is deprecated and will be removed from pandas in a future version. Use pandas.concat instead.\n",
      "  indicator_df = indicator_df.append(\n",
      "/home/bassem/anaconda3/lib/python3.9/site-packages/finrl/meta/data_processors/processor_yahoofinance.py:199: FutureWarning: The frame.append method is deprecated and will be removed from pandas in a future version. Use pandas.concat instead.\n",
      "  indicator_df = indicator_df.append(\n",
      "/home/bassem/anaconda3/lib/python3.9/site-packages/finrl/meta/data_processors/processor_yahoofinance.py:199: FutureWarning: The frame.append method is deprecated and will be removed from pandas in a future version. Use pandas.concat instead.\n",
      "  indicator_df = indicator_df.append(\n",
      "/home/bassem/anaconda3/lib/python3.9/site-packages/finrl/meta/data_processors/processor_yahoofinance.py:199: FutureWarning: The frame.append method is deprecated and will be removed from pandas in a future version. Use pandas.concat instead.\n",
      "  indicator_df = indicator_df.append(\n",
      "/home/bassem/anaconda3/lib/python3.9/site-packages/finrl/meta/data_processors/processor_yahoofinance.py:199: FutureWarning: The frame.append method is deprecated and will be removed from pandas in a future version. Use pandas.concat instead.\n",
      "  indicator_df = indicator_df.append(\n",
      "/home/bassem/anaconda3/lib/python3.9/site-packages/finrl/meta/data_processors/processor_yahoofinance.py:199: FutureWarning: The frame.append method is deprecated and will be removed from pandas in a future version. Use pandas.concat instead.\n",
      "  indicator_df = indicator_df.append(\n",
      "/home/bassem/anaconda3/lib/python3.9/site-packages/finrl/meta/data_processors/processor_yahoofinance.py:199: FutureWarning: The frame.append method is deprecated and will be removed from pandas in a future version. Use pandas.concat instead.\n",
      "  indicator_df = indicator_df.append(\n",
      "/home/bassem/anaconda3/lib/python3.9/site-packages/finrl/meta/data_processors/processor_yahoofinance.py:199: FutureWarning: The frame.append method is deprecated and will be removed from pandas in a future version. Use pandas.concat instead.\n",
      "  indicator_df = indicator_df.append(\n",
      "/home/bassem/anaconda3/lib/python3.9/site-packages/finrl/meta/data_processors/processor_yahoofinance.py:199: FutureWarning: The frame.append method is deprecated and will be removed from pandas in a future version. Use pandas.concat instead.\n",
      "  indicator_df = indicator_df.append(\n",
      "/home/bassem/anaconda3/lib/python3.9/site-packages/finrl/meta/data_processors/processor_yahoofinance.py:199: FutureWarning: The frame.append method is deprecated and will be removed from pandas in a future version. Use pandas.concat instead.\n",
      "  indicator_df = indicator_df.append(\n",
      "/home/bassem/anaconda3/lib/python3.9/site-packages/finrl/meta/data_processors/processor_yahoofinance.py:199: FutureWarning: The frame.append method is deprecated and will be removed from pandas in a future version. Use pandas.concat instead.\n",
      "  indicator_df = indicator_df.append(\n",
      "/home/bassem/anaconda3/lib/python3.9/site-packages/finrl/meta/data_processors/processor_yahoofinance.py:199: FutureWarning: The frame.append method is deprecated and will be removed from pandas in a future version. Use pandas.concat instead.\n",
      "  indicator_df = indicator_df.append(\n",
      "/home/bassem/anaconda3/lib/python3.9/site-packages/finrl/meta/data_processors/processor_yahoofinance.py:199: FutureWarning: The frame.append method is deprecated and will be removed from pandas in a future version. Use pandas.concat instead.\n",
      "  indicator_df = indicator_df.append(\n",
      "/home/bassem/anaconda3/lib/python3.9/site-packages/finrl/meta/data_processors/processor_yahoofinance.py:199: FutureWarning: The frame.append method is deprecated and will be removed from pandas in a future version. Use pandas.concat instead.\n",
      "  indicator_df = indicator_df.append(\n",
      "/home/bassem/anaconda3/lib/python3.9/site-packages/finrl/meta/data_processors/processor_yahoofinance.py:199: FutureWarning: The frame.append method is deprecated and will be removed from pandas in a future version. Use pandas.concat instead.\n",
      "  indicator_df = indicator_df.append(\n",
      "/home/bassem/anaconda3/lib/python3.9/site-packages/finrl/meta/data_processors/processor_yahoofinance.py:199: FutureWarning: The frame.append method is deprecated and will be removed from pandas in a future version. Use pandas.concat instead.\n",
      "  indicator_df = indicator_df.append(\n",
      "/home/bassem/anaconda3/lib/python3.9/site-packages/finrl/meta/data_processors/processor_yahoofinance.py:199: FutureWarning: The frame.append method is deprecated and will be removed from pandas in a future version. Use pandas.concat instead.\n",
      "  indicator_df = indicator_df.append(\n",
      "/home/bassem/anaconda3/lib/python3.9/site-packages/finrl/meta/data_processors/processor_yahoofinance.py:199: FutureWarning: The frame.append method is deprecated and will be removed from pandas in a future version. Use pandas.concat instead.\n",
      "  indicator_df = indicator_df.append(\n",
      "/home/bassem/anaconda3/lib/python3.9/site-packages/finrl/meta/data_processors/processor_yahoofinance.py:199: FutureWarning: The frame.append method is deprecated and will be removed from pandas in a future version. Use pandas.concat instead.\n",
      "  indicator_df = indicator_df.append(\n",
      "/home/bassem/anaconda3/lib/python3.9/site-packages/finrl/meta/data_processors/processor_yahoofinance.py:199: FutureWarning: The frame.append method is deprecated and will be removed from pandas in a future version. Use pandas.concat instead.\n",
      "  indicator_df = indicator_df.append(\n",
      "/home/bassem/anaconda3/lib/python3.9/site-packages/finrl/meta/data_processors/processor_yahoofinance.py:199: FutureWarning: The frame.append method is deprecated and will be removed from pandas in a future version. Use pandas.concat instead.\n",
      "  indicator_df = indicator_df.append(\n",
      "/home/bassem/anaconda3/lib/python3.9/site-packages/finrl/meta/data_processors/processor_yahoofinance.py:199: FutureWarning: The frame.append method is deprecated and will be removed from pandas in a future version. Use pandas.concat instead.\n",
      "  indicator_df = indicator_df.append(\n",
      "/home/bassem/anaconda3/lib/python3.9/site-packages/finrl/meta/data_processors/processor_yahoofinance.py:199: FutureWarning: The frame.append method is deprecated and will be removed from pandas in a future version. Use pandas.concat instead.\n",
      "  indicator_df = indicator_df.append(\n",
      "/home/bassem/anaconda3/lib/python3.9/site-packages/finrl/meta/data_processors/processor_yahoofinance.py:199: FutureWarning: The frame.append method is deprecated and will be removed from pandas in a future version. Use pandas.concat instead.\n",
      "  indicator_df = indicator_df.append(\n",
      "/home/bassem/anaconda3/lib/python3.9/site-packages/finrl/meta/data_processors/processor_yahoofinance.py:199: FutureWarning: The frame.append method is deprecated and will be removed from pandas in a future version. Use pandas.concat instead.\n",
      "  indicator_df = indicator_df.append(\n",
      "/home/bassem/anaconda3/lib/python3.9/site-packages/finrl/meta/data_processors/processor_yahoofinance.py:199: FutureWarning: The frame.append method is deprecated and will be removed from pandas in a future version. Use pandas.concat instead.\n",
      "  indicator_df = indicator_df.append(\n",
      "/home/bassem/anaconda3/lib/python3.9/site-packages/finrl/meta/data_processors/processor_yahoofinance.py:199: FutureWarning: The frame.append method is deprecated and will be removed from pandas in a future version. Use pandas.concat instead.\n",
      "  indicator_df = indicator_df.append(\n",
      "/home/bassem/anaconda3/lib/python3.9/site-packages/finrl/meta/data_processors/processor_yahoofinance.py:199: FutureWarning: The frame.append method is deprecated and will be removed from pandas in a future version. Use pandas.concat instead.\n",
      "  indicator_df = indicator_df.append(\n",
      "/home/bassem/anaconda3/lib/python3.9/site-packages/finrl/meta/data_processors/processor_yahoofinance.py:199: FutureWarning: The frame.append method is deprecated and will be removed from pandas in a future version. Use pandas.concat instead.\n",
      "  indicator_df = indicator_df.append(\n",
      "/home/bassem/anaconda3/lib/python3.9/site-packages/finrl/meta/data_processors/processor_yahoofinance.py:199: FutureWarning: The frame.append method is deprecated and will be removed from pandas in a future version. Use pandas.concat instead.\n",
      "  indicator_df = indicator_df.append(\n",
      "/home/bassem/anaconda3/lib/python3.9/site-packages/finrl/meta/data_processors/processor_yahoofinance.py:199: FutureWarning: The frame.append method is deprecated and will be removed from pandas in a future version. Use pandas.concat instead.\n",
      "  indicator_df = indicator_df.append(\n",
      "/home/bassem/anaconda3/lib/python3.9/site-packages/finrl/meta/data_processors/processor_yahoofinance.py:199: FutureWarning: The frame.append method is deprecated and will be removed from pandas in a future version. Use pandas.concat instead.\n",
      "  indicator_df = indicator_df.append(\n",
      "/home/bassem/anaconda3/lib/python3.9/site-packages/finrl/meta/data_processors/processor_yahoofinance.py:199: FutureWarning: The frame.append method is deprecated and will be removed from pandas in a future version. Use pandas.concat instead.\n",
      "  indicator_df = indicator_df.append(\n",
      "/home/bassem/anaconda3/lib/python3.9/site-packages/finrl/meta/data_processors/processor_yahoofinance.py:199: FutureWarning: The frame.append method is deprecated and will be removed from pandas in a future version. Use pandas.concat instead.\n",
      "  indicator_df = indicator_df.append(\n",
      "/home/bassem/anaconda3/lib/python3.9/site-packages/finrl/meta/data_processors/processor_yahoofinance.py:199: FutureWarning: The frame.append method is deprecated and will be removed from pandas in a future version. Use pandas.concat instead.\n",
      "  indicator_df = indicator_df.append(\n",
      "/home/bassem/anaconda3/lib/python3.9/site-packages/finrl/meta/data_processors/processor_yahoofinance.py:199: FutureWarning: The frame.append method is deprecated and will be removed from pandas in a future version. Use pandas.concat instead.\n",
      "  indicator_df = indicator_df.append(\n",
      "/home/bassem/anaconda3/lib/python3.9/site-packages/finrl/meta/data_processors/processor_yahoofinance.py:199: FutureWarning: The frame.append method is deprecated and will be removed from pandas in a future version. Use pandas.concat instead.\n",
      "  indicator_df = indicator_df.append(\n",
      "/home/bassem/anaconda3/lib/python3.9/site-packages/finrl/meta/data_processors/processor_yahoofinance.py:199: FutureWarning: The frame.append method is deprecated and will be removed from pandas in a future version. Use pandas.concat instead.\n",
      "  indicator_df = indicator_df.append(\n",
      "/home/bassem/anaconda3/lib/python3.9/site-packages/finrl/meta/data_processors/processor_yahoofinance.py:199: FutureWarning: The frame.append method is deprecated and will be removed from pandas in a future version. Use pandas.concat instead.\n",
      "  indicator_df = indicator_df.append(\n",
      "/home/bassem/anaconda3/lib/python3.9/site-packages/finrl/meta/data_processors/processor_yahoofinance.py:199: FutureWarning: The frame.append method is deprecated and will be removed from pandas in a future version. Use pandas.concat instead.\n",
      "  indicator_df = indicator_df.append(\n",
      "/home/bassem/anaconda3/lib/python3.9/site-packages/finrl/meta/data_processors/processor_yahoofinance.py:199: FutureWarning: The frame.append method is deprecated and will be removed from pandas in a future version. Use pandas.concat instead.\n",
      "  indicator_df = indicator_df.append(\n",
      "/home/bassem/anaconda3/lib/python3.9/site-packages/finrl/meta/data_processors/processor_yahoofinance.py:199: FutureWarning: The frame.append method is deprecated and will be removed from pandas in a future version. Use pandas.concat instead.\n",
      "  indicator_df = indicator_df.append(\n",
      "/home/bassem/anaconda3/lib/python3.9/site-packages/finrl/meta/data_processors/processor_yahoofinance.py:199: FutureWarning: The frame.append method is deprecated and will be removed from pandas in a future version. Use pandas.concat instead.\n",
      "  indicator_df = indicator_df.append(\n",
      "/home/bassem/anaconda3/lib/python3.9/site-packages/finrl/meta/data_processors/processor_yahoofinance.py:199: FutureWarning: The frame.append method is deprecated and will be removed from pandas in a future version. Use pandas.concat instead.\n",
      "  indicator_df = indicator_df.append(\n",
      "/home/bassem/anaconda3/lib/python3.9/site-packages/finrl/meta/data_processors/processor_yahoofinance.py:199: FutureWarning: The frame.append method is deprecated and will be removed from pandas in a future version. Use pandas.concat instead.\n",
      "  indicator_df = indicator_df.append(\n",
      "/home/bassem/anaconda3/lib/python3.9/site-packages/finrl/meta/data_processors/processor_yahoofinance.py:199: FutureWarning: The frame.append method is deprecated and will be removed from pandas in a future version. Use pandas.concat instead.\n",
      "  indicator_df = indicator_df.append(\n",
      "/home/bassem/anaconda3/lib/python3.9/site-packages/finrl/meta/data_processors/processor_yahoofinance.py:199: FutureWarning: The frame.append method is deprecated and will be removed from pandas in a future version. Use pandas.concat instead.\n",
      "  indicator_df = indicator_df.append(\n",
      "/home/bassem/anaconda3/lib/python3.9/site-packages/finrl/meta/data_processors/processor_yahoofinance.py:199: FutureWarning: The frame.append method is deprecated and will be removed from pandas in a future version. Use pandas.concat instead.\n",
      "  indicator_df = indicator_df.append(\n",
      "/home/bassem/anaconda3/lib/python3.9/site-packages/finrl/meta/data_processors/processor_yahoofinance.py:199: FutureWarning: The frame.append method is deprecated and will be removed from pandas in a future version. Use pandas.concat instead.\n",
      "  indicator_df = indicator_df.append(\n",
      "/home/bassem/anaconda3/lib/python3.9/site-packages/finrl/meta/data_processors/processor_yahoofinance.py:199: FutureWarning: The frame.append method is deprecated and will be removed from pandas in a future version. Use pandas.concat instead.\n",
      "  indicator_df = indicator_df.append(\n",
      "/home/bassem/anaconda3/lib/python3.9/site-packages/finrl/meta/data_processors/processor_yahoofinance.py:199: FutureWarning: The frame.append method is deprecated and will be removed from pandas in a future version. Use pandas.concat instead.\n",
      "  indicator_df = indicator_df.append(\n",
      "/home/bassem/anaconda3/lib/python3.9/site-packages/finrl/meta/data_processors/processor_yahoofinance.py:199: FutureWarning: The frame.append method is deprecated and will be removed from pandas in a future version. Use pandas.concat instead.\n",
      "  indicator_df = indicator_df.append(\n",
      "/home/bassem/anaconda3/lib/python3.9/site-packages/finrl/meta/data_processors/processor_yahoofinance.py:199: FutureWarning: The frame.append method is deprecated and will be removed from pandas in a future version. Use pandas.concat instead.\n",
      "  indicator_df = indicator_df.append(\n",
      "/home/bassem/anaconda3/lib/python3.9/site-packages/finrl/meta/data_processors/processor_yahoofinance.py:199: FutureWarning: The frame.append method is deprecated and will be removed from pandas in a future version. Use pandas.concat instead.\n",
      "  indicator_df = indicator_df.append(\n",
      "/home/bassem/anaconda3/lib/python3.9/site-packages/finrl/meta/data_processors/processor_yahoofinance.py:199: FutureWarning: The frame.append method is deprecated and will be removed from pandas in a future version. Use pandas.concat instead.\n",
      "  indicator_df = indicator_df.append(\n",
      "/home/bassem/anaconda3/lib/python3.9/site-packages/finrl/meta/data_processors/processor_yahoofinance.py:199: FutureWarning: The frame.append method is deprecated and will be removed from pandas in a future version. Use pandas.concat instead.\n",
      "  indicator_df = indicator_df.append(\n",
      "/home/bassem/anaconda3/lib/python3.9/site-packages/finrl/meta/data_processors/processor_yahoofinance.py:199: FutureWarning: The frame.append method is deprecated and will be removed from pandas in a future version. Use pandas.concat instead.\n",
      "  indicator_df = indicator_df.append(\n",
      "/home/bassem/anaconda3/lib/python3.9/site-packages/finrl/meta/data_processors/processor_yahoofinance.py:199: FutureWarning: The frame.append method is deprecated and will be removed from pandas in a future version. Use pandas.concat instead.\n",
      "  indicator_df = indicator_df.append(\n",
      "/home/bassem/anaconda3/lib/python3.9/site-packages/finrl/meta/data_processors/processor_yahoofinance.py:199: FutureWarning: The frame.append method is deprecated and will be removed from pandas in a future version. Use pandas.concat instead.\n",
      "  indicator_df = indicator_df.append(\n",
      "/home/bassem/anaconda3/lib/python3.9/site-packages/finrl/meta/data_processors/processor_yahoofinance.py:199: FutureWarning: The frame.append method is deprecated and will be removed from pandas in a future version. Use pandas.concat instead.\n",
      "  indicator_df = indicator_df.append(\n",
      "/home/bassem/anaconda3/lib/python3.9/site-packages/finrl/meta/data_processors/processor_yahoofinance.py:199: FutureWarning: The frame.append method is deprecated and will be removed from pandas in a future version. Use pandas.concat instead.\n",
      "  indicator_df = indicator_df.append(\n",
      "/home/bassem/anaconda3/lib/python3.9/site-packages/finrl/meta/data_processors/processor_yahoofinance.py:199: FutureWarning: The frame.append method is deprecated and will be removed from pandas in a future version. Use pandas.concat instead.\n",
      "  indicator_df = indicator_df.append(\n",
      "/home/bassem/anaconda3/lib/python3.9/site-packages/finrl/meta/data_processors/processor_yahoofinance.py:199: FutureWarning: The frame.append method is deprecated and will be removed from pandas in a future version. Use pandas.concat instead.\n",
      "  indicator_df = indicator_df.append(\n",
      "/home/bassem/anaconda3/lib/python3.9/site-packages/finrl/meta/data_processors/processor_yahoofinance.py:199: FutureWarning: The frame.append method is deprecated and will be removed from pandas in a future version. Use pandas.concat instead.\n",
      "  indicator_df = indicator_df.append(\n",
      "/home/bassem/anaconda3/lib/python3.9/site-packages/finrl/meta/data_processors/processor_yahoofinance.py:199: FutureWarning: The frame.append method is deprecated and will be removed from pandas in a future version. Use pandas.concat instead.\n",
      "  indicator_df = indicator_df.append(\n",
      "/home/bassem/anaconda3/lib/python3.9/site-packages/finrl/meta/data_processors/processor_yahoofinance.py:199: FutureWarning: The frame.append method is deprecated and will be removed from pandas in a future version. Use pandas.concat instead.\n",
      "  indicator_df = indicator_df.append(\n",
      "/home/bassem/anaconda3/lib/python3.9/site-packages/finrl/meta/data_processors/processor_yahoofinance.py:199: FutureWarning: The frame.append method is deprecated and will be removed from pandas in a future version. Use pandas.concat instead.\n",
      "  indicator_df = indicator_df.append(\n",
      "/home/bassem/anaconda3/lib/python3.9/site-packages/finrl/meta/data_processors/processor_yahoofinance.py:199: FutureWarning: The frame.append method is deprecated and will be removed from pandas in a future version. Use pandas.concat instead.\n",
      "  indicator_df = indicator_df.append(\n",
      "/home/bassem/anaconda3/lib/python3.9/site-packages/finrl/meta/data_processors/processor_yahoofinance.py:199: FutureWarning: The frame.append method is deprecated and will be removed from pandas in a future version. Use pandas.concat instead.\n",
      "  indicator_df = indicator_df.append(\n",
      "/home/bassem/anaconda3/lib/python3.9/site-packages/finrl/meta/data_processors/processor_yahoofinance.py:199: FutureWarning: The frame.append method is deprecated and will be removed from pandas in a future version. Use pandas.concat instead.\n",
      "  indicator_df = indicator_df.append(\n",
      "/home/bassem/anaconda3/lib/python3.9/site-packages/finrl/meta/data_processors/processor_yahoofinance.py:199: FutureWarning: The frame.append method is deprecated and will be removed from pandas in a future version. Use pandas.concat instead.\n",
      "  indicator_df = indicator_df.append(\n",
      "/home/bassem/anaconda3/lib/python3.9/site-packages/finrl/meta/data_processors/processor_yahoofinance.py:199: FutureWarning: The frame.append method is deprecated and will be removed from pandas in a future version. Use pandas.concat instead.\n",
      "  indicator_df = indicator_df.append(\n",
      "/home/bassem/anaconda3/lib/python3.9/site-packages/finrl/meta/data_processors/processor_yahoofinance.py:199: FutureWarning: The frame.append method is deprecated and will be removed from pandas in a future version. Use pandas.concat instead.\n",
      "  indicator_df = indicator_df.append(\n",
      "/home/bassem/anaconda3/lib/python3.9/site-packages/finrl/meta/data_processors/processor_yahoofinance.py:199: FutureWarning: The frame.append method is deprecated and will be removed from pandas in a future version. Use pandas.concat instead.\n",
      "  indicator_df = indicator_df.append(\n",
      "/home/bassem/anaconda3/lib/python3.9/site-packages/finrl/meta/data_processors/processor_yahoofinance.py:199: FutureWarning: The frame.append method is deprecated and will be removed from pandas in a future version. Use pandas.concat instead.\n",
      "  indicator_df = indicator_df.append(\n",
      "/home/bassem/anaconda3/lib/python3.9/site-packages/finrl/meta/data_processors/processor_yahoofinance.py:199: FutureWarning: The frame.append method is deprecated and will be removed from pandas in a future version. Use pandas.concat instead.\n",
      "  indicator_df = indicator_df.append(\n",
      "/home/bassem/anaconda3/lib/python3.9/site-packages/finrl/meta/data_processors/processor_yahoofinance.py:199: FutureWarning: The frame.append method is deprecated and will be removed from pandas in a future version. Use pandas.concat instead.\n",
      "  indicator_df = indicator_df.append(\n",
      "/home/bassem/anaconda3/lib/python3.9/site-packages/finrl/meta/data_processors/processor_yahoofinance.py:199: FutureWarning: The frame.append method is deprecated and will be removed from pandas in a future version. Use pandas.concat instead.\n",
      "  indicator_df = indicator_df.append(\n",
      "/home/bassem/anaconda3/lib/python3.9/site-packages/finrl/meta/data_processors/processor_yahoofinance.py:199: FutureWarning: The frame.append method is deprecated and will be removed from pandas in a future version. Use pandas.concat instead.\n",
      "  indicator_df = indicator_df.append(\n",
      "/home/bassem/anaconda3/lib/python3.9/site-packages/finrl/meta/data_processors/processor_yahoofinance.py:199: FutureWarning: The frame.append method is deprecated and will be removed from pandas in a future version. Use pandas.concat instead.\n",
      "  indicator_df = indicator_df.append(\n",
      "/home/bassem/anaconda3/lib/python3.9/site-packages/finrl/meta/data_processors/processor_yahoofinance.py:199: FutureWarning: The frame.append method is deprecated and will be removed from pandas in a future version. Use pandas.concat instead.\n",
      "  indicator_df = indicator_df.append(\n",
      "/home/bassem/anaconda3/lib/python3.9/site-packages/finrl/meta/data_processors/processor_yahoofinance.py:199: FutureWarning: The frame.append method is deprecated and will be removed from pandas in a future version. Use pandas.concat instead.\n",
      "  indicator_df = indicator_df.append(\n",
      "/home/bassem/anaconda3/lib/python3.9/site-packages/finrl/meta/data_processors/processor_yahoofinance.py:199: FutureWarning: The frame.append method is deprecated and will be removed from pandas in a future version. Use pandas.concat instead.\n",
      "  indicator_df = indicator_df.append(\n",
      "/home/bassem/anaconda3/lib/python3.9/site-packages/finrl/meta/data_processors/processor_yahoofinance.py:199: FutureWarning: The frame.append method is deprecated and will be removed from pandas in a future version. Use pandas.concat instead.\n",
      "  indicator_df = indicator_df.append(\n",
      "/home/bassem/anaconda3/lib/python3.9/site-packages/finrl/meta/data_processors/processor_yahoofinance.py:199: FutureWarning: The frame.append method is deprecated and will be removed from pandas in a future version. Use pandas.concat instead.\n",
      "  indicator_df = indicator_df.append(\n",
      "/home/bassem/anaconda3/lib/python3.9/site-packages/finrl/meta/data_processors/processor_yahoofinance.py:199: FutureWarning: The frame.append method is deprecated and will be removed from pandas in a future version. Use pandas.concat instead.\n",
      "  indicator_df = indicator_df.append(\n",
      "/home/bassem/anaconda3/lib/python3.9/site-packages/finrl/meta/data_processors/processor_yahoofinance.py:199: FutureWarning: The frame.append method is deprecated and will be removed from pandas in a future version. Use pandas.concat instead.\n",
      "  indicator_df = indicator_df.append(\n",
      "/home/bassem/anaconda3/lib/python3.9/site-packages/finrl/meta/data_processors/processor_yahoofinance.py:199: FutureWarning: The frame.append method is deprecated and will be removed from pandas in a future version. Use pandas.concat instead.\n",
      "  indicator_df = indicator_df.append(\n",
      "/home/bassem/anaconda3/lib/python3.9/site-packages/finrl/meta/data_processors/processor_yahoofinance.py:199: FutureWarning: The frame.append method is deprecated and will be removed from pandas in a future version. Use pandas.concat instead.\n",
      "  indicator_df = indicator_df.append(\n",
      "/home/bassem/anaconda3/lib/python3.9/site-packages/finrl/meta/data_processors/processor_yahoofinance.py:199: FutureWarning: The frame.append method is deprecated and will be removed from pandas in a future version. Use pandas.concat instead.\n",
      "  indicator_df = indicator_df.append(\n",
      "/home/bassem/anaconda3/lib/python3.9/site-packages/finrl/meta/data_processors/processor_yahoofinance.py:199: FutureWarning: The frame.append method is deprecated and will be removed from pandas in a future version. Use pandas.concat instead.\n",
      "  indicator_df = indicator_df.append(\n",
      "/home/bassem/anaconda3/lib/python3.9/site-packages/finrl/meta/data_processors/processor_yahoofinance.py:199: FutureWarning: The frame.append method is deprecated and will be removed from pandas in a future version. Use pandas.concat instead.\n",
      "  indicator_df = indicator_df.append(\n",
      "/home/bassem/anaconda3/lib/python3.9/site-packages/finrl/meta/data_processors/processor_yahoofinance.py:199: FutureWarning: The frame.append method is deprecated and will be removed from pandas in a future version. Use pandas.concat instead.\n",
      "  indicator_df = indicator_df.append(\n",
      "/home/bassem/anaconda3/lib/python3.9/site-packages/finrl/meta/data_processors/processor_yahoofinance.py:199: FutureWarning: The frame.append method is deprecated and will be removed from pandas in a future version. Use pandas.concat instead.\n",
      "  indicator_df = indicator_df.append(\n",
      "/home/bassem/anaconda3/lib/python3.9/site-packages/finrl/meta/data_processors/processor_yahoofinance.py:199: FutureWarning: The frame.append method is deprecated and will be removed from pandas in a future version. Use pandas.concat instead.\n",
      "  indicator_df = indicator_df.append(\n",
      "/home/bassem/anaconda3/lib/python3.9/site-packages/finrl/meta/data_processors/processor_yahoofinance.py:199: FutureWarning: The frame.append method is deprecated and will be removed from pandas in a future version. Use pandas.concat instead.\n",
      "  indicator_df = indicator_df.append(\n",
      "/home/bassem/anaconda3/lib/python3.9/site-packages/finrl/meta/data_processors/processor_yahoofinance.py:199: FutureWarning: The frame.append method is deprecated and will be removed from pandas in a future version. Use pandas.concat instead.\n",
      "  indicator_df = indicator_df.append(\n",
      "/home/bassem/anaconda3/lib/python3.9/site-packages/finrl/meta/data_processors/processor_yahoofinance.py:199: FutureWarning: The frame.append method is deprecated and will be removed from pandas in a future version. Use pandas.concat instead.\n",
      "  indicator_df = indicator_df.append(\n",
      "/home/bassem/anaconda3/lib/python3.9/site-packages/finrl/meta/data_processors/processor_yahoofinance.py:199: FutureWarning: The frame.append method is deprecated and will be removed from pandas in a future version. Use pandas.concat instead.\n",
      "  indicator_df = indicator_df.append(\n",
      "/home/bassem/anaconda3/lib/python3.9/site-packages/finrl/meta/data_processors/processor_yahoofinance.py:199: FutureWarning: The frame.append method is deprecated and will be removed from pandas in a future version. Use pandas.concat instead.\n",
      "  indicator_df = indicator_df.append(\n",
      "/home/bassem/anaconda3/lib/python3.9/site-packages/finrl/meta/data_processors/processor_yahoofinance.py:199: FutureWarning: The frame.append method is deprecated and will be removed from pandas in a future version. Use pandas.concat instead.\n",
      "  indicator_df = indicator_df.append(\n",
      "/home/bassem/anaconda3/lib/python3.9/site-packages/finrl/meta/data_processors/processor_yahoofinance.py:199: FutureWarning: The frame.append method is deprecated and will be removed from pandas in a future version. Use pandas.concat instead.\n",
      "  indicator_df = indicator_df.append(\n",
      "/home/bassem/anaconda3/lib/python3.9/site-packages/finrl/meta/data_processors/processor_yahoofinance.py:199: FutureWarning: The frame.append method is deprecated and will be removed from pandas in a future version. Use pandas.concat instead.\n",
      "  indicator_df = indicator_df.append(\n",
      "/home/bassem/anaconda3/lib/python3.9/site-packages/finrl/meta/data_processors/processor_yahoofinance.py:199: FutureWarning: The frame.append method is deprecated and will be removed from pandas in a future version. Use pandas.concat instead.\n",
      "  indicator_df = indicator_df.append(\n",
      "/home/bassem/anaconda3/lib/python3.9/site-packages/finrl/meta/data_processors/processor_yahoofinance.py:199: FutureWarning: The frame.append method is deprecated and will be removed from pandas in a future version. Use pandas.concat instead.\n",
      "  indicator_df = indicator_df.append(\n",
      "/home/bassem/anaconda3/lib/python3.9/site-packages/finrl/meta/data_processors/processor_yahoofinance.py:199: FutureWarning: The frame.append method is deprecated and will be removed from pandas in a future version. Use pandas.concat instead.\n",
      "  indicator_df = indicator_df.append(\n",
      "/home/bassem/anaconda3/lib/python3.9/site-packages/finrl/meta/data_processors/processor_yahoofinance.py:199: FutureWarning: The frame.append method is deprecated and will be removed from pandas in a future version. Use pandas.concat instead.\n",
      "  indicator_df = indicator_df.append(\n",
      "/home/bassem/anaconda3/lib/python3.9/site-packages/finrl/meta/data_processors/processor_yahoofinance.py:199: FutureWarning: The frame.append method is deprecated and will be removed from pandas in a future version. Use pandas.concat instead.\n",
      "  indicator_df = indicator_df.append(\n",
      "/home/bassem/anaconda3/lib/python3.9/site-packages/finrl/meta/data_processors/processor_yahoofinance.py:199: FutureWarning: The frame.append method is deprecated and will be removed from pandas in a future version. Use pandas.concat instead.\n",
      "  indicator_df = indicator_df.append(\n",
      "/home/bassem/anaconda3/lib/python3.9/site-packages/finrl/meta/data_processors/processor_yahoofinance.py:199: FutureWarning: The frame.append method is deprecated and will be removed from pandas in a future version. Use pandas.concat instead.\n",
      "  indicator_df = indicator_df.append(\n",
      "/home/bassem/anaconda3/lib/python3.9/site-packages/finrl/meta/data_processors/processor_yahoofinance.py:199: FutureWarning: The frame.append method is deprecated and will be removed from pandas in a future version. Use pandas.concat instead.\n",
      "  indicator_df = indicator_df.append(\n",
      "/home/bassem/anaconda3/lib/python3.9/site-packages/finrl/meta/data_processors/processor_yahoofinance.py:199: FutureWarning: The frame.append method is deprecated and will be removed from pandas in a future version. Use pandas.concat instead.\n",
      "  indicator_df = indicator_df.append(\n",
      "/home/bassem/anaconda3/lib/python3.9/site-packages/finrl/meta/data_processors/processor_yahoofinance.py:199: FutureWarning: The frame.append method is deprecated and will be removed from pandas in a future version. Use pandas.concat instead.\n",
      "  indicator_df = indicator_df.append(\n",
      "/home/bassem/anaconda3/lib/python3.9/site-packages/finrl/meta/data_processors/processor_yahoofinance.py:199: FutureWarning: The frame.append method is deprecated and will be removed from pandas in a future version. Use pandas.concat instead.\n",
      "  indicator_df = indicator_df.append(\n",
      "/home/bassem/anaconda3/lib/python3.9/site-packages/finrl/meta/data_processors/processor_yahoofinance.py:199: FutureWarning: The frame.append method is deprecated and will be removed from pandas in a future version. Use pandas.concat instead.\n",
      "  indicator_df = indicator_df.append(\n",
      "/home/bassem/anaconda3/lib/python3.9/site-packages/finrl/meta/data_processors/processor_yahoofinance.py:199: FutureWarning: The frame.append method is deprecated and will be removed from pandas in a future version. Use pandas.concat instead.\n",
      "  indicator_df = indicator_df.append(\n",
      "/home/bassem/anaconda3/lib/python3.9/site-packages/finrl/meta/data_processors/processor_yahoofinance.py:199: FutureWarning: The frame.append method is deprecated and will be removed from pandas in a future version. Use pandas.concat instead.\n",
      "  indicator_df = indicator_df.append(\n",
      "/home/bassem/anaconda3/lib/python3.9/site-packages/finrl/meta/data_processors/processor_yahoofinance.py:199: FutureWarning: The frame.append method is deprecated and will be removed from pandas in a future version. Use pandas.concat instead.\n",
      "  indicator_df = indicator_df.append(\n",
      "/home/bassem/anaconda3/lib/python3.9/site-packages/finrl/meta/data_processors/processor_yahoofinance.py:199: FutureWarning: The frame.append method is deprecated and will be removed from pandas in a future version. Use pandas.concat instead.\n",
      "  indicator_df = indicator_df.append(\n",
      "/home/bassem/anaconda3/lib/python3.9/site-packages/finrl/meta/data_processors/processor_yahoofinance.py:199: FutureWarning: The frame.append method is deprecated and will be removed from pandas in a future version. Use pandas.concat instead.\n",
      "  indicator_df = indicator_df.append(\n",
      "/home/bassem/anaconda3/lib/python3.9/site-packages/finrl/meta/data_processors/processor_yahoofinance.py:199: FutureWarning: The frame.append method is deprecated and will be removed from pandas in a future version. Use pandas.concat instead.\n",
      "  indicator_df = indicator_df.append(\n",
      "/home/bassem/anaconda3/lib/python3.9/site-packages/finrl/meta/data_processors/processor_yahoofinance.py:199: FutureWarning: The frame.append method is deprecated and will be removed from pandas in a future version. Use pandas.concat instead.\n",
      "  indicator_df = indicator_df.append(\n",
      "/home/bassem/anaconda3/lib/python3.9/site-packages/finrl/meta/data_processors/processor_yahoofinance.py:199: FutureWarning: The frame.append method is deprecated and will be removed from pandas in a future version. Use pandas.concat instead.\n",
      "  indicator_df = indicator_df.append(\n",
      "/home/bassem/anaconda3/lib/python3.9/site-packages/finrl/meta/data_processors/processor_yahoofinance.py:199: FutureWarning: The frame.append method is deprecated and will be removed from pandas in a future version. Use pandas.concat instead.\n",
      "  indicator_df = indicator_df.append(\n",
      "/home/bassem/anaconda3/lib/python3.9/site-packages/finrl/meta/data_processors/processor_yahoofinance.py:199: FutureWarning: The frame.append method is deprecated and will be removed from pandas in a future version. Use pandas.concat instead.\n",
      "  indicator_df = indicator_df.append(\n",
      "/home/bassem/anaconda3/lib/python3.9/site-packages/finrl/meta/data_processors/processor_yahoofinance.py:199: FutureWarning: The frame.append method is deprecated and will be removed from pandas in a future version. Use pandas.concat instead.\n",
      "  indicator_df = indicator_df.append(\n",
      "/home/bassem/anaconda3/lib/python3.9/site-packages/finrl/meta/data_processors/processor_yahoofinance.py:199: FutureWarning: The frame.append method is deprecated and will be removed from pandas in a future version. Use pandas.concat instead.\n",
      "  indicator_df = indicator_df.append(\n",
      "/home/bassem/anaconda3/lib/python3.9/site-packages/finrl/meta/data_processors/processor_yahoofinance.py:199: FutureWarning: The frame.append method is deprecated and will be removed from pandas in a future version. Use pandas.concat instead.\n",
      "  indicator_df = indicator_df.append(\n",
      "/home/bassem/anaconda3/lib/python3.9/site-packages/finrl/meta/data_processors/processor_yahoofinance.py:199: FutureWarning: The frame.append method is deprecated and will be removed from pandas in a future version. Use pandas.concat instead.\n",
      "  indicator_df = indicator_df.append(\n",
      "/home/bassem/anaconda3/lib/python3.9/site-packages/finrl/meta/data_processors/processor_yahoofinance.py:199: FutureWarning: The frame.append method is deprecated and will be removed from pandas in a future version. Use pandas.concat instead.\n",
      "  indicator_df = indicator_df.append(\n",
      "/home/bassem/anaconda3/lib/python3.9/site-packages/finrl/meta/data_processors/processor_yahoofinance.py:199: FutureWarning: The frame.append method is deprecated and will be removed from pandas in a future version. Use pandas.concat instead.\n",
      "  indicator_df = indicator_df.append(\n",
      "/home/bassem/anaconda3/lib/python3.9/site-packages/finrl/meta/data_processors/processor_yahoofinance.py:199: FutureWarning: The frame.append method is deprecated and will be removed from pandas in a future version. Use pandas.concat instead.\n",
      "  indicator_df = indicator_df.append(\n",
      "/home/bassem/anaconda3/lib/python3.9/site-packages/finrl/meta/data_processors/processor_yahoofinance.py:199: FutureWarning: The frame.append method is deprecated and will be removed from pandas in a future version. Use pandas.concat instead.\n",
      "  indicator_df = indicator_df.append(\n",
      "/home/bassem/anaconda3/lib/python3.9/site-packages/finrl/meta/data_processors/processor_yahoofinance.py:199: FutureWarning: The frame.append method is deprecated and will be removed from pandas in a future version. Use pandas.concat instead.\n",
      "  indicator_df = indicator_df.append(\n",
      "/home/bassem/anaconda3/lib/python3.9/site-packages/finrl/meta/data_processors/processor_yahoofinance.py:199: FutureWarning: The frame.append method is deprecated and will be removed from pandas in a future version. Use pandas.concat instead.\n",
      "  indicator_df = indicator_df.append(\n",
      "/home/bassem/anaconda3/lib/python3.9/site-packages/finrl/meta/data_processors/processor_yahoofinance.py:199: FutureWarning: The frame.append method is deprecated and will be removed from pandas in a future version. Use pandas.concat instead.\n",
      "  indicator_df = indicator_df.append(\n",
      "/home/bassem/anaconda3/lib/python3.9/site-packages/finrl/meta/data_processors/processor_yahoofinance.py:199: FutureWarning: The frame.append method is deprecated and will be removed from pandas in a future version. Use pandas.concat instead.\n",
      "  indicator_df = indicator_df.append(\n",
      "/home/bassem/anaconda3/lib/python3.9/site-packages/finrl/meta/data_processors/processor_yahoofinance.py:199: FutureWarning: The frame.append method is deprecated and will be removed from pandas in a future version. Use pandas.concat instead.\n",
      "  indicator_df = indicator_df.append(\n",
      "/home/bassem/anaconda3/lib/python3.9/site-packages/finrl/meta/data_processors/processor_yahoofinance.py:199: FutureWarning: The frame.append method is deprecated and will be removed from pandas in a future version. Use pandas.concat instead.\n",
      "  indicator_df = indicator_df.append(\n",
      "/home/bassem/anaconda3/lib/python3.9/site-packages/finrl/meta/data_processors/processor_yahoofinance.py:199: FutureWarning: The frame.append method is deprecated and will be removed from pandas in a future version. Use pandas.concat instead.\n",
      "  indicator_df = indicator_df.append(\n",
      "/home/bassem/anaconda3/lib/python3.9/site-packages/finrl/meta/data_processors/processor_yahoofinance.py:199: FutureWarning: The frame.append method is deprecated and will be removed from pandas in a future version. Use pandas.concat instead.\n",
      "  indicator_df = indicator_df.append(\n",
      "/home/bassem/anaconda3/lib/python3.9/site-packages/finrl/meta/data_processors/processor_yahoofinance.py:199: FutureWarning: The frame.append method is deprecated and will be removed from pandas in a future version. Use pandas.concat instead.\n",
      "  indicator_df = indicator_df.append(\n",
      "/home/bassem/anaconda3/lib/python3.9/site-packages/finrl/meta/data_processors/processor_yahoofinance.py:199: FutureWarning: The frame.append method is deprecated and will be removed from pandas in a future version. Use pandas.concat instead.\n",
      "  indicator_df = indicator_df.append(\n",
      "/home/bassem/anaconda3/lib/python3.9/site-packages/finrl/meta/data_processors/processor_yahoofinance.py:199: FutureWarning: The frame.append method is deprecated and will be removed from pandas in a future version. Use pandas.concat instead.\n",
      "  indicator_df = indicator_df.append(\n",
      "/home/bassem/anaconda3/lib/python3.9/site-packages/finrl/meta/data_processors/processor_yahoofinance.py:199: FutureWarning: The frame.append method is deprecated and will be removed from pandas in a future version. Use pandas.concat instead.\n",
      "  indicator_df = indicator_df.append(\n",
      "/home/bassem/anaconda3/lib/python3.9/site-packages/finrl/meta/data_processors/processor_yahoofinance.py:199: FutureWarning: The frame.append method is deprecated and will be removed from pandas in a future version. Use pandas.concat instead.\n",
      "  indicator_df = indicator_df.append(\n",
      "/home/bassem/anaconda3/lib/python3.9/site-packages/finrl/meta/data_processors/processor_yahoofinance.py:199: FutureWarning: The frame.append method is deprecated and will be removed from pandas in a future version. Use pandas.concat instead.\n",
      "  indicator_df = indicator_df.append(\n",
      "/home/bassem/anaconda3/lib/python3.9/site-packages/finrl/meta/data_processors/processor_yahoofinance.py:199: FutureWarning: The frame.append method is deprecated and will be removed from pandas in a future version. Use pandas.concat instead.\n",
      "  indicator_df = indicator_df.append(\n",
      "/home/bassem/anaconda3/lib/python3.9/site-packages/finrl/meta/data_processors/processor_yahoofinance.py:199: FutureWarning: The frame.append method is deprecated and will be removed from pandas in a future version. Use pandas.concat instead.\n",
      "  indicator_df = indicator_df.append(\n",
      "/home/bassem/anaconda3/lib/python3.9/site-packages/finrl/meta/data_processors/processor_yahoofinance.py:199: FutureWarning: The frame.append method is deprecated and will be removed from pandas in a future version. Use pandas.concat instead.\n",
      "  indicator_df = indicator_df.append(\n",
      "/home/bassem/anaconda3/lib/python3.9/site-packages/finrl/meta/data_processors/processor_yahoofinance.py:199: FutureWarning: The frame.append method is deprecated and will be removed from pandas in a future version. Use pandas.concat instead.\n",
      "  indicator_df = indicator_df.append(\n",
      "/home/bassem/anaconda3/lib/python3.9/site-packages/finrl/meta/data_processors/processor_yahoofinance.py:199: FutureWarning: The frame.append method is deprecated and will be removed from pandas in a future version. Use pandas.concat instead.\n",
      "  indicator_df = indicator_df.append(\n",
      "/home/bassem/anaconda3/lib/python3.9/site-packages/finrl/meta/data_processors/processor_yahoofinance.py:199: FutureWarning: The frame.append method is deprecated and will be removed from pandas in a future version. Use pandas.concat instead.\n",
      "  indicator_df = indicator_df.append(\n",
      "/home/bassem/anaconda3/lib/python3.9/site-packages/finrl/meta/data_processors/processor_yahoofinance.py:199: FutureWarning: The frame.append method is deprecated and will be removed from pandas in a future version. Use pandas.concat instead.\n",
      "  indicator_df = indicator_df.append(\n",
      "/home/bassem/anaconda3/lib/python3.9/site-packages/finrl/meta/data_processors/processor_yahoofinance.py:199: FutureWarning: The frame.append method is deprecated and will be removed from pandas in a future version. Use pandas.concat instead.\n",
      "  indicator_df = indicator_df.append(\n",
      "/home/bassem/anaconda3/lib/python3.9/site-packages/finrl/meta/data_processors/processor_yahoofinance.py:199: FutureWarning: The frame.append method is deprecated and will be removed from pandas in a future version. Use pandas.concat instead.\n",
      "  indicator_df = indicator_df.append(\n",
      "/home/bassem/anaconda3/lib/python3.9/site-packages/finrl/meta/data_processors/processor_yahoofinance.py:199: FutureWarning: The frame.append method is deprecated and will be removed from pandas in a future version. Use pandas.concat instead.\n",
      "  indicator_df = indicator_df.append(\n",
      "/home/bassem/anaconda3/lib/python3.9/site-packages/finrl/meta/data_processors/processor_yahoofinance.py:199: FutureWarning: The frame.append method is deprecated and will be removed from pandas in a future version. Use pandas.concat instead.\n",
      "  indicator_df = indicator_df.append(\n",
      "/home/bassem/anaconda3/lib/python3.9/site-packages/finrl/meta/data_processors/processor_yahoofinance.py:199: FutureWarning: The frame.append method is deprecated and will be removed from pandas in a future version. Use pandas.concat instead.\n",
      "  indicator_df = indicator_df.append(\n",
      "/home/bassem/anaconda3/lib/python3.9/site-packages/finrl/meta/data_processors/processor_yahoofinance.py:199: FutureWarning: The frame.append method is deprecated and will be removed from pandas in a future version. Use pandas.concat instead.\n",
      "  indicator_df = indicator_df.append(\n",
      "/home/bassem/anaconda3/lib/python3.9/site-packages/finrl/meta/data_processors/processor_yahoofinance.py:199: FutureWarning: The frame.append method is deprecated and will be removed from pandas in a future version. Use pandas.concat instead.\n",
      "  indicator_df = indicator_df.append(\n",
      "/home/bassem/anaconda3/lib/python3.9/site-packages/finrl/meta/data_processors/processor_yahoofinance.py:199: FutureWarning: The frame.append method is deprecated and will be removed from pandas in a future version. Use pandas.concat instead.\n",
      "  indicator_df = indicator_df.append(\n",
      "/home/bassem/anaconda3/lib/python3.9/site-packages/finrl/meta/data_processors/processor_yahoofinance.py:199: FutureWarning: The frame.append method is deprecated and will be removed from pandas in a future version. Use pandas.concat instead.\n",
      "  indicator_df = indicator_df.append(\n",
      "/home/bassem/anaconda3/lib/python3.9/site-packages/finrl/meta/data_processors/processor_yahoofinance.py:199: FutureWarning: The frame.append method is deprecated and will be removed from pandas in a future version. Use pandas.concat instead.\n",
      "  indicator_df = indicator_df.append(\n"
     ]
    },
    {
     "name": "stdout",
     "output_type": "stream",
     "text": [
      "[*********************100%***********************]  1 of 1 completed\n",
      "Shape of DataFrame:  (1800, 9)\n",
      "Clean data for ^VIX\n"
     ]
    },
    {
     "name": "stderr",
     "output_type": "stream",
     "text": [
      "/home/bassem/anaconda3/lib/python3.9/site-packages/finrl/meta/data_processors/processor_yahoofinance.py:56: FutureWarning: The frame.append method is deprecated and will be removed from pandas in a future version. Use pandas.concat instead.\n",
      "  data_df = data_df.append(temp_df)\n",
      "/home/bassem/anaconda3/lib/python3.9/site-packages/finrl/meta/data_processors/processor_yahoofinance.py:165: FutureWarning: The frame.append method is deprecated and will be removed from pandas in a future version. Use pandas.concat instead.\n",
      "  new_df = new_df.append(tmp_df)\n"
     ]
    },
    {
     "name": "stdout",
     "output_type": "stream",
     "text": [
      "Data clean for ^VIX is finished.\n",
      "Data clean all finished!\n",
      "['AAPL' 'AMGN' 'AXP' 'BA' 'CAT' 'CRM' 'CSCO' 'CVX' 'DIS' 'DOW' 'GS' 'HD'\n",
      " 'HON' 'IBM' 'INTC' 'JNJ' 'JPM' 'KO' 'MCD' 'MMM' 'MRK' 'MSFT' 'NKE' 'PG'\n",
      " 'TRV' 'UNH' 'V' 'VZ' 'WBA' 'WMT']\n",
      "Successfully transformed into array\n",
      "| Arguments Remove cwd: ./test_ppo\n",
      "################################################################################\n",
      "ID     Step    Time |    maxR    curR    curS |    objC   objA   etc.\n"
     ]
    },
    {
     "ename": "AttributeError",
     "evalue": "'AgentPPO' object has no attribute 'traj_list'",
     "output_type": "error",
     "traceback": [
      "\u001b[0;31m---------------------------------------------------------------------------\u001b[0m",
      "\u001b[0;31mAttributeError\u001b[0m                            Traceback (most recent call last)",
      "\u001b[1;32m/home/bassem/code/FinRL-Meta/tutorials/2-Advance/Plug_and_Play_with_DRL_Libraries.ipynb Cell 26\u001b[0m in \u001b[0;36m<cell line: 2>\u001b[0;34m()\u001b[0m\n\u001b[1;32m      <a href='vscode-notebook-cell:/home/bassem/code/FinRL-Meta/tutorials/2-Advance/Plug_and_Play_with_DRL_Libraries.ipynb#ch0000025?line=0'>1</a>\u001b[0m \u001b[39m#demo for elegantrl\u001b[39;00m\n\u001b[0;32m----> <a href='vscode-notebook-cell:/home/bassem/code/FinRL-Meta/tutorials/2-Advance/Plug_and_Play_with_DRL_Libraries.ipynb#ch0000025?line=1'>2</a>\u001b[0m train(start_date \u001b[39m=\u001b[39;49m TRAIN_START_DATE,\n\u001b[1;32m      <a href='vscode-notebook-cell:/home/bassem/code/FinRL-Meta/tutorials/2-Advance/Plug_and_Play_with_DRL_Libraries.ipynb#ch0000025?line=2'>3</a>\u001b[0m       end_date \u001b[39m=\u001b[39;49m TRAIN_END_DATE,\n\u001b[1;32m      <a href='vscode-notebook-cell:/home/bassem/code/FinRL-Meta/tutorials/2-Advance/Plug_and_Play_with_DRL_Libraries.ipynb#ch0000025?line=3'>4</a>\u001b[0m       ticker_list \u001b[39m=\u001b[39;49m config_tickers\u001b[39m.\u001b[39;49mDOW_30_TICKER,\n\u001b[1;32m      <a href='vscode-notebook-cell:/home/bassem/code/FinRL-Meta/tutorials/2-Advance/Plug_and_Play_with_DRL_Libraries.ipynb#ch0000025?line=4'>5</a>\u001b[0m       data_source \u001b[39m=\u001b[39;49m \u001b[39m'\u001b[39;49m\u001b[39myahoofinance\u001b[39;49m\u001b[39m'\u001b[39;49m,\n\u001b[1;32m      <a href='vscode-notebook-cell:/home/bassem/code/FinRL-Meta/tutorials/2-Advance/Plug_and_Play_with_DRL_Libraries.ipynb#ch0000025?line=5'>6</a>\u001b[0m       time_interval\u001b[39m=\u001b[39;49m \u001b[39m'\u001b[39;49m\u001b[39m1D\u001b[39;49m\u001b[39m'\u001b[39;49m,\n\u001b[1;32m      <a href='vscode-notebook-cell:/home/bassem/code/FinRL-Meta/tutorials/2-Advance/Plug_and_Play_with_DRL_Libraries.ipynb#ch0000025?line=6'>7</a>\u001b[0m       technical_indicator_list\u001b[39m=\u001b[39;49m INDICATORS,\n\u001b[1;32m      <a href='vscode-notebook-cell:/home/bassem/code/FinRL-Meta/tutorials/2-Advance/Plug_and_Play_with_DRL_Libraries.ipynb#ch0000025?line=7'>8</a>\u001b[0m       drl_lib\u001b[39m=\u001b[39;49m\u001b[39m'\u001b[39;49m\u001b[39melegantrl\u001b[39;49m\u001b[39m'\u001b[39;49m,\n\u001b[1;32m      <a href='vscode-notebook-cell:/home/bassem/code/FinRL-Meta/tutorials/2-Advance/Plug_and_Play_with_DRL_Libraries.ipynb#ch0000025?line=8'>9</a>\u001b[0m       env\u001b[39m=\u001b[39;49menv,\n\u001b[1;32m     <a href='vscode-notebook-cell:/home/bassem/code/FinRL-Meta/tutorials/2-Advance/Plug_and_Play_with_DRL_Libraries.ipynb#ch0000025?line=9'>10</a>\u001b[0m       model_name\u001b[39m=\u001b[39;49m\u001b[39m'\u001b[39;49m\u001b[39mppo\u001b[39;49m\u001b[39m'\u001b[39;49m,\n\u001b[1;32m     <a href='vscode-notebook-cell:/home/bassem/code/FinRL-Meta/tutorials/2-Advance/Plug_and_Play_with_DRL_Libraries.ipynb#ch0000025?line=10'>11</a>\u001b[0m       cwd\u001b[39m=\u001b[39;49m\u001b[39m'\u001b[39;49m\u001b[39m./test_ppo\u001b[39;49m\u001b[39m'\u001b[39;49m,\n\u001b[1;32m     <a href='vscode-notebook-cell:/home/bassem/code/FinRL-Meta/tutorials/2-Advance/Plug_and_Play_with_DRL_Libraries.ipynb#ch0000025?line=11'>12</a>\u001b[0m       erl_params\u001b[39m=\u001b[39;49mERL_PARAMS,\n\u001b[1;32m     <a href='vscode-notebook-cell:/home/bassem/code/FinRL-Meta/tutorials/2-Advance/Plug_and_Play_with_DRL_Libraries.ipynb#ch0000025?line=12'>13</a>\u001b[0m       break_step\u001b[39m=\u001b[39;49m\u001b[39m1e5\u001b[39;49m\n\u001b[1;32m     <a href='vscode-notebook-cell:/home/bassem/code/FinRL-Meta/tutorials/2-Advance/Plug_and_Play_with_DRL_Libraries.ipynb#ch0000025?line=13'>14</a>\u001b[0m       )\n",
      "\u001b[1;32m/home/bassem/code/FinRL-Meta/tutorials/2-Advance/Plug_and_Play_with_DRL_Libraries.ipynb Cell 26\u001b[0m in \u001b[0;36mtrain\u001b[0;34m(start_date, end_date, ticker_list, data_source, time_interval, technical_indicator_list, drl_lib, env, model_name, if_vix, **kwargs)\u001b[0m\n\u001b[1;32m     <a href='vscode-notebook-cell:/home/bassem/code/FinRL-Meta/tutorials/2-Advance/Plug_and_Play_with_DRL_Libraries.ipynb#ch0000025?line=25'>26</a>\u001b[0m     agent \u001b[39m=\u001b[39m DRLAgent_erl(env \u001b[39m=\u001b[39m env,\n\u001b[1;32m     <a href='vscode-notebook-cell:/home/bassem/code/FinRL-Meta/tutorials/2-Advance/Plug_and_Play_with_DRL_Libraries.ipynb#ch0000025?line=26'>27</a>\u001b[0m                          price_array \u001b[39m=\u001b[39m price_array,\n\u001b[1;32m     <a href='vscode-notebook-cell:/home/bassem/code/FinRL-Meta/tutorials/2-Advance/Plug_and_Play_with_DRL_Libraries.ipynb#ch0000025?line=27'>28</a>\u001b[0m                          tech_array\u001b[39m=\u001b[39mtech_array,\n\u001b[1;32m     <a href='vscode-notebook-cell:/home/bassem/code/FinRL-Meta/tutorials/2-Advance/Plug_and_Play_with_DRL_Libraries.ipynb#ch0000025?line=28'>29</a>\u001b[0m                          turbulence_array\u001b[39m=\u001b[39mturbulence_array)\n\u001b[1;32m     <a href='vscode-notebook-cell:/home/bassem/code/FinRL-Meta/tutorials/2-Advance/Plug_and_Play_with_DRL_Libraries.ipynb#ch0000025?line=30'>31</a>\u001b[0m     model \u001b[39m=\u001b[39m agent\u001b[39m.\u001b[39mget_model(model_name, model_kwargs \u001b[39m=\u001b[39m erl_params)\n\u001b[0;32m---> <a href='vscode-notebook-cell:/home/bassem/code/FinRL-Meta/tutorials/2-Advance/Plug_and_Play_with_DRL_Libraries.ipynb#ch0000025?line=31'>32</a>\u001b[0m     trained_model \u001b[39m=\u001b[39m agent\u001b[39m.\u001b[39;49mtrain_model(model\u001b[39m=\u001b[39;49mmodel,\n\u001b[1;32m     <a href='vscode-notebook-cell:/home/bassem/code/FinRL-Meta/tutorials/2-Advance/Plug_and_Play_with_DRL_Libraries.ipynb#ch0000025?line=32'>33</a>\u001b[0m                                       cwd\u001b[39m=\u001b[39;49mcwd,\n\u001b[1;32m     <a href='vscode-notebook-cell:/home/bassem/code/FinRL-Meta/tutorials/2-Advance/Plug_and_Play_with_DRL_Libraries.ipynb#ch0000025?line=33'>34</a>\u001b[0m                                       total_timesteps\u001b[39m=\u001b[39;49mbreak_step)\n\u001b[1;32m     <a href='vscode-notebook-cell:/home/bassem/code/FinRL-Meta/tutorials/2-Advance/Plug_and_Play_with_DRL_Libraries.ipynb#ch0000025?line=35'>36</a>\u001b[0m \u001b[39melif\u001b[39;00m drl_lib \u001b[39m==\u001b[39m \u001b[39m'\u001b[39m\u001b[39mrllib\u001b[39m\u001b[39m'\u001b[39m:\n\u001b[1;32m     <a href='vscode-notebook-cell:/home/bassem/code/FinRL-Meta/tutorials/2-Advance/Plug_and_Play_with_DRL_Libraries.ipynb#ch0000025?line=36'>37</a>\u001b[0m     total_episodes \u001b[39m=\u001b[39m kwargs\u001b[39m.\u001b[39mget(\u001b[39m'\u001b[39m\u001b[39mtotal_episodes\u001b[39m\u001b[39m'\u001b[39m, \u001b[39m100\u001b[39m)\n",
      "File \u001b[0;32m~/anaconda3/lib/python3.9/site-packages/finrl/agents/elegantrl/models.py:84\u001b[0m, in \u001b[0;36mDRLAgent.train_model\u001b[0;34m(self, model, cwd, total_timesteps)\u001b[0m\n\u001b[1;32m     82\u001b[0m model\u001b[39m.\u001b[39mcwd \u001b[39m=\u001b[39m cwd\n\u001b[1;32m     83\u001b[0m model\u001b[39m.\u001b[39mbreak_step \u001b[39m=\u001b[39m total_timesteps\n\u001b[0;32m---> 84\u001b[0m train_and_evaluate(model)\n",
      "File \u001b[0;32m~/anaconda3/lib/python3.9/site-packages/elegantrl/train/run.py:80\u001b[0m, in \u001b[0;36mtrain_and_evaluate\u001b[0;34m(***failed resolving arguments***)\u001b[0m\n\u001b[1;32m     78\u001b[0m if_train \u001b[39m=\u001b[39m \u001b[39mTrue\u001b[39;00m\n\u001b[1;32m     79\u001b[0m \u001b[39mwhile\u001b[39;00m if_train:\n\u001b[0;32m---> 80\u001b[0m     trajectory, step \u001b[39m=\u001b[39m agent\u001b[39m.\u001b[39;49mexplore_env(env, horizon_len, \u001b[39mFalse\u001b[39;49;00m)\n\u001b[1;32m     81\u001b[0m     steps \u001b[39m+\u001b[39m\u001b[39m=\u001b[39m step\n\u001b[1;32m     82\u001b[0m     \u001b[39mif\u001b[39;00m if_off_policy:\n",
      "File \u001b[0;32m~/anaconda3/lib/python3.9/site-packages/elegantrl/agents/AgentPPO.py:88\u001b[0m, in \u001b[0;36mAgentPPO.explore_one_env\u001b[0;34m(self, env, target_step, random_exploration)\u001b[0m\n\u001b[1;32m     86\u001b[0m \u001b[39mself\u001b[39m\u001b[39m.\u001b[39mstates[\u001b[39m0\u001b[39m] \u001b[39m=\u001b[39m state\n\u001b[1;32m     87\u001b[0m last_done[\u001b[39m0\u001b[39m] \u001b[39m=\u001b[39m step_i\n\u001b[0;32m---> 88\u001b[0m \u001b[39mreturn\u001b[39;00m \u001b[39mself\u001b[39;49m\u001b[39m.\u001b[39;49mconvert_trajectory(traj_list, last_done), step_i\n",
      "File \u001b[0;32m~/anaconda3/lib/python3.9/site-packages/elegantrl/agents/AgentBase.py:260\u001b[0m, in \u001b[0;36mAgentBase.convert_trajectory\u001b[0;34m(***failed resolving arguments***)\u001b[0m\n\u001b[1;32m    257\u001b[0m \u001b[39mfor\u001b[39;00m env_i \u001b[39min\u001b[39;00m \u001b[39mrange\u001b[39m(\u001b[39mself\u001b[39m\u001b[39m.\u001b[39menv_num):\n\u001b[1;32m    258\u001b[0m     last_step \u001b[39m=\u001b[39m last_done[env_i]\n\u001b[0;32m--> 260\u001b[0m     pre_item \u001b[39m=\u001b[39m \u001b[39mself\u001b[39;49m\u001b[39m.\u001b[39;49mtraj_list[env_i][j]\n\u001b[1;32m    261\u001b[0m     \u001b[39mif\u001b[39;00m \u001b[39mlen\u001b[39m(pre_item):\n\u001b[1;32m    262\u001b[0m         cur_item\u001b[39m.\u001b[39mappend(pre_item)\n",
      "\u001b[0;31mAttributeError\u001b[0m: 'AgentPPO' object has no attribute 'traj_list'"
     ]
    }
   ],
   "source": [
    "#demo for elegantrl\n",
    "train(start_date = TRAIN_START_DATE,\n",
    "      end_date = TRAIN_END_DATE,\n",
    "      ticker_list = config_tickers.DOW_30_TICKER,\n",
    "      data_source = 'yahoofinance',\n",
    "      time_interval= '1D',\n",
    "      technical_indicator_list= INDICATORS,\n",
    "      drl_lib='elegantrl',\n",
    "      env=env,\n",
    "      model_name='ppo',\n",
    "      cwd='./test_ppo',\n",
    "      erl_params=ERL_PARAMS,\n",
    "      break_step=1e5\n",
    "      )"
   ]
  },
  {
   "cell_type": "markdown",
   "metadata": {
    "collapsed": false
   },
   "source": [
    "#### Test"
   ]
  },
  {
   "cell_type": "code",
   "execution_count": null,
   "metadata": {
    "collapsed": false,
    "pycharm": {
     "name": "#%%\n"
    }
   },
   "outputs": [],
   "source": [
    "account_value_erl=test(start_date = TEST_START_DATE,\n",
    "                        end_date = TEST_END_DATE,\n",
    "                        ticker_list = config_tickers.DOW_30_TICKER,\n",
    "                        data_source = 'yahoofinance',\n",
    "                        time_interval= '1D',\n",
    "                        technical_indicator_list= INDICATORS,\n",
    "                        drl_lib='elegantrl',\n",
    "                        env=env,\n",
    "                        model_name='ppo',\n",
    "                        cwd='./test_ppo',\n",
    "                        net_dimension = 512)"
   ]
  },
  {
   "cell_type": "code",
   "execution_count": null,
   "metadata": {
    "collapsed": false,
    "pycharm": {
     "name": "#%%\n"
    }
   },
   "outputs": [],
   "source": [
    "len(account_value_erl)\n",
    "np.save('/content/stock_trading_account_value_erl.npy', account_value_erl)\n",
    "account_value_erl.to_csv('/content/stock_trading_account_value_erl.csv')"
   ]
  },
  {
   "cell_type": "markdown",
   "metadata": {
    "collapsed": false
   },
   "source": [
    "#### Plot"
   ]
  },
  {
   "cell_type": "code",
   "execution_count": null,
   "metadata": {
    "collapsed": false,
    "pycharm": {
     "name": "#%%\n"
    }
   },
   "outputs": [],
   "source": [
    "TEST_END_DATE"
   ]
  },
  {
   "cell_type": "code",
   "execution_count": null,
   "metadata": {
    "collapsed": false,
    "pycharm": {
     "name": "#%%\n"
    }
   },
   "outputs": [],
   "source": [
    "DP = DataProcessor('yahoofinance')\n",
    "DP.download_data(ticker_list = [\"^DJI\"],\n",
    "                start_date = TEST_START_DATE,\n",
    "                end_date = TEST_END_DATE,\n",
    "                time_interval = \"1D\")\n",
    "stats = backtest_stats(DP.dataframe, value_col_name = 'close')\n"
   ]
  },
  {
   "cell_type": "code",
   "execution_count": null,
   "metadata": {
    "collapsed": false,
    "pycharm": {
     "name": "#%%\n"
    }
   },
   "outputs": [],
   "source": [
    "account_value_erl = pd.DataFrame({'date': df.date,'account_value':account_value_erl[0:len(account_value_erl)]})"
   ]
  },
  {
   "cell_type": "code",
   "execution_count": null,
   "metadata": {
    "collapsed": false,
    "pycharm": {
     "name": "#%%\n"
    }
   },
   "outputs": [],
   "source": [
    "account_value_erl.tail()"
   ]
  },
  {
   "cell_type": "code",
   "execution_count": null,
   "metadata": {
    "collapsed": false,
    "pycharm": {
     "name": "#%%\n"
    }
   },
   "outputs": [],
   "source": [
    "print(\"==============Get Backtest Results===========\")\n",
    "now = datetime.datetime.now().strftime('%Y%m%d-%Hh%M')\n",
    "\n",
    "perf_stats_all = backtest_stats(account_value=account_value_erl)\n",
    "perf_stats_all = pd.DataFrame(perf_stats_all)\n",
    "perf_stats_all.to_csv(\"./\"+\"/perf_stats_all_\"+now+'.csv')"
   ]
  },
  {
   "cell_type": "code",
   "execution_count": null,
   "metadata": {
    "collapsed": false,
    "pycharm": {
     "name": "#%%\n"
    }
   },
   "outputs": [],
   "source": []
  },
  {
   "cell_type": "code",
   "execution_count": null,
   "metadata": {
    "collapsed": false,
    "pycharm": {
     "name": "#%%\n"
    }
   },
   "outputs": [],
   "source": [
    "print(\"==============Compare to DJIA===========\")\n",
    "%matplotlib inline\n",
    "# S&P 500: ^GSPC\n",
    "# Dow Jones Index: ^DJI\n",
    "# NASDAQ 100: ^NDX\n",
    "backtest_plot(account_value_erl,\n",
    "             baseline_ticker = '^DJI',\n",
    "             baseline_start = account_value_erl.loc[0,'date'],\n",
    "             baseline_end = account_value_erl.loc[len(account_value_erl)-1,'date'])"
   ]
  },
  {
   "cell_type": "code",
   "execution_count": null,
   "metadata": {
    "collapsed": false,
    "pycharm": {
     "name": "#%%\n"
    }
   },
   "outputs": [],
   "source": []
  },
  {
   "cell_type": "markdown",
   "metadata": {
    "collapsed": false
   },
   "source": [
    "### 4.2 RLlib"
   ]
  },
  {
   "cell_type": "code",
   "execution_count": 12,
   "metadata": {
    "collapsed": false,
    "pycharm": {
     "name": "#%%\n"
    }
   },
   "outputs": [],
   "source": [
    "RLlib_PARAMS = {\"lr\": 5e-6,\"train_batch_size\": 1000,\"gamma\": 0.99}"
   ]
  },
  {
   "cell_type": "markdown",
   "metadata": {
    "collapsed": false
   },
   "source": [
    "#### Train"
   ]
  },
  {
   "cell_type": "code",
   "execution_count": 13,
   "metadata": {
    "collapsed": false,
    "pycharm": {
     "name": "#%%\n"
    }
   },
   "outputs": [
    {
     "name": "stdout",
     "output_type": "stream",
     "text": [
      "[*********************100%***********************]  1 of 1 completed\n",
      "[*********************100%***********************]  1 of 1 completed\n"
     ]
    },
    {
     "name": "stderr",
     "output_type": "stream",
     "text": [
      "/home/bassem/anaconda3/lib/python3.9/site-packages/finrl/meta/data_processors/processor_yahoofinance.py:56: FutureWarning: The frame.append method is deprecated and will be removed from pandas in a future version. Use pandas.concat instead.\n",
      "  data_df = data_df.append(temp_df)\n",
      "/home/bassem/anaconda3/lib/python3.9/site-packages/finrl/meta/data_processors/processor_yahoofinance.py:56: FutureWarning: The frame.append method is deprecated and will be removed from pandas in a future version. Use pandas.concat instead.\n",
      "  data_df = data_df.append(temp_df)\n"
     ]
    },
    {
     "name": "stdout",
     "output_type": "stream",
     "text": [
      "[*********************100%***********************]  1 of 1 completed\n"
     ]
    },
    {
     "name": "stderr",
     "output_type": "stream",
     "text": [
      "/home/bassem/anaconda3/lib/python3.9/site-packages/finrl/meta/data_processors/processor_yahoofinance.py:56: FutureWarning: The frame.append method is deprecated and will be removed from pandas in a future version. Use pandas.concat instead.\n",
      "  data_df = data_df.append(temp_df)\n"
     ]
    },
    {
     "name": "stdout",
     "output_type": "stream",
     "text": [
      "[*********************100%***********************]  1 of 1 completed\n"
     ]
    },
    {
     "name": "stderr",
     "output_type": "stream",
     "text": [
      "/home/bassem/anaconda3/lib/python3.9/site-packages/finrl/meta/data_processors/processor_yahoofinance.py:56: FutureWarning: The frame.append method is deprecated and will be removed from pandas in a future version. Use pandas.concat instead.\n",
      "  data_df = data_df.append(temp_df)\n"
     ]
    },
    {
     "name": "stdout",
     "output_type": "stream",
     "text": [
      "[*********************100%***********************]  1 of 1 completed\n",
      "[*********************100%***********************]  1 of 1 completed\n"
     ]
    },
    {
     "name": "stderr",
     "output_type": "stream",
     "text": [
      "/home/bassem/anaconda3/lib/python3.9/site-packages/finrl/meta/data_processors/processor_yahoofinance.py:56: FutureWarning: The frame.append method is deprecated and will be removed from pandas in a future version. Use pandas.concat instead.\n",
      "  data_df = data_df.append(temp_df)\n",
      "/home/bassem/anaconda3/lib/python3.9/site-packages/finrl/meta/data_processors/processor_yahoofinance.py:56: FutureWarning: The frame.append method is deprecated and will be removed from pandas in a future version. Use pandas.concat instead.\n",
      "  data_df = data_df.append(temp_df)\n"
     ]
    },
    {
     "name": "stdout",
     "output_type": "stream",
     "text": [
      "[*********************100%***********************]  1 of 1 completed\n"
     ]
    },
    {
     "name": "stderr",
     "output_type": "stream",
     "text": [
      "/home/bassem/anaconda3/lib/python3.9/site-packages/finrl/meta/data_processors/processor_yahoofinance.py:56: FutureWarning: The frame.append method is deprecated and will be removed from pandas in a future version. Use pandas.concat instead.\n",
      "  data_df = data_df.append(temp_df)\n"
     ]
    },
    {
     "name": "stdout",
     "output_type": "stream",
     "text": [
      "[*********************100%***********************]  1 of 1 completed\n"
     ]
    },
    {
     "name": "stderr",
     "output_type": "stream",
     "text": [
      "/home/bassem/anaconda3/lib/python3.9/site-packages/finrl/meta/data_processors/processor_yahoofinance.py:56: FutureWarning: The frame.append method is deprecated and will be removed from pandas in a future version. Use pandas.concat instead.\n",
      "  data_df = data_df.append(temp_df)\n"
     ]
    },
    {
     "name": "stdout",
     "output_type": "stream",
     "text": [
      "[*********************100%***********************]  1 of 1 completed\n"
     ]
    },
    {
     "name": "stderr",
     "output_type": "stream",
     "text": [
      "/home/bassem/anaconda3/lib/python3.9/site-packages/finrl/meta/data_processors/processor_yahoofinance.py:56: FutureWarning: The frame.append method is deprecated and will be removed from pandas in a future version. Use pandas.concat instead.\n",
      "  data_df = data_df.append(temp_df)\n"
     ]
    },
    {
     "name": "stdout",
     "output_type": "stream",
     "text": [
      "[*********************100%***********************]  1 of 1 completed\n"
     ]
    },
    {
     "name": "stderr",
     "output_type": "stream",
     "text": [
      "/home/bassem/anaconda3/lib/python3.9/site-packages/finrl/meta/data_processors/processor_yahoofinance.py:56: FutureWarning: The frame.append method is deprecated and will be removed from pandas in a future version. Use pandas.concat instead.\n",
      "  data_df = data_df.append(temp_df)\n"
     ]
    },
    {
     "name": "stdout",
     "output_type": "stream",
     "text": [
      "[*********************100%***********************]  1 of 1 completed\n",
      "[*********************100%***********************]  1 of 1 completed\n"
     ]
    },
    {
     "name": "stderr",
     "output_type": "stream",
     "text": [
      "/home/bassem/anaconda3/lib/python3.9/site-packages/finrl/meta/data_processors/processor_yahoofinance.py:56: FutureWarning: The frame.append method is deprecated and will be removed from pandas in a future version. Use pandas.concat instead.\n",
      "  data_df = data_df.append(temp_df)\n",
      "/home/bassem/anaconda3/lib/python3.9/site-packages/finrl/meta/data_processors/processor_yahoofinance.py:56: FutureWarning: The frame.append method is deprecated and will be removed from pandas in a future version. Use pandas.concat instead.\n",
      "  data_df = data_df.append(temp_df)\n"
     ]
    },
    {
     "name": "stdout",
     "output_type": "stream",
     "text": [
      "[*********************100%***********************]  1 of 1 completed\n"
     ]
    },
    {
     "name": "stderr",
     "output_type": "stream",
     "text": [
      "/home/bassem/anaconda3/lib/python3.9/site-packages/finrl/meta/data_processors/processor_yahoofinance.py:56: FutureWarning: The frame.append method is deprecated and will be removed from pandas in a future version. Use pandas.concat instead.\n",
      "  data_df = data_df.append(temp_df)\n"
     ]
    },
    {
     "name": "stdout",
     "output_type": "stream",
     "text": [
      "[*********************100%***********************]  1 of 1 completed\n",
      "[*********************100%***********************]  1 of 1 completed\n"
     ]
    },
    {
     "name": "stderr",
     "output_type": "stream",
     "text": [
      "/home/bassem/anaconda3/lib/python3.9/site-packages/finrl/meta/data_processors/processor_yahoofinance.py:56: FutureWarning: The frame.append method is deprecated and will be removed from pandas in a future version. Use pandas.concat instead.\n",
      "  data_df = data_df.append(temp_df)\n",
      "/home/bassem/anaconda3/lib/python3.9/site-packages/finrl/meta/data_processors/processor_yahoofinance.py:56: FutureWarning: The frame.append method is deprecated and will be removed from pandas in a future version. Use pandas.concat instead.\n",
      "  data_df = data_df.append(temp_df)\n"
     ]
    },
    {
     "name": "stdout",
     "output_type": "stream",
     "text": [
      "[*********************100%***********************]  1 of 1 completed\n"
     ]
    },
    {
     "name": "stderr",
     "output_type": "stream",
     "text": [
      "/home/bassem/anaconda3/lib/python3.9/site-packages/finrl/meta/data_processors/processor_yahoofinance.py:56: FutureWarning: The frame.append method is deprecated and will be removed from pandas in a future version. Use pandas.concat instead.\n",
      "  data_df = data_df.append(temp_df)\n"
     ]
    },
    {
     "name": "stdout",
     "output_type": "stream",
     "text": [
      "[*********************100%***********************]  1 of 1 completed\n"
     ]
    },
    {
     "name": "stderr",
     "output_type": "stream",
     "text": [
      "/home/bassem/anaconda3/lib/python3.9/site-packages/finrl/meta/data_processors/processor_yahoofinance.py:56: FutureWarning: The frame.append method is deprecated and will be removed from pandas in a future version. Use pandas.concat instead.\n",
      "  data_df = data_df.append(temp_df)\n"
     ]
    },
    {
     "name": "stdout",
     "output_type": "stream",
     "text": [
      "[*********************100%***********************]  1 of 1 completed\n",
      "[*********************100%***********************]  1 of 1 completed\n"
     ]
    },
    {
     "name": "stderr",
     "output_type": "stream",
     "text": [
      "/home/bassem/anaconda3/lib/python3.9/site-packages/finrl/meta/data_processors/processor_yahoofinance.py:56: FutureWarning: The frame.append method is deprecated and will be removed from pandas in a future version. Use pandas.concat instead.\n",
      "  data_df = data_df.append(temp_df)\n",
      "/home/bassem/anaconda3/lib/python3.9/site-packages/finrl/meta/data_processors/processor_yahoofinance.py:56: FutureWarning: The frame.append method is deprecated and will be removed from pandas in a future version. Use pandas.concat instead.\n",
      "  data_df = data_df.append(temp_df)\n"
     ]
    },
    {
     "name": "stdout",
     "output_type": "stream",
     "text": [
      "[*********************100%***********************]  1 of 1 completed\n"
     ]
    },
    {
     "name": "stderr",
     "output_type": "stream",
     "text": [
      "/home/bassem/anaconda3/lib/python3.9/site-packages/finrl/meta/data_processors/processor_yahoofinance.py:56: FutureWarning: The frame.append method is deprecated and will be removed from pandas in a future version. Use pandas.concat instead.\n",
      "  data_df = data_df.append(temp_df)\n"
     ]
    },
    {
     "name": "stdout",
     "output_type": "stream",
     "text": [
      "[*********************100%***********************]  1 of 1 completed\n",
      "[*********************100%***********************]  1 of 1 completed\n"
     ]
    },
    {
     "name": "stderr",
     "output_type": "stream",
     "text": [
      "/home/bassem/anaconda3/lib/python3.9/site-packages/finrl/meta/data_processors/processor_yahoofinance.py:56: FutureWarning: The frame.append method is deprecated and will be removed from pandas in a future version. Use pandas.concat instead.\n",
      "  data_df = data_df.append(temp_df)\n",
      "/home/bassem/anaconda3/lib/python3.9/site-packages/finrl/meta/data_processors/processor_yahoofinance.py:56: FutureWarning: The frame.append method is deprecated and will be removed from pandas in a future version. Use pandas.concat instead.\n",
      "  data_df = data_df.append(temp_df)\n"
     ]
    },
    {
     "name": "stdout",
     "output_type": "stream",
     "text": [
      "[*********************100%***********************]  1 of 1 completed\n",
      "[*********************100%***********************]  1 of 1 completed\n"
     ]
    },
    {
     "name": "stderr",
     "output_type": "stream",
     "text": [
      "/home/bassem/anaconda3/lib/python3.9/site-packages/finrl/meta/data_processors/processor_yahoofinance.py:56: FutureWarning: The frame.append method is deprecated and will be removed from pandas in a future version. Use pandas.concat instead.\n",
      "  data_df = data_df.append(temp_df)\n",
      "/home/bassem/anaconda3/lib/python3.9/site-packages/finrl/meta/data_processors/processor_yahoofinance.py:56: FutureWarning: The frame.append method is deprecated and will be removed from pandas in a future version. Use pandas.concat instead.\n",
      "  data_df = data_df.append(temp_df)\n"
     ]
    },
    {
     "name": "stdout",
     "output_type": "stream",
     "text": [
      "[*********************100%***********************]  1 of 1 completed\n",
      "[*********************100%***********************]  1 of 1 completed\n"
     ]
    },
    {
     "name": "stderr",
     "output_type": "stream",
     "text": [
      "/home/bassem/anaconda3/lib/python3.9/site-packages/finrl/meta/data_processors/processor_yahoofinance.py:56: FutureWarning: The frame.append method is deprecated and will be removed from pandas in a future version. Use pandas.concat instead.\n",
      "  data_df = data_df.append(temp_df)\n",
      "/home/bassem/anaconda3/lib/python3.9/site-packages/finrl/meta/data_processors/processor_yahoofinance.py:56: FutureWarning: The frame.append method is deprecated and will be removed from pandas in a future version. Use pandas.concat instead.\n",
      "  data_df = data_df.append(temp_df)\n"
     ]
    },
    {
     "name": "stdout",
     "output_type": "stream",
     "text": [
      "[*********************100%***********************]  1 of 1 completed\n"
     ]
    },
    {
     "name": "stderr",
     "output_type": "stream",
     "text": [
      "/home/bassem/anaconda3/lib/python3.9/site-packages/finrl/meta/data_processors/processor_yahoofinance.py:56: FutureWarning: The frame.append method is deprecated and will be removed from pandas in a future version. Use pandas.concat instead.\n",
      "  data_df = data_df.append(temp_df)\n"
     ]
    },
    {
     "name": "stdout",
     "output_type": "stream",
     "text": [
      "[*********************100%***********************]  1 of 1 completed\n"
     ]
    },
    {
     "name": "stderr",
     "output_type": "stream",
     "text": [
      "/home/bassem/anaconda3/lib/python3.9/site-packages/finrl/meta/data_processors/processor_yahoofinance.py:56: FutureWarning: The frame.append method is deprecated and will be removed from pandas in a future version. Use pandas.concat instead.\n",
      "  data_df = data_df.append(temp_df)\n"
     ]
    },
    {
     "name": "stdout",
     "output_type": "stream",
     "text": [
      "[*********************100%***********************]  1 of 1 completed\n",
      "[*********************100%***********************]  1 of 1 completed\n"
     ]
    },
    {
     "name": "stderr",
     "output_type": "stream",
     "text": [
      "/home/bassem/anaconda3/lib/python3.9/site-packages/finrl/meta/data_processors/processor_yahoofinance.py:56: FutureWarning: The frame.append method is deprecated and will be removed from pandas in a future version. Use pandas.concat instead.\n",
      "  data_df = data_df.append(temp_df)\n",
      "/home/bassem/anaconda3/lib/python3.9/site-packages/finrl/meta/data_processors/processor_yahoofinance.py:56: FutureWarning: The frame.append method is deprecated and will be removed from pandas in a future version. Use pandas.concat instead.\n",
      "  data_df = data_df.append(temp_df)\n"
     ]
    },
    {
     "name": "stdout",
     "output_type": "stream",
     "text": [
      "Shape of DataFrame:  (52719, 9)\n",
      "Clean data for AAPL\n"
     ]
    },
    {
     "name": "stderr",
     "output_type": "stream",
     "text": [
      "/home/bassem/anaconda3/lib/python3.9/site-packages/finrl/meta/data_processors/processor_yahoofinance.py:165: FutureWarning: The frame.append method is deprecated and will be removed from pandas in a future version. Use pandas.concat instead.\n",
      "  new_df = new_df.append(tmp_df)\n"
     ]
    },
    {
     "name": "stdout",
     "output_type": "stream",
     "text": [
      "Data clean for AAPL is finished.\n",
      "Clean data for AMGN\n"
     ]
    },
    {
     "name": "stderr",
     "output_type": "stream",
     "text": [
      "/home/bassem/anaconda3/lib/python3.9/site-packages/finrl/meta/data_processors/processor_yahoofinance.py:165: FutureWarning: The frame.append method is deprecated and will be removed from pandas in a future version. Use pandas.concat instead.\n",
      "  new_df = new_df.append(tmp_df)\n"
     ]
    },
    {
     "name": "stdout",
     "output_type": "stream",
     "text": [
      "Data clean for AMGN is finished.\n",
      "Clean data for AXP\n"
     ]
    },
    {
     "name": "stderr",
     "output_type": "stream",
     "text": [
      "/home/bassem/anaconda3/lib/python3.9/site-packages/finrl/meta/data_processors/processor_yahoofinance.py:165: FutureWarning: The frame.append method is deprecated and will be removed from pandas in a future version. Use pandas.concat instead.\n",
      "  new_df = new_df.append(tmp_df)\n"
     ]
    },
    {
     "name": "stdout",
     "output_type": "stream",
     "text": [
      "Data clean for AXP is finished.\n",
      "Clean data for BA\n"
     ]
    },
    {
     "name": "stderr",
     "output_type": "stream",
     "text": [
      "/home/bassem/anaconda3/lib/python3.9/site-packages/finrl/meta/data_processors/processor_yahoofinance.py:165: FutureWarning: The frame.append method is deprecated and will be removed from pandas in a future version. Use pandas.concat instead.\n",
      "  new_df = new_df.append(tmp_df)\n"
     ]
    },
    {
     "name": "stdout",
     "output_type": "stream",
     "text": [
      "Data clean for BA is finished.\n",
      "Clean data for CAT\n"
     ]
    },
    {
     "name": "stderr",
     "output_type": "stream",
     "text": [
      "/home/bassem/anaconda3/lib/python3.9/site-packages/finrl/meta/data_processors/processor_yahoofinance.py:165: FutureWarning: The frame.append method is deprecated and will be removed from pandas in a future version. Use pandas.concat instead.\n",
      "  new_df = new_df.append(tmp_df)\n"
     ]
    },
    {
     "name": "stdout",
     "output_type": "stream",
     "text": [
      "Data clean for CAT is finished.\n",
      "Clean data for CRM\n"
     ]
    },
    {
     "name": "stderr",
     "output_type": "stream",
     "text": [
      "/home/bassem/anaconda3/lib/python3.9/site-packages/finrl/meta/data_processors/processor_yahoofinance.py:165: FutureWarning: The frame.append method is deprecated and will be removed from pandas in a future version. Use pandas.concat instead.\n",
      "  new_df = new_df.append(tmp_df)\n"
     ]
    },
    {
     "name": "stdout",
     "output_type": "stream",
     "text": [
      "Data clean for CRM is finished.\n",
      "Clean data for CSCO\n"
     ]
    },
    {
     "name": "stderr",
     "output_type": "stream",
     "text": [
      "/home/bassem/anaconda3/lib/python3.9/site-packages/finrl/meta/data_processors/processor_yahoofinance.py:165: FutureWarning: The frame.append method is deprecated and will be removed from pandas in a future version. Use pandas.concat instead.\n",
      "  new_df = new_df.append(tmp_df)\n"
     ]
    },
    {
     "name": "stdout",
     "output_type": "stream",
     "text": [
      "Data clean for CSCO is finished.\n",
      "Clean data for CVX\n"
     ]
    },
    {
     "name": "stderr",
     "output_type": "stream",
     "text": [
      "/home/bassem/anaconda3/lib/python3.9/site-packages/finrl/meta/data_processors/processor_yahoofinance.py:165: FutureWarning: The frame.append method is deprecated and will be removed from pandas in a future version. Use pandas.concat instead.\n",
      "  new_df = new_df.append(tmp_df)\n"
     ]
    },
    {
     "name": "stdout",
     "output_type": "stream",
     "text": [
      "Data clean for CVX is finished.\n",
      "Clean data for DIS\n"
     ]
    },
    {
     "name": "stderr",
     "output_type": "stream",
     "text": [
      "/home/bassem/anaconda3/lib/python3.9/site-packages/finrl/meta/data_processors/processor_yahoofinance.py:165: FutureWarning: The frame.append method is deprecated and will be removed from pandas in a future version. Use pandas.concat instead.\n",
      "  new_df = new_df.append(tmp_df)\n"
     ]
    },
    {
     "name": "stdout",
     "output_type": "stream",
     "text": [
      "Data clean for DIS is finished.\n",
      "Clean data for DOW\n",
      "NaN data on start date, fill using first valid data.\n"
     ]
    },
    {
     "name": "stderr",
     "output_type": "stream",
     "text": [
      "/home/bassem/anaconda3/lib/python3.9/site-packages/finrl/meta/data_processors/processor_yahoofinance.py:165: FutureWarning: The frame.append method is deprecated and will be removed from pandas in a future version. Use pandas.concat instead.\n",
      "  new_df = new_df.append(tmp_df)\n"
     ]
    },
    {
     "name": "stdout",
     "output_type": "stream",
     "text": [
      "Data clean for DOW is finished.\n",
      "Clean data for GS\n"
     ]
    },
    {
     "name": "stderr",
     "output_type": "stream",
     "text": [
      "/home/bassem/anaconda3/lib/python3.9/site-packages/finrl/meta/data_processors/processor_yahoofinance.py:165: FutureWarning: The frame.append method is deprecated and will be removed from pandas in a future version. Use pandas.concat instead.\n",
      "  new_df = new_df.append(tmp_df)\n"
     ]
    },
    {
     "name": "stdout",
     "output_type": "stream",
     "text": [
      "Data clean for GS is finished.\n",
      "Clean data for HD\n"
     ]
    },
    {
     "name": "stderr",
     "output_type": "stream",
     "text": [
      "/home/bassem/anaconda3/lib/python3.9/site-packages/finrl/meta/data_processors/processor_yahoofinance.py:165: FutureWarning: The frame.append method is deprecated and will be removed from pandas in a future version. Use pandas.concat instead.\n",
      "  new_df = new_df.append(tmp_df)\n"
     ]
    },
    {
     "name": "stdout",
     "output_type": "stream",
     "text": [
      "Data clean for HD is finished.\n",
      "Clean data for HON\n"
     ]
    },
    {
     "name": "stderr",
     "output_type": "stream",
     "text": [
      "/home/bassem/anaconda3/lib/python3.9/site-packages/finrl/meta/data_processors/processor_yahoofinance.py:165: FutureWarning: The frame.append method is deprecated and will be removed from pandas in a future version. Use pandas.concat instead.\n",
      "  new_df = new_df.append(tmp_df)\n"
     ]
    },
    {
     "name": "stdout",
     "output_type": "stream",
     "text": [
      "Data clean for HON is finished.\n",
      "Clean data for IBM\n"
     ]
    },
    {
     "name": "stderr",
     "output_type": "stream",
     "text": [
      "/home/bassem/anaconda3/lib/python3.9/site-packages/finrl/meta/data_processors/processor_yahoofinance.py:165: FutureWarning: The frame.append method is deprecated and will be removed from pandas in a future version. Use pandas.concat instead.\n",
      "  new_df = new_df.append(tmp_df)\n"
     ]
    },
    {
     "name": "stdout",
     "output_type": "stream",
     "text": [
      "Data clean for IBM is finished.\n",
      "Clean data for INTC\n"
     ]
    },
    {
     "name": "stderr",
     "output_type": "stream",
     "text": [
      "/home/bassem/anaconda3/lib/python3.9/site-packages/finrl/meta/data_processors/processor_yahoofinance.py:165: FutureWarning: The frame.append method is deprecated and will be removed from pandas in a future version. Use pandas.concat instead.\n",
      "  new_df = new_df.append(tmp_df)\n"
     ]
    },
    {
     "name": "stdout",
     "output_type": "stream",
     "text": [
      "Data clean for INTC is finished.\n",
      "Clean data for JNJ\n"
     ]
    },
    {
     "name": "stderr",
     "output_type": "stream",
     "text": [
      "/home/bassem/anaconda3/lib/python3.9/site-packages/finrl/meta/data_processors/processor_yahoofinance.py:165: FutureWarning: The frame.append method is deprecated and will be removed from pandas in a future version. Use pandas.concat instead.\n",
      "  new_df = new_df.append(tmp_df)\n"
     ]
    },
    {
     "name": "stdout",
     "output_type": "stream",
     "text": [
      "Data clean for JNJ is finished.\n",
      "Clean data for JPM\n"
     ]
    },
    {
     "name": "stderr",
     "output_type": "stream",
     "text": [
      "/home/bassem/anaconda3/lib/python3.9/site-packages/finrl/meta/data_processors/processor_yahoofinance.py:165: FutureWarning: The frame.append method is deprecated and will be removed from pandas in a future version. Use pandas.concat instead.\n",
      "  new_df = new_df.append(tmp_df)\n"
     ]
    },
    {
     "name": "stdout",
     "output_type": "stream",
     "text": [
      "Data clean for JPM is finished.\n",
      "Clean data for KO\n"
     ]
    },
    {
     "name": "stderr",
     "output_type": "stream",
     "text": [
      "/home/bassem/anaconda3/lib/python3.9/site-packages/finrl/meta/data_processors/processor_yahoofinance.py:165: FutureWarning: The frame.append method is deprecated and will be removed from pandas in a future version. Use pandas.concat instead.\n",
      "  new_df = new_df.append(tmp_df)\n"
     ]
    },
    {
     "name": "stdout",
     "output_type": "stream",
     "text": [
      "Data clean for KO is finished.\n",
      "Clean data for MCD\n"
     ]
    },
    {
     "name": "stderr",
     "output_type": "stream",
     "text": [
      "/home/bassem/anaconda3/lib/python3.9/site-packages/finrl/meta/data_processors/processor_yahoofinance.py:165: FutureWarning: The frame.append method is deprecated and will be removed from pandas in a future version. Use pandas.concat instead.\n",
      "  new_df = new_df.append(tmp_df)\n"
     ]
    },
    {
     "name": "stdout",
     "output_type": "stream",
     "text": [
      "Data clean for MCD is finished.\n",
      "Clean data for MMM\n"
     ]
    },
    {
     "name": "stderr",
     "output_type": "stream",
     "text": [
      "/home/bassem/anaconda3/lib/python3.9/site-packages/finrl/meta/data_processors/processor_yahoofinance.py:165: FutureWarning: The frame.append method is deprecated and will be removed from pandas in a future version. Use pandas.concat instead.\n",
      "  new_df = new_df.append(tmp_df)\n"
     ]
    },
    {
     "name": "stdout",
     "output_type": "stream",
     "text": [
      "Data clean for MMM is finished.\n",
      "Clean data for MRK\n"
     ]
    },
    {
     "name": "stderr",
     "output_type": "stream",
     "text": [
      "/home/bassem/anaconda3/lib/python3.9/site-packages/finrl/meta/data_processors/processor_yahoofinance.py:165: FutureWarning: The frame.append method is deprecated and will be removed from pandas in a future version. Use pandas.concat instead.\n",
      "  new_df = new_df.append(tmp_df)\n"
     ]
    },
    {
     "name": "stdout",
     "output_type": "stream",
     "text": [
      "Data clean for MRK is finished.\n",
      "Clean data for MSFT\n"
     ]
    },
    {
     "name": "stderr",
     "output_type": "stream",
     "text": [
      "/home/bassem/anaconda3/lib/python3.9/site-packages/finrl/meta/data_processors/processor_yahoofinance.py:165: FutureWarning: The frame.append method is deprecated and will be removed from pandas in a future version. Use pandas.concat instead.\n",
      "  new_df = new_df.append(tmp_df)\n"
     ]
    },
    {
     "name": "stdout",
     "output_type": "stream",
     "text": [
      "Data clean for MSFT is finished.\n",
      "Clean data for NKE\n"
     ]
    },
    {
     "name": "stderr",
     "output_type": "stream",
     "text": [
      "/home/bassem/anaconda3/lib/python3.9/site-packages/finrl/meta/data_processors/processor_yahoofinance.py:165: FutureWarning: The frame.append method is deprecated and will be removed from pandas in a future version. Use pandas.concat instead.\n",
      "  new_df = new_df.append(tmp_df)\n"
     ]
    },
    {
     "name": "stdout",
     "output_type": "stream",
     "text": [
      "Data clean for NKE is finished.\n",
      "Clean data for PG\n"
     ]
    },
    {
     "name": "stderr",
     "output_type": "stream",
     "text": [
      "/home/bassem/anaconda3/lib/python3.9/site-packages/finrl/meta/data_processors/processor_yahoofinance.py:165: FutureWarning: The frame.append method is deprecated and will be removed from pandas in a future version. Use pandas.concat instead.\n",
      "  new_df = new_df.append(tmp_df)\n"
     ]
    },
    {
     "name": "stdout",
     "output_type": "stream",
     "text": [
      "Data clean for PG is finished.\n",
      "Clean data for TRV\n"
     ]
    },
    {
     "name": "stderr",
     "output_type": "stream",
     "text": [
      "/home/bassem/anaconda3/lib/python3.9/site-packages/finrl/meta/data_processors/processor_yahoofinance.py:165: FutureWarning: The frame.append method is deprecated and will be removed from pandas in a future version. Use pandas.concat instead.\n",
      "  new_df = new_df.append(tmp_df)\n"
     ]
    },
    {
     "name": "stdout",
     "output_type": "stream",
     "text": [
      "Data clean for TRV is finished.\n",
      "Clean data for UNH\n"
     ]
    },
    {
     "name": "stderr",
     "output_type": "stream",
     "text": [
      "/home/bassem/anaconda3/lib/python3.9/site-packages/finrl/meta/data_processors/processor_yahoofinance.py:165: FutureWarning: The frame.append method is deprecated and will be removed from pandas in a future version. Use pandas.concat instead.\n",
      "  new_df = new_df.append(tmp_df)\n"
     ]
    },
    {
     "name": "stdout",
     "output_type": "stream",
     "text": [
      "Data clean for UNH is finished.\n",
      "Clean data for V\n"
     ]
    },
    {
     "name": "stderr",
     "output_type": "stream",
     "text": [
      "/home/bassem/anaconda3/lib/python3.9/site-packages/finrl/meta/data_processors/processor_yahoofinance.py:165: FutureWarning: The frame.append method is deprecated and will be removed from pandas in a future version. Use pandas.concat instead.\n",
      "  new_df = new_df.append(tmp_df)\n"
     ]
    },
    {
     "name": "stdout",
     "output_type": "stream",
     "text": [
      "Data clean for V is finished.\n",
      "Clean data for VZ\n"
     ]
    },
    {
     "name": "stderr",
     "output_type": "stream",
     "text": [
      "/home/bassem/anaconda3/lib/python3.9/site-packages/finrl/meta/data_processors/processor_yahoofinance.py:165: FutureWarning: The frame.append method is deprecated and will be removed from pandas in a future version. Use pandas.concat instead.\n",
      "  new_df = new_df.append(tmp_df)\n"
     ]
    },
    {
     "name": "stdout",
     "output_type": "stream",
     "text": [
      "Data clean for VZ is finished.\n",
      "Clean data for WBA\n"
     ]
    },
    {
     "name": "stderr",
     "output_type": "stream",
     "text": [
      "/home/bassem/anaconda3/lib/python3.9/site-packages/finrl/meta/data_processors/processor_yahoofinance.py:165: FutureWarning: The frame.append method is deprecated and will be removed from pandas in a future version. Use pandas.concat instead.\n",
      "  new_df = new_df.append(tmp_df)\n"
     ]
    },
    {
     "name": "stdout",
     "output_type": "stream",
     "text": [
      "Data clean for WBA is finished.\n",
      "Clean data for WMT\n"
     ]
    },
    {
     "name": "stderr",
     "output_type": "stream",
     "text": [
      "/home/bassem/anaconda3/lib/python3.9/site-packages/finrl/meta/data_processors/processor_yahoofinance.py:165: FutureWarning: The frame.append method is deprecated and will be removed from pandas in a future version. Use pandas.concat instead.\n",
      "  new_df = new_df.append(tmp_df)\n",
      "/home/bassem/anaconda3/lib/python3.9/site-packages/finrl/meta/data_processors/processor_yahoofinance.py:199: FutureWarning: The frame.append method is deprecated and will be removed from pandas in a future version. Use pandas.concat instead.\n",
      "  indicator_df = indicator_df.append(\n",
      "/home/bassem/anaconda3/lib/python3.9/site-packages/finrl/meta/data_processors/processor_yahoofinance.py:199: FutureWarning: The frame.append method is deprecated and will be removed from pandas in a future version. Use pandas.concat instead.\n",
      "  indicator_df = indicator_df.append(\n",
      "/home/bassem/anaconda3/lib/python3.9/site-packages/finrl/meta/data_processors/processor_yahoofinance.py:199: FutureWarning: The frame.append method is deprecated and will be removed from pandas in a future version. Use pandas.concat instead.\n",
      "  indicator_df = indicator_df.append(\n",
      "/home/bassem/anaconda3/lib/python3.9/site-packages/finrl/meta/data_processors/processor_yahoofinance.py:199: FutureWarning: The frame.append method is deprecated and will be removed from pandas in a future version. Use pandas.concat instead.\n",
      "  indicator_df = indicator_df.append(\n",
      "/home/bassem/anaconda3/lib/python3.9/site-packages/finrl/meta/data_processors/processor_yahoofinance.py:199: FutureWarning: The frame.append method is deprecated and will be removed from pandas in a future version. Use pandas.concat instead.\n",
      "  indicator_df = indicator_df.append(\n",
      "/home/bassem/anaconda3/lib/python3.9/site-packages/finrl/meta/data_processors/processor_yahoofinance.py:199: FutureWarning: The frame.append method is deprecated and will be removed from pandas in a future version. Use pandas.concat instead.\n",
      "  indicator_df = indicator_df.append(\n",
      "/home/bassem/anaconda3/lib/python3.9/site-packages/finrl/meta/data_processors/processor_yahoofinance.py:199: FutureWarning: The frame.append method is deprecated and will be removed from pandas in a future version. Use pandas.concat instead.\n",
      "  indicator_df = indicator_df.append(\n",
      "/home/bassem/anaconda3/lib/python3.9/site-packages/finrl/meta/data_processors/processor_yahoofinance.py:199: FutureWarning: The frame.append method is deprecated and will be removed from pandas in a future version. Use pandas.concat instead.\n",
      "  indicator_df = indicator_df.append(\n",
      "/home/bassem/anaconda3/lib/python3.9/site-packages/finrl/meta/data_processors/processor_yahoofinance.py:199: FutureWarning: The frame.append method is deprecated and will be removed from pandas in a future version. Use pandas.concat instead.\n",
      "  indicator_df = indicator_df.append(\n",
      "/home/bassem/anaconda3/lib/python3.9/site-packages/finrl/meta/data_processors/processor_yahoofinance.py:199: FutureWarning: The frame.append method is deprecated and will be removed from pandas in a future version. Use pandas.concat instead.\n",
      "  indicator_df = indicator_df.append(\n",
      "/home/bassem/anaconda3/lib/python3.9/site-packages/finrl/meta/data_processors/processor_yahoofinance.py:199: FutureWarning: The frame.append method is deprecated and will be removed from pandas in a future version. Use pandas.concat instead.\n",
      "  indicator_df = indicator_df.append(\n",
      "/home/bassem/anaconda3/lib/python3.9/site-packages/finrl/meta/data_processors/processor_yahoofinance.py:199: FutureWarning: The frame.append method is deprecated and will be removed from pandas in a future version. Use pandas.concat instead.\n",
      "  indicator_df = indicator_df.append(\n",
      "/home/bassem/anaconda3/lib/python3.9/site-packages/finrl/meta/data_processors/processor_yahoofinance.py:199: FutureWarning: The frame.append method is deprecated and will be removed from pandas in a future version. Use pandas.concat instead.\n",
      "  indicator_df = indicator_df.append(\n",
      "/home/bassem/anaconda3/lib/python3.9/site-packages/finrl/meta/data_processors/processor_yahoofinance.py:199: FutureWarning: The frame.append method is deprecated and will be removed from pandas in a future version. Use pandas.concat instead.\n",
      "  indicator_df = indicator_df.append(\n",
      "/home/bassem/anaconda3/lib/python3.9/site-packages/finrl/meta/data_processors/processor_yahoofinance.py:199: FutureWarning: The frame.append method is deprecated and will be removed from pandas in a future version. Use pandas.concat instead.\n",
      "  indicator_df = indicator_df.append(\n",
      "/home/bassem/anaconda3/lib/python3.9/site-packages/finrl/meta/data_processors/processor_yahoofinance.py:199: FutureWarning: The frame.append method is deprecated and will be removed from pandas in a future version. Use pandas.concat instead.\n",
      "  indicator_df = indicator_df.append(\n",
      "/home/bassem/anaconda3/lib/python3.9/site-packages/finrl/meta/data_processors/processor_yahoofinance.py:199: FutureWarning: The frame.append method is deprecated and will be removed from pandas in a future version. Use pandas.concat instead.\n",
      "  indicator_df = indicator_df.append(\n",
      "/home/bassem/anaconda3/lib/python3.9/site-packages/finrl/meta/data_processors/processor_yahoofinance.py:199: FutureWarning: The frame.append method is deprecated and will be removed from pandas in a future version. Use pandas.concat instead.\n",
      "  indicator_df = indicator_df.append(\n",
      "/home/bassem/anaconda3/lib/python3.9/site-packages/finrl/meta/data_processors/processor_yahoofinance.py:199: FutureWarning: The frame.append method is deprecated and will be removed from pandas in a future version. Use pandas.concat instead.\n",
      "  indicator_df = indicator_df.append(\n",
      "/home/bassem/anaconda3/lib/python3.9/site-packages/finrl/meta/data_processors/processor_yahoofinance.py:199: FutureWarning: The frame.append method is deprecated and will be removed from pandas in a future version. Use pandas.concat instead.\n",
      "  indicator_df = indicator_df.append(\n",
      "/home/bassem/anaconda3/lib/python3.9/site-packages/finrl/meta/data_processors/processor_yahoofinance.py:199: FutureWarning: The frame.append method is deprecated and will be removed from pandas in a future version. Use pandas.concat instead.\n",
      "  indicator_df = indicator_df.append(\n",
      "/home/bassem/anaconda3/lib/python3.9/site-packages/finrl/meta/data_processors/processor_yahoofinance.py:199: FutureWarning: The frame.append method is deprecated and will be removed from pandas in a future version. Use pandas.concat instead.\n",
      "  indicator_df = indicator_df.append(\n",
      "/home/bassem/anaconda3/lib/python3.9/site-packages/finrl/meta/data_processors/processor_yahoofinance.py:199: FutureWarning: The frame.append method is deprecated and will be removed from pandas in a future version. Use pandas.concat instead.\n",
      "  indicator_df = indicator_df.append(\n",
      "/home/bassem/anaconda3/lib/python3.9/site-packages/finrl/meta/data_processors/processor_yahoofinance.py:199: FutureWarning: The frame.append method is deprecated and will be removed from pandas in a future version. Use pandas.concat instead.\n",
      "  indicator_df = indicator_df.append(\n",
      "/home/bassem/anaconda3/lib/python3.9/site-packages/finrl/meta/data_processors/processor_yahoofinance.py:199: FutureWarning: The frame.append method is deprecated and will be removed from pandas in a future version. Use pandas.concat instead.\n",
      "  indicator_df = indicator_df.append(\n",
      "/home/bassem/anaconda3/lib/python3.9/site-packages/finrl/meta/data_processors/processor_yahoofinance.py:199: FutureWarning: The frame.append method is deprecated and will be removed from pandas in a future version. Use pandas.concat instead.\n",
      "  indicator_df = indicator_df.append(\n",
      "/home/bassem/anaconda3/lib/python3.9/site-packages/finrl/meta/data_processors/processor_yahoofinance.py:199: FutureWarning: The frame.append method is deprecated and will be removed from pandas in a future version. Use pandas.concat instead.\n",
      "  indicator_df = indicator_df.append(\n",
      "/home/bassem/anaconda3/lib/python3.9/site-packages/finrl/meta/data_processors/processor_yahoofinance.py:199: FutureWarning: The frame.append method is deprecated and will be removed from pandas in a future version. Use pandas.concat instead.\n",
      "  indicator_df = indicator_df.append(\n",
      "/home/bassem/anaconda3/lib/python3.9/site-packages/finrl/meta/data_processors/processor_yahoofinance.py:199: FutureWarning: The frame.append method is deprecated and will be removed from pandas in a future version. Use pandas.concat instead.\n",
      "  indicator_df = indicator_df.append(\n",
      "/home/bassem/anaconda3/lib/python3.9/site-packages/finrl/meta/data_processors/processor_yahoofinance.py:199: FutureWarning: The frame.append method is deprecated and will be removed from pandas in a future version. Use pandas.concat instead.\n",
      "  indicator_df = indicator_df.append(\n"
     ]
    },
    {
     "name": "stdout",
     "output_type": "stream",
     "text": [
      "Data clean for WMT is finished.\n",
      "Data clean all finished!\n"
     ]
    },
    {
     "name": "stderr",
     "output_type": "stream",
     "text": [
      "/home/bassem/anaconda3/lib/python3.9/site-packages/finrl/meta/data_processors/processor_yahoofinance.py:199: FutureWarning: The frame.append method is deprecated and will be removed from pandas in a future version. Use pandas.concat instead.\n",
      "  indicator_df = indicator_df.append(\n",
      "/home/bassem/anaconda3/lib/python3.9/site-packages/finrl/meta/data_processors/processor_yahoofinance.py:199: FutureWarning: The frame.append method is deprecated and will be removed from pandas in a future version. Use pandas.concat instead.\n",
      "  indicator_df = indicator_df.append(\n",
      "/home/bassem/anaconda3/lib/python3.9/site-packages/finrl/meta/data_processors/processor_yahoofinance.py:199: FutureWarning: The frame.append method is deprecated and will be removed from pandas in a future version. Use pandas.concat instead.\n",
      "  indicator_df = indicator_df.append(\n",
      "/home/bassem/anaconda3/lib/python3.9/site-packages/finrl/meta/data_processors/processor_yahoofinance.py:199: FutureWarning: The frame.append method is deprecated and will be removed from pandas in a future version. Use pandas.concat instead.\n",
      "  indicator_df = indicator_df.append(\n",
      "/home/bassem/anaconda3/lib/python3.9/site-packages/finrl/meta/data_processors/processor_yahoofinance.py:199: FutureWarning: The frame.append method is deprecated and will be removed from pandas in a future version. Use pandas.concat instead.\n",
      "  indicator_df = indicator_df.append(\n",
      "/home/bassem/anaconda3/lib/python3.9/site-packages/finrl/meta/data_processors/processor_yahoofinance.py:199: FutureWarning: The frame.append method is deprecated and will be removed from pandas in a future version. Use pandas.concat instead.\n",
      "  indicator_df = indicator_df.append(\n",
      "/home/bassem/anaconda3/lib/python3.9/site-packages/finrl/meta/data_processors/processor_yahoofinance.py:199: FutureWarning: The frame.append method is deprecated and will be removed from pandas in a future version. Use pandas.concat instead.\n",
      "  indicator_df = indicator_df.append(\n",
      "/home/bassem/anaconda3/lib/python3.9/site-packages/finrl/meta/data_processors/processor_yahoofinance.py:199: FutureWarning: The frame.append method is deprecated and will be removed from pandas in a future version. Use pandas.concat instead.\n",
      "  indicator_df = indicator_df.append(\n",
      "/home/bassem/anaconda3/lib/python3.9/site-packages/finrl/meta/data_processors/processor_yahoofinance.py:199: FutureWarning: The frame.append method is deprecated and will be removed from pandas in a future version. Use pandas.concat instead.\n",
      "  indicator_df = indicator_df.append(\n",
      "/home/bassem/anaconda3/lib/python3.9/site-packages/finrl/meta/data_processors/processor_yahoofinance.py:199: FutureWarning: The frame.append method is deprecated and will be removed from pandas in a future version. Use pandas.concat instead.\n",
      "  indicator_df = indicator_df.append(\n",
      "/home/bassem/anaconda3/lib/python3.9/site-packages/finrl/meta/data_processors/processor_yahoofinance.py:199: FutureWarning: The frame.append method is deprecated and will be removed from pandas in a future version. Use pandas.concat instead.\n",
      "  indicator_df = indicator_df.append(\n",
      "/home/bassem/anaconda3/lib/python3.9/site-packages/finrl/meta/data_processors/processor_yahoofinance.py:199: FutureWarning: The frame.append method is deprecated and will be removed from pandas in a future version. Use pandas.concat instead.\n",
      "  indicator_df = indicator_df.append(\n",
      "/home/bassem/anaconda3/lib/python3.9/site-packages/finrl/meta/data_processors/processor_yahoofinance.py:199: FutureWarning: The frame.append method is deprecated and will be removed from pandas in a future version. Use pandas.concat instead.\n",
      "  indicator_df = indicator_df.append(\n",
      "/home/bassem/anaconda3/lib/python3.9/site-packages/finrl/meta/data_processors/processor_yahoofinance.py:199: FutureWarning: The frame.append method is deprecated and will be removed from pandas in a future version. Use pandas.concat instead.\n",
      "  indicator_df = indicator_df.append(\n",
      "/home/bassem/anaconda3/lib/python3.9/site-packages/finrl/meta/data_processors/processor_yahoofinance.py:199: FutureWarning: The frame.append method is deprecated and will be removed from pandas in a future version. Use pandas.concat instead.\n",
      "  indicator_df = indicator_df.append(\n",
      "/home/bassem/anaconda3/lib/python3.9/site-packages/finrl/meta/data_processors/processor_yahoofinance.py:199: FutureWarning: The frame.append method is deprecated and will be removed from pandas in a future version. Use pandas.concat instead.\n",
      "  indicator_df = indicator_df.append(\n",
      "/home/bassem/anaconda3/lib/python3.9/site-packages/finrl/meta/data_processors/processor_yahoofinance.py:199: FutureWarning: The frame.append method is deprecated and will be removed from pandas in a future version. Use pandas.concat instead.\n",
      "  indicator_df = indicator_df.append(\n",
      "/home/bassem/anaconda3/lib/python3.9/site-packages/finrl/meta/data_processors/processor_yahoofinance.py:199: FutureWarning: The frame.append method is deprecated and will be removed from pandas in a future version. Use pandas.concat instead.\n",
      "  indicator_df = indicator_df.append(\n",
      "/home/bassem/anaconda3/lib/python3.9/site-packages/finrl/meta/data_processors/processor_yahoofinance.py:199: FutureWarning: The frame.append method is deprecated and will be removed from pandas in a future version. Use pandas.concat instead.\n",
      "  indicator_df = indicator_df.append(\n",
      "/home/bassem/anaconda3/lib/python3.9/site-packages/finrl/meta/data_processors/processor_yahoofinance.py:199: FutureWarning: The frame.append method is deprecated and will be removed from pandas in a future version. Use pandas.concat instead.\n",
      "  indicator_df = indicator_df.append(\n",
      "/home/bassem/anaconda3/lib/python3.9/site-packages/finrl/meta/data_processors/processor_yahoofinance.py:199: FutureWarning: The frame.append method is deprecated and will be removed from pandas in a future version. Use pandas.concat instead.\n",
      "  indicator_df = indicator_df.append(\n",
      "/home/bassem/anaconda3/lib/python3.9/site-packages/finrl/meta/data_processors/processor_yahoofinance.py:199: FutureWarning: The frame.append method is deprecated and will be removed from pandas in a future version. Use pandas.concat instead.\n",
      "  indicator_df = indicator_df.append(\n",
      "/home/bassem/anaconda3/lib/python3.9/site-packages/finrl/meta/data_processors/processor_yahoofinance.py:199: FutureWarning: The frame.append method is deprecated and will be removed from pandas in a future version. Use pandas.concat instead.\n",
      "  indicator_df = indicator_df.append(\n",
      "/home/bassem/anaconda3/lib/python3.9/site-packages/finrl/meta/data_processors/processor_yahoofinance.py:199: FutureWarning: The frame.append method is deprecated and will be removed from pandas in a future version. Use pandas.concat instead.\n",
      "  indicator_df = indicator_df.append(\n",
      "/home/bassem/anaconda3/lib/python3.9/site-packages/finrl/meta/data_processors/processor_yahoofinance.py:199: FutureWarning: The frame.append method is deprecated and will be removed from pandas in a future version. Use pandas.concat instead.\n",
      "  indicator_df = indicator_df.append(\n",
      "/home/bassem/anaconda3/lib/python3.9/site-packages/finrl/meta/data_processors/processor_yahoofinance.py:199: FutureWarning: The frame.append method is deprecated and will be removed from pandas in a future version. Use pandas.concat instead.\n",
      "  indicator_df = indicator_df.append(\n",
      "/home/bassem/anaconda3/lib/python3.9/site-packages/finrl/meta/data_processors/processor_yahoofinance.py:199: FutureWarning: The frame.append method is deprecated and will be removed from pandas in a future version. Use pandas.concat instead.\n",
      "  indicator_df = indicator_df.append(\n",
      "/home/bassem/anaconda3/lib/python3.9/site-packages/finrl/meta/data_processors/processor_yahoofinance.py:199: FutureWarning: The frame.append method is deprecated and will be removed from pandas in a future version. Use pandas.concat instead.\n",
      "  indicator_df = indicator_df.append(\n",
      "/home/bassem/anaconda3/lib/python3.9/site-packages/finrl/meta/data_processors/processor_yahoofinance.py:199: FutureWarning: The frame.append method is deprecated and will be removed from pandas in a future version. Use pandas.concat instead.\n",
      "  indicator_df = indicator_df.append(\n",
      "/home/bassem/anaconda3/lib/python3.9/site-packages/finrl/meta/data_processors/processor_yahoofinance.py:199: FutureWarning: The frame.append method is deprecated and will be removed from pandas in a future version. Use pandas.concat instead.\n",
      "  indicator_df = indicator_df.append(\n",
      "/home/bassem/anaconda3/lib/python3.9/site-packages/finrl/meta/data_processors/processor_yahoofinance.py:199: FutureWarning: The frame.append method is deprecated and will be removed from pandas in a future version. Use pandas.concat instead.\n",
      "  indicator_df = indicator_df.append(\n",
      "/home/bassem/anaconda3/lib/python3.9/site-packages/finrl/meta/data_processors/processor_yahoofinance.py:199: FutureWarning: The frame.append method is deprecated and will be removed from pandas in a future version. Use pandas.concat instead.\n",
      "  indicator_df = indicator_df.append(\n",
      "/home/bassem/anaconda3/lib/python3.9/site-packages/finrl/meta/data_processors/processor_yahoofinance.py:199: FutureWarning: The frame.append method is deprecated and will be removed from pandas in a future version. Use pandas.concat instead.\n",
      "  indicator_df = indicator_df.append(\n",
      "/home/bassem/anaconda3/lib/python3.9/site-packages/finrl/meta/data_processors/processor_yahoofinance.py:199: FutureWarning: The frame.append method is deprecated and will be removed from pandas in a future version. Use pandas.concat instead.\n",
      "  indicator_df = indicator_df.append(\n",
      "/home/bassem/anaconda3/lib/python3.9/site-packages/finrl/meta/data_processors/processor_yahoofinance.py:199: FutureWarning: The frame.append method is deprecated and will be removed from pandas in a future version. Use pandas.concat instead.\n",
      "  indicator_df = indicator_df.append(\n",
      "/home/bassem/anaconda3/lib/python3.9/site-packages/finrl/meta/data_processors/processor_yahoofinance.py:199: FutureWarning: The frame.append method is deprecated and will be removed from pandas in a future version. Use pandas.concat instead.\n",
      "  indicator_df = indicator_df.append(\n",
      "/home/bassem/anaconda3/lib/python3.9/site-packages/finrl/meta/data_processors/processor_yahoofinance.py:199: FutureWarning: The frame.append method is deprecated and will be removed from pandas in a future version. Use pandas.concat instead.\n",
      "  indicator_df = indicator_df.append(\n",
      "/home/bassem/anaconda3/lib/python3.9/site-packages/finrl/meta/data_processors/processor_yahoofinance.py:199: FutureWarning: The frame.append method is deprecated and will be removed from pandas in a future version. Use pandas.concat instead.\n",
      "  indicator_df = indicator_df.append(\n",
      "/home/bassem/anaconda3/lib/python3.9/site-packages/finrl/meta/data_processors/processor_yahoofinance.py:199: FutureWarning: The frame.append method is deprecated and will be removed from pandas in a future version. Use pandas.concat instead.\n",
      "  indicator_df = indicator_df.append(\n",
      "/home/bassem/anaconda3/lib/python3.9/site-packages/finrl/meta/data_processors/processor_yahoofinance.py:199: FutureWarning: The frame.append method is deprecated and will be removed from pandas in a future version. Use pandas.concat instead.\n",
      "  indicator_df = indicator_df.append(\n",
      "/home/bassem/anaconda3/lib/python3.9/site-packages/finrl/meta/data_processors/processor_yahoofinance.py:199: FutureWarning: The frame.append method is deprecated and will be removed from pandas in a future version. Use pandas.concat instead.\n",
      "  indicator_df = indicator_df.append(\n",
      "/home/bassem/anaconda3/lib/python3.9/site-packages/finrl/meta/data_processors/processor_yahoofinance.py:199: FutureWarning: The frame.append method is deprecated and will be removed from pandas in a future version. Use pandas.concat instead.\n",
      "  indicator_df = indicator_df.append(\n",
      "/home/bassem/anaconda3/lib/python3.9/site-packages/finrl/meta/data_processors/processor_yahoofinance.py:199: FutureWarning: The frame.append method is deprecated and will be removed from pandas in a future version. Use pandas.concat instead.\n",
      "  indicator_df = indicator_df.append(\n",
      "/home/bassem/anaconda3/lib/python3.9/site-packages/finrl/meta/data_processors/processor_yahoofinance.py:199: FutureWarning: The frame.append method is deprecated and will be removed from pandas in a future version. Use pandas.concat instead.\n",
      "  indicator_df = indicator_df.append(\n",
      "/home/bassem/anaconda3/lib/python3.9/site-packages/finrl/meta/data_processors/processor_yahoofinance.py:199: FutureWarning: The frame.append method is deprecated and will be removed from pandas in a future version. Use pandas.concat instead.\n",
      "  indicator_df = indicator_df.append(\n",
      "/home/bassem/anaconda3/lib/python3.9/site-packages/finrl/meta/data_processors/processor_yahoofinance.py:199: FutureWarning: The frame.append method is deprecated and will be removed from pandas in a future version. Use pandas.concat instead.\n",
      "  indicator_df = indicator_df.append(\n",
      "/home/bassem/anaconda3/lib/python3.9/site-packages/finrl/meta/data_processors/processor_yahoofinance.py:199: FutureWarning: The frame.append method is deprecated and will be removed from pandas in a future version. Use pandas.concat instead.\n",
      "  indicator_df = indicator_df.append(\n",
      "/home/bassem/anaconda3/lib/python3.9/site-packages/finrl/meta/data_processors/processor_yahoofinance.py:199: FutureWarning: The frame.append method is deprecated and will be removed from pandas in a future version. Use pandas.concat instead.\n",
      "  indicator_df = indicator_df.append(\n",
      "/home/bassem/anaconda3/lib/python3.9/site-packages/finrl/meta/data_processors/processor_yahoofinance.py:199: FutureWarning: The frame.append method is deprecated and will be removed from pandas in a future version. Use pandas.concat instead.\n",
      "  indicator_df = indicator_df.append(\n",
      "/home/bassem/anaconda3/lib/python3.9/site-packages/finrl/meta/data_processors/processor_yahoofinance.py:199: FutureWarning: The frame.append method is deprecated and will be removed from pandas in a future version. Use pandas.concat instead.\n",
      "  indicator_df = indicator_df.append(\n",
      "/home/bassem/anaconda3/lib/python3.9/site-packages/finrl/meta/data_processors/processor_yahoofinance.py:199: FutureWarning: The frame.append method is deprecated and will be removed from pandas in a future version. Use pandas.concat instead.\n",
      "  indicator_df = indicator_df.append(\n",
      "/home/bassem/anaconda3/lib/python3.9/site-packages/finrl/meta/data_processors/processor_yahoofinance.py:199: FutureWarning: The frame.append method is deprecated and will be removed from pandas in a future version. Use pandas.concat instead.\n",
      "  indicator_df = indicator_df.append(\n",
      "/home/bassem/anaconda3/lib/python3.9/site-packages/finrl/meta/data_processors/processor_yahoofinance.py:199: FutureWarning: The frame.append method is deprecated and will be removed from pandas in a future version. Use pandas.concat instead.\n",
      "  indicator_df = indicator_df.append(\n",
      "/home/bassem/anaconda3/lib/python3.9/site-packages/finrl/meta/data_processors/processor_yahoofinance.py:199: FutureWarning: The frame.append method is deprecated and will be removed from pandas in a future version. Use pandas.concat instead.\n",
      "  indicator_df = indicator_df.append(\n",
      "/home/bassem/anaconda3/lib/python3.9/site-packages/finrl/meta/data_processors/processor_yahoofinance.py:199: FutureWarning: The frame.append method is deprecated and will be removed from pandas in a future version. Use pandas.concat instead.\n",
      "  indicator_df = indicator_df.append(\n",
      "/home/bassem/anaconda3/lib/python3.9/site-packages/finrl/meta/data_processors/processor_yahoofinance.py:199: FutureWarning: The frame.append method is deprecated and will be removed from pandas in a future version. Use pandas.concat instead.\n",
      "  indicator_df = indicator_df.append(\n",
      "/home/bassem/anaconda3/lib/python3.9/site-packages/finrl/meta/data_processors/processor_yahoofinance.py:199: FutureWarning: The frame.append method is deprecated and will be removed from pandas in a future version. Use pandas.concat instead.\n",
      "  indicator_df = indicator_df.append(\n",
      "/home/bassem/anaconda3/lib/python3.9/site-packages/finrl/meta/data_processors/processor_yahoofinance.py:199: FutureWarning: The frame.append method is deprecated and will be removed from pandas in a future version. Use pandas.concat instead.\n",
      "  indicator_df = indicator_df.append(\n",
      "/home/bassem/anaconda3/lib/python3.9/site-packages/finrl/meta/data_processors/processor_yahoofinance.py:199: FutureWarning: The frame.append method is deprecated and will be removed from pandas in a future version. Use pandas.concat instead.\n",
      "  indicator_df = indicator_df.append(\n",
      "/home/bassem/anaconda3/lib/python3.9/site-packages/finrl/meta/data_processors/processor_yahoofinance.py:199: FutureWarning: The frame.append method is deprecated and will be removed from pandas in a future version. Use pandas.concat instead.\n",
      "  indicator_df = indicator_df.append(\n",
      "/home/bassem/anaconda3/lib/python3.9/site-packages/finrl/meta/data_processors/processor_yahoofinance.py:199: FutureWarning: The frame.append method is deprecated and will be removed from pandas in a future version. Use pandas.concat instead.\n",
      "  indicator_df = indicator_df.append(\n",
      "/home/bassem/anaconda3/lib/python3.9/site-packages/finrl/meta/data_processors/processor_yahoofinance.py:199: FutureWarning: The frame.append method is deprecated and will be removed from pandas in a future version. Use pandas.concat instead.\n",
      "  indicator_df = indicator_df.append(\n",
      "/home/bassem/anaconda3/lib/python3.9/site-packages/finrl/meta/data_processors/processor_yahoofinance.py:199: FutureWarning: The frame.append method is deprecated and will be removed from pandas in a future version. Use pandas.concat instead.\n",
      "  indicator_df = indicator_df.append(\n",
      "/home/bassem/anaconda3/lib/python3.9/site-packages/finrl/meta/data_processors/processor_yahoofinance.py:199: FutureWarning: The frame.append method is deprecated and will be removed from pandas in a future version. Use pandas.concat instead.\n",
      "  indicator_df = indicator_df.append(\n",
      "/home/bassem/anaconda3/lib/python3.9/site-packages/finrl/meta/data_processors/processor_yahoofinance.py:199: FutureWarning: The frame.append method is deprecated and will be removed from pandas in a future version. Use pandas.concat instead.\n",
      "  indicator_df = indicator_df.append(\n",
      "/home/bassem/anaconda3/lib/python3.9/site-packages/finrl/meta/data_processors/processor_yahoofinance.py:199: FutureWarning: The frame.append method is deprecated and will be removed from pandas in a future version. Use pandas.concat instead.\n",
      "  indicator_df = indicator_df.append(\n",
      "/home/bassem/anaconda3/lib/python3.9/site-packages/finrl/meta/data_processors/processor_yahoofinance.py:199: FutureWarning: The frame.append method is deprecated and will be removed from pandas in a future version. Use pandas.concat instead.\n",
      "  indicator_df = indicator_df.append(\n",
      "/home/bassem/anaconda3/lib/python3.9/site-packages/finrl/meta/data_processors/processor_yahoofinance.py:199: FutureWarning: The frame.append method is deprecated and will be removed from pandas in a future version. Use pandas.concat instead.\n",
      "  indicator_df = indicator_df.append(\n",
      "/home/bassem/anaconda3/lib/python3.9/site-packages/finrl/meta/data_processors/processor_yahoofinance.py:199: FutureWarning: The frame.append method is deprecated and will be removed from pandas in a future version. Use pandas.concat instead.\n",
      "  indicator_df = indicator_df.append(\n",
      "/home/bassem/anaconda3/lib/python3.9/site-packages/finrl/meta/data_processors/processor_yahoofinance.py:199: FutureWarning: The frame.append method is deprecated and will be removed from pandas in a future version. Use pandas.concat instead.\n",
      "  indicator_df = indicator_df.append(\n",
      "/home/bassem/anaconda3/lib/python3.9/site-packages/finrl/meta/data_processors/processor_yahoofinance.py:199: FutureWarning: The frame.append method is deprecated and will be removed from pandas in a future version. Use pandas.concat instead.\n",
      "  indicator_df = indicator_df.append(\n",
      "/home/bassem/anaconda3/lib/python3.9/site-packages/finrl/meta/data_processors/processor_yahoofinance.py:199: FutureWarning: The frame.append method is deprecated and will be removed from pandas in a future version. Use pandas.concat instead.\n",
      "  indicator_df = indicator_df.append(\n",
      "/home/bassem/anaconda3/lib/python3.9/site-packages/finrl/meta/data_processors/processor_yahoofinance.py:199: FutureWarning: The frame.append method is deprecated and will be removed from pandas in a future version. Use pandas.concat instead.\n",
      "  indicator_df = indicator_df.append(\n",
      "/home/bassem/anaconda3/lib/python3.9/site-packages/finrl/meta/data_processors/processor_yahoofinance.py:199: FutureWarning: The frame.append method is deprecated and will be removed from pandas in a future version. Use pandas.concat instead.\n",
      "  indicator_df = indicator_df.append(\n",
      "/home/bassem/anaconda3/lib/python3.9/site-packages/finrl/meta/data_processors/processor_yahoofinance.py:199: FutureWarning: The frame.append method is deprecated and will be removed from pandas in a future version. Use pandas.concat instead.\n",
      "  indicator_df = indicator_df.append(\n",
      "/home/bassem/anaconda3/lib/python3.9/site-packages/finrl/meta/data_processors/processor_yahoofinance.py:199: FutureWarning: The frame.append method is deprecated and will be removed from pandas in a future version. Use pandas.concat instead.\n",
      "  indicator_df = indicator_df.append(\n",
      "/home/bassem/anaconda3/lib/python3.9/site-packages/finrl/meta/data_processors/processor_yahoofinance.py:199: FutureWarning: The frame.append method is deprecated and will be removed from pandas in a future version. Use pandas.concat instead.\n",
      "  indicator_df = indicator_df.append(\n",
      "/home/bassem/anaconda3/lib/python3.9/site-packages/finrl/meta/data_processors/processor_yahoofinance.py:199: FutureWarning: The frame.append method is deprecated and will be removed from pandas in a future version. Use pandas.concat instead.\n",
      "  indicator_df = indicator_df.append(\n",
      "/home/bassem/anaconda3/lib/python3.9/site-packages/finrl/meta/data_processors/processor_yahoofinance.py:199: FutureWarning: The frame.append method is deprecated and will be removed from pandas in a future version. Use pandas.concat instead.\n",
      "  indicator_df = indicator_df.append(\n",
      "/home/bassem/anaconda3/lib/python3.9/site-packages/finrl/meta/data_processors/processor_yahoofinance.py:199: FutureWarning: The frame.append method is deprecated and will be removed from pandas in a future version. Use pandas.concat instead.\n",
      "  indicator_df = indicator_df.append(\n",
      "/home/bassem/anaconda3/lib/python3.9/site-packages/finrl/meta/data_processors/processor_yahoofinance.py:199: FutureWarning: The frame.append method is deprecated and will be removed from pandas in a future version. Use pandas.concat instead.\n",
      "  indicator_df = indicator_df.append(\n",
      "/home/bassem/anaconda3/lib/python3.9/site-packages/finrl/meta/data_processors/processor_yahoofinance.py:199: FutureWarning: The frame.append method is deprecated and will be removed from pandas in a future version. Use pandas.concat instead.\n",
      "  indicator_df = indicator_df.append(\n",
      "/home/bassem/anaconda3/lib/python3.9/site-packages/finrl/meta/data_processors/processor_yahoofinance.py:199: FutureWarning: The frame.append method is deprecated and will be removed from pandas in a future version. Use pandas.concat instead.\n",
      "  indicator_df = indicator_df.append(\n",
      "/home/bassem/anaconda3/lib/python3.9/site-packages/finrl/meta/data_processors/processor_yahoofinance.py:199: FutureWarning: The frame.append method is deprecated and will be removed from pandas in a future version. Use pandas.concat instead.\n",
      "  indicator_df = indicator_df.append(\n",
      "/home/bassem/anaconda3/lib/python3.9/site-packages/finrl/meta/data_processors/processor_yahoofinance.py:199: FutureWarning: The frame.append method is deprecated and will be removed from pandas in a future version. Use pandas.concat instead.\n",
      "  indicator_df = indicator_df.append(\n",
      "/home/bassem/anaconda3/lib/python3.9/site-packages/finrl/meta/data_processors/processor_yahoofinance.py:199: FutureWarning: The frame.append method is deprecated and will be removed from pandas in a future version. Use pandas.concat instead.\n",
      "  indicator_df = indicator_df.append(\n",
      "/home/bassem/anaconda3/lib/python3.9/site-packages/finrl/meta/data_processors/processor_yahoofinance.py:199: FutureWarning: The frame.append method is deprecated and will be removed from pandas in a future version. Use pandas.concat instead.\n",
      "  indicator_df = indicator_df.append(\n",
      "/home/bassem/anaconda3/lib/python3.9/site-packages/finrl/meta/data_processors/processor_yahoofinance.py:199: FutureWarning: The frame.append method is deprecated and will be removed from pandas in a future version. Use pandas.concat instead.\n",
      "  indicator_df = indicator_df.append(\n",
      "/home/bassem/anaconda3/lib/python3.9/site-packages/finrl/meta/data_processors/processor_yahoofinance.py:199: FutureWarning: The frame.append method is deprecated and will be removed from pandas in a future version. Use pandas.concat instead.\n",
      "  indicator_df = indicator_df.append(\n",
      "/home/bassem/anaconda3/lib/python3.9/site-packages/finrl/meta/data_processors/processor_yahoofinance.py:199: FutureWarning: The frame.append method is deprecated and will be removed from pandas in a future version. Use pandas.concat instead.\n",
      "  indicator_df = indicator_df.append(\n",
      "/home/bassem/anaconda3/lib/python3.9/site-packages/finrl/meta/data_processors/processor_yahoofinance.py:199: FutureWarning: The frame.append method is deprecated and will be removed from pandas in a future version. Use pandas.concat instead.\n",
      "  indicator_df = indicator_df.append(\n",
      "/home/bassem/anaconda3/lib/python3.9/site-packages/finrl/meta/data_processors/processor_yahoofinance.py:199: FutureWarning: The frame.append method is deprecated and will be removed from pandas in a future version. Use pandas.concat instead.\n",
      "  indicator_df = indicator_df.append(\n",
      "/home/bassem/anaconda3/lib/python3.9/site-packages/finrl/meta/data_processors/processor_yahoofinance.py:199: FutureWarning: The frame.append method is deprecated and will be removed from pandas in a future version. Use pandas.concat instead.\n",
      "  indicator_df = indicator_df.append(\n",
      "/home/bassem/anaconda3/lib/python3.9/site-packages/finrl/meta/data_processors/processor_yahoofinance.py:199: FutureWarning: The frame.append method is deprecated and will be removed from pandas in a future version. Use pandas.concat instead.\n",
      "  indicator_df = indicator_df.append(\n",
      "/home/bassem/anaconda3/lib/python3.9/site-packages/finrl/meta/data_processors/processor_yahoofinance.py:199: FutureWarning: The frame.append method is deprecated and will be removed from pandas in a future version. Use pandas.concat instead.\n",
      "  indicator_df = indicator_df.append(\n",
      "/home/bassem/anaconda3/lib/python3.9/site-packages/finrl/meta/data_processors/processor_yahoofinance.py:199: FutureWarning: The frame.append method is deprecated and will be removed from pandas in a future version. Use pandas.concat instead.\n",
      "  indicator_df = indicator_df.append(\n",
      "/home/bassem/anaconda3/lib/python3.9/site-packages/finrl/meta/data_processors/processor_yahoofinance.py:199: FutureWarning: The frame.append method is deprecated and will be removed from pandas in a future version. Use pandas.concat instead.\n",
      "  indicator_df = indicator_df.append(\n",
      "/home/bassem/anaconda3/lib/python3.9/site-packages/finrl/meta/data_processors/processor_yahoofinance.py:199: FutureWarning: The frame.append method is deprecated and will be removed from pandas in a future version. Use pandas.concat instead.\n",
      "  indicator_df = indicator_df.append(\n",
      "/home/bassem/anaconda3/lib/python3.9/site-packages/finrl/meta/data_processors/processor_yahoofinance.py:199: FutureWarning: The frame.append method is deprecated and will be removed from pandas in a future version. Use pandas.concat instead.\n",
      "  indicator_df = indicator_df.append(\n",
      "/home/bassem/anaconda3/lib/python3.9/site-packages/finrl/meta/data_processors/processor_yahoofinance.py:199: FutureWarning: The frame.append method is deprecated and will be removed from pandas in a future version. Use pandas.concat instead.\n",
      "  indicator_df = indicator_df.append(\n",
      "/home/bassem/anaconda3/lib/python3.9/site-packages/finrl/meta/data_processors/processor_yahoofinance.py:199: FutureWarning: The frame.append method is deprecated and will be removed from pandas in a future version. Use pandas.concat instead.\n",
      "  indicator_df = indicator_df.append(\n",
      "/home/bassem/anaconda3/lib/python3.9/site-packages/finrl/meta/data_processors/processor_yahoofinance.py:199: FutureWarning: The frame.append method is deprecated and will be removed from pandas in a future version. Use pandas.concat instead.\n",
      "  indicator_df = indicator_df.append(\n",
      "/home/bassem/anaconda3/lib/python3.9/site-packages/finrl/meta/data_processors/processor_yahoofinance.py:199: FutureWarning: The frame.append method is deprecated and will be removed from pandas in a future version. Use pandas.concat instead.\n",
      "  indicator_df = indicator_df.append(\n",
      "/home/bassem/anaconda3/lib/python3.9/site-packages/finrl/meta/data_processors/processor_yahoofinance.py:199: FutureWarning: The frame.append method is deprecated and will be removed from pandas in a future version. Use pandas.concat instead.\n",
      "  indicator_df = indicator_df.append(\n",
      "/home/bassem/anaconda3/lib/python3.9/site-packages/finrl/meta/data_processors/processor_yahoofinance.py:199: FutureWarning: The frame.append method is deprecated and will be removed from pandas in a future version. Use pandas.concat instead.\n",
      "  indicator_df = indicator_df.append(\n",
      "/home/bassem/anaconda3/lib/python3.9/site-packages/finrl/meta/data_processors/processor_yahoofinance.py:199: FutureWarning: The frame.append method is deprecated and will be removed from pandas in a future version. Use pandas.concat instead.\n",
      "  indicator_df = indicator_df.append(\n",
      "/home/bassem/anaconda3/lib/python3.9/site-packages/finrl/meta/data_processors/processor_yahoofinance.py:199: FutureWarning: The frame.append method is deprecated and will be removed from pandas in a future version. Use pandas.concat instead.\n",
      "  indicator_df = indicator_df.append(\n",
      "/home/bassem/anaconda3/lib/python3.9/site-packages/finrl/meta/data_processors/processor_yahoofinance.py:199: FutureWarning: The frame.append method is deprecated and will be removed from pandas in a future version. Use pandas.concat instead.\n",
      "  indicator_df = indicator_df.append(\n",
      "/home/bassem/anaconda3/lib/python3.9/site-packages/finrl/meta/data_processors/processor_yahoofinance.py:199: FutureWarning: The frame.append method is deprecated and will be removed from pandas in a future version. Use pandas.concat instead.\n",
      "  indicator_df = indicator_df.append(\n",
      "/home/bassem/anaconda3/lib/python3.9/site-packages/finrl/meta/data_processors/processor_yahoofinance.py:199: FutureWarning: The frame.append method is deprecated and will be removed from pandas in a future version. Use pandas.concat instead.\n",
      "  indicator_df = indicator_df.append(\n",
      "/home/bassem/anaconda3/lib/python3.9/site-packages/finrl/meta/data_processors/processor_yahoofinance.py:199: FutureWarning: The frame.append method is deprecated and will be removed from pandas in a future version. Use pandas.concat instead.\n",
      "  indicator_df = indicator_df.append(\n",
      "/home/bassem/anaconda3/lib/python3.9/site-packages/finrl/meta/data_processors/processor_yahoofinance.py:199: FutureWarning: The frame.append method is deprecated and will be removed from pandas in a future version. Use pandas.concat instead.\n",
      "  indicator_df = indicator_df.append(\n",
      "/home/bassem/anaconda3/lib/python3.9/site-packages/finrl/meta/data_processors/processor_yahoofinance.py:199: FutureWarning: The frame.append method is deprecated and will be removed from pandas in a future version. Use pandas.concat instead.\n",
      "  indicator_df = indicator_df.append(\n",
      "/home/bassem/anaconda3/lib/python3.9/site-packages/finrl/meta/data_processors/processor_yahoofinance.py:199: FutureWarning: The frame.append method is deprecated and will be removed from pandas in a future version. Use pandas.concat instead.\n",
      "  indicator_df = indicator_df.append(\n",
      "/home/bassem/anaconda3/lib/python3.9/site-packages/finrl/meta/data_processors/processor_yahoofinance.py:199: FutureWarning: The frame.append method is deprecated and will be removed from pandas in a future version. Use pandas.concat instead.\n",
      "  indicator_df = indicator_df.append(\n",
      "/home/bassem/anaconda3/lib/python3.9/site-packages/finrl/meta/data_processors/processor_yahoofinance.py:199: FutureWarning: The frame.append method is deprecated and will be removed from pandas in a future version. Use pandas.concat instead.\n",
      "  indicator_df = indicator_df.append(\n",
      "/home/bassem/anaconda3/lib/python3.9/site-packages/finrl/meta/data_processors/processor_yahoofinance.py:199: FutureWarning: The frame.append method is deprecated and will be removed from pandas in a future version. Use pandas.concat instead.\n",
      "  indicator_df = indicator_df.append(\n",
      "/home/bassem/anaconda3/lib/python3.9/site-packages/finrl/meta/data_processors/processor_yahoofinance.py:199: FutureWarning: The frame.append method is deprecated and will be removed from pandas in a future version. Use pandas.concat instead.\n",
      "  indicator_df = indicator_df.append(\n",
      "/home/bassem/anaconda3/lib/python3.9/site-packages/finrl/meta/data_processors/processor_yahoofinance.py:199: FutureWarning: The frame.append method is deprecated and will be removed from pandas in a future version. Use pandas.concat instead.\n",
      "  indicator_df = indicator_df.append(\n",
      "/home/bassem/anaconda3/lib/python3.9/site-packages/finrl/meta/data_processors/processor_yahoofinance.py:199: FutureWarning: The frame.append method is deprecated and will be removed from pandas in a future version. Use pandas.concat instead.\n",
      "  indicator_df = indicator_df.append(\n",
      "/home/bassem/anaconda3/lib/python3.9/site-packages/finrl/meta/data_processors/processor_yahoofinance.py:199: FutureWarning: The frame.append method is deprecated and will be removed from pandas in a future version. Use pandas.concat instead.\n",
      "  indicator_df = indicator_df.append(\n",
      "/home/bassem/anaconda3/lib/python3.9/site-packages/finrl/meta/data_processors/processor_yahoofinance.py:199: FutureWarning: The frame.append method is deprecated and will be removed from pandas in a future version. Use pandas.concat instead.\n",
      "  indicator_df = indicator_df.append(\n",
      "/home/bassem/anaconda3/lib/python3.9/site-packages/finrl/meta/data_processors/processor_yahoofinance.py:199: FutureWarning: The frame.append method is deprecated and will be removed from pandas in a future version. Use pandas.concat instead.\n",
      "  indicator_df = indicator_df.append(\n",
      "/home/bassem/anaconda3/lib/python3.9/site-packages/finrl/meta/data_processors/processor_yahoofinance.py:199: FutureWarning: The frame.append method is deprecated and will be removed from pandas in a future version. Use pandas.concat instead.\n",
      "  indicator_df = indicator_df.append(\n",
      "/home/bassem/anaconda3/lib/python3.9/site-packages/finrl/meta/data_processors/processor_yahoofinance.py:199: FutureWarning: The frame.append method is deprecated and will be removed from pandas in a future version. Use pandas.concat instead.\n",
      "  indicator_df = indicator_df.append(\n",
      "/home/bassem/anaconda3/lib/python3.9/site-packages/finrl/meta/data_processors/processor_yahoofinance.py:199: FutureWarning: The frame.append method is deprecated and will be removed from pandas in a future version. Use pandas.concat instead.\n",
      "  indicator_df = indicator_df.append(\n",
      "/home/bassem/anaconda3/lib/python3.9/site-packages/finrl/meta/data_processors/processor_yahoofinance.py:199: FutureWarning: The frame.append method is deprecated and will be removed from pandas in a future version. Use pandas.concat instead.\n",
      "  indicator_df = indicator_df.append(\n",
      "/home/bassem/anaconda3/lib/python3.9/site-packages/finrl/meta/data_processors/processor_yahoofinance.py:199: FutureWarning: The frame.append method is deprecated and will be removed from pandas in a future version. Use pandas.concat instead.\n",
      "  indicator_df = indicator_df.append(\n",
      "/home/bassem/anaconda3/lib/python3.9/site-packages/finrl/meta/data_processors/processor_yahoofinance.py:199: FutureWarning: The frame.append method is deprecated and will be removed from pandas in a future version. Use pandas.concat instead.\n",
      "  indicator_df = indicator_df.append(\n",
      "/home/bassem/anaconda3/lib/python3.9/site-packages/finrl/meta/data_processors/processor_yahoofinance.py:199: FutureWarning: The frame.append method is deprecated and will be removed from pandas in a future version. Use pandas.concat instead.\n",
      "  indicator_df = indicator_df.append(\n",
      "/home/bassem/anaconda3/lib/python3.9/site-packages/finrl/meta/data_processors/processor_yahoofinance.py:199: FutureWarning: The frame.append method is deprecated and will be removed from pandas in a future version. Use pandas.concat instead.\n",
      "  indicator_df = indicator_df.append(\n",
      "/home/bassem/anaconda3/lib/python3.9/site-packages/finrl/meta/data_processors/processor_yahoofinance.py:199: FutureWarning: The frame.append method is deprecated and will be removed from pandas in a future version. Use pandas.concat instead.\n",
      "  indicator_df = indicator_df.append(\n",
      "/home/bassem/anaconda3/lib/python3.9/site-packages/finrl/meta/data_processors/processor_yahoofinance.py:199: FutureWarning: The frame.append method is deprecated and will be removed from pandas in a future version. Use pandas.concat instead.\n",
      "  indicator_df = indicator_df.append(\n",
      "/home/bassem/anaconda3/lib/python3.9/site-packages/finrl/meta/data_processors/processor_yahoofinance.py:199: FutureWarning: The frame.append method is deprecated and will be removed from pandas in a future version. Use pandas.concat instead.\n",
      "  indicator_df = indicator_df.append(\n",
      "/home/bassem/anaconda3/lib/python3.9/site-packages/finrl/meta/data_processors/processor_yahoofinance.py:199: FutureWarning: The frame.append method is deprecated and will be removed from pandas in a future version. Use pandas.concat instead.\n",
      "  indicator_df = indicator_df.append(\n",
      "/home/bassem/anaconda3/lib/python3.9/site-packages/finrl/meta/data_processors/processor_yahoofinance.py:199: FutureWarning: The frame.append method is deprecated and will be removed from pandas in a future version. Use pandas.concat instead.\n",
      "  indicator_df = indicator_df.append(\n",
      "/home/bassem/anaconda3/lib/python3.9/site-packages/finrl/meta/data_processors/processor_yahoofinance.py:199: FutureWarning: The frame.append method is deprecated and will be removed from pandas in a future version. Use pandas.concat instead.\n",
      "  indicator_df = indicator_df.append(\n",
      "/home/bassem/anaconda3/lib/python3.9/site-packages/finrl/meta/data_processors/processor_yahoofinance.py:199: FutureWarning: The frame.append method is deprecated and will be removed from pandas in a future version. Use pandas.concat instead.\n",
      "  indicator_df = indicator_df.append(\n",
      "/home/bassem/anaconda3/lib/python3.9/site-packages/finrl/meta/data_processors/processor_yahoofinance.py:199: FutureWarning: The frame.append method is deprecated and will be removed from pandas in a future version. Use pandas.concat instead.\n",
      "  indicator_df = indicator_df.append(\n",
      "/home/bassem/anaconda3/lib/python3.9/site-packages/finrl/meta/data_processors/processor_yahoofinance.py:199: FutureWarning: The frame.append method is deprecated and will be removed from pandas in a future version. Use pandas.concat instead.\n",
      "  indicator_df = indicator_df.append(\n",
      "/home/bassem/anaconda3/lib/python3.9/site-packages/finrl/meta/data_processors/processor_yahoofinance.py:199: FutureWarning: The frame.append method is deprecated and will be removed from pandas in a future version. Use pandas.concat instead.\n",
      "  indicator_df = indicator_df.append(\n",
      "/home/bassem/anaconda3/lib/python3.9/site-packages/finrl/meta/data_processors/processor_yahoofinance.py:199: FutureWarning: The frame.append method is deprecated and will be removed from pandas in a future version. Use pandas.concat instead.\n",
      "  indicator_df = indicator_df.append(\n",
      "/home/bassem/anaconda3/lib/python3.9/site-packages/finrl/meta/data_processors/processor_yahoofinance.py:199: FutureWarning: The frame.append method is deprecated and will be removed from pandas in a future version. Use pandas.concat instead.\n",
      "  indicator_df = indicator_df.append(\n",
      "/home/bassem/anaconda3/lib/python3.9/site-packages/finrl/meta/data_processors/processor_yahoofinance.py:199: FutureWarning: The frame.append method is deprecated and will be removed from pandas in a future version. Use pandas.concat instead.\n",
      "  indicator_df = indicator_df.append(\n",
      "/home/bassem/anaconda3/lib/python3.9/site-packages/finrl/meta/data_processors/processor_yahoofinance.py:199: FutureWarning: The frame.append method is deprecated and will be removed from pandas in a future version. Use pandas.concat instead.\n",
      "  indicator_df = indicator_df.append(\n",
      "/home/bassem/anaconda3/lib/python3.9/site-packages/finrl/meta/data_processors/processor_yahoofinance.py:199: FutureWarning: The frame.append method is deprecated and will be removed from pandas in a future version. Use pandas.concat instead.\n",
      "  indicator_df = indicator_df.append(\n",
      "/home/bassem/anaconda3/lib/python3.9/site-packages/finrl/meta/data_processors/processor_yahoofinance.py:199: FutureWarning: The frame.append method is deprecated and will be removed from pandas in a future version. Use pandas.concat instead.\n",
      "  indicator_df = indicator_df.append(\n",
      "/home/bassem/anaconda3/lib/python3.9/site-packages/finrl/meta/data_processors/processor_yahoofinance.py:199: FutureWarning: The frame.append method is deprecated and will be removed from pandas in a future version. Use pandas.concat instead.\n",
      "  indicator_df = indicator_df.append(\n",
      "/home/bassem/anaconda3/lib/python3.9/site-packages/finrl/meta/data_processors/processor_yahoofinance.py:199: FutureWarning: The frame.append method is deprecated and will be removed from pandas in a future version. Use pandas.concat instead.\n",
      "  indicator_df = indicator_df.append(\n",
      "/home/bassem/anaconda3/lib/python3.9/site-packages/finrl/meta/data_processors/processor_yahoofinance.py:199: FutureWarning: The frame.append method is deprecated and will be removed from pandas in a future version. Use pandas.concat instead.\n",
      "  indicator_df = indicator_df.append(\n",
      "/home/bassem/anaconda3/lib/python3.9/site-packages/finrl/meta/data_processors/processor_yahoofinance.py:199: FutureWarning: The frame.append method is deprecated and will be removed from pandas in a future version. Use pandas.concat instead.\n",
      "  indicator_df = indicator_df.append(\n",
      "/home/bassem/anaconda3/lib/python3.9/site-packages/finrl/meta/data_processors/processor_yahoofinance.py:199: FutureWarning: The frame.append method is deprecated and will be removed from pandas in a future version. Use pandas.concat instead.\n",
      "  indicator_df = indicator_df.append(\n",
      "/home/bassem/anaconda3/lib/python3.9/site-packages/finrl/meta/data_processors/processor_yahoofinance.py:199: FutureWarning: The frame.append method is deprecated and will be removed from pandas in a future version. Use pandas.concat instead.\n",
      "  indicator_df = indicator_df.append(\n",
      "/home/bassem/anaconda3/lib/python3.9/site-packages/finrl/meta/data_processors/processor_yahoofinance.py:199: FutureWarning: The frame.append method is deprecated and will be removed from pandas in a future version. Use pandas.concat instead.\n",
      "  indicator_df = indicator_df.append(\n",
      "/home/bassem/anaconda3/lib/python3.9/site-packages/finrl/meta/data_processors/processor_yahoofinance.py:199: FutureWarning: The frame.append method is deprecated and will be removed from pandas in a future version. Use pandas.concat instead.\n",
      "  indicator_df = indicator_df.append(\n",
      "/home/bassem/anaconda3/lib/python3.9/site-packages/finrl/meta/data_processors/processor_yahoofinance.py:199: FutureWarning: The frame.append method is deprecated and will be removed from pandas in a future version. Use pandas.concat instead.\n",
      "  indicator_df = indicator_df.append(\n",
      "/home/bassem/anaconda3/lib/python3.9/site-packages/finrl/meta/data_processors/processor_yahoofinance.py:199: FutureWarning: The frame.append method is deprecated and will be removed from pandas in a future version. Use pandas.concat instead.\n",
      "  indicator_df = indicator_df.append(\n",
      "/home/bassem/anaconda3/lib/python3.9/site-packages/finrl/meta/data_processors/processor_yahoofinance.py:199: FutureWarning: The frame.append method is deprecated and will be removed from pandas in a future version. Use pandas.concat instead.\n",
      "  indicator_df = indicator_df.append(\n",
      "/home/bassem/anaconda3/lib/python3.9/site-packages/finrl/meta/data_processors/processor_yahoofinance.py:199: FutureWarning: The frame.append method is deprecated and will be removed from pandas in a future version. Use pandas.concat instead.\n",
      "  indicator_df = indicator_df.append(\n",
      "/home/bassem/anaconda3/lib/python3.9/site-packages/finrl/meta/data_processors/processor_yahoofinance.py:199: FutureWarning: The frame.append method is deprecated and will be removed from pandas in a future version. Use pandas.concat instead.\n",
      "  indicator_df = indicator_df.append(\n",
      "/home/bassem/anaconda3/lib/python3.9/site-packages/finrl/meta/data_processors/processor_yahoofinance.py:199: FutureWarning: The frame.append method is deprecated and will be removed from pandas in a future version. Use pandas.concat instead.\n",
      "  indicator_df = indicator_df.append(\n",
      "/home/bassem/anaconda3/lib/python3.9/site-packages/finrl/meta/data_processors/processor_yahoofinance.py:199: FutureWarning: The frame.append method is deprecated and will be removed from pandas in a future version. Use pandas.concat instead.\n",
      "  indicator_df = indicator_df.append(\n",
      "/home/bassem/anaconda3/lib/python3.9/site-packages/finrl/meta/data_processors/processor_yahoofinance.py:199: FutureWarning: The frame.append method is deprecated and will be removed from pandas in a future version. Use pandas.concat instead.\n",
      "  indicator_df = indicator_df.append(\n",
      "/home/bassem/anaconda3/lib/python3.9/site-packages/finrl/meta/data_processors/processor_yahoofinance.py:199: FutureWarning: The frame.append method is deprecated and will be removed from pandas in a future version. Use pandas.concat instead.\n",
      "  indicator_df = indicator_df.append(\n",
      "/home/bassem/anaconda3/lib/python3.9/site-packages/finrl/meta/data_processors/processor_yahoofinance.py:199: FutureWarning: The frame.append method is deprecated and will be removed from pandas in a future version. Use pandas.concat instead.\n",
      "  indicator_df = indicator_df.append(\n",
      "/home/bassem/anaconda3/lib/python3.9/site-packages/finrl/meta/data_processors/processor_yahoofinance.py:199: FutureWarning: The frame.append method is deprecated and will be removed from pandas in a future version. Use pandas.concat instead.\n",
      "  indicator_df = indicator_df.append(\n",
      "/home/bassem/anaconda3/lib/python3.9/site-packages/finrl/meta/data_processors/processor_yahoofinance.py:199: FutureWarning: The frame.append method is deprecated and will be removed from pandas in a future version. Use pandas.concat instead.\n",
      "  indicator_df = indicator_df.append(\n",
      "/home/bassem/anaconda3/lib/python3.9/site-packages/finrl/meta/data_processors/processor_yahoofinance.py:199: FutureWarning: The frame.append method is deprecated and will be removed from pandas in a future version. Use pandas.concat instead.\n",
      "  indicator_df = indicator_df.append(\n",
      "/home/bassem/anaconda3/lib/python3.9/site-packages/finrl/meta/data_processors/processor_yahoofinance.py:199: FutureWarning: The frame.append method is deprecated and will be removed from pandas in a future version. Use pandas.concat instead.\n",
      "  indicator_df = indicator_df.append(\n",
      "/home/bassem/anaconda3/lib/python3.9/site-packages/finrl/meta/data_processors/processor_yahoofinance.py:199: FutureWarning: The frame.append method is deprecated and will be removed from pandas in a future version. Use pandas.concat instead.\n",
      "  indicator_df = indicator_df.append(\n",
      "/home/bassem/anaconda3/lib/python3.9/site-packages/finrl/meta/data_processors/processor_yahoofinance.py:199: FutureWarning: The frame.append method is deprecated and will be removed from pandas in a future version. Use pandas.concat instead.\n",
      "  indicator_df = indicator_df.append(\n",
      "/home/bassem/anaconda3/lib/python3.9/site-packages/finrl/meta/data_processors/processor_yahoofinance.py:199: FutureWarning: The frame.append method is deprecated and will be removed from pandas in a future version. Use pandas.concat instead.\n",
      "  indicator_df = indicator_df.append(\n",
      "/home/bassem/anaconda3/lib/python3.9/site-packages/finrl/meta/data_processors/processor_yahoofinance.py:199: FutureWarning: The frame.append method is deprecated and will be removed from pandas in a future version. Use pandas.concat instead.\n",
      "  indicator_df = indicator_df.append(\n",
      "/home/bassem/anaconda3/lib/python3.9/site-packages/finrl/meta/data_processors/processor_yahoofinance.py:199: FutureWarning: The frame.append method is deprecated and will be removed from pandas in a future version. Use pandas.concat instead.\n",
      "  indicator_df = indicator_df.append(\n",
      "/home/bassem/anaconda3/lib/python3.9/site-packages/finrl/meta/data_processors/processor_yahoofinance.py:199: FutureWarning: The frame.append method is deprecated and will be removed from pandas in a future version. Use pandas.concat instead.\n",
      "  indicator_df = indicator_df.append(\n",
      "/home/bassem/anaconda3/lib/python3.9/site-packages/finrl/meta/data_processors/processor_yahoofinance.py:199: FutureWarning: The frame.append method is deprecated and will be removed from pandas in a future version. Use pandas.concat instead.\n",
      "  indicator_df = indicator_df.append(\n",
      "/home/bassem/anaconda3/lib/python3.9/site-packages/finrl/meta/data_processors/processor_yahoofinance.py:199: FutureWarning: The frame.append method is deprecated and will be removed from pandas in a future version. Use pandas.concat instead.\n",
      "  indicator_df = indicator_df.append(\n",
      "/home/bassem/anaconda3/lib/python3.9/site-packages/finrl/meta/data_processors/processor_yahoofinance.py:199: FutureWarning: The frame.append method is deprecated and will be removed from pandas in a future version. Use pandas.concat instead.\n",
      "  indicator_df = indicator_df.append(\n",
      "/home/bassem/anaconda3/lib/python3.9/site-packages/finrl/meta/data_processors/processor_yahoofinance.py:199: FutureWarning: The frame.append method is deprecated and will be removed from pandas in a future version. Use pandas.concat instead.\n",
      "  indicator_df = indicator_df.append(\n",
      "/home/bassem/anaconda3/lib/python3.9/site-packages/finrl/meta/data_processors/processor_yahoofinance.py:199: FutureWarning: The frame.append method is deprecated and will be removed from pandas in a future version. Use pandas.concat instead.\n",
      "  indicator_df = indicator_df.append(\n"
     ]
    },
    {
     "name": "stdout",
     "output_type": "stream",
     "text": [
      "[*********************100%***********************]  1 of 1 completed\n",
      "Shape of DataFrame:  (1800, 9)\n",
      "Clean data for ^VIX\n"
     ]
    },
    {
     "name": "stderr",
     "output_type": "stream",
     "text": [
      "/home/bassem/anaconda3/lib/python3.9/site-packages/finrl/meta/data_processors/processor_yahoofinance.py:56: FutureWarning: The frame.append method is deprecated and will be removed from pandas in a future version. Use pandas.concat instead.\n",
      "  data_df = data_df.append(temp_df)\n",
      "/home/bassem/anaconda3/lib/python3.9/site-packages/finrl/meta/data_processors/processor_yahoofinance.py:165: FutureWarning: The frame.append method is deprecated and will be removed from pandas in a future version. Use pandas.concat instead.\n",
      "  new_df = new_df.append(tmp_df)\n"
     ]
    },
    {
     "name": "stdout",
     "output_type": "stream",
     "text": [
      "Data clean for ^VIX is finished.\n",
      "Data clean all finished!\n",
      "['AAPL' 'AMGN' 'AXP' 'BA' 'CAT' 'CRM' 'CSCO' 'CVX' 'DIS' 'DOW' 'GS' 'HD'\n",
      " 'HON' 'IBM' 'INTC' 'JNJ' 'JPM' 'KO' 'MCD' 'MMM' 'MRK' 'MSFT' 'NKE' 'PG'\n",
      " 'TRV' 'UNH' 'V' 'VZ' 'WBA' 'WMT']\n",
      "Successfully transformed into array\n"
     ]
    },
    {
     "name": "stderr",
     "output_type": "stream",
     "text": [
      "2022-07-10 02:33:20,678\tINFO services.py:1470 -- View the Ray dashboard at \u001b[1m\u001b[32mhttp://127.0.0.1:8265\u001b[39m\u001b[22m\n",
      "2022-07-10 02:33:22,521\tINFO trainer.py:2332 -- Your framework setting is 'tf', meaning you are using static-graph mode. Set framework='tf2' to enable eager execution with tf2.x. You may also then want to set eager_tracing=True in order to reach similar execution speed as with static-graph mode.\n",
      "2022-07-10 02:33:22,522\tWARNING ppo.py:386 -- `train_batch_size` (1000) cannot be achieved with your other settings (num_workers=2 num_envs_per_worker=1 rollout_fragment_length=200)! Auto-adjusting `rollout_fragment_length` to 500.\n",
      "2022-07-10 02:33:22,523\tINFO ppo.py:414 -- In multi-agent mode, policies will be optimized sequentially by the multi-GPU optimizer. Consider setting simple_optimizer=True if this doesn't work for you.\n",
      "2022-07-10 02:33:22,523\tINFO trainer.py:903 -- Current log_level is WARN. For more information, set 'log_level': 'INFO' / 'DEBUG' or use the -v and -vv flags.\n",
      "\u001b[2m\u001b[36m(RolloutWorker pid=41806)\u001b[0m 2022-07-10 02:33:24,991\tWARNING env.py:135 -- Your env doesn't have a .spec.max_episode_steps attribute. This is fine if you have set 'horizon' in your config dictionary, or `soft_horizon`. However, if you haven't, 'horizon' will default to infinity, and your environment will not be reset.\n",
      "\u001b[2m\u001b[36m(RolloutWorker pid=41787)\u001b[0m 2022-07-10 02:33:24,992\tWARNING env.py:135 -- Your env doesn't have a .spec.max_episode_steps attribute. This is fine if you have set 'horizon' in your config dictionary, or `soft_horizon`. However, if you haven't, 'horizon' will default to infinity, and your environment will not be reset.\n",
      "2022-07-10 02:33:28,380\tWARNING deprecation.py:46 -- DeprecationWarning: `slice` has been deprecated. Use `SampleBatch[start:stop]` instead. This will raise an error in the future!\n"
     ]
    }
   ],
   "source": [
    "#demo for rllib\n",
    "ray.shutdown() #always shutdown previous session if any\n",
    "\n",
    "train(start_date = TRAIN_START_DATE,\n",
    "      end_date = TRAIN_END_DATE,\n",
    "      ticker_list = config.DOW_30_TICKER,\n",
    "      data_source = 'yahoofinance',\n",
    "      time_interval= '1D',\n",
    "      technical_indicator_list= INDICATORS,\n",
    "      drl_lib='rllib',\n",
    "      env=env,\n",
    "      model_name='ppo',\n",
    "      cwd='./test_ppo',\n",
    "      rllib_params = RLlib_PARAMS,\n",
    "      total_episodes=30)"
   ]
  },
  {
   "cell_type": "markdown",
   "metadata": {
    "collapsed": false
   },
   "source": [
    "#### Test"
   ]
  },
  {
   "cell_type": "code",
   "execution_count": 14,
   "metadata": {
    "collapsed": false,
    "pycharm": {
     "name": "#%%\n"
    }
   },
   "outputs": [
    {
     "name": "stdout",
     "output_type": "stream",
     "text": [
      "[*********************100%***********************]  1 of 1 completed\n",
      "[*********************100%***********************]  1 of 1 completed\n"
     ]
    },
    {
     "name": "stderr",
     "output_type": "stream",
     "text": [
      "/home/bassem/anaconda3/lib/python3.9/site-packages/finrl/meta/data_processors/processor_yahoofinance.py:56: FutureWarning: The frame.append method is deprecated and will be removed from pandas in a future version. Use pandas.concat instead.\n",
      "  data_df = data_df.append(temp_df)\n",
      "/home/bassem/anaconda3/lib/python3.9/site-packages/finrl/meta/data_processors/processor_yahoofinance.py:56: FutureWarning: The frame.append method is deprecated and will be removed from pandas in a future version. Use pandas.concat instead.\n",
      "  data_df = data_df.append(temp_df)\n"
     ]
    },
    {
     "name": "stdout",
     "output_type": "stream",
     "text": [
      "[*********************100%***********************]  1 of 1 completed\n",
      "[*********************100%***********************]  1 of 1 completed\n"
     ]
    },
    {
     "name": "stderr",
     "output_type": "stream",
     "text": [
      "/home/bassem/anaconda3/lib/python3.9/site-packages/finrl/meta/data_processors/processor_yahoofinance.py:56: FutureWarning: The frame.append method is deprecated and will be removed from pandas in a future version. Use pandas.concat instead.\n",
      "  data_df = data_df.append(temp_df)\n",
      "/home/bassem/anaconda3/lib/python3.9/site-packages/finrl/meta/data_processors/processor_yahoofinance.py:56: FutureWarning: The frame.append method is deprecated and will be removed from pandas in a future version. Use pandas.concat instead.\n",
      "  data_df = data_df.append(temp_df)\n"
     ]
    },
    {
     "name": "stdout",
     "output_type": "stream",
     "text": [
      "[*********************100%***********************]  1 of 1 completed\n",
      "[*********************100%***********************]  1 of 1 completed\n"
     ]
    },
    {
     "name": "stderr",
     "output_type": "stream",
     "text": [
      "/home/bassem/anaconda3/lib/python3.9/site-packages/finrl/meta/data_processors/processor_yahoofinance.py:56: FutureWarning: The frame.append method is deprecated and will be removed from pandas in a future version. Use pandas.concat instead.\n",
      "  data_df = data_df.append(temp_df)\n",
      "/home/bassem/anaconda3/lib/python3.9/site-packages/finrl/meta/data_processors/processor_yahoofinance.py:56: FutureWarning: The frame.append method is deprecated and will be removed from pandas in a future version. Use pandas.concat instead.\n",
      "  data_df = data_df.append(temp_df)\n"
     ]
    },
    {
     "name": "stdout",
     "output_type": "stream",
     "text": [
      "[*********************100%***********************]  1 of 1 completed\n",
      "[*********************100%***********************]  1 of 1 completed\n"
     ]
    },
    {
     "name": "stderr",
     "output_type": "stream",
     "text": [
      "/home/bassem/anaconda3/lib/python3.9/site-packages/finrl/meta/data_processors/processor_yahoofinance.py:56: FutureWarning: The frame.append method is deprecated and will be removed from pandas in a future version. Use pandas.concat instead.\n",
      "  data_df = data_df.append(temp_df)\n",
      "/home/bassem/anaconda3/lib/python3.9/site-packages/finrl/meta/data_processors/processor_yahoofinance.py:56: FutureWarning: The frame.append method is deprecated and will be removed from pandas in a future version. Use pandas.concat instead.\n",
      "  data_df = data_df.append(temp_df)\n"
     ]
    },
    {
     "name": "stdout",
     "output_type": "stream",
     "text": [
      "[*********************100%***********************]  1 of 1 completed\n",
      "[*********************100%***********************]  1 of 1 completed\n"
     ]
    },
    {
     "name": "stderr",
     "output_type": "stream",
     "text": [
      "/home/bassem/anaconda3/lib/python3.9/site-packages/finrl/meta/data_processors/processor_yahoofinance.py:56: FutureWarning: The frame.append method is deprecated and will be removed from pandas in a future version. Use pandas.concat instead.\n",
      "  data_df = data_df.append(temp_df)\n",
      "/home/bassem/anaconda3/lib/python3.9/site-packages/finrl/meta/data_processors/processor_yahoofinance.py:56: FutureWarning: The frame.append method is deprecated and will be removed from pandas in a future version. Use pandas.concat instead.\n",
      "  data_df = data_df.append(temp_df)\n"
     ]
    },
    {
     "name": "stdout",
     "output_type": "stream",
     "text": [
      "[*********************100%***********************]  1 of 1 completed\n",
      "[*********************100%***********************]  1 of 1 completed\n"
     ]
    },
    {
     "name": "stderr",
     "output_type": "stream",
     "text": [
      "/home/bassem/anaconda3/lib/python3.9/site-packages/finrl/meta/data_processors/processor_yahoofinance.py:56: FutureWarning: The frame.append method is deprecated and will be removed from pandas in a future version. Use pandas.concat instead.\n",
      "  data_df = data_df.append(temp_df)\n",
      "/home/bassem/anaconda3/lib/python3.9/site-packages/finrl/meta/data_processors/processor_yahoofinance.py:56: FutureWarning: The frame.append method is deprecated and will be removed from pandas in a future version. Use pandas.concat instead.\n",
      "  data_df = data_df.append(temp_df)\n"
     ]
    },
    {
     "name": "stdout",
     "output_type": "stream",
     "text": [
      "[*********************100%***********************]  1 of 1 completed\n",
      "[*********************100%***********************]  1 of 1 completed\n"
     ]
    },
    {
     "name": "stderr",
     "output_type": "stream",
     "text": [
      "/home/bassem/anaconda3/lib/python3.9/site-packages/finrl/meta/data_processors/processor_yahoofinance.py:56: FutureWarning: The frame.append method is deprecated and will be removed from pandas in a future version. Use pandas.concat instead.\n",
      "  data_df = data_df.append(temp_df)\n",
      "/home/bassem/anaconda3/lib/python3.9/site-packages/finrl/meta/data_processors/processor_yahoofinance.py:56: FutureWarning: The frame.append method is deprecated and will be removed from pandas in a future version. Use pandas.concat instead.\n",
      "  data_df = data_df.append(temp_df)\n"
     ]
    },
    {
     "name": "stdout",
     "output_type": "stream",
     "text": [
      "[*********************100%***********************]  1 of 1 completed\n",
      "[*********************100%***********************]  1 of 1 completed\n"
     ]
    },
    {
     "name": "stderr",
     "output_type": "stream",
     "text": [
      "/home/bassem/anaconda3/lib/python3.9/site-packages/finrl/meta/data_processors/processor_yahoofinance.py:56: FutureWarning: The frame.append method is deprecated and will be removed from pandas in a future version. Use pandas.concat instead.\n",
      "  data_df = data_df.append(temp_df)\n",
      "/home/bassem/anaconda3/lib/python3.9/site-packages/finrl/meta/data_processors/processor_yahoofinance.py:56: FutureWarning: The frame.append method is deprecated and will be removed from pandas in a future version. Use pandas.concat instead.\n",
      "  data_df = data_df.append(temp_df)\n"
     ]
    },
    {
     "name": "stdout",
     "output_type": "stream",
     "text": [
      "[*********************100%***********************]  1 of 1 completed\n",
      "[*********************100%***********************]  1 of 1 completed\n"
     ]
    },
    {
     "name": "stderr",
     "output_type": "stream",
     "text": [
      "/home/bassem/anaconda3/lib/python3.9/site-packages/finrl/meta/data_processors/processor_yahoofinance.py:56: FutureWarning: The frame.append method is deprecated and will be removed from pandas in a future version. Use pandas.concat instead.\n",
      "  data_df = data_df.append(temp_df)\n",
      "/home/bassem/anaconda3/lib/python3.9/site-packages/finrl/meta/data_processors/processor_yahoofinance.py:56: FutureWarning: The frame.append method is deprecated and will be removed from pandas in a future version. Use pandas.concat instead.\n",
      "  data_df = data_df.append(temp_df)\n"
     ]
    },
    {
     "name": "stdout",
     "output_type": "stream",
     "text": [
      "[*********************100%***********************]  1 of 1 completed\n",
      "[*********************100%***********************]  1 of 1 completed\n"
     ]
    },
    {
     "name": "stderr",
     "output_type": "stream",
     "text": [
      "/home/bassem/anaconda3/lib/python3.9/site-packages/finrl/meta/data_processors/processor_yahoofinance.py:56: FutureWarning: The frame.append method is deprecated and will be removed from pandas in a future version. Use pandas.concat instead.\n",
      "  data_df = data_df.append(temp_df)\n",
      "/home/bassem/anaconda3/lib/python3.9/site-packages/finrl/meta/data_processors/processor_yahoofinance.py:56: FutureWarning: The frame.append method is deprecated and will be removed from pandas in a future version. Use pandas.concat instead.\n",
      "  data_df = data_df.append(temp_df)\n"
     ]
    },
    {
     "name": "stdout",
     "output_type": "stream",
     "text": [
      "[*********************100%***********************]  1 of 1 completed\n",
      "[*********************100%***********************]  1 of 1 completed\n"
     ]
    },
    {
     "name": "stderr",
     "output_type": "stream",
     "text": [
      "/home/bassem/anaconda3/lib/python3.9/site-packages/finrl/meta/data_processors/processor_yahoofinance.py:56: FutureWarning: The frame.append method is deprecated and will be removed from pandas in a future version. Use pandas.concat instead.\n",
      "  data_df = data_df.append(temp_df)\n",
      "/home/bassem/anaconda3/lib/python3.9/site-packages/finrl/meta/data_processors/processor_yahoofinance.py:56: FutureWarning: The frame.append method is deprecated and will be removed from pandas in a future version. Use pandas.concat instead.\n",
      "  data_df = data_df.append(temp_df)\n"
     ]
    },
    {
     "name": "stdout",
     "output_type": "stream",
     "text": [
      "[*********************100%***********************]  1 of 1 completed\n",
      "[*********************100%***********************]  1 of 1 completed\n"
     ]
    },
    {
     "name": "stderr",
     "output_type": "stream",
     "text": [
      "/home/bassem/anaconda3/lib/python3.9/site-packages/finrl/meta/data_processors/processor_yahoofinance.py:56: FutureWarning: The frame.append method is deprecated and will be removed from pandas in a future version. Use pandas.concat instead.\n",
      "  data_df = data_df.append(temp_df)\n",
      "/home/bassem/anaconda3/lib/python3.9/site-packages/finrl/meta/data_processors/processor_yahoofinance.py:56: FutureWarning: The frame.append method is deprecated and will be removed from pandas in a future version. Use pandas.concat instead.\n",
      "  data_df = data_df.append(temp_df)\n"
     ]
    },
    {
     "name": "stdout",
     "output_type": "stream",
     "text": [
      "[*********************100%***********************]  1 of 1 completed\n",
      "[*********************100%***********************]  1 of 1 completed\n"
     ]
    },
    {
     "name": "stderr",
     "output_type": "stream",
     "text": [
      "/home/bassem/anaconda3/lib/python3.9/site-packages/finrl/meta/data_processors/processor_yahoofinance.py:56: FutureWarning: The frame.append method is deprecated and will be removed from pandas in a future version. Use pandas.concat instead.\n",
      "  data_df = data_df.append(temp_df)\n",
      "/home/bassem/anaconda3/lib/python3.9/site-packages/finrl/meta/data_processors/processor_yahoofinance.py:56: FutureWarning: The frame.append method is deprecated and will be removed from pandas in a future version. Use pandas.concat instead.\n",
      "  data_df = data_df.append(temp_df)\n"
     ]
    },
    {
     "name": "stdout",
     "output_type": "stream",
     "text": [
      "[*********************100%***********************]  1 of 1 completed\n",
      "[*********************100%***********************]  1 of 1 completed\n"
     ]
    },
    {
     "name": "stderr",
     "output_type": "stream",
     "text": [
      "/home/bassem/anaconda3/lib/python3.9/site-packages/finrl/meta/data_processors/processor_yahoofinance.py:56: FutureWarning: The frame.append method is deprecated and will be removed from pandas in a future version. Use pandas.concat instead.\n",
      "  data_df = data_df.append(temp_df)\n",
      "/home/bassem/anaconda3/lib/python3.9/site-packages/finrl/meta/data_processors/processor_yahoofinance.py:56: FutureWarning: The frame.append method is deprecated and will be removed from pandas in a future version. Use pandas.concat instead.\n",
      "  data_df = data_df.append(temp_df)\n"
     ]
    },
    {
     "name": "stdout",
     "output_type": "stream",
     "text": [
      "[*********************100%***********************]  1 of 1 completed\n",
      "[*********************100%***********************]  1 of 1 completed\n",
      "Shape of DataFrame:  (8880, 9)\n",
      "Clean data for AAPL\n"
     ]
    },
    {
     "name": "stderr",
     "output_type": "stream",
     "text": [
      "/home/bassem/anaconda3/lib/python3.9/site-packages/finrl/meta/data_processors/processor_yahoofinance.py:56: FutureWarning: The frame.append method is deprecated and will be removed from pandas in a future version. Use pandas.concat instead.\n",
      "  data_df = data_df.append(temp_df)\n",
      "/home/bassem/anaconda3/lib/python3.9/site-packages/finrl/meta/data_processors/processor_yahoofinance.py:56: FutureWarning: The frame.append method is deprecated and will be removed from pandas in a future version. Use pandas.concat instead.\n",
      "  data_df = data_df.append(temp_df)\n"
     ]
    },
    {
     "name": "stdout",
     "output_type": "stream",
     "text": [
      "Data clean for AAPL is finished.\n",
      "Clean data for AMGN\n"
     ]
    },
    {
     "name": "stderr",
     "output_type": "stream",
     "text": [
      "/home/bassem/anaconda3/lib/python3.9/site-packages/finrl/meta/data_processors/processor_yahoofinance.py:165: FutureWarning: The frame.append method is deprecated and will be removed from pandas in a future version. Use pandas.concat instead.\n",
      "  new_df = new_df.append(tmp_df)\n",
      "/home/bassem/anaconda3/lib/python3.9/site-packages/finrl/meta/data_processors/processor_yahoofinance.py:165: FutureWarning: The frame.append method is deprecated and will be removed from pandas in a future version. Use pandas.concat instead.\n",
      "  new_df = new_df.append(tmp_df)\n"
     ]
    },
    {
     "name": "stdout",
     "output_type": "stream",
     "text": [
      "Data clean for AMGN is finished.\n",
      "Clean data for AXP\n",
      "Data clean for AXP is finished.\n",
      "Clean data for BA\n"
     ]
    },
    {
     "name": "stderr",
     "output_type": "stream",
     "text": [
      "/home/bassem/anaconda3/lib/python3.9/site-packages/finrl/meta/data_processors/processor_yahoofinance.py:165: FutureWarning: The frame.append method is deprecated and will be removed from pandas in a future version. Use pandas.concat instead.\n",
      "  new_df = new_df.append(tmp_df)\n",
      "/home/bassem/anaconda3/lib/python3.9/site-packages/finrl/meta/data_processors/processor_yahoofinance.py:165: FutureWarning: The frame.append method is deprecated and will be removed from pandas in a future version. Use pandas.concat instead.\n",
      "  new_df = new_df.append(tmp_df)\n"
     ]
    },
    {
     "name": "stdout",
     "output_type": "stream",
     "text": [
      "Data clean for BA is finished.\n",
      "Clean data for CAT\n",
      "Data clean for CAT is finished.\n",
      "Clean data for CRM\n"
     ]
    },
    {
     "name": "stderr",
     "output_type": "stream",
     "text": [
      "/home/bassem/anaconda3/lib/python3.9/site-packages/finrl/meta/data_processors/processor_yahoofinance.py:165: FutureWarning: The frame.append method is deprecated and will be removed from pandas in a future version. Use pandas.concat instead.\n",
      "  new_df = new_df.append(tmp_df)\n",
      "/home/bassem/anaconda3/lib/python3.9/site-packages/finrl/meta/data_processors/processor_yahoofinance.py:165: FutureWarning: The frame.append method is deprecated and will be removed from pandas in a future version. Use pandas.concat instead.\n",
      "  new_df = new_df.append(tmp_df)\n"
     ]
    },
    {
     "name": "stdout",
     "output_type": "stream",
     "text": [
      "Data clean for CRM is finished.\n",
      "Clean data for CSCO\n",
      "Data clean for CSCO is finished.\n",
      "Clean data for CVX\n"
     ]
    },
    {
     "name": "stderr",
     "output_type": "stream",
     "text": [
      "/home/bassem/anaconda3/lib/python3.9/site-packages/finrl/meta/data_processors/processor_yahoofinance.py:165: FutureWarning: The frame.append method is deprecated and will be removed from pandas in a future version. Use pandas.concat instead.\n",
      "  new_df = new_df.append(tmp_df)\n",
      "/home/bassem/anaconda3/lib/python3.9/site-packages/finrl/meta/data_processors/processor_yahoofinance.py:165: FutureWarning: The frame.append method is deprecated and will be removed from pandas in a future version. Use pandas.concat instead.\n",
      "  new_df = new_df.append(tmp_df)\n"
     ]
    },
    {
     "name": "stdout",
     "output_type": "stream",
     "text": [
      "Data clean for CVX is finished.\n",
      "Clean data for DIS\n",
      "Data clean for DIS is finished.\n",
      "Clean data for DOW\n"
     ]
    },
    {
     "name": "stderr",
     "output_type": "stream",
     "text": [
      "/home/bassem/anaconda3/lib/python3.9/site-packages/finrl/meta/data_processors/processor_yahoofinance.py:165: FutureWarning: The frame.append method is deprecated and will be removed from pandas in a future version. Use pandas.concat instead.\n",
      "  new_df = new_df.append(tmp_df)\n",
      "/home/bassem/anaconda3/lib/python3.9/site-packages/finrl/meta/data_processors/processor_yahoofinance.py:165: FutureWarning: The frame.append method is deprecated and will be removed from pandas in a future version. Use pandas.concat instead.\n",
      "  new_df = new_df.append(tmp_df)\n"
     ]
    },
    {
     "name": "stdout",
     "output_type": "stream",
     "text": [
      "Data clean for DOW is finished.\n",
      "Clean data for GS\n",
      "Data clean for GS is finished.\n",
      "Clean data for HD\n"
     ]
    },
    {
     "name": "stderr",
     "output_type": "stream",
     "text": [
      "/home/bassem/anaconda3/lib/python3.9/site-packages/finrl/meta/data_processors/processor_yahoofinance.py:165: FutureWarning: The frame.append method is deprecated and will be removed from pandas in a future version. Use pandas.concat instead.\n",
      "  new_df = new_df.append(tmp_df)\n",
      "/home/bassem/anaconda3/lib/python3.9/site-packages/finrl/meta/data_processors/processor_yahoofinance.py:165: FutureWarning: The frame.append method is deprecated and will be removed from pandas in a future version. Use pandas.concat instead.\n",
      "  new_df = new_df.append(tmp_df)\n"
     ]
    },
    {
     "name": "stdout",
     "output_type": "stream",
     "text": [
      "Data clean for HD is finished.\n",
      "Clean data for HON\n",
      "Data clean for HON is finished.\n",
      "Clean data for IBM\n"
     ]
    },
    {
     "name": "stderr",
     "output_type": "stream",
     "text": [
      "/home/bassem/anaconda3/lib/python3.9/site-packages/finrl/meta/data_processors/processor_yahoofinance.py:165: FutureWarning: The frame.append method is deprecated and will be removed from pandas in a future version. Use pandas.concat instead.\n",
      "  new_df = new_df.append(tmp_df)\n",
      "/home/bassem/anaconda3/lib/python3.9/site-packages/finrl/meta/data_processors/processor_yahoofinance.py:165: FutureWarning: The frame.append method is deprecated and will be removed from pandas in a future version. Use pandas.concat instead.\n",
      "  new_df = new_df.append(tmp_df)\n"
     ]
    },
    {
     "name": "stdout",
     "output_type": "stream",
     "text": [
      "Data clean for IBM is finished.\n",
      "Clean data for INTC\n",
      "Data clean for INTC is finished.\n",
      "Clean data for JNJ\n"
     ]
    },
    {
     "name": "stderr",
     "output_type": "stream",
     "text": [
      "/home/bassem/anaconda3/lib/python3.9/site-packages/finrl/meta/data_processors/processor_yahoofinance.py:165: FutureWarning: The frame.append method is deprecated and will be removed from pandas in a future version. Use pandas.concat instead.\n",
      "  new_df = new_df.append(tmp_df)\n",
      "/home/bassem/anaconda3/lib/python3.9/site-packages/finrl/meta/data_processors/processor_yahoofinance.py:165: FutureWarning: The frame.append method is deprecated and will be removed from pandas in a future version. Use pandas.concat instead.\n",
      "  new_df = new_df.append(tmp_df)\n"
     ]
    },
    {
     "name": "stdout",
     "output_type": "stream",
     "text": [
      "Data clean for JNJ is finished.\n",
      "Clean data for JPM\n",
      "Data clean for JPM is finished.\n",
      "Clean data for KO\n"
     ]
    },
    {
     "name": "stderr",
     "output_type": "stream",
     "text": [
      "/home/bassem/anaconda3/lib/python3.9/site-packages/finrl/meta/data_processors/processor_yahoofinance.py:165: FutureWarning: The frame.append method is deprecated and will be removed from pandas in a future version. Use pandas.concat instead.\n",
      "  new_df = new_df.append(tmp_df)\n",
      "/home/bassem/anaconda3/lib/python3.9/site-packages/finrl/meta/data_processors/processor_yahoofinance.py:165: FutureWarning: The frame.append method is deprecated and will be removed from pandas in a future version. Use pandas.concat instead.\n",
      "  new_df = new_df.append(tmp_df)\n"
     ]
    },
    {
     "name": "stdout",
     "output_type": "stream",
     "text": [
      "Data clean for KO is finished.\n",
      "Clean data for MCD\n",
      "Data clean for MCD is finished.\n",
      "Clean data for MMM\n"
     ]
    },
    {
     "name": "stderr",
     "output_type": "stream",
     "text": [
      "/home/bassem/anaconda3/lib/python3.9/site-packages/finrl/meta/data_processors/processor_yahoofinance.py:165: FutureWarning: The frame.append method is deprecated and will be removed from pandas in a future version. Use pandas.concat instead.\n",
      "  new_df = new_df.append(tmp_df)\n",
      "/home/bassem/anaconda3/lib/python3.9/site-packages/finrl/meta/data_processors/processor_yahoofinance.py:165: FutureWarning: The frame.append method is deprecated and will be removed from pandas in a future version. Use pandas.concat instead.\n",
      "  new_df = new_df.append(tmp_df)\n"
     ]
    },
    {
     "name": "stdout",
     "output_type": "stream",
     "text": [
      "Data clean for MMM is finished.\n",
      "Clean data for MRK\n",
      "Data clean for MRK is finished.\n",
      "Clean data for MSFT\n"
     ]
    },
    {
     "name": "stderr",
     "output_type": "stream",
     "text": [
      "/home/bassem/anaconda3/lib/python3.9/site-packages/finrl/meta/data_processors/processor_yahoofinance.py:165: FutureWarning: The frame.append method is deprecated and will be removed from pandas in a future version. Use pandas.concat instead.\n",
      "  new_df = new_df.append(tmp_df)\n",
      "/home/bassem/anaconda3/lib/python3.9/site-packages/finrl/meta/data_processors/processor_yahoofinance.py:165: FutureWarning: The frame.append method is deprecated and will be removed from pandas in a future version. Use pandas.concat instead.\n",
      "  new_df = new_df.append(tmp_df)\n"
     ]
    },
    {
     "name": "stdout",
     "output_type": "stream",
     "text": [
      "Data clean for MSFT is finished.\n",
      "Clean data for NKE\n",
      "Data clean for NKE is finished.\n",
      "Clean data for PG\n"
     ]
    },
    {
     "name": "stderr",
     "output_type": "stream",
     "text": [
      "/home/bassem/anaconda3/lib/python3.9/site-packages/finrl/meta/data_processors/processor_yahoofinance.py:165: FutureWarning: The frame.append method is deprecated and will be removed from pandas in a future version. Use pandas.concat instead.\n",
      "  new_df = new_df.append(tmp_df)\n",
      "/home/bassem/anaconda3/lib/python3.9/site-packages/finrl/meta/data_processors/processor_yahoofinance.py:165: FutureWarning: The frame.append method is deprecated and will be removed from pandas in a future version. Use pandas.concat instead.\n",
      "  new_df = new_df.append(tmp_df)\n"
     ]
    },
    {
     "name": "stdout",
     "output_type": "stream",
     "text": [
      "Data clean for PG is finished.\n",
      "Clean data for TRV\n",
      "Data clean for TRV is finished.\n",
      "Clean data for UNH\n"
     ]
    },
    {
     "name": "stderr",
     "output_type": "stream",
     "text": [
      "/home/bassem/anaconda3/lib/python3.9/site-packages/finrl/meta/data_processors/processor_yahoofinance.py:165: FutureWarning: The frame.append method is deprecated and will be removed from pandas in a future version. Use pandas.concat instead.\n",
      "  new_df = new_df.append(tmp_df)\n",
      "/home/bassem/anaconda3/lib/python3.9/site-packages/finrl/meta/data_processors/processor_yahoofinance.py:165: FutureWarning: The frame.append method is deprecated and will be removed from pandas in a future version. Use pandas.concat instead.\n",
      "  new_df = new_df.append(tmp_df)\n"
     ]
    },
    {
     "name": "stdout",
     "output_type": "stream",
     "text": [
      "Data clean for UNH is finished.\n",
      "Clean data for V\n",
      "Data clean for V is finished.\n",
      "Clean data for VZ\n"
     ]
    },
    {
     "name": "stderr",
     "output_type": "stream",
     "text": [
      "/home/bassem/anaconda3/lib/python3.9/site-packages/finrl/meta/data_processors/processor_yahoofinance.py:165: FutureWarning: The frame.append method is deprecated and will be removed from pandas in a future version. Use pandas.concat instead.\n",
      "  new_df = new_df.append(tmp_df)\n",
      "/home/bassem/anaconda3/lib/python3.9/site-packages/finrl/meta/data_processors/processor_yahoofinance.py:165: FutureWarning: The frame.append method is deprecated and will be removed from pandas in a future version. Use pandas.concat instead.\n",
      "  new_df = new_df.append(tmp_df)\n"
     ]
    },
    {
     "name": "stdout",
     "output_type": "stream",
     "text": [
      "Data clean for VZ is finished.\n",
      "Clean data for WBA\n",
      "Data clean for WBA is finished.\n",
      "Clean data for WMT\n"
     ]
    },
    {
     "name": "stderr",
     "output_type": "stream",
     "text": [
      "/home/bassem/anaconda3/lib/python3.9/site-packages/finrl/meta/data_processors/processor_yahoofinance.py:165: FutureWarning: The frame.append method is deprecated and will be removed from pandas in a future version. Use pandas.concat instead.\n",
      "  new_df = new_df.append(tmp_df)\n",
      "/home/bassem/anaconda3/lib/python3.9/site-packages/finrl/meta/data_processors/processor_yahoofinance.py:165: FutureWarning: The frame.append method is deprecated and will be removed from pandas in a future version. Use pandas.concat instead.\n",
      "  new_df = new_df.append(tmp_df)\n",
      "/home/bassem/anaconda3/lib/python3.9/site-packages/finrl/meta/data_processors/processor_yahoofinance.py:199: FutureWarning: The frame.append method is deprecated and will be removed from pandas in a future version. Use pandas.concat instead.\n",
      "  indicator_df = indicator_df.append(\n"
     ]
    },
    {
     "name": "stdout",
     "output_type": "stream",
     "text": [
      "Data clean for WMT is finished.\n",
      "Data clean all finished!\n"
     ]
    },
    {
     "name": "stderr",
     "output_type": "stream",
     "text": [
      "/home/bassem/anaconda3/lib/python3.9/site-packages/finrl/meta/data_processors/processor_yahoofinance.py:199: FutureWarning: The frame.append method is deprecated and will be removed from pandas in a future version. Use pandas.concat instead.\n",
      "  indicator_df = indicator_df.append(\n",
      "/home/bassem/anaconda3/lib/python3.9/site-packages/finrl/meta/data_processors/processor_yahoofinance.py:199: FutureWarning: The frame.append method is deprecated and will be removed from pandas in a future version. Use pandas.concat instead.\n",
      "  indicator_df = indicator_df.append(\n",
      "/home/bassem/anaconda3/lib/python3.9/site-packages/finrl/meta/data_processors/processor_yahoofinance.py:199: FutureWarning: The frame.append method is deprecated and will be removed from pandas in a future version. Use pandas.concat instead.\n",
      "  indicator_df = indicator_df.append(\n",
      "/home/bassem/anaconda3/lib/python3.9/site-packages/finrl/meta/data_processors/processor_yahoofinance.py:199: FutureWarning: The frame.append method is deprecated and will be removed from pandas in a future version. Use pandas.concat instead.\n",
      "  indicator_df = indicator_df.append(\n",
      "/home/bassem/anaconda3/lib/python3.9/site-packages/finrl/meta/data_processors/processor_yahoofinance.py:199: FutureWarning: The frame.append method is deprecated and will be removed from pandas in a future version. Use pandas.concat instead.\n",
      "  indicator_df = indicator_df.append(\n",
      "/home/bassem/anaconda3/lib/python3.9/site-packages/finrl/meta/data_processors/processor_yahoofinance.py:199: FutureWarning: The frame.append method is deprecated and will be removed from pandas in a future version. Use pandas.concat instead.\n",
      "  indicator_df = indicator_df.append(\n",
      "/home/bassem/anaconda3/lib/python3.9/site-packages/finrl/meta/data_processors/processor_yahoofinance.py:199: FutureWarning: The frame.append method is deprecated and will be removed from pandas in a future version. Use pandas.concat instead.\n",
      "  indicator_df = indicator_df.append(\n",
      "/home/bassem/anaconda3/lib/python3.9/site-packages/finrl/meta/data_processors/processor_yahoofinance.py:199: FutureWarning: The frame.append method is deprecated and will be removed from pandas in a future version. Use pandas.concat instead.\n",
      "  indicator_df = indicator_df.append(\n",
      "/home/bassem/anaconda3/lib/python3.9/site-packages/finrl/meta/data_processors/processor_yahoofinance.py:199: FutureWarning: The frame.append method is deprecated and will be removed from pandas in a future version. Use pandas.concat instead.\n",
      "  indicator_df = indicator_df.append(\n",
      "/home/bassem/anaconda3/lib/python3.9/site-packages/finrl/meta/data_processors/processor_yahoofinance.py:199: FutureWarning: The frame.append method is deprecated and will be removed from pandas in a future version. Use pandas.concat instead.\n",
      "  indicator_df = indicator_df.append(\n",
      "/home/bassem/anaconda3/lib/python3.9/site-packages/finrl/meta/data_processors/processor_yahoofinance.py:199: FutureWarning: The frame.append method is deprecated and will be removed from pandas in a future version. Use pandas.concat instead.\n",
      "  indicator_df = indicator_df.append(\n",
      "/home/bassem/anaconda3/lib/python3.9/site-packages/finrl/meta/data_processors/processor_yahoofinance.py:199: FutureWarning: The frame.append method is deprecated and will be removed from pandas in a future version. Use pandas.concat instead.\n",
      "  indicator_df = indicator_df.append(\n",
      "/home/bassem/anaconda3/lib/python3.9/site-packages/finrl/meta/data_processors/processor_yahoofinance.py:199: FutureWarning: The frame.append method is deprecated and will be removed from pandas in a future version. Use pandas.concat instead.\n",
      "  indicator_df = indicator_df.append(\n",
      "/home/bassem/anaconda3/lib/python3.9/site-packages/finrl/meta/data_processors/processor_yahoofinance.py:199: FutureWarning: The frame.append method is deprecated and will be removed from pandas in a future version. Use pandas.concat instead.\n",
      "  indicator_df = indicator_df.append(\n",
      "/home/bassem/anaconda3/lib/python3.9/site-packages/finrl/meta/data_processors/processor_yahoofinance.py:199: FutureWarning: The frame.append method is deprecated and will be removed from pandas in a future version. Use pandas.concat instead.\n",
      "  indicator_df = indicator_df.append(\n",
      "/home/bassem/anaconda3/lib/python3.9/site-packages/finrl/meta/data_processors/processor_yahoofinance.py:199: FutureWarning: The frame.append method is deprecated and will be removed from pandas in a future version. Use pandas.concat instead.\n",
      "  indicator_df = indicator_df.append(\n",
      "/home/bassem/anaconda3/lib/python3.9/site-packages/finrl/meta/data_processors/processor_yahoofinance.py:199: FutureWarning: The frame.append method is deprecated and will be removed from pandas in a future version. Use pandas.concat instead.\n",
      "  indicator_df = indicator_df.append(\n",
      "/home/bassem/anaconda3/lib/python3.9/site-packages/finrl/meta/data_processors/processor_yahoofinance.py:199: FutureWarning: The frame.append method is deprecated and will be removed from pandas in a future version. Use pandas.concat instead.\n",
      "  indicator_df = indicator_df.append(\n",
      "/home/bassem/anaconda3/lib/python3.9/site-packages/finrl/meta/data_processors/processor_yahoofinance.py:199: FutureWarning: The frame.append method is deprecated and will be removed from pandas in a future version. Use pandas.concat instead.\n",
      "  indicator_df = indicator_df.append(\n",
      "/home/bassem/anaconda3/lib/python3.9/site-packages/finrl/meta/data_processors/processor_yahoofinance.py:199: FutureWarning: The frame.append method is deprecated and will be removed from pandas in a future version. Use pandas.concat instead.\n",
      "  indicator_df = indicator_df.append(\n",
      "/home/bassem/anaconda3/lib/python3.9/site-packages/finrl/meta/data_processors/processor_yahoofinance.py:199: FutureWarning: The frame.append method is deprecated and will be removed from pandas in a future version. Use pandas.concat instead.\n",
      "  indicator_df = indicator_df.append(\n",
      "/home/bassem/anaconda3/lib/python3.9/site-packages/finrl/meta/data_processors/processor_yahoofinance.py:199: FutureWarning: The frame.append method is deprecated and will be removed from pandas in a future version. Use pandas.concat instead.\n",
      "  indicator_df = indicator_df.append(\n",
      "/home/bassem/anaconda3/lib/python3.9/site-packages/finrl/meta/data_processors/processor_yahoofinance.py:199: FutureWarning: The frame.append method is deprecated and will be removed from pandas in a future version. Use pandas.concat instead.\n",
      "  indicator_df = indicator_df.append(\n",
      "/home/bassem/anaconda3/lib/python3.9/site-packages/finrl/meta/data_processors/processor_yahoofinance.py:199: FutureWarning: The frame.append method is deprecated and will be removed from pandas in a future version. Use pandas.concat instead.\n",
      "  indicator_df = indicator_df.append(\n",
      "/home/bassem/anaconda3/lib/python3.9/site-packages/finrl/meta/data_processors/processor_yahoofinance.py:199: FutureWarning: The frame.append method is deprecated and will be removed from pandas in a future version. Use pandas.concat instead.\n",
      "  indicator_df = indicator_df.append(\n",
      "/home/bassem/anaconda3/lib/python3.9/site-packages/finrl/meta/data_processors/processor_yahoofinance.py:199: FutureWarning: The frame.append method is deprecated and will be removed from pandas in a future version. Use pandas.concat instead.\n",
      "  indicator_df = indicator_df.append(\n",
      "/home/bassem/anaconda3/lib/python3.9/site-packages/finrl/meta/data_processors/processor_yahoofinance.py:199: FutureWarning: The frame.append method is deprecated and will be removed from pandas in a future version. Use pandas.concat instead.\n",
      "  indicator_df = indicator_df.append(\n",
      "/home/bassem/anaconda3/lib/python3.9/site-packages/finrl/meta/data_processors/processor_yahoofinance.py:199: FutureWarning: The frame.append method is deprecated and will be removed from pandas in a future version. Use pandas.concat instead.\n",
      "  indicator_df = indicator_df.append(\n",
      "/home/bassem/anaconda3/lib/python3.9/site-packages/finrl/meta/data_processors/processor_yahoofinance.py:199: FutureWarning: The frame.append method is deprecated and will be removed from pandas in a future version. Use pandas.concat instead.\n",
      "  indicator_df = indicator_df.append(\n",
      "/home/bassem/anaconda3/lib/python3.9/site-packages/finrl/meta/data_processors/processor_yahoofinance.py:199: FutureWarning: The frame.append method is deprecated and will be removed from pandas in a future version. Use pandas.concat instead.\n",
      "  indicator_df = indicator_df.append(\n",
      "/home/bassem/anaconda3/lib/python3.9/site-packages/finrl/meta/data_processors/processor_yahoofinance.py:199: FutureWarning: The frame.append method is deprecated and will be removed from pandas in a future version. Use pandas.concat instead.\n",
      "  indicator_df = indicator_df.append(\n",
      "/home/bassem/anaconda3/lib/python3.9/site-packages/finrl/meta/data_processors/processor_yahoofinance.py:199: FutureWarning: The frame.append method is deprecated and will be removed from pandas in a future version. Use pandas.concat instead.\n",
      "  indicator_df = indicator_df.append(\n",
      "/home/bassem/anaconda3/lib/python3.9/site-packages/finrl/meta/data_processors/processor_yahoofinance.py:199: FutureWarning: The frame.append method is deprecated and will be removed from pandas in a future version. Use pandas.concat instead.\n",
      "  indicator_df = indicator_df.append(\n",
      "/home/bassem/anaconda3/lib/python3.9/site-packages/finrl/meta/data_processors/processor_yahoofinance.py:199: FutureWarning: The frame.append method is deprecated and will be removed from pandas in a future version. Use pandas.concat instead.\n",
      "  indicator_df = indicator_df.append(\n",
      "/home/bassem/anaconda3/lib/python3.9/site-packages/finrl/meta/data_processors/processor_yahoofinance.py:199: FutureWarning: The frame.append method is deprecated and will be removed from pandas in a future version. Use pandas.concat instead.\n",
      "  indicator_df = indicator_df.append(\n",
      "/home/bassem/anaconda3/lib/python3.9/site-packages/finrl/meta/data_processors/processor_yahoofinance.py:199: FutureWarning: The frame.append method is deprecated and will be removed from pandas in a future version. Use pandas.concat instead.\n",
      "  indicator_df = indicator_df.append(\n",
      "/home/bassem/anaconda3/lib/python3.9/site-packages/finrl/meta/data_processors/processor_yahoofinance.py:199: FutureWarning: The frame.append method is deprecated and will be removed from pandas in a future version. Use pandas.concat instead.\n",
      "  indicator_df = indicator_df.append(\n",
      "/home/bassem/anaconda3/lib/python3.9/site-packages/finrl/meta/data_processors/processor_yahoofinance.py:199: FutureWarning: The frame.append method is deprecated and will be removed from pandas in a future version. Use pandas.concat instead.\n",
      "  indicator_df = indicator_df.append(\n",
      "/home/bassem/anaconda3/lib/python3.9/site-packages/finrl/meta/data_processors/processor_yahoofinance.py:199: FutureWarning: The frame.append method is deprecated and will be removed from pandas in a future version. Use pandas.concat instead.\n",
      "  indicator_df = indicator_df.append(\n",
      "/home/bassem/anaconda3/lib/python3.9/site-packages/finrl/meta/data_processors/processor_yahoofinance.py:199: FutureWarning: The frame.append method is deprecated and will be removed from pandas in a future version. Use pandas.concat instead.\n",
      "  indicator_df = indicator_df.append(\n",
      "/home/bassem/anaconda3/lib/python3.9/site-packages/finrl/meta/data_processors/processor_yahoofinance.py:199: FutureWarning: The frame.append method is deprecated and will be removed from pandas in a future version. Use pandas.concat instead.\n",
      "  indicator_df = indicator_df.append(\n",
      "/home/bassem/anaconda3/lib/python3.9/site-packages/finrl/meta/data_processors/processor_yahoofinance.py:199: FutureWarning: The frame.append method is deprecated and will be removed from pandas in a future version. Use pandas.concat instead.\n",
      "  indicator_df = indicator_df.append(\n",
      "/home/bassem/anaconda3/lib/python3.9/site-packages/finrl/meta/data_processors/processor_yahoofinance.py:199: FutureWarning: The frame.append method is deprecated and will be removed from pandas in a future version. Use pandas.concat instead.\n",
      "  indicator_df = indicator_df.append(\n",
      "/home/bassem/anaconda3/lib/python3.9/site-packages/finrl/meta/data_processors/processor_yahoofinance.py:199: FutureWarning: The frame.append method is deprecated and will be removed from pandas in a future version. Use pandas.concat instead.\n",
      "  indicator_df = indicator_df.append(\n",
      "/home/bassem/anaconda3/lib/python3.9/site-packages/finrl/meta/data_processors/processor_yahoofinance.py:199: FutureWarning: The frame.append method is deprecated and will be removed from pandas in a future version. Use pandas.concat instead.\n",
      "  indicator_df = indicator_df.append(\n",
      "/home/bassem/anaconda3/lib/python3.9/site-packages/finrl/meta/data_processors/processor_yahoofinance.py:199: FutureWarning: The frame.append method is deprecated and will be removed from pandas in a future version. Use pandas.concat instead.\n",
      "  indicator_df = indicator_df.append(\n",
      "/home/bassem/anaconda3/lib/python3.9/site-packages/finrl/meta/data_processors/processor_yahoofinance.py:199: FutureWarning: The frame.append method is deprecated and will be removed from pandas in a future version. Use pandas.concat instead.\n",
      "  indicator_df = indicator_df.append(\n",
      "/home/bassem/anaconda3/lib/python3.9/site-packages/finrl/meta/data_processors/processor_yahoofinance.py:199: FutureWarning: The frame.append method is deprecated and will be removed from pandas in a future version. Use pandas.concat instead.\n",
      "  indicator_df = indicator_df.append(\n",
      "/home/bassem/anaconda3/lib/python3.9/site-packages/finrl/meta/data_processors/processor_yahoofinance.py:199: FutureWarning: The frame.append method is deprecated and will be removed from pandas in a future version. Use pandas.concat instead.\n",
      "  indicator_df = indicator_df.append(\n",
      "/home/bassem/anaconda3/lib/python3.9/site-packages/finrl/meta/data_processors/processor_yahoofinance.py:199: FutureWarning: The frame.append method is deprecated and will be removed from pandas in a future version. Use pandas.concat instead.\n",
      "  indicator_df = indicator_df.append(\n",
      "/home/bassem/anaconda3/lib/python3.9/site-packages/finrl/meta/data_processors/processor_yahoofinance.py:199: FutureWarning: The frame.append method is deprecated and will be removed from pandas in a future version. Use pandas.concat instead.\n",
      "  indicator_df = indicator_df.append(\n",
      "/home/bassem/anaconda3/lib/python3.9/site-packages/finrl/meta/data_processors/processor_yahoofinance.py:199: FutureWarning: The frame.append method is deprecated and will be removed from pandas in a future version. Use pandas.concat instead.\n",
      "  indicator_df = indicator_df.append(\n",
      "/home/bassem/anaconda3/lib/python3.9/site-packages/finrl/meta/data_processors/processor_yahoofinance.py:199: FutureWarning: The frame.append method is deprecated and will be removed from pandas in a future version. Use pandas.concat instead.\n",
      "  indicator_df = indicator_df.append(\n",
      "/home/bassem/anaconda3/lib/python3.9/site-packages/finrl/meta/data_processors/processor_yahoofinance.py:199: FutureWarning: The frame.append method is deprecated and will be removed from pandas in a future version. Use pandas.concat instead.\n",
      "  indicator_df = indicator_df.append(\n",
      "/home/bassem/anaconda3/lib/python3.9/site-packages/finrl/meta/data_processors/processor_yahoofinance.py:199: FutureWarning: The frame.append method is deprecated and will be removed from pandas in a future version. Use pandas.concat instead.\n",
      "  indicator_df = indicator_df.append(\n",
      "/home/bassem/anaconda3/lib/python3.9/site-packages/finrl/meta/data_processors/processor_yahoofinance.py:199: FutureWarning: The frame.append method is deprecated and will be removed from pandas in a future version. Use pandas.concat instead.\n",
      "  indicator_df = indicator_df.append(\n",
      "/home/bassem/anaconda3/lib/python3.9/site-packages/finrl/meta/data_processors/processor_yahoofinance.py:199: FutureWarning: The frame.append method is deprecated and will be removed from pandas in a future version. Use pandas.concat instead.\n",
      "  indicator_df = indicator_df.append(\n",
      "/home/bassem/anaconda3/lib/python3.9/site-packages/finrl/meta/data_processors/processor_yahoofinance.py:199: FutureWarning: The frame.append method is deprecated and will be removed from pandas in a future version. Use pandas.concat instead.\n",
      "  indicator_df = indicator_df.append(\n",
      "/home/bassem/anaconda3/lib/python3.9/site-packages/finrl/meta/data_processors/processor_yahoofinance.py:199: FutureWarning: The frame.append method is deprecated and will be removed from pandas in a future version. Use pandas.concat instead.\n",
      "  indicator_df = indicator_df.append(\n",
      "/home/bassem/anaconda3/lib/python3.9/site-packages/finrl/meta/data_processors/processor_yahoofinance.py:199: FutureWarning: The frame.append method is deprecated and will be removed from pandas in a future version. Use pandas.concat instead.\n",
      "  indicator_df = indicator_df.append(\n",
      "/home/bassem/anaconda3/lib/python3.9/site-packages/finrl/meta/data_processors/processor_yahoofinance.py:199: FutureWarning: The frame.append method is deprecated and will be removed from pandas in a future version. Use pandas.concat instead.\n",
      "  indicator_df = indicator_df.append(\n",
      "/home/bassem/anaconda3/lib/python3.9/site-packages/finrl/meta/data_processors/processor_yahoofinance.py:199: FutureWarning: The frame.append method is deprecated and will be removed from pandas in a future version. Use pandas.concat instead.\n",
      "  indicator_df = indicator_df.append(\n",
      "/home/bassem/anaconda3/lib/python3.9/site-packages/finrl/meta/data_processors/processor_yahoofinance.py:199: FutureWarning: The frame.append method is deprecated and will be removed from pandas in a future version. Use pandas.concat instead.\n",
      "  indicator_df = indicator_df.append(\n",
      "/home/bassem/anaconda3/lib/python3.9/site-packages/finrl/meta/data_processors/processor_yahoofinance.py:199: FutureWarning: The frame.append method is deprecated and will be removed from pandas in a future version. Use pandas.concat instead.\n",
      "  indicator_df = indicator_df.append(\n",
      "/home/bassem/anaconda3/lib/python3.9/site-packages/finrl/meta/data_processors/processor_yahoofinance.py:199: FutureWarning: The frame.append method is deprecated and will be removed from pandas in a future version. Use pandas.concat instead.\n",
      "  indicator_df = indicator_df.append(\n",
      "/home/bassem/anaconda3/lib/python3.9/site-packages/finrl/meta/data_processors/processor_yahoofinance.py:199: FutureWarning: The frame.append method is deprecated and will be removed from pandas in a future version. Use pandas.concat instead.\n",
      "  indicator_df = indicator_df.append(\n",
      "/home/bassem/anaconda3/lib/python3.9/site-packages/finrl/meta/data_processors/processor_yahoofinance.py:199: FutureWarning: The frame.append method is deprecated and will be removed from pandas in a future version. Use pandas.concat instead.\n",
      "  indicator_df = indicator_df.append(\n",
      "/home/bassem/anaconda3/lib/python3.9/site-packages/finrl/meta/data_processors/processor_yahoofinance.py:199: FutureWarning: The frame.append method is deprecated and will be removed from pandas in a future version. Use pandas.concat instead.\n",
      "  indicator_df = indicator_df.append(\n",
      "/home/bassem/anaconda3/lib/python3.9/site-packages/finrl/meta/data_processors/processor_yahoofinance.py:199: FutureWarning: The frame.append method is deprecated and will be removed from pandas in a future version. Use pandas.concat instead.\n",
      "  indicator_df = indicator_df.append(\n",
      "/home/bassem/anaconda3/lib/python3.9/site-packages/finrl/meta/data_processors/processor_yahoofinance.py:199: FutureWarning: The frame.append method is deprecated and will be removed from pandas in a future version. Use pandas.concat instead.\n",
      "  indicator_df = indicator_df.append(\n",
      "/home/bassem/anaconda3/lib/python3.9/site-packages/finrl/meta/data_processors/processor_yahoofinance.py:199: FutureWarning: The frame.append method is deprecated and will be removed from pandas in a future version. Use pandas.concat instead.\n",
      "  indicator_df = indicator_df.append(\n",
      "/home/bassem/anaconda3/lib/python3.9/site-packages/finrl/meta/data_processors/processor_yahoofinance.py:199: FutureWarning: The frame.append method is deprecated and will be removed from pandas in a future version. Use pandas.concat instead.\n",
      "  indicator_df = indicator_df.append(\n",
      "/home/bassem/anaconda3/lib/python3.9/site-packages/finrl/meta/data_processors/processor_yahoofinance.py:199: FutureWarning: The frame.append method is deprecated and will be removed from pandas in a future version. Use pandas.concat instead.\n",
      "  indicator_df = indicator_df.append(\n",
      "/home/bassem/anaconda3/lib/python3.9/site-packages/finrl/meta/data_processors/processor_yahoofinance.py:199: FutureWarning: The frame.append method is deprecated and will be removed from pandas in a future version. Use pandas.concat instead.\n",
      "  indicator_df = indicator_df.append(\n",
      "/home/bassem/anaconda3/lib/python3.9/site-packages/finrl/meta/data_processors/processor_yahoofinance.py:199: FutureWarning: The frame.append method is deprecated and will be removed from pandas in a future version. Use pandas.concat instead.\n",
      "  indicator_df = indicator_df.append(\n",
      "/home/bassem/anaconda3/lib/python3.9/site-packages/finrl/meta/data_processors/processor_yahoofinance.py:199: FutureWarning: The frame.append method is deprecated and will be removed from pandas in a future version. Use pandas.concat instead.\n",
      "  indicator_df = indicator_df.append(\n",
      "/home/bassem/anaconda3/lib/python3.9/site-packages/finrl/meta/data_processors/processor_yahoofinance.py:199: FutureWarning: The frame.append method is deprecated and will be removed from pandas in a future version. Use pandas.concat instead.\n",
      "  indicator_df = indicator_df.append(\n",
      "/home/bassem/anaconda3/lib/python3.9/site-packages/finrl/meta/data_processors/processor_yahoofinance.py:199: FutureWarning: The frame.append method is deprecated and will be removed from pandas in a future version. Use pandas.concat instead.\n",
      "  indicator_df = indicator_df.append(\n",
      "/home/bassem/anaconda3/lib/python3.9/site-packages/finrl/meta/data_processors/processor_yahoofinance.py:199: FutureWarning: The frame.append method is deprecated and will be removed from pandas in a future version. Use pandas.concat instead.\n",
      "  indicator_df = indicator_df.append(\n",
      "/home/bassem/anaconda3/lib/python3.9/site-packages/finrl/meta/data_processors/processor_yahoofinance.py:199: FutureWarning: The frame.append method is deprecated and will be removed from pandas in a future version. Use pandas.concat instead.\n",
      "  indicator_df = indicator_df.append(\n",
      "/home/bassem/anaconda3/lib/python3.9/site-packages/finrl/meta/data_processors/processor_yahoofinance.py:199: FutureWarning: The frame.append method is deprecated and will be removed from pandas in a future version. Use pandas.concat instead.\n",
      "  indicator_df = indicator_df.append(\n",
      "/home/bassem/anaconda3/lib/python3.9/site-packages/finrl/meta/data_processors/processor_yahoofinance.py:199: FutureWarning: The frame.append method is deprecated and will be removed from pandas in a future version. Use pandas.concat instead.\n",
      "  indicator_df = indicator_df.append(\n",
      "/home/bassem/anaconda3/lib/python3.9/site-packages/finrl/meta/data_processors/processor_yahoofinance.py:199: FutureWarning: The frame.append method is deprecated and will be removed from pandas in a future version. Use pandas.concat instead.\n",
      "  indicator_df = indicator_df.append(\n",
      "/home/bassem/anaconda3/lib/python3.9/site-packages/finrl/meta/data_processors/processor_yahoofinance.py:199: FutureWarning: The frame.append method is deprecated and will be removed from pandas in a future version. Use pandas.concat instead.\n",
      "  indicator_df = indicator_df.append(\n",
      "/home/bassem/anaconda3/lib/python3.9/site-packages/finrl/meta/data_processors/processor_yahoofinance.py:199: FutureWarning: The frame.append method is deprecated and will be removed from pandas in a future version. Use pandas.concat instead.\n",
      "  indicator_df = indicator_df.append(\n",
      "/home/bassem/anaconda3/lib/python3.9/site-packages/finrl/meta/data_processors/processor_yahoofinance.py:199: FutureWarning: The frame.append method is deprecated and will be removed from pandas in a future version. Use pandas.concat instead.\n",
      "  indicator_df = indicator_df.append(\n",
      "/home/bassem/anaconda3/lib/python3.9/site-packages/finrl/meta/data_processors/processor_yahoofinance.py:199: FutureWarning: The frame.append method is deprecated and will be removed from pandas in a future version. Use pandas.concat instead.\n",
      "  indicator_df = indicator_df.append(\n",
      "/home/bassem/anaconda3/lib/python3.9/site-packages/finrl/meta/data_processors/processor_yahoofinance.py:199: FutureWarning: The frame.append method is deprecated and will be removed from pandas in a future version. Use pandas.concat instead.\n",
      "  indicator_df = indicator_df.append(\n",
      "/home/bassem/anaconda3/lib/python3.9/site-packages/finrl/meta/data_processors/processor_yahoofinance.py:199: FutureWarning: The frame.append method is deprecated and will be removed from pandas in a future version. Use pandas.concat instead.\n",
      "  indicator_df = indicator_df.append(\n",
      "/home/bassem/anaconda3/lib/python3.9/site-packages/finrl/meta/data_processors/processor_yahoofinance.py:199: FutureWarning: The frame.append method is deprecated and will be removed from pandas in a future version. Use pandas.concat instead.\n",
      "  indicator_df = indicator_df.append(\n",
      "/home/bassem/anaconda3/lib/python3.9/site-packages/finrl/meta/data_processors/processor_yahoofinance.py:199: FutureWarning: The frame.append method is deprecated and will be removed from pandas in a future version. Use pandas.concat instead.\n",
      "  indicator_df = indicator_df.append(\n",
      "/home/bassem/anaconda3/lib/python3.9/site-packages/finrl/meta/data_processors/processor_yahoofinance.py:199: FutureWarning: The frame.append method is deprecated and will be removed from pandas in a future version. Use pandas.concat instead.\n",
      "  indicator_df = indicator_df.append(\n",
      "/home/bassem/anaconda3/lib/python3.9/site-packages/finrl/meta/data_processors/processor_yahoofinance.py:199: FutureWarning: The frame.append method is deprecated and will be removed from pandas in a future version. Use pandas.concat instead.\n",
      "  indicator_df = indicator_df.append(\n",
      "/home/bassem/anaconda3/lib/python3.9/site-packages/finrl/meta/data_processors/processor_yahoofinance.py:199: FutureWarning: The frame.append method is deprecated and will be removed from pandas in a future version. Use pandas.concat instead.\n",
      "  indicator_df = indicator_df.append(\n",
      "/home/bassem/anaconda3/lib/python3.9/site-packages/finrl/meta/data_processors/processor_yahoofinance.py:199: FutureWarning: The frame.append method is deprecated and will be removed from pandas in a future version. Use pandas.concat instead.\n",
      "  indicator_df = indicator_df.append(\n",
      "/home/bassem/anaconda3/lib/python3.9/site-packages/finrl/meta/data_processors/processor_yahoofinance.py:199: FutureWarning: The frame.append method is deprecated and will be removed from pandas in a future version. Use pandas.concat instead.\n",
      "  indicator_df = indicator_df.append(\n",
      "/home/bassem/anaconda3/lib/python3.9/site-packages/finrl/meta/data_processors/processor_yahoofinance.py:199: FutureWarning: The frame.append method is deprecated and will be removed from pandas in a future version. Use pandas.concat instead.\n",
      "  indicator_df = indicator_df.append(\n",
      "/home/bassem/anaconda3/lib/python3.9/site-packages/finrl/meta/data_processors/processor_yahoofinance.py:199: FutureWarning: The frame.append method is deprecated and will be removed from pandas in a future version. Use pandas.concat instead.\n",
      "  indicator_df = indicator_df.append(\n",
      "/home/bassem/anaconda3/lib/python3.9/site-packages/finrl/meta/data_processors/processor_yahoofinance.py:199: FutureWarning: The frame.append method is deprecated and will be removed from pandas in a future version. Use pandas.concat instead.\n",
      "  indicator_df = indicator_df.append(\n",
      "/home/bassem/anaconda3/lib/python3.9/site-packages/finrl/meta/data_processors/processor_yahoofinance.py:199: FutureWarning: The frame.append method is deprecated and will be removed from pandas in a future version. Use pandas.concat instead.\n",
      "  indicator_df = indicator_df.append(\n",
      "/home/bassem/anaconda3/lib/python3.9/site-packages/finrl/meta/data_processors/processor_yahoofinance.py:199: FutureWarning: The frame.append method is deprecated and will be removed from pandas in a future version. Use pandas.concat instead.\n",
      "  indicator_df = indicator_df.append(\n",
      "/home/bassem/anaconda3/lib/python3.9/site-packages/finrl/meta/data_processors/processor_yahoofinance.py:199: FutureWarning: The frame.append method is deprecated and will be removed from pandas in a future version. Use pandas.concat instead.\n",
      "  indicator_df = indicator_df.append(\n",
      "/home/bassem/anaconda3/lib/python3.9/site-packages/finrl/meta/data_processors/processor_yahoofinance.py:199: FutureWarning: The frame.append method is deprecated and will be removed from pandas in a future version. Use pandas.concat instead.\n",
      "  indicator_df = indicator_df.append(\n",
      "/home/bassem/anaconda3/lib/python3.9/site-packages/finrl/meta/data_processors/processor_yahoofinance.py:199: FutureWarning: The frame.append method is deprecated and will be removed from pandas in a future version. Use pandas.concat instead.\n",
      "  indicator_df = indicator_df.append(\n",
      "/home/bassem/anaconda3/lib/python3.9/site-packages/finrl/meta/data_processors/processor_yahoofinance.py:199: FutureWarning: The frame.append method is deprecated and will be removed from pandas in a future version. Use pandas.concat instead.\n",
      "  indicator_df = indicator_df.append(\n",
      "/home/bassem/anaconda3/lib/python3.9/site-packages/finrl/meta/data_processors/processor_yahoofinance.py:199: FutureWarning: The frame.append method is deprecated and will be removed from pandas in a future version. Use pandas.concat instead.\n",
      "  indicator_df = indicator_df.append(\n",
      "/home/bassem/anaconda3/lib/python3.9/site-packages/finrl/meta/data_processors/processor_yahoofinance.py:199: FutureWarning: The frame.append method is deprecated and will be removed from pandas in a future version. Use pandas.concat instead.\n",
      "  indicator_df = indicator_df.append(\n",
      "/home/bassem/anaconda3/lib/python3.9/site-packages/finrl/meta/data_processors/processor_yahoofinance.py:199: FutureWarning: The frame.append method is deprecated and will be removed from pandas in a future version. Use pandas.concat instead.\n",
      "  indicator_df = indicator_df.append(\n",
      "/home/bassem/anaconda3/lib/python3.9/site-packages/finrl/meta/data_processors/processor_yahoofinance.py:199: FutureWarning: The frame.append method is deprecated and will be removed from pandas in a future version. Use pandas.concat instead.\n",
      "  indicator_df = indicator_df.append(\n",
      "/home/bassem/anaconda3/lib/python3.9/site-packages/finrl/meta/data_processors/processor_yahoofinance.py:199: FutureWarning: The frame.append method is deprecated and will be removed from pandas in a future version. Use pandas.concat instead.\n",
      "  indicator_df = indicator_df.append(\n",
      "/home/bassem/anaconda3/lib/python3.9/site-packages/finrl/meta/data_processors/processor_yahoofinance.py:199: FutureWarning: The frame.append method is deprecated and will be removed from pandas in a future version. Use pandas.concat instead.\n",
      "  indicator_df = indicator_df.append(\n",
      "/home/bassem/anaconda3/lib/python3.9/site-packages/finrl/meta/data_processors/processor_yahoofinance.py:199: FutureWarning: The frame.append method is deprecated and will be removed from pandas in a future version. Use pandas.concat instead.\n",
      "  indicator_df = indicator_df.append(\n",
      "/home/bassem/anaconda3/lib/python3.9/site-packages/finrl/meta/data_processors/processor_yahoofinance.py:199: FutureWarning: The frame.append method is deprecated and will be removed from pandas in a future version. Use pandas.concat instead.\n",
      "  indicator_df = indicator_df.append(\n",
      "/home/bassem/anaconda3/lib/python3.9/site-packages/finrl/meta/data_processors/processor_yahoofinance.py:199: FutureWarning: The frame.append method is deprecated and will be removed from pandas in a future version. Use pandas.concat instead.\n",
      "  indicator_df = indicator_df.append(\n",
      "/home/bassem/anaconda3/lib/python3.9/site-packages/finrl/meta/data_processors/processor_yahoofinance.py:199: FutureWarning: The frame.append method is deprecated and will be removed from pandas in a future version. Use pandas.concat instead.\n",
      "  indicator_df = indicator_df.append(\n",
      "/home/bassem/anaconda3/lib/python3.9/site-packages/finrl/meta/data_processors/processor_yahoofinance.py:199: FutureWarning: The frame.append method is deprecated and will be removed from pandas in a future version. Use pandas.concat instead.\n",
      "  indicator_df = indicator_df.append(\n",
      "/home/bassem/anaconda3/lib/python3.9/site-packages/finrl/meta/data_processors/processor_yahoofinance.py:199: FutureWarning: The frame.append method is deprecated and will be removed from pandas in a future version. Use pandas.concat instead.\n",
      "  indicator_df = indicator_df.append(\n",
      "/home/bassem/anaconda3/lib/python3.9/site-packages/finrl/meta/data_processors/processor_yahoofinance.py:199: FutureWarning: The frame.append method is deprecated and will be removed from pandas in a future version. Use pandas.concat instead.\n",
      "  indicator_df = indicator_df.append(\n",
      "/home/bassem/anaconda3/lib/python3.9/site-packages/finrl/meta/data_processors/processor_yahoofinance.py:199: FutureWarning: The frame.append method is deprecated and will be removed from pandas in a future version. Use pandas.concat instead.\n",
      "  indicator_df = indicator_df.append(\n",
      "/home/bassem/anaconda3/lib/python3.9/site-packages/finrl/meta/data_processors/processor_yahoofinance.py:199: FutureWarning: The frame.append method is deprecated and will be removed from pandas in a future version. Use pandas.concat instead.\n",
      "  indicator_df = indicator_df.append(\n",
      "/home/bassem/anaconda3/lib/python3.9/site-packages/finrl/meta/data_processors/processor_yahoofinance.py:199: FutureWarning: The frame.append method is deprecated and will be removed from pandas in a future version. Use pandas.concat instead.\n",
      "  indicator_df = indicator_df.append(\n",
      "/home/bassem/anaconda3/lib/python3.9/site-packages/finrl/meta/data_processors/processor_yahoofinance.py:199: FutureWarning: The frame.append method is deprecated and will be removed from pandas in a future version. Use pandas.concat instead.\n",
      "  indicator_df = indicator_df.append(\n",
      "/home/bassem/anaconda3/lib/python3.9/site-packages/finrl/meta/data_processors/processor_yahoofinance.py:199: FutureWarning: The frame.append method is deprecated and will be removed from pandas in a future version. Use pandas.concat instead.\n",
      "  indicator_df = indicator_df.append(\n",
      "/home/bassem/anaconda3/lib/python3.9/site-packages/finrl/meta/data_processors/processor_yahoofinance.py:199: FutureWarning: The frame.append method is deprecated and will be removed from pandas in a future version. Use pandas.concat instead.\n",
      "  indicator_df = indicator_df.append(\n",
      "/home/bassem/anaconda3/lib/python3.9/site-packages/finrl/meta/data_processors/processor_yahoofinance.py:199: FutureWarning: The frame.append method is deprecated and will be removed from pandas in a future version. Use pandas.concat instead.\n",
      "  indicator_df = indicator_df.append(\n",
      "/home/bassem/anaconda3/lib/python3.9/site-packages/finrl/meta/data_processors/processor_yahoofinance.py:199: FutureWarning: The frame.append method is deprecated and will be removed from pandas in a future version. Use pandas.concat instead.\n",
      "  indicator_df = indicator_df.append(\n",
      "/home/bassem/anaconda3/lib/python3.9/site-packages/finrl/meta/data_processors/processor_yahoofinance.py:199: FutureWarning: The frame.append method is deprecated and will be removed from pandas in a future version. Use pandas.concat instead.\n",
      "  indicator_df = indicator_df.append(\n",
      "/home/bassem/anaconda3/lib/python3.9/site-packages/finrl/meta/data_processors/processor_yahoofinance.py:199: FutureWarning: The frame.append method is deprecated and will be removed from pandas in a future version. Use pandas.concat instead.\n",
      "  indicator_df = indicator_df.append(\n",
      "/home/bassem/anaconda3/lib/python3.9/site-packages/finrl/meta/data_processors/processor_yahoofinance.py:199: FutureWarning: The frame.append method is deprecated and will be removed from pandas in a future version. Use pandas.concat instead.\n",
      "  indicator_df = indicator_df.append(\n",
      "/home/bassem/anaconda3/lib/python3.9/site-packages/finrl/meta/data_processors/processor_yahoofinance.py:199: FutureWarning: The frame.append method is deprecated and will be removed from pandas in a future version. Use pandas.concat instead.\n",
      "  indicator_df = indicator_df.append(\n",
      "/home/bassem/anaconda3/lib/python3.9/site-packages/finrl/meta/data_processors/processor_yahoofinance.py:199: FutureWarning: The frame.append method is deprecated and will be removed from pandas in a future version. Use pandas.concat instead.\n",
      "  indicator_df = indicator_df.append(\n",
      "/home/bassem/anaconda3/lib/python3.9/site-packages/finrl/meta/data_processors/processor_yahoofinance.py:199: FutureWarning: The frame.append method is deprecated and will be removed from pandas in a future version. Use pandas.concat instead.\n",
      "  indicator_df = indicator_df.append(\n",
      "/home/bassem/anaconda3/lib/python3.9/site-packages/finrl/meta/data_processors/processor_yahoofinance.py:199: FutureWarning: The frame.append method is deprecated and will be removed from pandas in a future version. Use pandas.concat instead.\n",
      "  indicator_df = indicator_df.append(\n",
      "/home/bassem/anaconda3/lib/python3.9/site-packages/finrl/meta/data_processors/processor_yahoofinance.py:199: FutureWarning: The frame.append method is deprecated and will be removed from pandas in a future version. Use pandas.concat instead.\n",
      "  indicator_df = indicator_df.append(\n",
      "/home/bassem/anaconda3/lib/python3.9/site-packages/finrl/meta/data_processors/processor_yahoofinance.py:199: FutureWarning: The frame.append method is deprecated and will be removed from pandas in a future version. Use pandas.concat instead.\n",
      "  indicator_df = indicator_df.append(\n",
      "/home/bassem/anaconda3/lib/python3.9/site-packages/finrl/meta/data_processors/processor_yahoofinance.py:199: FutureWarning: The frame.append method is deprecated and will be removed from pandas in a future version. Use pandas.concat instead.\n",
      "  indicator_df = indicator_df.append(\n",
      "/home/bassem/anaconda3/lib/python3.9/site-packages/finrl/meta/data_processors/processor_yahoofinance.py:199: FutureWarning: The frame.append method is deprecated and will be removed from pandas in a future version. Use pandas.concat instead.\n",
      "  indicator_df = indicator_df.append(\n",
      "/home/bassem/anaconda3/lib/python3.9/site-packages/finrl/meta/data_processors/processor_yahoofinance.py:199: FutureWarning: The frame.append method is deprecated and will be removed from pandas in a future version. Use pandas.concat instead.\n",
      "  indicator_df = indicator_df.append(\n",
      "/home/bassem/anaconda3/lib/python3.9/site-packages/finrl/meta/data_processors/processor_yahoofinance.py:199: FutureWarning: The frame.append method is deprecated and will be removed from pandas in a future version. Use pandas.concat instead.\n",
      "  indicator_df = indicator_df.append(\n",
      "/home/bassem/anaconda3/lib/python3.9/site-packages/finrl/meta/data_processors/processor_yahoofinance.py:199: FutureWarning: The frame.append method is deprecated and will be removed from pandas in a future version. Use pandas.concat instead.\n",
      "  indicator_df = indicator_df.append(\n",
      "/home/bassem/anaconda3/lib/python3.9/site-packages/finrl/meta/data_processors/processor_yahoofinance.py:199: FutureWarning: The frame.append method is deprecated and will be removed from pandas in a future version. Use pandas.concat instead.\n",
      "  indicator_df = indicator_df.append(\n",
      "/home/bassem/anaconda3/lib/python3.9/site-packages/finrl/meta/data_processors/processor_yahoofinance.py:199: FutureWarning: The frame.append method is deprecated and will be removed from pandas in a future version. Use pandas.concat instead.\n",
      "  indicator_df = indicator_df.append(\n",
      "/home/bassem/anaconda3/lib/python3.9/site-packages/finrl/meta/data_processors/processor_yahoofinance.py:199: FutureWarning: The frame.append method is deprecated and will be removed from pandas in a future version. Use pandas.concat instead.\n",
      "  indicator_df = indicator_df.append(\n",
      "/home/bassem/anaconda3/lib/python3.9/site-packages/finrl/meta/data_processors/processor_yahoofinance.py:199: FutureWarning: The frame.append method is deprecated and will be removed from pandas in a future version. Use pandas.concat instead.\n",
      "  indicator_df = indicator_df.append(\n",
      "/home/bassem/anaconda3/lib/python3.9/site-packages/finrl/meta/data_processors/processor_yahoofinance.py:199: FutureWarning: The frame.append method is deprecated and will be removed from pandas in a future version. Use pandas.concat instead.\n",
      "  indicator_df = indicator_df.append(\n",
      "/home/bassem/anaconda3/lib/python3.9/site-packages/finrl/meta/data_processors/processor_yahoofinance.py:199: FutureWarning: The frame.append method is deprecated and will be removed from pandas in a future version. Use pandas.concat instead.\n",
      "  indicator_df = indicator_df.append(\n",
      "/home/bassem/anaconda3/lib/python3.9/site-packages/finrl/meta/data_processors/processor_yahoofinance.py:199: FutureWarning: The frame.append method is deprecated and will be removed from pandas in a future version. Use pandas.concat instead.\n",
      "  indicator_df = indicator_df.append(\n",
      "/home/bassem/anaconda3/lib/python3.9/site-packages/finrl/meta/data_processors/processor_yahoofinance.py:199: FutureWarning: The frame.append method is deprecated and will be removed from pandas in a future version. Use pandas.concat instead.\n",
      "  indicator_df = indicator_df.append(\n",
      "/home/bassem/anaconda3/lib/python3.9/site-packages/finrl/meta/data_processors/processor_yahoofinance.py:199: FutureWarning: The frame.append method is deprecated and will be removed from pandas in a future version. Use pandas.concat instead.\n",
      "  indicator_df = indicator_df.append(\n",
      "/home/bassem/anaconda3/lib/python3.9/site-packages/finrl/meta/data_processors/processor_yahoofinance.py:199: FutureWarning: The frame.append method is deprecated and will be removed from pandas in a future version. Use pandas.concat instead.\n",
      "  indicator_df = indicator_df.append(\n",
      "/home/bassem/anaconda3/lib/python3.9/site-packages/finrl/meta/data_processors/processor_yahoofinance.py:199: FutureWarning: The frame.append method is deprecated and will be removed from pandas in a future version. Use pandas.concat instead.\n",
      "  indicator_df = indicator_df.append(\n",
      "/home/bassem/anaconda3/lib/python3.9/site-packages/finrl/meta/data_processors/processor_yahoofinance.py:199: FutureWarning: The frame.append method is deprecated and will be removed from pandas in a future version. Use pandas.concat instead.\n",
      "  indicator_df = indicator_df.append(\n",
      "/home/bassem/anaconda3/lib/python3.9/site-packages/finrl/meta/data_processors/processor_yahoofinance.py:199: FutureWarning: The frame.append method is deprecated and will be removed from pandas in a future version. Use pandas.concat instead.\n",
      "  indicator_df = indicator_df.append(\n",
      "/home/bassem/anaconda3/lib/python3.9/site-packages/finrl/meta/data_processors/processor_yahoofinance.py:199: FutureWarning: The frame.append method is deprecated and will be removed from pandas in a future version. Use pandas.concat instead.\n",
      "  indicator_df = indicator_df.append(\n",
      "/home/bassem/anaconda3/lib/python3.9/site-packages/finrl/meta/data_processors/processor_yahoofinance.py:199: FutureWarning: The frame.append method is deprecated and will be removed from pandas in a future version. Use pandas.concat instead.\n",
      "  indicator_df = indicator_df.append(\n",
      "/home/bassem/anaconda3/lib/python3.9/site-packages/finrl/meta/data_processors/processor_yahoofinance.py:199: FutureWarning: The frame.append method is deprecated and will be removed from pandas in a future version. Use pandas.concat instead.\n",
      "  indicator_df = indicator_df.append(\n",
      "/home/bassem/anaconda3/lib/python3.9/site-packages/finrl/meta/data_processors/processor_yahoofinance.py:199: FutureWarning: The frame.append method is deprecated and will be removed from pandas in a future version. Use pandas.concat instead.\n",
      "  indicator_df = indicator_df.append(\n",
      "/home/bassem/anaconda3/lib/python3.9/site-packages/finrl/meta/data_processors/processor_yahoofinance.py:199: FutureWarning: The frame.append method is deprecated and will be removed from pandas in a future version. Use pandas.concat instead.\n",
      "  indicator_df = indicator_df.append(\n",
      "/home/bassem/anaconda3/lib/python3.9/site-packages/finrl/meta/data_processors/processor_yahoofinance.py:199: FutureWarning: The frame.append method is deprecated and will be removed from pandas in a future version. Use pandas.concat instead.\n",
      "  indicator_df = indicator_df.append(\n",
      "/home/bassem/anaconda3/lib/python3.9/site-packages/finrl/meta/data_processors/processor_yahoofinance.py:199: FutureWarning: The frame.append method is deprecated and will be removed from pandas in a future version. Use pandas.concat instead.\n",
      "  indicator_df = indicator_df.append(\n",
      "/home/bassem/anaconda3/lib/python3.9/site-packages/finrl/meta/data_processors/processor_yahoofinance.py:199: FutureWarning: The frame.append method is deprecated and will be removed from pandas in a future version. Use pandas.concat instead.\n",
      "  indicator_df = indicator_df.append(\n",
      "/home/bassem/anaconda3/lib/python3.9/site-packages/finrl/meta/data_processors/processor_yahoofinance.py:199: FutureWarning: The frame.append method is deprecated and will be removed from pandas in a future version. Use pandas.concat instead.\n",
      "  indicator_df = indicator_df.append(\n",
      "/home/bassem/anaconda3/lib/python3.9/site-packages/finrl/meta/data_processors/processor_yahoofinance.py:199: FutureWarning: The frame.append method is deprecated and will be removed from pandas in a future version. Use pandas.concat instead.\n",
      "  indicator_df = indicator_df.append(\n",
      "/home/bassem/anaconda3/lib/python3.9/site-packages/finrl/meta/data_processors/processor_yahoofinance.py:199: FutureWarning: The frame.append method is deprecated and will be removed from pandas in a future version. Use pandas.concat instead.\n",
      "  indicator_df = indicator_df.append(\n",
      "/home/bassem/anaconda3/lib/python3.9/site-packages/finrl/meta/data_processors/processor_yahoofinance.py:199: FutureWarning: The frame.append method is deprecated and will be removed from pandas in a future version. Use pandas.concat instead.\n",
      "  indicator_df = indicator_df.append(\n",
      "/home/bassem/anaconda3/lib/python3.9/site-packages/finrl/meta/data_processors/processor_yahoofinance.py:199: FutureWarning: The frame.append method is deprecated and will be removed from pandas in a future version. Use pandas.concat instead.\n",
      "  indicator_df = indicator_df.append(\n",
      "/home/bassem/anaconda3/lib/python3.9/site-packages/finrl/meta/data_processors/processor_yahoofinance.py:199: FutureWarning: The frame.append method is deprecated and will be removed from pandas in a future version. Use pandas.concat instead.\n",
      "  indicator_df = indicator_df.append(\n",
      "/home/bassem/anaconda3/lib/python3.9/site-packages/finrl/meta/data_processors/processor_yahoofinance.py:199: FutureWarning: The frame.append method is deprecated and will be removed from pandas in a future version. Use pandas.concat instead.\n",
      "  indicator_df = indicator_df.append(\n",
      "/home/bassem/anaconda3/lib/python3.9/site-packages/finrl/meta/data_processors/processor_yahoofinance.py:199: FutureWarning: The frame.append method is deprecated and will be removed from pandas in a future version. Use pandas.concat instead.\n",
      "  indicator_df = indicator_df.append(\n",
      "/home/bassem/anaconda3/lib/python3.9/site-packages/finrl/meta/data_processors/processor_yahoofinance.py:199: FutureWarning: The frame.append method is deprecated and will be removed from pandas in a future version. Use pandas.concat instead.\n",
      "  indicator_df = indicator_df.append(\n",
      "/home/bassem/anaconda3/lib/python3.9/site-packages/finrl/meta/data_processors/processor_yahoofinance.py:199: FutureWarning: The frame.append method is deprecated and will be removed from pandas in a future version. Use pandas.concat instead.\n",
      "  indicator_df = indicator_df.append(\n",
      "/home/bassem/anaconda3/lib/python3.9/site-packages/finrl/meta/data_processors/processor_yahoofinance.py:199: FutureWarning: The frame.append method is deprecated and will be removed from pandas in a future version. Use pandas.concat instead.\n",
      "  indicator_df = indicator_df.append(\n",
      "/home/bassem/anaconda3/lib/python3.9/site-packages/finrl/meta/data_processors/processor_yahoofinance.py:199: FutureWarning: The frame.append method is deprecated and will be removed from pandas in a future version. Use pandas.concat instead.\n",
      "  indicator_df = indicator_df.append(\n",
      "/home/bassem/anaconda3/lib/python3.9/site-packages/finrl/meta/data_processors/processor_yahoofinance.py:199: FutureWarning: The frame.append method is deprecated and will be removed from pandas in a future version. Use pandas.concat instead.\n",
      "  indicator_df = indicator_df.append(\n",
      "/home/bassem/anaconda3/lib/python3.9/site-packages/finrl/meta/data_processors/processor_yahoofinance.py:199: FutureWarning: The frame.append method is deprecated and will be removed from pandas in a future version. Use pandas.concat instead.\n",
      "  indicator_df = indicator_df.append(\n",
      "/home/bassem/anaconda3/lib/python3.9/site-packages/finrl/meta/data_processors/processor_yahoofinance.py:199: FutureWarning: The frame.append method is deprecated and will be removed from pandas in a future version. Use pandas.concat instead.\n",
      "  indicator_df = indicator_df.append(\n",
      "/home/bassem/anaconda3/lib/python3.9/site-packages/finrl/meta/data_processors/processor_yahoofinance.py:199: FutureWarning: The frame.append method is deprecated and will be removed from pandas in a future version. Use pandas.concat instead.\n",
      "  indicator_df = indicator_df.append(\n",
      "/home/bassem/anaconda3/lib/python3.9/site-packages/finrl/meta/data_processors/processor_yahoofinance.py:199: FutureWarning: The frame.append method is deprecated and will be removed from pandas in a future version. Use pandas.concat instead.\n",
      "  indicator_df = indicator_df.append(\n",
      "/home/bassem/anaconda3/lib/python3.9/site-packages/finrl/meta/data_processors/processor_yahoofinance.py:199: FutureWarning: The frame.append method is deprecated and will be removed from pandas in a future version. Use pandas.concat instead.\n",
      "  indicator_df = indicator_df.append(\n",
      "/home/bassem/anaconda3/lib/python3.9/site-packages/finrl/meta/data_processors/processor_yahoofinance.py:199: FutureWarning: The frame.append method is deprecated and will be removed from pandas in a future version. Use pandas.concat instead.\n",
      "  indicator_df = indicator_df.append(\n",
      "/home/bassem/anaconda3/lib/python3.9/site-packages/finrl/meta/data_processors/processor_yahoofinance.py:199: FutureWarning: The frame.append method is deprecated and will be removed from pandas in a future version. Use pandas.concat instead.\n",
      "  indicator_df = indicator_df.append(\n",
      "/home/bassem/anaconda3/lib/python3.9/site-packages/finrl/meta/data_processors/processor_yahoofinance.py:199: FutureWarning: The frame.append method is deprecated and will be removed from pandas in a future version. Use pandas.concat instead.\n",
      "  indicator_df = indicator_df.append(\n",
      "/home/bassem/anaconda3/lib/python3.9/site-packages/finrl/meta/data_processors/processor_yahoofinance.py:199: FutureWarning: The frame.append method is deprecated and will be removed from pandas in a future version. Use pandas.concat instead.\n",
      "  indicator_df = indicator_df.append(\n",
      "/home/bassem/anaconda3/lib/python3.9/site-packages/finrl/meta/data_processors/processor_yahoofinance.py:199: FutureWarning: The frame.append method is deprecated and will be removed from pandas in a future version. Use pandas.concat instead.\n",
      "  indicator_df = indicator_df.append(\n",
      "/home/bassem/anaconda3/lib/python3.9/site-packages/finrl/meta/data_processors/processor_yahoofinance.py:199: FutureWarning: The frame.append method is deprecated and will be removed from pandas in a future version. Use pandas.concat instead.\n",
      "  indicator_df = indicator_df.append(\n",
      "/home/bassem/anaconda3/lib/python3.9/site-packages/finrl/meta/data_processors/processor_yahoofinance.py:199: FutureWarning: The frame.append method is deprecated and will be removed from pandas in a future version. Use pandas.concat instead.\n",
      "  indicator_df = indicator_df.append(\n",
      "/home/bassem/anaconda3/lib/python3.9/site-packages/finrl/meta/data_processors/processor_yahoofinance.py:199: FutureWarning: The frame.append method is deprecated and will be removed from pandas in a future version. Use pandas.concat instead.\n",
      "  indicator_df = indicator_df.append(\n",
      "/home/bassem/anaconda3/lib/python3.9/site-packages/finrl/meta/data_processors/processor_yahoofinance.py:199: FutureWarning: The frame.append method is deprecated and will be removed from pandas in a future version. Use pandas.concat instead.\n",
      "  indicator_df = indicator_df.append(\n",
      "/home/bassem/anaconda3/lib/python3.9/site-packages/finrl/meta/data_processors/processor_yahoofinance.py:199: FutureWarning: The frame.append method is deprecated and will be removed from pandas in a future version. Use pandas.concat instead.\n",
      "  indicator_df = indicator_df.append(\n",
      "/home/bassem/anaconda3/lib/python3.9/site-packages/finrl/meta/data_processors/processor_yahoofinance.py:199: FutureWarning: The frame.append method is deprecated and will be removed from pandas in a future version. Use pandas.concat instead.\n",
      "  indicator_df = indicator_df.append(\n",
      "/home/bassem/anaconda3/lib/python3.9/site-packages/finrl/meta/data_processors/processor_yahoofinance.py:199: FutureWarning: The frame.append method is deprecated and will be removed from pandas in a future version. Use pandas.concat instead.\n",
      "  indicator_df = indicator_df.append(\n",
      "/home/bassem/anaconda3/lib/python3.9/site-packages/finrl/meta/data_processors/processor_yahoofinance.py:199: FutureWarning: The frame.append method is deprecated and will be removed from pandas in a future version. Use pandas.concat instead.\n",
      "  indicator_df = indicator_df.append(\n",
      "/home/bassem/anaconda3/lib/python3.9/site-packages/finrl/meta/data_processors/processor_yahoofinance.py:199: FutureWarning: The frame.append method is deprecated and will be removed from pandas in a future version. Use pandas.concat instead.\n",
      "  indicator_df = indicator_df.append(\n",
      "/home/bassem/anaconda3/lib/python3.9/site-packages/finrl/meta/data_processors/processor_yahoofinance.py:199: FutureWarning: The frame.append method is deprecated and will be removed from pandas in a future version. Use pandas.concat instead.\n",
      "  indicator_df = indicator_df.append(\n",
      "/home/bassem/anaconda3/lib/python3.9/site-packages/finrl/meta/data_processors/processor_yahoofinance.py:199: FutureWarning: The frame.append method is deprecated and will be removed from pandas in a future version. Use pandas.concat instead.\n",
      "  indicator_df = indicator_df.append(\n",
      "/home/bassem/anaconda3/lib/python3.9/site-packages/finrl/meta/data_processors/processor_yahoofinance.py:199: FutureWarning: The frame.append method is deprecated and will be removed from pandas in a future version. Use pandas.concat instead.\n",
      "  indicator_df = indicator_df.append(\n",
      "/home/bassem/anaconda3/lib/python3.9/site-packages/finrl/meta/data_processors/processor_yahoofinance.py:199: FutureWarning: The frame.append method is deprecated and will be removed from pandas in a future version. Use pandas.concat instead.\n",
      "  indicator_df = indicator_df.append(\n",
      "/home/bassem/anaconda3/lib/python3.9/site-packages/finrl/meta/data_processors/processor_yahoofinance.py:199: FutureWarning: The frame.append method is deprecated and will be removed from pandas in a future version. Use pandas.concat instead.\n",
      "  indicator_df = indicator_df.append(\n",
      "/home/bassem/anaconda3/lib/python3.9/site-packages/finrl/meta/data_processors/processor_yahoofinance.py:199: FutureWarning: The frame.append method is deprecated and will be removed from pandas in a future version. Use pandas.concat instead.\n",
      "  indicator_df = indicator_df.append(\n",
      "/home/bassem/anaconda3/lib/python3.9/site-packages/finrl/meta/data_processors/processor_yahoofinance.py:199: FutureWarning: The frame.append method is deprecated and will be removed from pandas in a future version. Use pandas.concat instead.\n",
      "  indicator_df = indicator_df.append(\n",
      "/home/bassem/anaconda3/lib/python3.9/site-packages/finrl/meta/data_processors/processor_yahoofinance.py:199: FutureWarning: The frame.append method is deprecated and will be removed from pandas in a future version. Use pandas.concat instead.\n",
      "  indicator_df = indicator_df.append(\n",
      "/home/bassem/anaconda3/lib/python3.9/site-packages/finrl/meta/data_processors/processor_yahoofinance.py:199: FutureWarning: The frame.append method is deprecated and will be removed from pandas in a future version. Use pandas.concat instead.\n",
      "  indicator_df = indicator_df.append(\n",
      "/home/bassem/anaconda3/lib/python3.9/site-packages/finrl/meta/data_processors/processor_yahoofinance.py:199: FutureWarning: The frame.append method is deprecated and will be removed from pandas in a future version. Use pandas.concat instead.\n",
      "  indicator_df = indicator_df.append(\n",
      "/home/bassem/anaconda3/lib/python3.9/site-packages/finrl/meta/data_processors/processor_yahoofinance.py:199: FutureWarning: The frame.append method is deprecated and will be removed from pandas in a future version. Use pandas.concat instead.\n",
      "  indicator_df = indicator_df.append(\n",
      "/home/bassem/anaconda3/lib/python3.9/site-packages/finrl/meta/data_processors/processor_yahoofinance.py:199: FutureWarning: The frame.append method is deprecated and will be removed from pandas in a future version. Use pandas.concat instead.\n",
      "  indicator_df = indicator_df.append(\n",
      "/home/bassem/anaconda3/lib/python3.9/site-packages/finrl/meta/data_processors/processor_yahoofinance.py:199: FutureWarning: The frame.append method is deprecated and will be removed from pandas in a future version. Use pandas.concat instead.\n",
      "  indicator_df = indicator_df.append(\n",
      "/home/bassem/anaconda3/lib/python3.9/site-packages/finrl/meta/data_processors/processor_yahoofinance.py:199: FutureWarning: The frame.append method is deprecated and will be removed from pandas in a future version. Use pandas.concat instead.\n",
      "  indicator_df = indicator_df.append(\n",
      "/home/bassem/anaconda3/lib/python3.9/site-packages/finrl/meta/data_processors/processor_yahoofinance.py:199: FutureWarning: The frame.append method is deprecated and will be removed from pandas in a future version. Use pandas.concat instead.\n",
      "  indicator_df = indicator_df.append(\n",
      "/home/bassem/anaconda3/lib/python3.9/site-packages/finrl/meta/data_processors/processor_yahoofinance.py:199: FutureWarning: The frame.append method is deprecated and will be removed from pandas in a future version. Use pandas.concat instead.\n",
      "  indicator_df = indicator_df.append(\n"
     ]
    },
    {
     "name": "stdout",
     "output_type": "stream",
     "text": [
      "[*********************100%***********************]  1 of 1 completed\n",
      "Shape of DataFrame:  (295, 9)\n",
      "Clean data for ^VIX\n",
      "Data clean for ^VIX is finished.\n",
      "Data clean all finished!\n",
      "['AAPL' 'AMGN' 'AXP' 'BA' 'CAT' 'CRM' 'CSCO' 'CVX' 'DIS' 'DOW' 'GS' 'HD'\n",
      " 'HON' 'IBM' 'INTC' 'JNJ' 'JPM' 'KO' 'MCD' 'MMM' 'MRK' 'MSFT' 'NKE' 'PG'\n",
      " 'TRV' 'UNH' 'V' 'VZ' 'WBA' 'WMT']\n"
     ]
    },
    {
     "name": "stderr",
     "output_type": "stream",
     "text": [
      "/home/bassem/anaconda3/lib/python3.9/site-packages/finrl/meta/data_processors/processor_yahoofinance.py:56: FutureWarning: The frame.append method is deprecated and will be removed from pandas in a future version. Use pandas.concat instead.\n",
      "  data_df = data_df.append(temp_df)\n",
      "/home/bassem/anaconda3/lib/python3.9/site-packages/finrl/meta/data_processors/processor_yahoofinance.py:165: FutureWarning: The frame.append method is deprecated and will be removed from pandas in a future version. Use pandas.concat instead.\n",
      "  new_df = new_df.append(tmp_df)\n"
     ]
    },
    {
     "name": "stdout",
     "output_type": "stream",
     "text": [
      "Successfully transformed into array\n",
      "price_array:  296\n"
     ]
    },
    {
     "name": "stderr",
     "output_type": "stream",
     "text": [
      "2022-07-10 02:34:35,991\tINFO services.py:1470 -- View the Ray dashboard at \u001b[1m\u001b[32mhttp://127.0.0.1:8265\u001b[39m\u001b[22m\n",
      "\u001b[2m\u001b[36m(RolloutWorker pid=43291)\u001b[0m 2022-07-10 02:34:39,893\tWARNING env.py:135 -- Your env doesn't have a .spec.max_episode_steps attribute. This is fine if you have set 'horizon' in your config dictionary, or `soft_horizon`. However, if you haven't, 'horizon' will default to infinity, and your environment will not be reset.\n",
      "\u001b[2m\u001b[36m(RolloutWorker pid=43289)\u001b[0m 2022-07-10 02:34:39,888\tWARNING env.py:135 -- Your env doesn't have a .spec.max_episode_steps attribute. This is fine if you have set 'horizon' in your config dictionary, or `soft_horizon`. However, if you haven't, 'horizon' will default to infinity, and your environment will not be reset.\n",
      "2022-07-10 02:34:41,339\tINFO trainable.py:588 -- Restored on 192.168.4.75 from checkpoint: ./test_ppo/checkpoint_000030/checkpoint-30\n",
      "2022-07-10 02:34:41,341\tINFO trainable.py:597 -- Current state after restoring: {'_iteration': 30, '_timesteps_total': None, '_time_total': 25.771487951278687, '_episodes_total': 16}\n"
     ]
    },
    {
     "name": "stdout",
     "output_type": "stream",
     "text": [
      "Restoring from checkpoint path ./test_ppo/checkpoint_000030/checkpoint-30\n",
      "episode return: 0.882303357422816\n",
      "Test Finished!\n"
     ]
    }
   ],
   "source": [
    "ray.shutdown() #always shutdown previous session if any\n",
    "\n",
    "account_value_rllib = test(start_date = TEST_START_DATE,\n",
    "     end_date = TEST_END_DATE,\n",
    "     ticker_list = config.DOW_30_TICKER,\n",
    "     data_source = 'yahoofinance',\n",
    "     time_interval= '1D',\n",
    "     technical_indicator_list= INDICATORS,\n",
    "     drl_lib='rllib',\n",
    "     env=env,\n",
    "     model_name='ppo',\n",
    "     cwd='./test_ppo/checkpoint_000030/checkpoint-30',\n",
    "     rllib_params = RLlib_PARAMS)"
   ]
  },
  {
   "cell_type": "code",
   "execution_count": 15,
   "metadata": {
    "collapsed": false,
    "pycharm": {
     "name": "#%%\n"
    }
   },
   "outputs": [
    {
     "data": {
      "text/plain": [
       "296"
      ]
     },
     "execution_count": 15,
     "metadata": {},
     "output_type": "execute_result"
    }
   ],
   "source": [
    "len(account_value_rllib)"
   ]
  },
  {
   "cell_type": "markdown",
   "metadata": {
    "collapsed": false
   },
   "source": [
    "#### Plot"
   ]
  },
  {
   "cell_type": "code",
   "execution_count": 16,
   "metadata": {
    "collapsed": false,
    "pycharm": {
     "name": "#%%\n"
    }
   },
   "outputs": [
    {
     "name": "stdout",
     "output_type": "stream",
     "text": [
      "[*********************100%***********************]  1 of 1 completed\n",
      "Shape of DataFrame:  (296, 9)\n"
     ]
    },
    {
     "name": "stderr",
     "output_type": "stream",
     "text": [
      "/home/bassem/anaconda3/lib/python3.9/site-packages/finrl/meta/data_processors/processor_yahoofinance.py:56: FutureWarning: The frame.append method is deprecated and will be removed from pandas in a future version. Use pandas.concat instead.\n",
      "  data_df = data_df.append(temp_df)\n"
     ]
    },
    {
     "ename": "AttributeError",
     "evalue": "'DataProcessor' object has no attribute 'dataframe'",
     "output_type": "error",
     "traceback": [
      "\u001b[0;31m---------------------------------------------------------------------------\u001b[0m",
      "\u001b[0;31mAttributeError\u001b[0m                            Traceback (most recent call last)",
      "\u001b[1;32m/home/bassem/code/FinRL-Meta/tutorials/2-Advance/Plug_and_Play_with_DRL_Libraries.ipynb Cell 47\u001b[0m in \u001b[0;36m<cell line: 6>\u001b[0;34m()\u001b[0m\n\u001b[1;32m      <a href='vscode-notebook-cell:/home/bassem/code/FinRL-Meta/tutorials/2-Advance/Plug_and_Play_with_DRL_Libraries.ipynb#ch0000046?line=0'>1</a>\u001b[0m DP \u001b[39m=\u001b[39m DataProcessor(\u001b[39m'\u001b[39m\u001b[39myahoofinance\u001b[39m\u001b[39m'\u001b[39m)\n\u001b[1;32m      <a href='vscode-notebook-cell:/home/bassem/code/FinRL-Meta/tutorials/2-Advance/Plug_and_Play_with_DRL_Libraries.ipynb#ch0000046?line=1'>2</a>\u001b[0m DP\u001b[39m.\u001b[39mdownload_data(ticker_list \u001b[39m=\u001b[39m [\u001b[39m\"\u001b[39m\u001b[39m^DJI\u001b[39m\u001b[39m\"\u001b[39m],\n\u001b[1;32m      <a href='vscode-notebook-cell:/home/bassem/code/FinRL-Meta/tutorials/2-Advance/Plug_and_Play_with_DRL_Libraries.ipynb#ch0000046?line=2'>3</a>\u001b[0m                 start_date \u001b[39m=\u001b[39m TEST_START_DATE,\n\u001b[1;32m      <a href='vscode-notebook-cell:/home/bassem/code/FinRL-Meta/tutorials/2-Advance/Plug_and_Play_with_DRL_Libraries.ipynb#ch0000046?line=3'>4</a>\u001b[0m                 end_date \u001b[39m=\u001b[39m TEST_END_DATE,\n\u001b[1;32m      <a href='vscode-notebook-cell:/home/bassem/code/FinRL-Meta/tutorials/2-Advance/Plug_and_Play_with_DRL_Libraries.ipynb#ch0000046?line=4'>5</a>\u001b[0m                 time_interval \u001b[39m=\u001b[39m \u001b[39m\"\u001b[39m\u001b[39m1D\u001b[39m\u001b[39m\"\u001b[39m)\n\u001b[0;32m----> <a href='vscode-notebook-cell:/home/bassem/code/FinRL-Meta/tutorials/2-Advance/Plug_and_Play_with_DRL_Libraries.ipynb#ch0000046?line=5'>6</a>\u001b[0m stats \u001b[39m=\u001b[39m backtest_stats(DP\u001b[39m.\u001b[39;49mdataframe, value_col_name \u001b[39m=\u001b[39m \u001b[39m'\u001b[39m\u001b[39mclose\u001b[39m\u001b[39m'\u001b[39m)\n",
      "\u001b[0;31mAttributeError\u001b[0m: 'DataProcessor' object has no attribute 'dataframe'"
     ]
    }
   ],
   "source": [
    "DP = DataProcessor('yahoofinance')\n",
    "DP.download_data(ticker_list = [\"^DJI\"],\n",
    "                start_date = TEST_START_DATE,\n",
    "                end_date = TEST_END_DATE,\n",
    "                time_interval = \"1D\")\n",
    "stats = backtest_stats(DP.dataframe, value_col_name = 'close')\n"
   ]
  },
  {
   "cell_type": "code",
   "execution_count": 17,
   "metadata": {
    "collapsed": false,
    "pycharm": {
     "name": "#%%\n"
    }
   },
   "outputs": [
    {
     "ename": "AttributeError",
     "evalue": "'DataProcessor' object has no attribute 'dataframe'",
     "output_type": "error",
     "traceback": [
      "\u001b[0;31m---------------------------------------------------------------------------\u001b[0m",
      "\u001b[0;31mAttributeError\u001b[0m                            Traceback (most recent call last)",
      "\u001b[1;32m/home/bassem/code/FinRL-Meta/tutorials/2-Advance/Plug_and_Play_with_DRL_Libraries.ipynb Cell 48\u001b[0m in \u001b[0;36m<cell line: 1>\u001b[0;34m()\u001b[0m\n\u001b[0;32m----> <a href='vscode-notebook-cell:/home/bassem/code/FinRL-Meta/tutorials/2-Advance/Plug_and_Play_with_DRL_Libraries.ipynb#ch0000047?line=0'>1</a>\u001b[0m \u001b[39mlen\u001b[39m(DP\u001b[39m.\u001b[39;49mdataframe\u001b[39m.\u001b[39mdate)\n",
      "\u001b[0;31mAttributeError\u001b[0m: 'DataProcessor' object has no attribute 'dataframe'"
     ]
    }
   ],
   "source": [
    "len(DP.dataframe.date)"
   ]
  },
  {
   "cell_type": "code",
   "execution_count": 18,
   "metadata": {
    "collapsed": false,
    "pycharm": {
     "name": "#%%\n"
    }
   },
   "outputs": [
    {
     "ename": "AttributeError",
     "evalue": "'DataProcessor' object has no attribute 'dataframe'",
     "output_type": "error",
     "traceback": [
      "\u001b[0;31m---------------------------------------------------------------------------\u001b[0m",
      "\u001b[0;31mAttributeError\u001b[0m                            Traceback (most recent call last)",
      "\u001b[1;32m/home/bassem/code/FinRL-Meta/tutorials/2-Advance/Plug_and_Play_with_DRL_Libraries.ipynb Cell 49\u001b[0m in \u001b[0;36m<cell line: 1>\u001b[0;34m()\u001b[0m\n\u001b[0;32m----> <a href='vscode-notebook-cell:/home/bassem/code/FinRL-Meta/tutorials/2-Advance/Plug_and_Play_with_DRL_Libraries.ipynb#ch0000048?line=0'>1</a>\u001b[0m account_value_rllib \u001b[39m=\u001b[39m pd\u001b[39m.\u001b[39mDataFrame({\u001b[39m'\u001b[39m\u001b[39mdate\u001b[39m\u001b[39m'\u001b[39m:DP\u001b[39m.\u001b[39;49mdataframe\u001b[39m.\u001b[39mdate,\u001b[39m'\u001b[39m\u001b[39maccount_value\u001b[39m\u001b[39m'\u001b[39m:account_value_rllib[\u001b[39m0\u001b[39m:\u001b[39mlen\u001b[39m(account_value_rllib)\u001b[39m-\u001b[39m\u001b[39m1\u001b[39m]})\n",
      "\u001b[0;31mAttributeError\u001b[0m: 'DataProcessor' object has no attribute 'dataframe'"
     ]
    }
   ],
   "source": [
    "account_value_rllib = pd.DataFrame({'date':DP.dataframe.date,'account_value':account_value_rllib[0:len(account_value_rllib)-1]})"
   ]
  },
  {
   "cell_type": "code",
   "execution_count": 19,
   "metadata": {
    "collapsed": false,
    "pycharm": {
     "name": "#%%\n"
    }
   },
   "outputs": [
    {
     "ename": "TypeError",
     "evalue": "list indices must be integers or slices, not str",
     "output_type": "error",
     "traceback": [
      "\u001b[0;31m---------------------------------------------------------------------------\u001b[0m",
      "\u001b[0;31mTypeError\u001b[0m                                 Traceback (most recent call last)",
      "\u001b[1;32m/home/bassem/code/FinRL-Meta/tutorials/2-Advance/Plug_and_Play_with_DRL_Libraries.ipynb Cell 50\u001b[0m in \u001b[0;36m<cell line: 1>\u001b[0;34m()\u001b[0m\n\u001b[0;32m----> <a href='vscode-notebook-cell:/home/bassem/code/FinRL-Meta/tutorials/2-Advance/Plug_and_Play_with_DRL_Libraries.ipynb#ch0000049?line=0'>1</a>\u001b[0m perf_stats_all \u001b[39m=\u001b[39m backtest_stats(account_value\u001b[39m=\u001b[39;49maccount_value_rllib)\n\u001b[1;32m      <a href='vscode-notebook-cell:/home/bassem/code/FinRL-Meta/tutorials/2-Advance/Plug_and_Play_with_DRL_Libraries.ipynb#ch0000049?line=1'>2</a>\u001b[0m perf_stats_all \u001b[39m=\u001b[39m pd\u001b[39m.\u001b[39mDataFrame(perf_stats_all)\n",
      "File \u001b[0;32m~/anaconda3/lib/python3.9/site-packages/finrl/plot.py:35\u001b[0m, in \u001b[0;36mbacktest_stats\u001b[0;34m(account_value, value_col_name)\u001b[0m\n\u001b[1;32m     34\u001b[0m \u001b[39mdef\u001b[39;00m \u001b[39mbacktest_stats\u001b[39m(account_value, value_col_name\u001b[39m=\u001b[39m\u001b[39m\"\u001b[39m\u001b[39maccount_value\u001b[39m\u001b[39m\"\u001b[39m):\n\u001b[0;32m---> 35\u001b[0m     dr_test \u001b[39m=\u001b[39m get_daily_return(account_value, value_col_name\u001b[39m=\u001b[39;49mvalue_col_name)\n\u001b[1;32m     36\u001b[0m     perf_stats_all \u001b[39m=\u001b[39m timeseries\u001b[39m.\u001b[39mperf_stats(\n\u001b[1;32m     37\u001b[0m         returns\u001b[39m=\u001b[39mdr_test,\n\u001b[1;32m     38\u001b[0m         positions\u001b[39m=\u001b[39m\u001b[39mNone\u001b[39;00m,\n\u001b[1;32m     39\u001b[0m         transactions\u001b[39m=\u001b[39m\u001b[39mNone\u001b[39;00m,\n\u001b[1;32m     40\u001b[0m         turnover_denom\u001b[39m=\u001b[39m\u001b[39m\"\u001b[39m\u001b[39mAGB\u001b[39m\u001b[39m\"\u001b[39m,\n\u001b[1;32m     41\u001b[0m     )\n\u001b[1;32m     42\u001b[0m     \u001b[39mprint\u001b[39m(perf_stats_all)\n",
      "File \u001b[0;32m~/anaconda3/lib/python3.9/site-packages/finrl/plot.py:18\u001b[0m, in \u001b[0;36mget_daily_return\u001b[0;34m(df, value_col_name)\u001b[0m\n\u001b[1;32m     16\u001b[0m \u001b[39mdef\u001b[39;00m \u001b[39mget_daily_return\u001b[39m(df, value_col_name\u001b[39m=\u001b[39m\u001b[39m\"\u001b[39m\u001b[39maccount_value\u001b[39m\u001b[39m\"\u001b[39m):\n\u001b[1;32m     17\u001b[0m     df \u001b[39m=\u001b[39m deepcopy(df)\n\u001b[0;32m---> 18\u001b[0m     df[\u001b[39m\"\u001b[39m\u001b[39mdaily_return\u001b[39m\u001b[39m\"\u001b[39m] \u001b[39m=\u001b[39m df[value_col_name]\u001b[39m.\u001b[39mpct_change(\u001b[39m1\u001b[39m)\n\u001b[1;32m     19\u001b[0m     df[\u001b[39m\"\u001b[39m\u001b[39mdate\u001b[39m\u001b[39m\"\u001b[39m] \u001b[39m=\u001b[39m pd\u001b[39m.\u001b[39mto_datetime(df[\u001b[39m\"\u001b[39m\u001b[39mdate\u001b[39m\u001b[39m\"\u001b[39m])\n\u001b[1;32m     20\u001b[0m     df\u001b[39m.\u001b[39mset_index(\u001b[39m\"\u001b[39m\u001b[39mdate\u001b[39m\u001b[39m\"\u001b[39m, inplace\u001b[39m=\u001b[39m\u001b[39mTrue\u001b[39;00m, drop\u001b[39m=\u001b[39m\u001b[39mTrue\u001b[39;00m)\n",
      "\u001b[0;31mTypeError\u001b[0m: list indices must be integers or slices, not str"
     ]
    }
   ],
   "source": [
    "perf_stats_all = backtest_stats(account_value=account_value_rllib)\n",
    "perf_stats_all = pd.DataFrame(perf_stats_all)"
   ]
  },
  {
   "cell_type": "code",
   "execution_count": 20,
   "metadata": {
    "collapsed": false,
    "pycharm": {
     "name": "#%%\n"
    }
   },
   "outputs": [
    {
     "name": "stdout",
     "output_type": "stream",
     "text": [
      "==============Compare to DJIA===========\n"
     ]
    },
    {
     "ename": "AttributeError",
     "evalue": "'list' object has no attribute 'loc'",
     "output_type": "error",
     "traceback": [
      "\u001b[0;31m---------------------------------------------------------------------------\u001b[0m",
      "\u001b[0;31mAttributeError\u001b[0m                            Traceback (most recent call last)",
      "\u001b[1;32m/home/bassem/code/FinRL-Meta/tutorials/2-Advance/Plug_and_Play_with_DRL_Libraries.ipynb Cell 51\u001b[0m in \u001b[0;36m<cell line: 6>\u001b[0;34m()\u001b[0m\n\u001b[1;32m      <a href='vscode-notebook-cell:/home/bassem/code/FinRL-Meta/tutorials/2-Advance/Plug_and_Play_with_DRL_Libraries.ipynb#ch0000050?line=1'>2</a>\u001b[0m get_ipython()\u001b[39m.\u001b[39mrun_line_magic(\u001b[39m'\u001b[39m\u001b[39mmatplotlib\u001b[39m\u001b[39m'\u001b[39m, \u001b[39m'\u001b[39m\u001b[39minline\u001b[39m\u001b[39m'\u001b[39m)\n\u001b[1;32m      <a href='vscode-notebook-cell:/home/bassem/code/FinRL-Meta/tutorials/2-Advance/Plug_and_Play_with_DRL_Libraries.ipynb#ch0000050?line=2'>3</a>\u001b[0m \u001b[39m# S&P 500: ^GSPC\u001b[39;00m\n\u001b[1;32m      <a href='vscode-notebook-cell:/home/bassem/code/FinRL-Meta/tutorials/2-Advance/Plug_and_Play_with_DRL_Libraries.ipynb#ch0000050?line=3'>4</a>\u001b[0m \u001b[39m# Dow Jones Index: ^DJI\u001b[39;00m\n\u001b[1;32m      <a href='vscode-notebook-cell:/home/bassem/code/FinRL-Meta/tutorials/2-Advance/Plug_and_Play_with_DRL_Libraries.ipynb#ch0000050?line=4'>5</a>\u001b[0m \u001b[39m# NASDAQ 100: ^NDX\u001b[39;00m\n\u001b[1;32m      <a href='vscode-notebook-cell:/home/bassem/code/FinRL-Meta/tutorials/2-Advance/Plug_and_Play_with_DRL_Libraries.ipynb#ch0000050?line=5'>6</a>\u001b[0m backtest_plot(account_value_rllib,\n\u001b[1;32m      <a href='vscode-notebook-cell:/home/bassem/code/FinRL-Meta/tutorials/2-Advance/Plug_and_Play_with_DRL_Libraries.ipynb#ch0000050?line=6'>7</a>\u001b[0m              baseline_ticker \u001b[39m=\u001b[39m \u001b[39m'\u001b[39m\u001b[39m^DJI\u001b[39m\u001b[39m'\u001b[39m,\n\u001b[0;32m----> <a href='vscode-notebook-cell:/home/bassem/code/FinRL-Meta/tutorials/2-Advance/Plug_and_Play_with_DRL_Libraries.ipynb#ch0000050?line=7'>8</a>\u001b[0m              baseline_start \u001b[39m=\u001b[39m account_value_rllib\u001b[39m.\u001b[39;49mloc[\u001b[39m0\u001b[39m,\u001b[39m'\u001b[39m\u001b[39mdate\u001b[39m\u001b[39m'\u001b[39m],\n\u001b[1;32m      <a href='vscode-notebook-cell:/home/bassem/code/FinRL-Meta/tutorials/2-Advance/Plug_and_Play_with_DRL_Libraries.ipynb#ch0000050?line=8'>9</a>\u001b[0m              baseline_end \u001b[39m=\u001b[39m account_value_rllib\u001b[39m.\u001b[39mloc[\u001b[39mlen\u001b[39m(account_value_rllib)\u001b[39m-\u001b[39m\u001b[39m1\u001b[39m,\u001b[39m'\u001b[39m\u001b[39mdate\u001b[39m\u001b[39m'\u001b[39m])\n",
      "\u001b[0;31mAttributeError\u001b[0m: 'list' object has no attribute 'loc'"
     ]
    }
   ],
   "source": [
    "print(\"==============Compare to DJIA===========\")\n",
    "%matplotlib inline\n",
    "# S&P 500: ^GSPC\n",
    "# Dow Jones Index: ^DJI\n",
    "# NASDAQ 100: ^NDX\n",
    "backtest_plot(account_value_rllib,\n",
    "             baseline_ticker = '^DJI',\n",
    "             baseline_start = account_value_rllib.loc[0,'date'],\n",
    "             baseline_end = account_value_rllib.loc[len(account_value_rllib)-1,'date'])"
   ]
  },
  {
   "cell_type": "markdown",
   "metadata": {
    "collapsed": false
   },
   "source": [
    "### 4.3 Stable-baselines3"
   ]
  },
  {
   "cell_type": "code",
   "execution_count": 21,
   "metadata": {
    "collapsed": false,
    "pycharm": {
     "name": "#%%\n"
    }
   },
   "outputs": [],
   "source": [
    "SAC_PARAMS = {\"batch_size\": 128,\"buffer_size\": 100000,\"learning_rate\": 0.0001,\"learning_starts\": 100,\"ent_coef\": \"auto_0.1\",}\n",
    "PPO_PARAMS = {\"n_steps\": 2048,\"ent_coef\": 0.01,\"learning_rate\": 0.00025,\"batch_size\": 128}\n",
    "TD3_PARAMS = {\"batch_size\": 100, \"buffer_size\": 1000000, \"learning_rate\": 0.001}\n",
    "DDPG_PARAMS = {\"batch_size\": 128, \"buffer_size\": 50000, \"learning_rate\": 0.001}\n",
    "A2C_PARAMS = {\"n_steps\": 5, \"ent_coef\": 0.01, \"learning_rate\": 3e-5}"
   ]
  },
  {
   "cell_type": "markdown",
   "metadata": {
    "collapsed": false
   },
   "source": [
    "#### Train"
   ]
  },
  {
   "cell_type": "code",
   "execution_count": 22,
   "metadata": {
    "collapsed": false,
    "pycharm": {
     "name": "#%%\n"
    }
   },
   "outputs": [
    {
     "name": "stdout",
     "output_type": "stream",
     "text": [
      "[*********************100%***********************]  1 of 1 completed\n",
      "[*********************100%***********************]  1 of 1 completed\n"
     ]
    },
    {
     "name": "stderr",
     "output_type": "stream",
     "text": [
      "/home/bassem/anaconda3/lib/python3.9/site-packages/finrl/meta/data_processors/processor_yahoofinance.py:56: FutureWarning: The frame.append method is deprecated and will be removed from pandas in a future version. Use pandas.concat instead.\n",
      "  data_df = data_df.append(temp_df)\n",
      "/home/bassem/anaconda3/lib/python3.9/site-packages/finrl/meta/data_processors/processor_yahoofinance.py:56: FutureWarning: The frame.append method is deprecated and will be removed from pandas in a future version. Use pandas.concat instead.\n",
      "  data_df = data_df.append(temp_df)\n"
     ]
    },
    {
     "name": "stdout",
     "output_type": "stream",
     "text": [
      "[*********************100%***********************]  1 of 1 completed\n"
     ]
    },
    {
     "name": "stderr",
     "output_type": "stream",
     "text": [
      "/home/bassem/anaconda3/lib/python3.9/site-packages/finrl/meta/data_processors/processor_yahoofinance.py:56: FutureWarning: The frame.append method is deprecated and will be removed from pandas in a future version. Use pandas.concat instead.\n",
      "  data_df = data_df.append(temp_df)\n"
     ]
    },
    {
     "name": "stdout",
     "output_type": "stream",
     "text": [
      "[*********************100%***********************]  1 of 1 completed\n"
     ]
    },
    {
     "name": "stderr",
     "output_type": "stream",
     "text": [
      "/home/bassem/anaconda3/lib/python3.9/site-packages/finrl/meta/data_processors/processor_yahoofinance.py:56: FutureWarning: The frame.append method is deprecated and will be removed from pandas in a future version. Use pandas.concat instead.\n",
      "  data_df = data_df.append(temp_df)\n"
     ]
    },
    {
     "name": "stdout",
     "output_type": "stream",
     "text": [
      "[*********************100%***********************]  1 of 1 completed\n",
      "[*********************100%***********************]  1 of 1 completed\n"
     ]
    },
    {
     "name": "stderr",
     "output_type": "stream",
     "text": [
      "/home/bassem/anaconda3/lib/python3.9/site-packages/finrl/meta/data_processors/processor_yahoofinance.py:56: FutureWarning: The frame.append method is deprecated and will be removed from pandas in a future version. Use pandas.concat instead.\n",
      "  data_df = data_df.append(temp_df)\n",
      "/home/bassem/anaconda3/lib/python3.9/site-packages/finrl/meta/data_processors/processor_yahoofinance.py:56: FutureWarning: The frame.append method is deprecated and will be removed from pandas in a future version. Use pandas.concat instead.\n",
      "  data_df = data_df.append(temp_df)\n"
     ]
    },
    {
     "name": "stdout",
     "output_type": "stream",
     "text": [
      "[*********************100%***********************]  1 of 1 completed\n",
      "[*********************100%***********************]  1 of 1 completed\n"
     ]
    },
    {
     "name": "stderr",
     "output_type": "stream",
     "text": [
      "/home/bassem/anaconda3/lib/python3.9/site-packages/finrl/meta/data_processors/processor_yahoofinance.py:56: FutureWarning: The frame.append method is deprecated and will be removed from pandas in a future version. Use pandas.concat instead.\n",
      "  data_df = data_df.append(temp_df)\n",
      "/home/bassem/anaconda3/lib/python3.9/site-packages/finrl/meta/data_processors/processor_yahoofinance.py:56: FutureWarning: The frame.append method is deprecated and will be removed from pandas in a future version. Use pandas.concat instead.\n",
      "  data_df = data_df.append(temp_df)\n"
     ]
    },
    {
     "name": "stdout",
     "output_type": "stream",
     "text": [
      "[*********************100%***********************]  1 of 1 completed\n"
     ]
    },
    {
     "name": "stderr",
     "output_type": "stream",
     "text": [
      "/home/bassem/anaconda3/lib/python3.9/site-packages/finrl/meta/data_processors/processor_yahoofinance.py:56: FutureWarning: The frame.append method is deprecated and will be removed from pandas in a future version. Use pandas.concat instead.\n",
      "  data_df = data_df.append(temp_df)\n"
     ]
    },
    {
     "name": "stdout",
     "output_type": "stream",
     "text": [
      "[*********************100%***********************]  1 of 1 completed\n"
     ]
    },
    {
     "name": "stderr",
     "output_type": "stream",
     "text": [
      "/home/bassem/anaconda3/lib/python3.9/site-packages/finrl/meta/data_processors/processor_yahoofinance.py:56: FutureWarning: The frame.append method is deprecated and will be removed from pandas in a future version. Use pandas.concat instead.\n",
      "  data_df = data_df.append(temp_df)\n"
     ]
    },
    {
     "name": "stdout",
     "output_type": "stream",
     "text": [
      "[*********************100%***********************]  1 of 1 completed\n",
      "[*********************100%***********************]  1 of 1 completed\n"
     ]
    },
    {
     "name": "stderr",
     "output_type": "stream",
     "text": [
      "/home/bassem/anaconda3/lib/python3.9/site-packages/finrl/meta/data_processors/processor_yahoofinance.py:56: FutureWarning: The frame.append method is deprecated and will be removed from pandas in a future version. Use pandas.concat instead.\n",
      "  data_df = data_df.append(temp_df)\n",
      "/home/bassem/anaconda3/lib/python3.9/site-packages/finrl/meta/data_processors/processor_yahoofinance.py:56: FutureWarning: The frame.append method is deprecated and will be removed from pandas in a future version. Use pandas.concat instead.\n",
      "  data_df = data_df.append(temp_df)\n"
     ]
    },
    {
     "name": "stdout",
     "output_type": "stream",
     "text": [
      "[*********************100%***********************]  1 of 1 completed\n"
     ]
    },
    {
     "name": "stderr",
     "output_type": "stream",
     "text": [
      "/home/bassem/anaconda3/lib/python3.9/site-packages/finrl/meta/data_processors/processor_yahoofinance.py:56: FutureWarning: The frame.append method is deprecated and will be removed from pandas in a future version. Use pandas.concat instead.\n",
      "  data_df = data_df.append(temp_df)\n"
     ]
    },
    {
     "name": "stdout",
     "output_type": "stream",
     "text": [
      "[*********************100%***********************]  1 of 1 completed\n"
     ]
    },
    {
     "name": "stderr",
     "output_type": "stream",
     "text": [
      "/home/bassem/anaconda3/lib/python3.9/site-packages/finrl/meta/data_processors/processor_yahoofinance.py:56: FutureWarning: The frame.append method is deprecated and will be removed from pandas in a future version. Use pandas.concat instead.\n",
      "  data_df = data_df.append(temp_df)\n"
     ]
    },
    {
     "name": "stdout",
     "output_type": "stream",
     "text": [
      "[*********************100%***********************]  1 of 1 completed\n"
     ]
    },
    {
     "name": "stderr",
     "output_type": "stream",
     "text": [
      "/home/bassem/anaconda3/lib/python3.9/site-packages/finrl/meta/data_processors/processor_yahoofinance.py:56: FutureWarning: The frame.append method is deprecated and will be removed from pandas in a future version. Use pandas.concat instead.\n",
      "  data_df = data_df.append(temp_df)\n"
     ]
    },
    {
     "name": "stdout",
     "output_type": "stream",
     "text": [
      "[*********************100%***********************]  1 of 1 completed\n"
     ]
    },
    {
     "name": "stderr",
     "output_type": "stream",
     "text": [
      "/home/bassem/anaconda3/lib/python3.9/site-packages/finrl/meta/data_processors/processor_yahoofinance.py:56: FutureWarning: The frame.append method is deprecated and will be removed from pandas in a future version. Use pandas.concat instead.\n",
      "  data_df = data_df.append(temp_df)\n"
     ]
    },
    {
     "name": "stdout",
     "output_type": "stream",
     "text": [
      "[*********************100%***********************]  1 of 1 completed\n"
     ]
    },
    {
     "name": "stderr",
     "output_type": "stream",
     "text": [
      "/home/bassem/anaconda3/lib/python3.9/site-packages/finrl/meta/data_processors/processor_yahoofinance.py:56: FutureWarning: The frame.append method is deprecated and will be removed from pandas in a future version. Use pandas.concat instead.\n",
      "  data_df = data_df.append(temp_df)\n"
     ]
    },
    {
     "name": "stdout",
     "output_type": "stream",
     "text": [
      "[*********************100%***********************]  1 of 1 completed\n",
      "[*********************100%***********************]  1 of 1 completed\n"
     ]
    },
    {
     "name": "stderr",
     "output_type": "stream",
     "text": [
      "/home/bassem/anaconda3/lib/python3.9/site-packages/finrl/meta/data_processors/processor_yahoofinance.py:56: FutureWarning: The frame.append method is deprecated and will be removed from pandas in a future version. Use pandas.concat instead.\n",
      "  data_df = data_df.append(temp_df)\n",
      "/home/bassem/anaconda3/lib/python3.9/site-packages/finrl/meta/data_processors/processor_yahoofinance.py:56: FutureWarning: The frame.append method is deprecated and will be removed from pandas in a future version. Use pandas.concat instead.\n",
      "  data_df = data_df.append(temp_df)\n"
     ]
    },
    {
     "name": "stdout",
     "output_type": "stream",
     "text": [
      "[*********************100%***********************]  1 of 1 completed\n"
     ]
    },
    {
     "name": "stderr",
     "output_type": "stream",
     "text": [
      "/home/bassem/anaconda3/lib/python3.9/site-packages/finrl/meta/data_processors/processor_yahoofinance.py:56: FutureWarning: The frame.append method is deprecated and will be removed from pandas in a future version. Use pandas.concat instead.\n",
      "  data_df = data_df.append(temp_df)\n"
     ]
    },
    {
     "name": "stdout",
     "output_type": "stream",
     "text": [
      "[*********************100%***********************]  1 of 1 completed\n"
     ]
    },
    {
     "name": "stderr",
     "output_type": "stream",
     "text": [
      "/home/bassem/anaconda3/lib/python3.9/site-packages/finrl/meta/data_processors/processor_yahoofinance.py:56: FutureWarning: The frame.append method is deprecated and will be removed from pandas in a future version. Use pandas.concat instead.\n",
      "  data_df = data_df.append(temp_df)\n"
     ]
    },
    {
     "name": "stdout",
     "output_type": "stream",
     "text": [
      "[*********************100%***********************]  1 of 1 completed\n",
      "[*********************100%***********************]  1 of 1 completed\n"
     ]
    },
    {
     "name": "stderr",
     "output_type": "stream",
     "text": [
      "/home/bassem/anaconda3/lib/python3.9/site-packages/finrl/meta/data_processors/processor_yahoofinance.py:56: FutureWarning: The frame.append method is deprecated and will be removed from pandas in a future version. Use pandas.concat instead.\n",
      "  data_df = data_df.append(temp_df)\n",
      "/home/bassem/anaconda3/lib/python3.9/site-packages/finrl/meta/data_processors/processor_yahoofinance.py:56: FutureWarning: The frame.append method is deprecated and will be removed from pandas in a future version. Use pandas.concat instead.\n",
      "  data_df = data_df.append(temp_df)\n"
     ]
    },
    {
     "name": "stdout",
     "output_type": "stream",
     "text": [
      "[*********************100%***********************]  1 of 1 completed\n"
     ]
    },
    {
     "name": "stderr",
     "output_type": "stream",
     "text": [
      "/home/bassem/anaconda3/lib/python3.9/site-packages/finrl/meta/data_processors/processor_yahoofinance.py:56: FutureWarning: The frame.append method is deprecated and will be removed from pandas in a future version. Use pandas.concat instead.\n",
      "  data_df = data_df.append(temp_df)\n"
     ]
    },
    {
     "name": "stdout",
     "output_type": "stream",
     "text": [
      "[*********************100%***********************]  1 of 1 completed\n",
      "[*********************100%***********************]  1 of 1 completed\n"
     ]
    },
    {
     "name": "stderr",
     "output_type": "stream",
     "text": [
      "/home/bassem/anaconda3/lib/python3.9/site-packages/finrl/meta/data_processors/processor_yahoofinance.py:56: FutureWarning: The frame.append method is deprecated and will be removed from pandas in a future version. Use pandas.concat instead.\n",
      "  data_df = data_df.append(temp_df)\n",
      "/home/bassem/anaconda3/lib/python3.9/site-packages/finrl/meta/data_processors/processor_yahoofinance.py:56: FutureWarning: The frame.append method is deprecated and will be removed from pandas in a future version. Use pandas.concat instead.\n",
      "  data_df = data_df.append(temp_df)\n"
     ]
    },
    {
     "name": "stdout",
     "output_type": "stream",
     "text": [
      "[*********************100%***********************]  1 of 1 completed\n"
     ]
    },
    {
     "name": "stderr",
     "output_type": "stream",
     "text": [
      "/home/bassem/anaconda3/lib/python3.9/site-packages/finrl/meta/data_processors/processor_yahoofinance.py:56: FutureWarning: The frame.append method is deprecated and will be removed from pandas in a future version. Use pandas.concat instead.\n",
      "  data_df = data_df.append(temp_df)\n"
     ]
    },
    {
     "name": "stdout",
     "output_type": "stream",
     "text": [
      "[*********************100%***********************]  1 of 1 completed\n"
     ]
    },
    {
     "name": "stderr",
     "output_type": "stream",
     "text": [
      "/home/bassem/anaconda3/lib/python3.9/site-packages/finrl/meta/data_processors/processor_yahoofinance.py:56: FutureWarning: The frame.append method is deprecated and will be removed from pandas in a future version. Use pandas.concat instead.\n",
      "  data_df = data_df.append(temp_df)\n"
     ]
    },
    {
     "name": "stdout",
     "output_type": "stream",
     "text": [
      "[*********************100%***********************]  1 of 1 completed\n",
      "[*********************100%***********************]  1 of 1 completed\n"
     ]
    },
    {
     "name": "stderr",
     "output_type": "stream",
     "text": [
      "/home/bassem/anaconda3/lib/python3.9/site-packages/finrl/meta/data_processors/processor_yahoofinance.py:56: FutureWarning: The frame.append method is deprecated and will be removed from pandas in a future version. Use pandas.concat instead.\n",
      "  data_df = data_df.append(temp_df)\n",
      "/home/bassem/anaconda3/lib/python3.9/site-packages/finrl/meta/data_processors/processor_yahoofinance.py:56: FutureWarning: The frame.append method is deprecated and will be removed from pandas in a future version. Use pandas.concat instead.\n",
      "  data_df = data_df.append(temp_df)\n"
     ]
    },
    {
     "name": "stdout",
     "output_type": "stream",
     "text": [
      "Shape of DataFrame:  (52719, 9)\n",
      "Clean data for AAPL\n"
     ]
    },
    {
     "name": "stderr",
     "output_type": "stream",
     "text": [
      "/home/bassem/anaconda3/lib/python3.9/site-packages/finrl/meta/data_processors/processor_yahoofinance.py:165: FutureWarning: The frame.append method is deprecated and will be removed from pandas in a future version. Use pandas.concat instead.\n",
      "  new_df = new_df.append(tmp_df)\n"
     ]
    },
    {
     "name": "stdout",
     "output_type": "stream",
     "text": [
      "Data clean for AAPL is finished.\n",
      "Clean data for AMGN\n"
     ]
    },
    {
     "name": "stderr",
     "output_type": "stream",
     "text": [
      "/home/bassem/anaconda3/lib/python3.9/site-packages/finrl/meta/data_processors/processor_yahoofinance.py:165: FutureWarning: The frame.append method is deprecated and will be removed from pandas in a future version. Use pandas.concat instead.\n",
      "  new_df = new_df.append(tmp_df)\n"
     ]
    },
    {
     "name": "stdout",
     "output_type": "stream",
     "text": [
      "Data clean for AMGN is finished.\n",
      "Clean data for AXP\n"
     ]
    },
    {
     "name": "stderr",
     "output_type": "stream",
     "text": [
      "/home/bassem/anaconda3/lib/python3.9/site-packages/finrl/meta/data_processors/processor_yahoofinance.py:165: FutureWarning: The frame.append method is deprecated and will be removed from pandas in a future version. Use pandas.concat instead.\n",
      "  new_df = new_df.append(tmp_df)\n"
     ]
    },
    {
     "name": "stdout",
     "output_type": "stream",
     "text": [
      "Data clean for AXP is finished.\n",
      "Clean data for BA\n"
     ]
    },
    {
     "name": "stderr",
     "output_type": "stream",
     "text": [
      "/home/bassem/anaconda3/lib/python3.9/site-packages/finrl/meta/data_processors/processor_yahoofinance.py:165: FutureWarning: The frame.append method is deprecated and will be removed from pandas in a future version. Use pandas.concat instead.\n",
      "  new_df = new_df.append(tmp_df)\n"
     ]
    },
    {
     "name": "stdout",
     "output_type": "stream",
     "text": [
      "Data clean for BA is finished.\n",
      "Clean data for CAT\n"
     ]
    },
    {
     "name": "stderr",
     "output_type": "stream",
     "text": [
      "/home/bassem/anaconda3/lib/python3.9/site-packages/finrl/meta/data_processors/processor_yahoofinance.py:165: FutureWarning: The frame.append method is deprecated and will be removed from pandas in a future version. Use pandas.concat instead.\n",
      "  new_df = new_df.append(tmp_df)\n"
     ]
    },
    {
     "name": "stdout",
     "output_type": "stream",
     "text": [
      "Data clean for CAT is finished.\n",
      "Clean data for CRM\n"
     ]
    },
    {
     "name": "stderr",
     "output_type": "stream",
     "text": [
      "/home/bassem/anaconda3/lib/python3.9/site-packages/finrl/meta/data_processors/processor_yahoofinance.py:165: FutureWarning: The frame.append method is deprecated and will be removed from pandas in a future version. Use pandas.concat instead.\n",
      "  new_df = new_df.append(tmp_df)\n"
     ]
    },
    {
     "name": "stdout",
     "output_type": "stream",
     "text": [
      "Data clean for CRM is finished.\n",
      "Clean data for CSCO\n"
     ]
    },
    {
     "name": "stderr",
     "output_type": "stream",
     "text": [
      "/home/bassem/anaconda3/lib/python3.9/site-packages/finrl/meta/data_processors/processor_yahoofinance.py:165: FutureWarning: The frame.append method is deprecated and will be removed from pandas in a future version. Use pandas.concat instead.\n",
      "  new_df = new_df.append(tmp_df)\n"
     ]
    },
    {
     "name": "stdout",
     "output_type": "stream",
     "text": [
      "Data clean for CSCO is finished.\n",
      "Clean data for CVX\n"
     ]
    },
    {
     "name": "stderr",
     "output_type": "stream",
     "text": [
      "/home/bassem/anaconda3/lib/python3.9/site-packages/finrl/meta/data_processors/processor_yahoofinance.py:165: FutureWarning: The frame.append method is deprecated and will be removed from pandas in a future version. Use pandas.concat instead.\n",
      "  new_df = new_df.append(tmp_df)\n"
     ]
    },
    {
     "name": "stdout",
     "output_type": "stream",
     "text": [
      "Data clean for CVX is finished.\n",
      "Clean data for DIS\n"
     ]
    },
    {
     "name": "stderr",
     "output_type": "stream",
     "text": [
      "/home/bassem/anaconda3/lib/python3.9/site-packages/finrl/meta/data_processors/processor_yahoofinance.py:165: FutureWarning: The frame.append method is deprecated and will be removed from pandas in a future version. Use pandas.concat instead.\n",
      "  new_df = new_df.append(tmp_df)\n"
     ]
    },
    {
     "name": "stdout",
     "output_type": "stream",
     "text": [
      "Data clean for DIS is finished.\n",
      "Clean data for DOW\n"
     ]
    },
    {
     "name": "stderr",
     "output_type": "stream",
     "text": [
      "/home/bassem/anaconda3/lib/python3.9/site-packages/finrl/meta/data_processors/processor_yahoofinance.py:165: FutureWarning: The frame.append method is deprecated and will be removed from pandas in a future version. Use pandas.concat instead.\n",
      "  new_df = new_df.append(tmp_df)\n"
     ]
    },
    {
     "name": "stdout",
     "output_type": "stream",
     "text": [
      "NaN data on start date, fill using first valid data.\n",
      "Data clean for DOW is finished.\n",
      "Clean data for GS\n"
     ]
    },
    {
     "name": "stderr",
     "output_type": "stream",
     "text": [
      "/home/bassem/anaconda3/lib/python3.9/site-packages/finrl/meta/data_processors/processor_yahoofinance.py:165: FutureWarning: The frame.append method is deprecated and will be removed from pandas in a future version. Use pandas.concat instead.\n",
      "  new_df = new_df.append(tmp_df)\n"
     ]
    },
    {
     "name": "stdout",
     "output_type": "stream",
     "text": [
      "Data clean for GS is finished.\n",
      "Clean data for HD\n"
     ]
    },
    {
     "name": "stderr",
     "output_type": "stream",
     "text": [
      "/home/bassem/anaconda3/lib/python3.9/site-packages/finrl/meta/data_processors/processor_yahoofinance.py:165: FutureWarning: The frame.append method is deprecated and will be removed from pandas in a future version. Use pandas.concat instead.\n",
      "  new_df = new_df.append(tmp_df)\n"
     ]
    },
    {
     "name": "stdout",
     "output_type": "stream",
     "text": [
      "Data clean for HD is finished.\n",
      "Clean data for HON\n"
     ]
    },
    {
     "name": "stderr",
     "output_type": "stream",
     "text": [
      "/home/bassem/anaconda3/lib/python3.9/site-packages/finrl/meta/data_processors/processor_yahoofinance.py:165: FutureWarning: The frame.append method is deprecated and will be removed from pandas in a future version. Use pandas.concat instead.\n",
      "  new_df = new_df.append(tmp_df)\n"
     ]
    },
    {
     "name": "stdout",
     "output_type": "stream",
     "text": [
      "Data clean for HON is finished.\n",
      "Clean data for IBM\n"
     ]
    },
    {
     "name": "stderr",
     "output_type": "stream",
     "text": [
      "/home/bassem/anaconda3/lib/python3.9/site-packages/finrl/meta/data_processors/processor_yahoofinance.py:165: FutureWarning: The frame.append method is deprecated and will be removed from pandas in a future version. Use pandas.concat instead.\n",
      "  new_df = new_df.append(tmp_df)\n"
     ]
    },
    {
     "name": "stdout",
     "output_type": "stream",
     "text": [
      "Data clean for IBM is finished.\n",
      "Clean data for INTC\n"
     ]
    },
    {
     "name": "stderr",
     "output_type": "stream",
     "text": [
      "/home/bassem/anaconda3/lib/python3.9/site-packages/finrl/meta/data_processors/processor_yahoofinance.py:165: FutureWarning: The frame.append method is deprecated and will be removed from pandas in a future version. Use pandas.concat instead.\n",
      "  new_df = new_df.append(tmp_df)\n"
     ]
    },
    {
     "name": "stdout",
     "output_type": "stream",
     "text": [
      "Data clean for INTC is finished.\n",
      "Clean data for JNJ\n"
     ]
    },
    {
     "name": "stderr",
     "output_type": "stream",
     "text": [
      "/home/bassem/anaconda3/lib/python3.9/site-packages/finrl/meta/data_processors/processor_yahoofinance.py:165: FutureWarning: The frame.append method is deprecated and will be removed from pandas in a future version. Use pandas.concat instead.\n",
      "  new_df = new_df.append(tmp_df)\n"
     ]
    },
    {
     "name": "stdout",
     "output_type": "stream",
     "text": [
      "Data clean for JNJ is finished.\n",
      "Clean data for JPM\n"
     ]
    },
    {
     "name": "stderr",
     "output_type": "stream",
     "text": [
      "/home/bassem/anaconda3/lib/python3.9/site-packages/finrl/meta/data_processors/processor_yahoofinance.py:165: FutureWarning: The frame.append method is deprecated and will be removed from pandas in a future version. Use pandas.concat instead.\n",
      "  new_df = new_df.append(tmp_df)\n"
     ]
    },
    {
     "name": "stdout",
     "output_type": "stream",
     "text": [
      "Data clean for JPM is finished.\n",
      "Clean data for KO\n"
     ]
    },
    {
     "name": "stderr",
     "output_type": "stream",
     "text": [
      "/home/bassem/anaconda3/lib/python3.9/site-packages/finrl/meta/data_processors/processor_yahoofinance.py:165: FutureWarning: The frame.append method is deprecated and will be removed from pandas in a future version. Use pandas.concat instead.\n",
      "  new_df = new_df.append(tmp_df)\n"
     ]
    },
    {
     "name": "stdout",
     "output_type": "stream",
     "text": [
      "Data clean for KO is finished.\n",
      "Clean data for MCD\n"
     ]
    },
    {
     "name": "stderr",
     "output_type": "stream",
     "text": [
      "/home/bassem/anaconda3/lib/python3.9/site-packages/finrl/meta/data_processors/processor_yahoofinance.py:165: FutureWarning: The frame.append method is deprecated and will be removed from pandas in a future version. Use pandas.concat instead.\n",
      "  new_df = new_df.append(tmp_df)\n"
     ]
    },
    {
     "name": "stdout",
     "output_type": "stream",
     "text": [
      "Data clean for MCD is finished.\n",
      "Clean data for MMM\n"
     ]
    },
    {
     "name": "stderr",
     "output_type": "stream",
     "text": [
      "/home/bassem/anaconda3/lib/python3.9/site-packages/finrl/meta/data_processors/processor_yahoofinance.py:165: FutureWarning: The frame.append method is deprecated and will be removed from pandas in a future version. Use pandas.concat instead.\n",
      "  new_df = new_df.append(tmp_df)\n"
     ]
    },
    {
     "name": "stdout",
     "output_type": "stream",
     "text": [
      "Data clean for MMM is finished.\n",
      "Clean data for MRK\n"
     ]
    },
    {
     "name": "stderr",
     "output_type": "stream",
     "text": [
      "/home/bassem/anaconda3/lib/python3.9/site-packages/finrl/meta/data_processors/processor_yahoofinance.py:165: FutureWarning: The frame.append method is deprecated and will be removed from pandas in a future version. Use pandas.concat instead.\n",
      "  new_df = new_df.append(tmp_df)\n"
     ]
    },
    {
     "name": "stdout",
     "output_type": "stream",
     "text": [
      "Data clean for MRK is finished.\n",
      "Clean data for MSFT\n"
     ]
    },
    {
     "name": "stderr",
     "output_type": "stream",
     "text": [
      "/home/bassem/anaconda3/lib/python3.9/site-packages/finrl/meta/data_processors/processor_yahoofinance.py:165: FutureWarning: The frame.append method is deprecated and will be removed from pandas in a future version. Use pandas.concat instead.\n",
      "  new_df = new_df.append(tmp_df)\n"
     ]
    },
    {
     "name": "stdout",
     "output_type": "stream",
     "text": [
      "Data clean for MSFT is finished.\n",
      "Clean data for NKE\n"
     ]
    },
    {
     "name": "stderr",
     "output_type": "stream",
     "text": [
      "/home/bassem/anaconda3/lib/python3.9/site-packages/finrl/meta/data_processors/processor_yahoofinance.py:165: FutureWarning: The frame.append method is deprecated and will be removed from pandas in a future version. Use pandas.concat instead.\n",
      "  new_df = new_df.append(tmp_df)\n"
     ]
    },
    {
     "name": "stdout",
     "output_type": "stream",
     "text": [
      "Data clean for NKE is finished.\n",
      "Clean data for PG\n"
     ]
    },
    {
     "name": "stderr",
     "output_type": "stream",
     "text": [
      "/home/bassem/anaconda3/lib/python3.9/site-packages/finrl/meta/data_processors/processor_yahoofinance.py:165: FutureWarning: The frame.append method is deprecated and will be removed from pandas in a future version. Use pandas.concat instead.\n",
      "  new_df = new_df.append(tmp_df)\n"
     ]
    },
    {
     "name": "stdout",
     "output_type": "stream",
     "text": [
      "Data clean for PG is finished.\n",
      "Clean data for TRV\n"
     ]
    },
    {
     "name": "stderr",
     "output_type": "stream",
     "text": [
      "/home/bassem/anaconda3/lib/python3.9/site-packages/finrl/meta/data_processors/processor_yahoofinance.py:165: FutureWarning: The frame.append method is deprecated and will be removed from pandas in a future version. Use pandas.concat instead.\n",
      "  new_df = new_df.append(tmp_df)\n"
     ]
    },
    {
     "name": "stdout",
     "output_type": "stream",
     "text": [
      "Data clean for TRV is finished.\n",
      "Clean data for UNH\n"
     ]
    },
    {
     "name": "stderr",
     "output_type": "stream",
     "text": [
      "/home/bassem/anaconda3/lib/python3.9/site-packages/finrl/meta/data_processors/processor_yahoofinance.py:165: FutureWarning: The frame.append method is deprecated and will be removed from pandas in a future version. Use pandas.concat instead.\n",
      "  new_df = new_df.append(tmp_df)\n"
     ]
    },
    {
     "name": "stdout",
     "output_type": "stream",
     "text": [
      "Data clean for UNH is finished.\n",
      "Clean data for V\n"
     ]
    },
    {
     "name": "stderr",
     "output_type": "stream",
     "text": [
      "/home/bassem/anaconda3/lib/python3.9/site-packages/finrl/meta/data_processors/processor_yahoofinance.py:165: FutureWarning: The frame.append method is deprecated and will be removed from pandas in a future version. Use pandas.concat instead.\n",
      "  new_df = new_df.append(tmp_df)\n"
     ]
    },
    {
     "name": "stdout",
     "output_type": "stream",
     "text": [
      "Data clean for V is finished.\n",
      "Clean data for VZ\n"
     ]
    },
    {
     "name": "stderr",
     "output_type": "stream",
     "text": [
      "/home/bassem/anaconda3/lib/python3.9/site-packages/finrl/meta/data_processors/processor_yahoofinance.py:165: FutureWarning: The frame.append method is deprecated and will be removed from pandas in a future version. Use pandas.concat instead.\n",
      "  new_df = new_df.append(tmp_df)\n"
     ]
    },
    {
     "name": "stdout",
     "output_type": "stream",
     "text": [
      "Data clean for VZ is finished.\n",
      "Clean data for WBA\n"
     ]
    },
    {
     "name": "stderr",
     "output_type": "stream",
     "text": [
      "/home/bassem/anaconda3/lib/python3.9/site-packages/finrl/meta/data_processors/processor_yahoofinance.py:165: FutureWarning: The frame.append method is deprecated and will be removed from pandas in a future version. Use pandas.concat instead.\n",
      "  new_df = new_df.append(tmp_df)\n"
     ]
    },
    {
     "name": "stdout",
     "output_type": "stream",
     "text": [
      "Data clean for WBA is finished.\n",
      "Clean data for WMT\n"
     ]
    },
    {
     "name": "stderr",
     "output_type": "stream",
     "text": [
      "/home/bassem/anaconda3/lib/python3.9/site-packages/finrl/meta/data_processors/processor_yahoofinance.py:165: FutureWarning: The frame.append method is deprecated and will be removed from pandas in a future version. Use pandas.concat instead.\n",
      "  new_df = new_df.append(tmp_df)\n",
      "/home/bassem/anaconda3/lib/python3.9/site-packages/finrl/meta/data_processors/processor_yahoofinance.py:199: FutureWarning: The frame.append method is deprecated and will be removed from pandas in a future version. Use pandas.concat instead.\n",
      "  indicator_df = indicator_df.append(\n",
      "/home/bassem/anaconda3/lib/python3.9/site-packages/finrl/meta/data_processors/processor_yahoofinance.py:199: FutureWarning: The frame.append method is deprecated and will be removed from pandas in a future version. Use pandas.concat instead.\n",
      "  indicator_df = indicator_df.append(\n",
      "/home/bassem/anaconda3/lib/python3.9/site-packages/finrl/meta/data_processors/processor_yahoofinance.py:199: FutureWarning: The frame.append method is deprecated and will be removed from pandas in a future version. Use pandas.concat instead.\n",
      "  indicator_df = indicator_df.append(\n",
      "/home/bassem/anaconda3/lib/python3.9/site-packages/finrl/meta/data_processors/processor_yahoofinance.py:199: FutureWarning: The frame.append method is deprecated and will be removed from pandas in a future version. Use pandas.concat instead.\n",
      "  indicator_df = indicator_df.append(\n",
      "/home/bassem/anaconda3/lib/python3.9/site-packages/finrl/meta/data_processors/processor_yahoofinance.py:199: FutureWarning: The frame.append method is deprecated and will be removed from pandas in a future version. Use pandas.concat instead.\n",
      "  indicator_df = indicator_df.append(\n",
      "/home/bassem/anaconda3/lib/python3.9/site-packages/finrl/meta/data_processors/processor_yahoofinance.py:199: FutureWarning: The frame.append method is deprecated and will be removed from pandas in a future version. Use pandas.concat instead.\n",
      "  indicator_df = indicator_df.append(\n",
      "/home/bassem/anaconda3/lib/python3.9/site-packages/finrl/meta/data_processors/processor_yahoofinance.py:199: FutureWarning: The frame.append method is deprecated and will be removed from pandas in a future version. Use pandas.concat instead.\n",
      "  indicator_df = indicator_df.append(\n",
      "/home/bassem/anaconda3/lib/python3.9/site-packages/finrl/meta/data_processors/processor_yahoofinance.py:199: FutureWarning: The frame.append method is deprecated and will be removed from pandas in a future version. Use pandas.concat instead.\n",
      "  indicator_df = indicator_df.append(\n",
      "/home/bassem/anaconda3/lib/python3.9/site-packages/finrl/meta/data_processors/processor_yahoofinance.py:199: FutureWarning: The frame.append method is deprecated and will be removed from pandas in a future version. Use pandas.concat instead.\n",
      "  indicator_df = indicator_df.append(\n",
      "/home/bassem/anaconda3/lib/python3.9/site-packages/finrl/meta/data_processors/processor_yahoofinance.py:199: FutureWarning: The frame.append method is deprecated and will be removed from pandas in a future version. Use pandas.concat instead.\n",
      "  indicator_df = indicator_df.append(\n",
      "/home/bassem/anaconda3/lib/python3.9/site-packages/finrl/meta/data_processors/processor_yahoofinance.py:199: FutureWarning: The frame.append method is deprecated and will be removed from pandas in a future version. Use pandas.concat instead.\n",
      "  indicator_df = indicator_df.append(\n",
      "/home/bassem/anaconda3/lib/python3.9/site-packages/finrl/meta/data_processors/processor_yahoofinance.py:199: FutureWarning: The frame.append method is deprecated and will be removed from pandas in a future version. Use pandas.concat instead.\n",
      "  indicator_df = indicator_df.append(\n",
      "/home/bassem/anaconda3/lib/python3.9/site-packages/finrl/meta/data_processors/processor_yahoofinance.py:199: FutureWarning: The frame.append method is deprecated and will be removed from pandas in a future version. Use pandas.concat instead.\n",
      "  indicator_df = indicator_df.append(\n",
      "/home/bassem/anaconda3/lib/python3.9/site-packages/finrl/meta/data_processors/processor_yahoofinance.py:199: FutureWarning: The frame.append method is deprecated and will be removed from pandas in a future version. Use pandas.concat instead.\n",
      "  indicator_df = indicator_df.append(\n",
      "/home/bassem/anaconda3/lib/python3.9/site-packages/finrl/meta/data_processors/processor_yahoofinance.py:199: FutureWarning: The frame.append method is deprecated and will be removed from pandas in a future version. Use pandas.concat instead.\n",
      "  indicator_df = indicator_df.append(\n",
      "/home/bassem/anaconda3/lib/python3.9/site-packages/finrl/meta/data_processors/processor_yahoofinance.py:199: FutureWarning: The frame.append method is deprecated and will be removed from pandas in a future version. Use pandas.concat instead.\n",
      "  indicator_df = indicator_df.append(\n",
      "/home/bassem/anaconda3/lib/python3.9/site-packages/finrl/meta/data_processors/processor_yahoofinance.py:199: FutureWarning: The frame.append method is deprecated and will be removed from pandas in a future version. Use pandas.concat instead.\n",
      "  indicator_df = indicator_df.append(\n",
      "/home/bassem/anaconda3/lib/python3.9/site-packages/finrl/meta/data_processors/processor_yahoofinance.py:199: FutureWarning: The frame.append method is deprecated and will be removed from pandas in a future version. Use pandas.concat instead.\n",
      "  indicator_df = indicator_df.append(\n",
      "/home/bassem/anaconda3/lib/python3.9/site-packages/finrl/meta/data_processors/processor_yahoofinance.py:199: FutureWarning: The frame.append method is deprecated and will be removed from pandas in a future version. Use pandas.concat instead.\n",
      "  indicator_df = indicator_df.append(\n",
      "/home/bassem/anaconda3/lib/python3.9/site-packages/finrl/meta/data_processors/processor_yahoofinance.py:199: FutureWarning: The frame.append method is deprecated and will be removed from pandas in a future version. Use pandas.concat instead.\n",
      "  indicator_df = indicator_df.append(\n",
      "/home/bassem/anaconda3/lib/python3.9/site-packages/finrl/meta/data_processors/processor_yahoofinance.py:199: FutureWarning: The frame.append method is deprecated and will be removed from pandas in a future version. Use pandas.concat instead.\n",
      "  indicator_df = indicator_df.append(\n",
      "/home/bassem/anaconda3/lib/python3.9/site-packages/finrl/meta/data_processors/processor_yahoofinance.py:199: FutureWarning: The frame.append method is deprecated and will be removed from pandas in a future version. Use pandas.concat instead.\n",
      "  indicator_df = indicator_df.append(\n",
      "/home/bassem/anaconda3/lib/python3.9/site-packages/finrl/meta/data_processors/processor_yahoofinance.py:199: FutureWarning: The frame.append method is deprecated and will be removed from pandas in a future version. Use pandas.concat instead.\n",
      "  indicator_df = indicator_df.append(\n",
      "/home/bassem/anaconda3/lib/python3.9/site-packages/finrl/meta/data_processors/processor_yahoofinance.py:199: FutureWarning: The frame.append method is deprecated and will be removed from pandas in a future version. Use pandas.concat instead.\n",
      "  indicator_df = indicator_df.append(\n",
      "/home/bassem/anaconda3/lib/python3.9/site-packages/finrl/meta/data_processors/processor_yahoofinance.py:199: FutureWarning: The frame.append method is deprecated and will be removed from pandas in a future version. Use pandas.concat instead.\n",
      "  indicator_df = indicator_df.append(\n",
      "/home/bassem/anaconda3/lib/python3.9/site-packages/finrl/meta/data_processors/processor_yahoofinance.py:199: FutureWarning: The frame.append method is deprecated and will be removed from pandas in a future version. Use pandas.concat instead.\n",
      "  indicator_df = indicator_df.append(\n",
      "/home/bassem/anaconda3/lib/python3.9/site-packages/finrl/meta/data_processors/processor_yahoofinance.py:199: FutureWarning: The frame.append method is deprecated and will be removed from pandas in a future version. Use pandas.concat instead.\n",
      "  indicator_df = indicator_df.append(\n",
      "/home/bassem/anaconda3/lib/python3.9/site-packages/finrl/meta/data_processors/processor_yahoofinance.py:199: FutureWarning: The frame.append method is deprecated and will be removed from pandas in a future version. Use pandas.concat instead.\n",
      "  indicator_df = indicator_df.append(\n",
      "/home/bassem/anaconda3/lib/python3.9/site-packages/finrl/meta/data_processors/processor_yahoofinance.py:199: FutureWarning: The frame.append method is deprecated and will be removed from pandas in a future version. Use pandas.concat instead.\n",
      "  indicator_df = indicator_df.append(\n",
      "/home/bassem/anaconda3/lib/python3.9/site-packages/finrl/meta/data_processors/processor_yahoofinance.py:199: FutureWarning: The frame.append method is deprecated and will be removed from pandas in a future version. Use pandas.concat instead.\n",
      "  indicator_df = indicator_df.append(\n"
     ]
    },
    {
     "name": "stdout",
     "output_type": "stream",
     "text": [
      "Data clean for WMT is finished.\n",
      "Data clean all finished!\n"
     ]
    },
    {
     "name": "stderr",
     "output_type": "stream",
     "text": [
      "/home/bassem/anaconda3/lib/python3.9/site-packages/finrl/meta/data_processors/processor_yahoofinance.py:199: FutureWarning: The frame.append method is deprecated and will be removed from pandas in a future version. Use pandas.concat instead.\n",
      "  indicator_df = indicator_df.append(\n",
      "/home/bassem/anaconda3/lib/python3.9/site-packages/finrl/meta/data_processors/processor_yahoofinance.py:199: FutureWarning: The frame.append method is deprecated and will be removed from pandas in a future version. Use pandas.concat instead.\n",
      "  indicator_df = indicator_df.append(\n",
      "/home/bassem/anaconda3/lib/python3.9/site-packages/finrl/meta/data_processors/processor_yahoofinance.py:199: FutureWarning: The frame.append method is deprecated and will be removed from pandas in a future version. Use pandas.concat instead.\n",
      "  indicator_df = indicator_df.append(\n",
      "/home/bassem/anaconda3/lib/python3.9/site-packages/finrl/meta/data_processors/processor_yahoofinance.py:199: FutureWarning: The frame.append method is deprecated and will be removed from pandas in a future version. Use pandas.concat instead.\n",
      "  indicator_df = indicator_df.append(\n",
      "/home/bassem/anaconda3/lib/python3.9/site-packages/finrl/meta/data_processors/processor_yahoofinance.py:199: FutureWarning: The frame.append method is deprecated and will be removed from pandas in a future version. Use pandas.concat instead.\n",
      "  indicator_df = indicator_df.append(\n",
      "/home/bassem/anaconda3/lib/python3.9/site-packages/finrl/meta/data_processors/processor_yahoofinance.py:199: FutureWarning: The frame.append method is deprecated and will be removed from pandas in a future version. Use pandas.concat instead.\n",
      "  indicator_df = indicator_df.append(\n",
      "/home/bassem/anaconda3/lib/python3.9/site-packages/finrl/meta/data_processors/processor_yahoofinance.py:199: FutureWarning: The frame.append method is deprecated and will be removed from pandas in a future version. Use pandas.concat instead.\n",
      "  indicator_df = indicator_df.append(\n",
      "/home/bassem/anaconda3/lib/python3.9/site-packages/finrl/meta/data_processors/processor_yahoofinance.py:199: FutureWarning: The frame.append method is deprecated and will be removed from pandas in a future version. Use pandas.concat instead.\n",
      "  indicator_df = indicator_df.append(\n",
      "/home/bassem/anaconda3/lib/python3.9/site-packages/finrl/meta/data_processors/processor_yahoofinance.py:199: FutureWarning: The frame.append method is deprecated and will be removed from pandas in a future version. Use pandas.concat instead.\n",
      "  indicator_df = indicator_df.append(\n",
      "/home/bassem/anaconda3/lib/python3.9/site-packages/finrl/meta/data_processors/processor_yahoofinance.py:199: FutureWarning: The frame.append method is deprecated and will be removed from pandas in a future version. Use pandas.concat instead.\n",
      "  indicator_df = indicator_df.append(\n",
      "/home/bassem/anaconda3/lib/python3.9/site-packages/finrl/meta/data_processors/processor_yahoofinance.py:199: FutureWarning: The frame.append method is deprecated and will be removed from pandas in a future version. Use pandas.concat instead.\n",
      "  indicator_df = indicator_df.append(\n",
      "/home/bassem/anaconda3/lib/python3.9/site-packages/finrl/meta/data_processors/processor_yahoofinance.py:199: FutureWarning: The frame.append method is deprecated and will be removed from pandas in a future version. Use pandas.concat instead.\n",
      "  indicator_df = indicator_df.append(\n",
      "/home/bassem/anaconda3/lib/python3.9/site-packages/finrl/meta/data_processors/processor_yahoofinance.py:199: FutureWarning: The frame.append method is deprecated and will be removed from pandas in a future version. Use pandas.concat instead.\n",
      "  indicator_df = indicator_df.append(\n",
      "/home/bassem/anaconda3/lib/python3.9/site-packages/finrl/meta/data_processors/processor_yahoofinance.py:199: FutureWarning: The frame.append method is deprecated and will be removed from pandas in a future version. Use pandas.concat instead.\n",
      "  indicator_df = indicator_df.append(\n",
      "/home/bassem/anaconda3/lib/python3.9/site-packages/finrl/meta/data_processors/processor_yahoofinance.py:199: FutureWarning: The frame.append method is deprecated and will be removed from pandas in a future version. Use pandas.concat instead.\n",
      "  indicator_df = indicator_df.append(\n",
      "/home/bassem/anaconda3/lib/python3.9/site-packages/finrl/meta/data_processors/processor_yahoofinance.py:199: FutureWarning: The frame.append method is deprecated and will be removed from pandas in a future version. Use pandas.concat instead.\n",
      "  indicator_df = indicator_df.append(\n",
      "/home/bassem/anaconda3/lib/python3.9/site-packages/finrl/meta/data_processors/processor_yahoofinance.py:199: FutureWarning: The frame.append method is deprecated and will be removed from pandas in a future version. Use pandas.concat instead.\n",
      "  indicator_df = indicator_df.append(\n",
      "/home/bassem/anaconda3/lib/python3.9/site-packages/finrl/meta/data_processors/processor_yahoofinance.py:199: FutureWarning: The frame.append method is deprecated and will be removed from pandas in a future version. Use pandas.concat instead.\n",
      "  indicator_df = indicator_df.append(\n",
      "/home/bassem/anaconda3/lib/python3.9/site-packages/finrl/meta/data_processors/processor_yahoofinance.py:199: FutureWarning: The frame.append method is deprecated and will be removed from pandas in a future version. Use pandas.concat instead.\n",
      "  indicator_df = indicator_df.append(\n",
      "/home/bassem/anaconda3/lib/python3.9/site-packages/finrl/meta/data_processors/processor_yahoofinance.py:199: FutureWarning: The frame.append method is deprecated and will be removed from pandas in a future version. Use pandas.concat instead.\n",
      "  indicator_df = indicator_df.append(\n",
      "/home/bassem/anaconda3/lib/python3.9/site-packages/finrl/meta/data_processors/processor_yahoofinance.py:199: FutureWarning: The frame.append method is deprecated and will be removed from pandas in a future version. Use pandas.concat instead.\n",
      "  indicator_df = indicator_df.append(\n",
      "/home/bassem/anaconda3/lib/python3.9/site-packages/finrl/meta/data_processors/processor_yahoofinance.py:199: FutureWarning: The frame.append method is deprecated and will be removed from pandas in a future version. Use pandas.concat instead.\n",
      "  indicator_df = indicator_df.append(\n",
      "/home/bassem/anaconda3/lib/python3.9/site-packages/finrl/meta/data_processors/processor_yahoofinance.py:199: FutureWarning: The frame.append method is deprecated and will be removed from pandas in a future version. Use pandas.concat instead.\n",
      "  indicator_df = indicator_df.append(\n",
      "/home/bassem/anaconda3/lib/python3.9/site-packages/finrl/meta/data_processors/processor_yahoofinance.py:199: FutureWarning: The frame.append method is deprecated and will be removed from pandas in a future version. Use pandas.concat instead.\n",
      "  indicator_df = indicator_df.append(\n",
      "/home/bassem/anaconda3/lib/python3.9/site-packages/finrl/meta/data_processors/processor_yahoofinance.py:199: FutureWarning: The frame.append method is deprecated and will be removed from pandas in a future version. Use pandas.concat instead.\n",
      "  indicator_df = indicator_df.append(\n",
      "/home/bassem/anaconda3/lib/python3.9/site-packages/finrl/meta/data_processors/processor_yahoofinance.py:199: FutureWarning: The frame.append method is deprecated and will be removed from pandas in a future version. Use pandas.concat instead.\n",
      "  indicator_df = indicator_df.append(\n",
      "/home/bassem/anaconda3/lib/python3.9/site-packages/finrl/meta/data_processors/processor_yahoofinance.py:199: FutureWarning: The frame.append method is deprecated and will be removed from pandas in a future version. Use pandas.concat instead.\n",
      "  indicator_df = indicator_df.append(\n",
      "/home/bassem/anaconda3/lib/python3.9/site-packages/finrl/meta/data_processors/processor_yahoofinance.py:199: FutureWarning: The frame.append method is deprecated and will be removed from pandas in a future version. Use pandas.concat instead.\n",
      "  indicator_df = indicator_df.append(\n",
      "/home/bassem/anaconda3/lib/python3.9/site-packages/finrl/meta/data_processors/processor_yahoofinance.py:199: FutureWarning: The frame.append method is deprecated and will be removed from pandas in a future version. Use pandas.concat instead.\n",
      "  indicator_df = indicator_df.append(\n",
      "/home/bassem/anaconda3/lib/python3.9/site-packages/finrl/meta/data_processors/processor_yahoofinance.py:199: FutureWarning: The frame.append method is deprecated and will be removed from pandas in a future version. Use pandas.concat instead.\n",
      "  indicator_df = indicator_df.append(\n",
      "/home/bassem/anaconda3/lib/python3.9/site-packages/finrl/meta/data_processors/processor_yahoofinance.py:199: FutureWarning: The frame.append method is deprecated and will be removed from pandas in a future version. Use pandas.concat instead.\n",
      "  indicator_df = indicator_df.append(\n",
      "/home/bassem/anaconda3/lib/python3.9/site-packages/finrl/meta/data_processors/processor_yahoofinance.py:199: FutureWarning: The frame.append method is deprecated and will be removed from pandas in a future version. Use pandas.concat instead.\n",
      "  indicator_df = indicator_df.append(\n",
      "/home/bassem/anaconda3/lib/python3.9/site-packages/finrl/meta/data_processors/processor_yahoofinance.py:199: FutureWarning: The frame.append method is deprecated and will be removed from pandas in a future version. Use pandas.concat instead.\n",
      "  indicator_df = indicator_df.append(\n",
      "/home/bassem/anaconda3/lib/python3.9/site-packages/finrl/meta/data_processors/processor_yahoofinance.py:199: FutureWarning: The frame.append method is deprecated and will be removed from pandas in a future version. Use pandas.concat instead.\n",
      "  indicator_df = indicator_df.append(\n",
      "/home/bassem/anaconda3/lib/python3.9/site-packages/finrl/meta/data_processors/processor_yahoofinance.py:199: FutureWarning: The frame.append method is deprecated and will be removed from pandas in a future version. Use pandas.concat instead.\n",
      "  indicator_df = indicator_df.append(\n",
      "/home/bassem/anaconda3/lib/python3.9/site-packages/finrl/meta/data_processors/processor_yahoofinance.py:199: FutureWarning: The frame.append method is deprecated and will be removed from pandas in a future version. Use pandas.concat instead.\n",
      "  indicator_df = indicator_df.append(\n",
      "/home/bassem/anaconda3/lib/python3.9/site-packages/finrl/meta/data_processors/processor_yahoofinance.py:199: FutureWarning: The frame.append method is deprecated and will be removed from pandas in a future version. Use pandas.concat instead.\n",
      "  indicator_df = indicator_df.append(\n",
      "/home/bassem/anaconda3/lib/python3.9/site-packages/finrl/meta/data_processors/processor_yahoofinance.py:199: FutureWarning: The frame.append method is deprecated and will be removed from pandas in a future version. Use pandas.concat instead.\n",
      "  indicator_df = indicator_df.append(\n",
      "/home/bassem/anaconda3/lib/python3.9/site-packages/finrl/meta/data_processors/processor_yahoofinance.py:199: FutureWarning: The frame.append method is deprecated and will be removed from pandas in a future version. Use pandas.concat instead.\n",
      "  indicator_df = indicator_df.append(\n",
      "/home/bassem/anaconda3/lib/python3.9/site-packages/finrl/meta/data_processors/processor_yahoofinance.py:199: FutureWarning: The frame.append method is deprecated and will be removed from pandas in a future version. Use pandas.concat instead.\n",
      "  indicator_df = indicator_df.append(\n",
      "/home/bassem/anaconda3/lib/python3.9/site-packages/finrl/meta/data_processors/processor_yahoofinance.py:199: FutureWarning: The frame.append method is deprecated and will be removed from pandas in a future version. Use pandas.concat instead.\n",
      "  indicator_df = indicator_df.append(\n",
      "/home/bassem/anaconda3/lib/python3.9/site-packages/finrl/meta/data_processors/processor_yahoofinance.py:199: FutureWarning: The frame.append method is deprecated and will be removed from pandas in a future version. Use pandas.concat instead.\n",
      "  indicator_df = indicator_df.append(\n",
      "/home/bassem/anaconda3/lib/python3.9/site-packages/finrl/meta/data_processors/processor_yahoofinance.py:199: FutureWarning: The frame.append method is deprecated and will be removed from pandas in a future version. Use pandas.concat instead.\n",
      "  indicator_df = indicator_df.append(\n",
      "/home/bassem/anaconda3/lib/python3.9/site-packages/finrl/meta/data_processors/processor_yahoofinance.py:199: FutureWarning: The frame.append method is deprecated and will be removed from pandas in a future version. Use pandas.concat instead.\n",
      "  indicator_df = indicator_df.append(\n",
      "/home/bassem/anaconda3/lib/python3.9/site-packages/finrl/meta/data_processors/processor_yahoofinance.py:199: FutureWarning: The frame.append method is deprecated and will be removed from pandas in a future version. Use pandas.concat instead.\n",
      "  indicator_df = indicator_df.append(\n",
      "/home/bassem/anaconda3/lib/python3.9/site-packages/finrl/meta/data_processors/processor_yahoofinance.py:199: FutureWarning: The frame.append method is deprecated and will be removed from pandas in a future version. Use pandas.concat instead.\n",
      "  indicator_df = indicator_df.append(\n",
      "/home/bassem/anaconda3/lib/python3.9/site-packages/finrl/meta/data_processors/processor_yahoofinance.py:199: FutureWarning: The frame.append method is deprecated and will be removed from pandas in a future version. Use pandas.concat instead.\n",
      "  indicator_df = indicator_df.append(\n",
      "/home/bassem/anaconda3/lib/python3.9/site-packages/finrl/meta/data_processors/processor_yahoofinance.py:199: FutureWarning: The frame.append method is deprecated and will be removed from pandas in a future version. Use pandas.concat instead.\n",
      "  indicator_df = indicator_df.append(\n",
      "/home/bassem/anaconda3/lib/python3.9/site-packages/finrl/meta/data_processors/processor_yahoofinance.py:199: FutureWarning: The frame.append method is deprecated and will be removed from pandas in a future version. Use pandas.concat instead.\n",
      "  indicator_df = indicator_df.append(\n",
      "/home/bassem/anaconda3/lib/python3.9/site-packages/finrl/meta/data_processors/processor_yahoofinance.py:199: FutureWarning: The frame.append method is deprecated and will be removed from pandas in a future version. Use pandas.concat instead.\n",
      "  indicator_df = indicator_df.append(\n",
      "/home/bassem/anaconda3/lib/python3.9/site-packages/finrl/meta/data_processors/processor_yahoofinance.py:199: FutureWarning: The frame.append method is deprecated and will be removed from pandas in a future version. Use pandas.concat instead.\n",
      "  indicator_df = indicator_df.append(\n",
      "/home/bassem/anaconda3/lib/python3.9/site-packages/finrl/meta/data_processors/processor_yahoofinance.py:199: FutureWarning: The frame.append method is deprecated and will be removed from pandas in a future version. Use pandas.concat instead.\n",
      "  indicator_df = indicator_df.append(\n",
      "/home/bassem/anaconda3/lib/python3.9/site-packages/finrl/meta/data_processors/processor_yahoofinance.py:199: FutureWarning: The frame.append method is deprecated and will be removed from pandas in a future version. Use pandas.concat instead.\n",
      "  indicator_df = indicator_df.append(\n",
      "/home/bassem/anaconda3/lib/python3.9/site-packages/finrl/meta/data_processors/processor_yahoofinance.py:199: FutureWarning: The frame.append method is deprecated and will be removed from pandas in a future version. Use pandas.concat instead.\n",
      "  indicator_df = indicator_df.append(\n",
      "/home/bassem/anaconda3/lib/python3.9/site-packages/finrl/meta/data_processors/processor_yahoofinance.py:199: FutureWarning: The frame.append method is deprecated and will be removed from pandas in a future version. Use pandas.concat instead.\n",
      "  indicator_df = indicator_df.append(\n",
      "/home/bassem/anaconda3/lib/python3.9/site-packages/finrl/meta/data_processors/processor_yahoofinance.py:199: FutureWarning: The frame.append method is deprecated and will be removed from pandas in a future version. Use pandas.concat instead.\n",
      "  indicator_df = indicator_df.append(\n",
      "/home/bassem/anaconda3/lib/python3.9/site-packages/finrl/meta/data_processors/processor_yahoofinance.py:199: FutureWarning: The frame.append method is deprecated and will be removed from pandas in a future version. Use pandas.concat instead.\n",
      "  indicator_df = indicator_df.append(\n",
      "/home/bassem/anaconda3/lib/python3.9/site-packages/finrl/meta/data_processors/processor_yahoofinance.py:199: FutureWarning: The frame.append method is deprecated and will be removed from pandas in a future version. Use pandas.concat instead.\n",
      "  indicator_df = indicator_df.append(\n",
      "/home/bassem/anaconda3/lib/python3.9/site-packages/finrl/meta/data_processors/processor_yahoofinance.py:199: FutureWarning: The frame.append method is deprecated and will be removed from pandas in a future version. Use pandas.concat instead.\n",
      "  indicator_df = indicator_df.append(\n",
      "/home/bassem/anaconda3/lib/python3.9/site-packages/finrl/meta/data_processors/processor_yahoofinance.py:199: FutureWarning: The frame.append method is deprecated and will be removed from pandas in a future version. Use pandas.concat instead.\n",
      "  indicator_df = indicator_df.append(\n",
      "/home/bassem/anaconda3/lib/python3.9/site-packages/finrl/meta/data_processors/processor_yahoofinance.py:199: FutureWarning: The frame.append method is deprecated and will be removed from pandas in a future version. Use pandas.concat instead.\n",
      "  indicator_df = indicator_df.append(\n",
      "/home/bassem/anaconda3/lib/python3.9/site-packages/finrl/meta/data_processors/processor_yahoofinance.py:199: FutureWarning: The frame.append method is deprecated and will be removed from pandas in a future version. Use pandas.concat instead.\n",
      "  indicator_df = indicator_df.append(\n",
      "/home/bassem/anaconda3/lib/python3.9/site-packages/finrl/meta/data_processors/processor_yahoofinance.py:199: FutureWarning: The frame.append method is deprecated and will be removed from pandas in a future version. Use pandas.concat instead.\n",
      "  indicator_df = indicator_df.append(\n",
      "/home/bassem/anaconda3/lib/python3.9/site-packages/finrl/meta/data_processors/processor_yahoofinance.py:199: FutureWarning: The frame.append method is deprecated and will be removed from pandas in a future version. Use pandas.concat instead.\n",
      "  indicator_df = indicator_df.append(\n",
      "/home/bassem/anaconda3/lib/python3.9/site-packages/finrl/meta/data_processors/processor_yahoofinance.py:199: FutureWarning: The frame.append method is deprecated and will be removed from pandas in a future version. Use pandas.concat instead.\n",
      "  indicator_df = indicator_df.append(\n",
      "/home/bassem/anaconda3/lib/python3.9/site-packages/finrl/meta/data_processors/processor_yahoofinance.py:199: FutureWarning: The frame.append method is deprecated and will be removed from pandas in a future version. Use pandas.concat instead.\n",
      "  indicator_df = indicator_df.append(\n",
      "/home/bassem/anaconda3/lib/python3.9/site-packages/finrl/meta/data_processors/processor_yahoofinance.py:199: FutureWarning: The frame.append method is deprecated and will be removed from pandas in a future version. Use pandas.concat instead.\n",
      "  indicator_df = indicator_df.append(\n",
      "/home/bassem/anaconda3/lib/python3.9/site-packages/finrl/meta/data_processors/processor_yahoofinance.py:199: FutureWarning: The frame.append method is deprecated and will be removed from pandas in a future version. Use pandas.concat instead.\n",
      "  indicator_df = indicator_df.append(\n",
      "/home/bassem/anaconda3/lib/python3.9/site-packages/finrl/meta/data_processors/processor_yahoofinance.py:199: FutureWarning: The frame.append method is deprecated and will be removed from pandas in a future version. Use pandas.concat instead.\n",
      "  indicator_df = indicator_df.append(\n",
      "/home/bassem/anaconda3/lib/python3.9/site-packages/finrl/meta/data_processors/processor_yahoofinance.py:199: FutureWarning: The frame.append method is deprecated and will be removed from pandas in a future version. Use pandas.concat instead.\n",
      "  indicator_df = indicator_df.append(\n",
      "/home/bassem/anaconda3/lib/python3.9/site-packages/finrl/meta/data_processors/processor_yahoofinance.py:199: FutureWarning: The frame.append method is deprecated and will be removed from pandas in a future version. Use pandas.concat instead.\n",
      "  indicator_df = indicator_df.append(\n",
      "/home/bassem/anaconda3/lib/python3.9/site-packages/finrl/meta/data_processors/processor_yahoofinance.py:199: FutureWarning: The frame.append method is deprecated and will be removed from pandas in a future version. Use pandas.concat instead.\n",
      "  indicator_df = indicator_df.append(\n",
      "/home/bassem/anaconda3/lib/python3.9/site-packages/finrl/meta/data_processors/processor_yahoofinance.py:199: FutureWarning: The frame.append method is deprecated and will be removed from pandas in a future version. Use pandas.concat instead.\n",
      "  indicator_df = indicator_df.append(\n",
      "/home/bassem/anaconda3/lib/python3.9/site-packages/finrl/meta/data_processors/processor_yahoofinance.py:199: FutureWarning: The frame.append method is deprecated and will be removed from pandas in a future version. Use pandas.concat instead.\n",
      "  indicator_df = indicator_df.append(\n",
      "/home/bassem/anaconda3/lib/python3.9/site-packages/finrl/meta/data_processors/processor_yahoofinance.py:199: FutureWarning: The frame.append method is deprecated and will be removed from pandas in a future version. Use pandas.concat instead.\n",
      "  indicator_df = indicator_df.append(\n",
      "/home/bassem/anaconda3/lib/python3.9/site-packages/finrl/meta/data_processors/processor_yahoofinance.py:199: FutureWarning: The frame.append method is deprecated and will be removed from pandas in a future version. Use pandas.concat instead.\n",
      "  indicator_df = indicator_df.append(\n",
      "/home/bassem/anaconda3/lib/python3.9/site-packages/finrl/meta/data_processors/processor_yahoofinance.py:199: FutureWarning: The frame.append method is deprecated and will be removed from pandas in a future version. Use pandas.concat instead.\n",
      "  indicator_df = indicator_df.append(\n",
      "/home/bassem/anaconda3/lib/python3.9/site-packages/finrl/meta/data_processors/processor_yahoofinance.py:199: FutureWarning: The frame.append method is deprecated and will be removed from pandas in a future version. Use pandas.concat instead.\n",
      "  indicator_df = indicator_df.append(\n",
      "/home/bassem/anaconda3/lib/python3.9/site-packages/finrl/meta/data_processors/processor_yahoofinance.py:199: FutureWarning: The frame.append method is deprecated and will be removed from pandas in a future version. Use pandas.concat instead.\n",
      "  indicator_df = indicator_df.append(\n",
      "/home/bassem/anaconda3/lib/python3.9/site-packages/finrl/meta/data_processors/processor_yahoofinance.py:199: FutureWarning: The frame.append method is deprecated and will be removed from pandas in a future version. Use pandas.concat instead.\n",
      "  indicator_df = indicator_df.append(\n",
      "/home/bassem/anaconda3/lib/python3.9/site-packages/finrl/meta/data_processors/processor_yahoofinance.py:199: FutureWarning: The frame.append method is deprecated and will be removed from pandas in a future version. Use pandas.concat instead.\n",
      "  indicator_df = indicator_df.append(\n",
      "/home/bassem/anaconda3/lib/python3.9/site-packages/finrl/meta/data_processors/processor_yahoofinance.py:199: FutureWarning: The frame.append method is deprecated and will be removed from pandas in a future version. Use pandas.concat instead.\n",
      "  indicator_df = indicator_df.append(\n",
      "/home/bassem/anaconda3/lib/python3.9/site-packages/finrl/meta/data_processors/processor_yahoofinance.py:199: FutureWarning: The frame.append method is deprecated and will be removed from pandas in a future version. Use pandas.concat instead.\n",
      "  indicator_df = indicator_df.append(\n",
      "/home/bassem/anaconda3/lib/python3.9/site-packages/finrl/meta/data_processors/processor_yahoofinance.py:199: FutureWarning: The frame.append method is deprecated and will be removed from pandas in a future version. Use pandas.concat instead.\n",
      "  indicator_df = indicator_df.append(\n",
      "/home/bassem/anaconda3/lib/python3.9/site-packages/finrl/meta/data_processors/processor_yahoofinance.py:199: FutureWarning: The frame.append method is deprecated and will be removed from pandas in a future version. Use pandas.concat instead.\n",
      "  indicator_df = indicator_df.append(\n",
      "/home/bassem/anaconda3/lib/python3.9/site-packages/finrl/meta/data_processors/processor_yahoofinance.py:199: FutureWarning: The frame.append method is deprecated and will be removed from pandas in a future version. Use pandas.concat instead.\n",
      "  indicator_df = indicator_df.append(\n",
      "/home/bassem/anaconda3/lib/python3.9/site-packages/finrl/meta/data_processors/processor_yahoofinance.py:199: FutureWarning: The frame.append method is deprecated and will be removed from pandas in a future version. Use pandas.concat instead.\n",
      "  indicator_df = indicator_df.append(\n",
      "/home/bassem/anaconda3/lib/python3.9/site-packages/finrl/meta/data_processors/processor_yahoofinance.py:199: FutureWarning: The frame.append method is deprecated and will be removed from pandas in a future version. Use pandas.concat instead.\n",
      "  indicator_df = indicator_df.append(\n",
      "/home/bassem/anaconda3/lib/python3.9/site-packages/finrl/meta/data_processors/processor_yahoofinance.py:199: FutureWarning: The frame.append method is deprecated and will be removed from pandas in a future version. Use pandas.concat instead.\n",
      "  indicator_df = indicator_df.append(\n",
      "/home/bassem/anaconda3/lib/python3.9/site-packages/finrl/meta/data_processors/processor_yahoofinance.py:199: FutureWarning: The frame.append method is deprecated and will be removed from pandas in a future version. Use pandas.concat instead.\n",
      "  indicator_df = indicator_df.append(\n",
      "/home/bassem/anaconda3/lib/python3.9/site-packages/finrl/meta/data_processors/processor_yahoofinance.py:199: FutureWarning: The frame.append method is deprecated and will be removed from pandas in a future version. Use pandas.concat instead.\n",
      "  indicator_df = indicator_df.append(\n",
      "/home/bassem/anaconda3/lib/python3.9/site-packages/finrl/meta/data_processors/processor_yahoofinance.py:199: FutureWarning: The frame.append method is deprecated and will be removed from pandas in a future version. Use pandas.concat instead.\n",
      "  indicator_df = indicator_df.append(\n",
      "/home/bassem/anaconda3/lib/python3.9/site-packages/finrl/meta/data_processors/processor_yahoofinance.py:199: FutureWarning: The frame.append method is deprecated and will be removed from pandas in a future version. Use pandas.concat instead.\n",
      "  indicator_df = indicator_df.append(\n",
      "/home/bassem/anaconda3/lib/python3.9/site-packages/finrl/meta/data_processors/processor_yahoofinance.py:199: FutureWarning: The frame.append method is deprecated and will be removed from pandas in a future version. Use pandas.concat instead.\n",
      "  indicator_df = indicator_df.append(\n",
      "/home/bassem/anaconda3/lib/python3.9/site-packages/finrl/meta/data_processors/processor_yahoofinance.py:199: FutureWarning: The frame.append method is deprecated and will be removed from pandas in a future version. Use pandas.concat instead.\n",
      "  indicator_df = indicator_df.append(\n",
      "/home/bassem/anaconda3/lib/python3.9/site-packages/finrl/meta/data_processors/processor_yahoofinance.py:199: FutureWarning: The frame.append method is deprecated and will be removed from pandas in a future version. Use pandas.concat instead.\n",
      "  indicator_df = indicator_df.append(\n",
      "/home/bassem/anaconda3/lib/python3.9/site-packages/finrl/meta/data_processors/processor_yahoofinance.py:199: FutureWarning: The frame.append method is deprecated and will be removed from pandas in a future version. Use pandas.concat instead.\n",
      "  indicator_df = indicator_df.append(\n",
      "/home/bassem/anaconda3/lib/python3.9/site-packages/finrl/meta/data_processors/processor_yahoofinance.py:199: FutureWarning: The frame.append method is deprecated and will be removed from pandas in a future version. Use pandas.concat instead.\n",
      "  indicator_df = indicator_df.append(\n",
      "/home/bassem/anaconda3/lib/python3.9/site-packages/finrl/meta/data_processors/processor_yahoofinance.py:199: FutureWarning: The frame.append method is deprecated and will be removed from pandas in a future version. Use pandas.concat instead.\n",
      "  indicator_df = indicator_df.append(\n",
      "/home/bassem/anaconda3/lib/python3.9/site-packages/finrl/meta/data_processors/processor_yahoofinance.py:199: FutureWarning: The frame.append method is deprecated and will be removed from pandas in a future version. Use pandas.concat instead.\n",
      "  indicator_df = indicator_df.append(\n",
      "/home/bassem/anaconda3/lib/python3.9/site-packages/finrl/meta/data_processors/processor_yahoofinance.py:199: FutureWarning: The frame.append method is deprecated and will be removed from pandas in a future version. Use pandas.concat instead.\n",
      "  indicator_df = indicator_df.append(\n",
      "/home/bassem/anaconda3/lib/python3.9/site-packages/finrl/meta/data_processors/processor_yahoofinance.py:199: FutureWarning: The frame.append method is deprecated and will be removed from pandas in a future version. Use pandas.concat instead.\n",
      "  indicator_df = indicator_df.append(\n",
      "/home/bassem/anaconda3/lib/python3.9/site-packages/finrl/meta/data_processors/processor_yahoofinance.py:199: FutureWarning: The frame.append method is deprecated and will be removed from pandas in a future version. Use pandas.concat instead.\n",
      "  indicator_df = indicator_df.append(\n",
      "/home/bassem/anaconda3/lib/python3.9/site-packages/finrl/meta/data_processors/processor_yahoofinance.py:199: FutureWarning: The frame.append method is deprecated and will be removed from pandas in a future version. Use pandas.concat instead.\n",
      "  indicator_df = indicator_df.append(\n",
      "/home/bassem/anaconda3/lib/python3.9/site-packages/finrl/meta/data_processors/processor_yahoofinance.py:199: FutureWarning: The frame.append method is deprecated and will be removed from pandas in a future version. Use pandas.concat instead.\n",
      "  indicator_df = indicator_df.append(\n",
      "/home/bassem/anaconda3/lib/python3.9/site-packages/finrl/meta/data_processors/processor_yahoofinance.py:199: FutureWarning: The frame.append method is deprecated and will be removed from pandas in a future version. Use pandas.concat instead.\n",
      "  indicator_df = indicator_df.append(\n",
      "/home/bassem/anaconda3/lib/python3.9/site-packages/finrl/meta/data_processors/processor_yahoofinance.py:199: FutureWarning: The frame.append method is deprecated and will be removed from pandas in a future version. Use pandas.concat instead.\n",
      "  indicator_df = indicator_df.append(\n",
      "/home/bassem/anaconda3/lib/python3.9/site-packages/finrl/meta/data_processors/processor_yahoofinance.py:199: FutureWarning: The frame.append method is deprecated and will be removed from pandas in a future version. Use pandas.concat instead.\n",
      "  indicator_df = indicator_df.append(\n",
      "/home/bassem/anaconda3/lib/python3.9/site-packages/finrl/meta/data_processors/processor_yahoofinance.py:199: FutureWarning: The frame.append method is deprecated and will be removed from pandas in a future version. Use pandas.concat instead.\n",
      "  indicator_df = indicator_df.append(\n",
      "/home/bassem/anaconda3/lib/python3.9/site-packages/finrl/meta/data_processors/processor_yahoofinance.py:199: FutureWarning: The frame.append method is deprecated and will be removed from pandas in a future version. Use pandas.concat instead.\n",
      "  indicator_df = indicator_df.append(\n",
      "/home/bassem/anaconda3/lib/python3.9/site-packages/finrl/meta/data_processors/processor_yahoofinance.py:199: FutureWarning: The frame.append method is deprecated and will be removed from pandas in a future version. Use pandas.concat instead.\n",
      "  indicator_df = indicator_df.append(\n",
      "/home/bassem/anaconda3/lib/python3.9/site-packages/finrl/meta/data_processors/processor_yahoofinance.py:199: FutureWarning: The frame.append method is deprecated and will be removed from pandas in a future version. Use pandas.concat instead.\n",
      "  indicator_df = indicator_df.append(\n",
      "/home/bassem/anaconda3/lib/python3.9/site-packages/finrl/meta/data_processors/processor_yahoofinance.py:199: FutureWarning: The frame.append method is deprecated and will be removed from pandas in a future version. Use pandas.concat instead.\n",
      "  indicator_df = indicator_df.append(\n",
      "/home/bassem/anaconda3/lib/python3.9/site-packages/finrl/meta/data_processors/processor_yahoofinance.py:199: FutureWarning: The frame.append method is deprecated and will be removed from pandas in a future version. Use pandas.concat instead.\n",
      "  indicator_df = indicator_df.append(\n",
      "/home/bassem/anaconda3/lib/python3.9/site-packages/finrl/meta/data_processors/processor_yahoofinance.py:199: FutureWarning: The frame.append method is deprecated and will be removed from pandas in a future version. Use pandas.concat instead.\n",
      "  indicator_df = indicator_df.append(\n",
      "/home/bassem/anaconda3/lib/python3.9/site-packages/finrl/meta/data_processors/processor_yahoofinance.py:199: FutureWarning: The frame.append method is deprecated and will be removed from pandas in a future version. Use pandas.concat instead.\n",
      "  indicator_df = indicator_df.append(\n",
      "/home/bassem/anaconda3/lib/python3.9/site-packages/finrl/meta/data_processors/processor_yahoofinance.py:199: FutureWarning: The frame.append method is deprecated and will be removed from pandas in a future version. Use pandas.concat instead.\n",
      "  indicator_df = indicator_df.append(\n",
      "/home/bassem/anaconda3/lib/python3.9/site-packages/finrl/meta/data_processors/processor_yahoofinance.py:199: FutureWarning: The frame.append method is deprecated and will be removed from pandas in a future version. Use pandas.concat instead.\n",
      "  indicator_df = indicator_df.append(\n",
      "/home/bassem/anaconda3/lib/python3.9/site-packages/finrl/meta/data_processors/processor_yahoofinance.py:199: FutureWarning: The frame.append method is deprecated and will be removed from pandas in a future version. Use pandas.concat instead.\n",
      "  indicator_df = indicator_df.append(\n",
      "/home/bassem/anaconda3/lib/python3.9/site-packages/finrl/meta/data_processors/processor_yahoofinance.py:199: FutureWarning: The frame.append method is deprecated and will be removed from pandas in a future version. Use pandas.concat instead.\n",
      "  indicator_df = indicator_df.append(\n",
      "/home/bassem/anaconda3/lib/python3.9/site-packages/finrl/meta/data_processors/processor_yahoofinance.py:199: FutureWarning: The frame.append method is deprecated and will be removed from pandas in a future version. Use pandas.concat instead.\n",
      "  indicator_df = indicator_df.append(\n",
      "/home/bassem/anaconda3/lib/python3.9/site-packages/finrl/meta/data_processors/processor_yahoofinance.py:199: FutureWarning: The frame.append method is deprecated and will be removed from pandas in a future version. Use pandas.concat instead.\n",
      "  indicator_df = indicator_df.append(\n",
      "/home/bassem/anaconda3/lib/python3.9/site-packages/finrl/meta/data_processors/processor_yahoofinance.py:199: FutureWarning: The frame.append method is deprecated and will be removed from pandas in a future version. Use pandas.concat instead.\n",
      "  indicator_df = indicator_df.append(\n",
      "/home/bassem/anaconda3/lib/python3.9/site-packages/finrl/meta/data_processors/processor_yahoofinance.py:199: FutureWarning: The frame.append method is deprecated and will be removed from pandas in a future version. Use pandas.concat instead.\n",
      "  indicator_df = indicator_df.append(\n",
      "/home/bassem/anaconda3/lib/python3.9/site-packages/finrl/meta/data_processors/processor_yahoofinance.py:199: FutureWarning: The frame.append method is deprecated and will be removed from pandas in a future version. Use pandas.concat instead.\n",
      "  indicator_df = indicator_df.append(\n",
      "/home/bassem/anaconda3/lib/python3.9/site-packages/finrl/meta/data_processors/processor_yahoofinance.py:199: FutureWarning: The frame.append method is deprecated and will be removed from pandas in a future version. Use pandas.concat instead.\n",
      "  indicator_df = indicator_df.append(\n",
      "/home/bassem/anaconda3/lib/python3.9/site-packages/finrl/meta/data_processors/processor_yahoofinance.py:199: FutureWarning: The frame.append method is deprecated and will be removed from pandas in a future version. Use pandas.concat instead.\n",
      "  indicator_df = indicator_df.append(\n",
      "/home/bassem/anaconda3/lib/python3.9/site-packages/finrl/meta/data_processors/processor_yahoofinance.py:199: FutureWarning: The frame.append method is deprecated and will be removed from pandas in a future version. Use pandas.concat instead.\n",
      "  indicator_df = indicator_df.append(\n",
      "/home/bassem/anaconda3/lib/python3.9/site-packages/finrl/meta/data_processors/processor_yahoofinance.py:199: FutureWarning: The frame.append method is deprecated and will be removed from pandas in a future version. Use pandas.concat instead.\n",
      "  indicator_df = indicator_df.append(\n",
      "/home/bassem/anaconda3/lib/python3.9/site-packages/finrl/meta/data_processors/processor_yahoofinance.py:199: FutureWarning: The frame.append method is deprecated and will be removed from pandas in a future version. Use pandas.concat instead.\n",
      "  indicator_df = indicator_df.append(\n",
      "/home/bassem/anaconda3/lib/python3.9/site-packages/finrl/meta/data_processors/processor_yahoofinance.py:199: FutureWarning: The frame.append method is deprecated and will be removed from pandas in a future version. Use pandas.concat instead.\n",
      "  indicator_df = indicator_df.append(\n",
      "/home/bassem/anaconda3/lib/python3.9/site-packages/finrl/meta/data_processors/processor_yahoofinance.py:199: FutureWarning: The frame.append method is deprecated and will be removed from pandas in a future version. Use pandas.concat instead.\n",
      "  indicator_df = indicator_df.append(\n",
      "/home/bassem/anaconda3/lib/python3.9/site-packages/finrl/meta/data_processors/processor_yahoofinance.py:199: FutureWarning: The frame.append method is deprecated and will be removed from pandas in a future version. Use pandas.concat instead.\n",
      "  indicator_df = indicator_df.append(\n",
      "/home/bassem/anaconda3/lib/python3.9/site-packages/finrl/meta/data_processors/processor_yahoofinance.py:199: FutureWarning: The frame.append method is deprecated and will be removed from pandas in a future version. Use pandas.concat instead.\n",
      "  indicator_df = indicator_df.append(\n",
      "/home/bassem/anaconda3/lib/python3.9/site-packages/finrl/meta/data_processors/processor_yahoofinance.py:199: FutureWarning: The frame.append method is deprecated and will be removed from pandas in a future version. Use pandas.concat instead.\n",
      "  indicator_df = indicator_df.append(\n",
      "/home/bassem/anaconda3/lib/python3.9/site-packages/finrl/meta/data_processors/processor_yahoofinance.py:199: FutureWarning: The frame.append method is deprecated and will be removed from pandas in a future version. Use pandas.concat instead.\n",
      "  indicator_df = indicator_df.append(\n",
      "/home/bassem/anaconda3/lib/python3.9/site-packages/finrl/meta/data_processors/processor_yahoofinance.py:199: FutureWarning: The frame.append method is deprecated and will be removed from pandas in a future version. Use pandas.concat instead.\n",
      "  indicator_df = indicator_df.append(\n",
      "/home/bassem/anaconda3/lib/python3.9/site-packages/finrl/meta/data_processors/processor_yahoofinance.py:199: FutureWarning: The frame.append method is deprecated and will be removed from pandas in a future version. Use pandas.concat instead.\n",
      "  indicator_df = indicator_df.append(\n",
      "/home/bassem/anaconda3/lib/python3.9/site-packages/finrl/meta/data_processors/processor_yahoofinance.py:199: FutureWarning: The frame.append method is deprecated and will be removed from pandas in a future version. Use pandas.concat instead.\n",
      "  indicator_df = indicator_df.append(\n",
      "/home/bassem/anaconda3/lib/python3.9/site-packages/finrl/meta/data_processors/processor_yahoofinance.py:199: FutureWarning: The frame.append method is deprecated and will be removed from pandas in a future version. Use pandas.concat instead.\n",
      "  indicator_df = indicator_df.append(\n",
      "/home/bassem/anaconda3/lib/python3.9/site-packages/finrl/meta/data_processors/processor_yahoofinance.py:199: FutureWarning: The frame.append method is deprecated and will be removed from pandas in a future version. Use pandas.concat instead.\n",
      "  indicator_df = indicator_df.append(\n",
      "/home/bassem/anaconda3/lib/python3.9/site-packages/finrl/meta/data_processors/processor_yahoofinance.py:199: FutureWarning: The frame.append method is deprecated and will be removed from pandas in a future version. Use pandas.concat instead.\n",
      "  indicator_df = indicator_df.append(\n",
      "/home/bassem/anaconda3/lib/python3.9/site-packages/finrl/meta/data_processors/processor_yahoofinance.py:199: FutureWarning: The frame.append method is deprecated and will be removed from pandas in a future version. Use pandas.concat instead.\n",
      "  indicator_df = indicator_df.append(\n",
      "/home/bassem/anaconda3/lib/python3.9/site-packages/finrl/meta/data_processors/processor_yahoofinance.py:199: FutureWarning: The frame.append method is deprecated and will be removed from pandas in a future version. Use pandas.concat instead.\n",
      "  indicator_df = indicator_df.append(\n",
      "/home/bassem/anaconda3/lib/python3.9/site-packages/finrl/meta/data_processors/processor_yahoofinance.py:199: FutureWarning: The frame.append method is deprecated and will be removed from pandas in a future version. Use pandas.concat instead.\n",
      "  indicator_df = indicator_df.append(\n",
      "/home/bassem/anaconda3/lib/python3.9/site-packages/finrl/meta/data_processors/processor_yahoofinance.py:199: FutureWarning: The frame.append method is deprecated and will be removed from pandas in a future version. Use pandas.concat instead.\n",
      "  indicator_df = indicator_df.append(\n",
      "/home/bassem/anaconda3/lib/python3.9/site-packages/finrl/meta/data_processors/processor_yahoofinance.py:199: FutureWarning: The frame.append method is deprecated and will be removed from pandas in a future version. Use pandas.concat instead.\n",
      "  indicator_df = indicator_df.append(\n",
      "/home/bassem/anaconda3/lib/python3.9/site-packages/finrl/meta/data_processors/processor_yahoofinance.py:199: FutureWarning: The frame.append method is deprecated and will be removed from pandas in a future version. Use pandas.concat instead.\n",
      "  indicator_df = indicator_df.append(\n",
      "/home/bassem/anaconda3/lib/python3.9/site-packages/finrl/meta/data_processors/processor_yahoofinance.py:199: FutureWarning: The frame.append method is deprecated and will be removed from pandas in a future version. Use pandas.concat instead.\n",
      "  indicator_df = indicator_df.append(\n",
      "/home/bassem/anaconda3/lib/python3.9/site-packages/finrl/meta/data_processors/processor_yahoofinance.py:199: FutureWarning: The frame.append method is deprecated and will be removed from pandas in a future version. Use pandas.concat instead.\n",
      "  indicator_df = indicator_df.append(\n",
      "/home/bassem/anaconda3/lib/python3.9/site-packages/finrl/meta/data_processors/processor_yahoofinance.py:199: FutureWarning: The frame.append method is deprecated and will be removed from pandas in a future version. Use pandas.concat instead.\n",
      "  indicator_df = indicator_df.append(\n",
      "/home/bassem/anaconda3/lib/python3.9/site-packages/finrl/meta/data_processors/processor_yahoofinance.py:199: FutureWarning: The frame.append method is deprecated and will be removed from pandas in a future version. Use pandas.concat instead.\n",
      "  indicator_df = indicator_df.append(\n",
      "/home/bassem/anaconda3/lib/python3.9/site-packages/finrl/meta/data_processors/processor_yahoofinance.py:199: FutureWarning: The frame.append method is deprecated and will be removed from pandas in a future version. Use pandas.concat instead.\n",
      "  indicator_df = indicator_df.append(\n",
      "/home/bassem/anaconda3/lib/python3.9/site-packages/finrl/meta/data_processors/processor_yahoofinance.py:199: FutureWarning: The frame.append method is deprecated and will be removed from pandas in a future version. Use pandas.concat instead.\n",
      "  indicator_df = indicator_df.append(\n",
      "/home/bassem/anaconda3/lib/python3.9/site-packages/finrl/meta/data_processors/processor_yahoofinance.py:199: FutureWarning: The frame.append method is deprecated and will be removed from pandas in a future version. Use pandas.concat instead.\n",
      "  indicator_df = indicator_df.append(\n",
      "/home/bassem/anaconda3/lib/python3.9/site-packages/finrl/meta/data_processors/processor_yahoofinance.py:199: FutureWarning: The frame.append method is deprecated and will be removed from pandas in a future version. Use pandas.concat instead.\n",
      "  indicator_df = indicator_df.append(\n",
      "/home/bassem/anaconda3/lib/python3.9/site-packages/finrl/meta/data_processors/processor_yahoofinance.py:199: FutureWarning: The frame.append method is deprecated and will be removed from pandas in a future version. Use pandas.concat instead.\n",
      "  indicator_df = indicator_df.append(\n",
      "/home/bassem/anaconda3/lib/python3.9/site-packages/finrl/meta/data_processors/processor_yahoofinance.py:199: FutureWarning: The frame.append method is deprecated and will be removed from pandas in a future version. Use pandas.concat instead.\n",
      "  indicator_df = indicator_df.append(\n",
      "/home/bassem/anaconda3/lib/python3.9/site-packages/finrl/meta/data_processors/processor_yahoofinance.py:199: FutureWarning: The frame.append method is deprecated and will be removed from pandas in a future version. Use pandas.concat instead.\n",
      "  indicator_df = indicator_df.append(\n",
      "/home/bassem/anaconda3/lib/python3.9/site-packages/finrl/meta/data_processors/processor_yahoofinance.py:199: FutureWarning: The frame.append method is deprecated and will be removed from pandas in a future version. Use pandas.concat instead.\n",
      "  indicator_df = indicator_df.append(\n",
      "/home/bassem/anaconda3/lib/python3.9/site-packages/finrl/meta/data_processors/processor_yahoofinance.py:199: FutureWarning: The frame.append method is deprecated and will be removed from pandas in a future version. Use pandas.concat instead.\n",
      "  indicator_df = indicator_df.append(\n",
      "/home/bassem/anaconda3/lib/python3.9/site-packages/finrl/meta/data_processors/processor_yahoofinance.py:199: FutureWarning: The frame.append method is deprecated and will be removed from pandas in a future version. Use pandas.concat instead.\n",
      "  indicator_df = indicator_df.append(\n",
      "/home/bassem/anaconda3/lib/python3.9/site-packages/finrl/meta/data_processors/processor_yahoofinance.py:199: FutureWarning: The frame.append method is deprecated and will be removed from pandas in a future version. Use pandas.concat instead.\n",
      "  indicator_df = indicator_df.append(\n",
      "/home/bassem/anaconda3/lib/python3.9/site-packages/finrl/meta/data_processors/processor_yahoofinance.py:199: FutureWarning: The frame.append method is deprecated and will be removed from pandas in a future version. Use pandas.concat instead.\n",
      "  indicator_df = indicator_df.append(\n",
      "/home/bassem/anaconda3/lib/python3.9/site-packages/finrl/meta/data_processors/processor_yahoofinance.py:199: FutureWarning: The frame.append method is deprecated and will be removed from pandas in a future version. Use pandas.concat instead.\n",
      "  indicator_df = indicator_df.append(\n",
      "/home/bassem/anaconda3/lib/python3.9/site-packages/finrl/meta/data_processors/processor_yahoofinance.py:199: FutureWarning: The frame.append method is deprecated and will be removed from pandas in a future version. Use pandas.concat instead.\n",
      "  indicator_df = indicator_df.append(\n",
      "/home/bassem/anaconda3/lib/python3.9/site-packages/finrl/meta/data_processors/processor_yahoofinance.py:199: FutureWarning: The frame.append method is deprecated and will be removed from pandas in a future version. Use pandas.concat instead.\n",
      "  indicator_df = indicator_df.append(\n",
      "/home/bassem/anaconda3/lib/python3.9/site-packages/finrl/meta/data_processors/processor_yahoofinance.py:199: FutureWarning: The frame.append method is deprecated and will be removed from pandas in a future version. Use pandas.concat instead.\n",
      "  indicator_df = indicator_df.append(\n",
      "/home/bassem/anaconda3/lib/python3.9/site-packages/finrl/meta/data_processors/processor_yahoofinance.py:199: FutureWarning: The frame.append method is deprecated and will be removed from pandas in a future version. Use pandas.concat instead.\n",
      "  indicator_df = indicator_df.append(\n",
      "/home/bassem/anaconda3/lib/python3.9/site-packages/finrl/meta/data_processors/processor_yahoofinance.py:199: FutureWarning: The frame.append method is deprecated and will be removed from pandas in a future version. Use pandas.concat instead.\n",
      "  indicator_df = indicator_df.append(\n",
      "/home/bassem/anaconda3/lib/python3.9/site-packages/finrl/meta/data_processors/processor_yahoofinance.py:199: FutureWarning: The frame.append method is deprecated and will be removed from pandas in a future version. Use pandas.concat instead.\n",
      "  indicator_df = indicator_df.append(\n",
      "/home/bassem/anaconda3/lib/python3.9/site-packages/finrl/meta/data_processors/processor_yahoofinance.py:199: FutureWarning: The frame.append method is deprecated and will be removed from pandas in a future version. Use pandas.concat instead.\n",
      "  indicator_df = indicator_df.append(\n",
      "/home/bassem/anaconda3/lib/python3.9/site-packages/finrl/meta/data_processors/processor_yahoofinance.py:199: FutureWarning: The frame.append method is deprecated and will be removed from pandas in a future version. Use pandas.concat instead.\n",
      "  indicator_df = indicator_df.append(\n",
      "/home/bassem/anaconda3/lib/python3.9/site-packages/finrl/meta/data_processors/processor_yahoofinance.py:199: FutureWarning: The frame.append method is deprecated and will be removed from pandas in a future version. Use pandas.concat instead.\n",
      "  indicator_df = indicator_df.append(\n",
      "/home/bassem/anaconda3/lib/python3.9/site-packages/finrl/meta/data_processors/processor_yahoofinance.py:199: FutureWarning: The frame.append method is deprecated and will be removed from pandas in a future version. Use pandas.concat instead.\n",
      "  indicator_df = indicator_df.append(\n",
      "/home/bassem/anaconda3/lib/python3.9/site-packages/finrl/meta/data_processors/processor_yahoofinance.py:199: FutureWarning: The frame.append method is deprecated and will be removed from pandas in a future version. Use pandas.concat instead.\n",
      "  indicator_df = indicator_df.append(\n",
      "/home/bassem/anaconda3/lib/python3.9/site-packages/finrl/meta/data_processors/processor_yahoofinance.py:199: FutureWarning: The frame.append method is deprecated and will be removed from pandas in a future version. Use pandas.concat instead.\n",
      "  indicator_df = indicator_df.append(\n",
      "/home/bassem/anaconda3/lib/python3.9/site-packages/finrl/meta/data_processors/processor_yahoofinance.py:199: FutureWarning: The frame.append method is deprecated and will be removed from pandas in a future version. Use pandas.concat instead.\n",
      "  indicator_df = indicator_df.append(\n",
      "/home/bassem/anaconda3/lib/python3.9/site-packages/finrl/meta/data_processors/processor_yahoofinance.py:199: FutureWarning: The frame.append method is deprecated and will be removed from pandas in a future version. Use pandas.concat instead.\n",
      "  indicator_df = indicator_df.append(\n",
      "/home/bassem/anaconda3/lib/python3.9/site-packages/finrl/meta/data_processors/processor_yahoofinance.py:199: FutureWarning: The frame.append method is deprecated and will be removed from pandas in a future version. Use pandas.concat instead.\n",
      "  indicator_df = indicator_df.append(\n"
     ]
    },
    {
     "name": "stdout",
     "output_type": "stream",
     "text": [
      "[*********************100%***********************]  1 of 1 completed\n",
      "Shape of DataFrame:  (1800, 9)\n",
      "Clean data for ^VIX\n"
     ]
    },
    {
     "name": "stderr",
     "output_type": "stream",
     "text": [
      "/home/bassem/anaconda3/lib/python3.9/site-packages/finrl/meta/data_processors/processor_yahoofinance.py:56: FutureWarning: The frame.append method is deprecated and will be removed from pandas in a future version. Use pandas.concat instead.\n",
      "  data_df = data_df.append(temp_df)\n",
      "/home/bassem/anaconda3/lib/python3.9/site-packages/finrl/meta/data_processors/processor_yahoofinance.py:165: FutureWarning: The frame.append method is deprecated and will be removed from pandas in a future version. Use pandas.concat instead.\n",
      "  new_df = new_df.append(tmp_df)\n"
     ]
    },
    {
     "name": "stdout",
     "output_type": "stream",
     "text": [
      "Data clean for ^VIX is finished.\n",
      "Data clean all finished!\n",
      "['AAPL' 'AMGN' 'AXP' 'BA' 'CAT' 'CRM' 'CSCO' 'CVX' 'DIS' 'DOW' 'GS' 'HD'\n",
      " 'HON' 'IBM' 'INTC' 'JNJ' 'JPM' 'KO' 'MCD' 'MMM' 'MRK' 'MSFT' 'NKE' 'PG'\n",
      " 'TRV' 'UNH' 'V' 'VZ' 'WBA' 'WMT']\n",
      "Successfully transformed into array\n",
      "{'batch_size': 128, 'buffer_size': 100000, 'learning_rate': 0.0001, 'learning_starts': 100, 'ent_coef': 'auto_0.1'}\n",
      "Using cuda device\n",
      "Wrapping the env with a `Monitor` wrapper\n",
      "Wrapping the env in a DummyVecEnv.\n"
     ]
    },
    {
     "ename": "RuntimeError",
     "evalue": "element 0 of tensors does not require grad and does not have a grad_fn",
     "output_type": "error",
     "traceback": [
      "\u001b[0;31m---------------------------------------------------------------------------\u001b[0m",
      "\u001b[0;31mRuntimeError\u001b[0m                              Traceback (most recent call last)",
      "\u001b[1;32m/home/bassem/code/FinRL-Meta/tutorials/2-Advance/Plug_and_Play_with_DRL_Libraries.ipynb Cell 55\u001b[0m in \u001b[0;36m<cell line: 2>\u001b[0;34m()\u001b[0m\n\u001b[1;32m      <a href='vscode-notebook-cell:/home/bassem/code/FinRL-Meta/tutorials/2-Advance/Plug_and_Play_with_DRL_Libraries.ipynb#ch0000054?line=0'>1</a>\u001b[0m \u001b[39m#demo for stable-baselines3\u001b[39;00m\n\u001b[0;32m----> <a href='vscode-notebook-cell:/home/bassem/code/FinRL-Meta/tutorials/2-Advance/Plug_and_Play_with_DRL_Libraries.ipynb#ch0000054?line=1'>2</a>\u001b[0m train(start_date \u001b[39m=\u001b[39;49m TRAIN_START_DATE,\n\u001b[1;32m      <a href='vscode-notebook-cell:/home/bassem/code/FinRL-Meta/tutorials/2-Advance/Plug_and_Play_with_DRL_Libraries.ipynb#ch0000054?line=2'>3</a>\u001b[0m       end_date \u001b[39m=\u001b[39;49m TRAIN_END_DATE,\n\u001b[1;32m      <a href='vscode-notebook-cell:/home/bassem/code/FinRL-Meta/tutorials/2-Advance/Plug_and_Play_with_DRL_Libraries.ipynb#ch0000054?line=3'>4</a>\u001b[0m       ticker_list \u001b[39m=\u001b[39;49m config\u001b[39m.\u001b[39;49mDOW_30_TICKER,\n\u001b[1;32m      <a href='vscode-notebook-cell:/home/bassem/code/FinRL-Meta/tutorials/2-Advance/Plug_and_Play_with_DRL_Libraries.ipynb#ch0000054?line=4'>5</a>\u001b[0m       data_source \u001b[39m=\u001b[39;49m \u001b[39m'\u001b[39;49m\u001b[39myahoofinance\u001b[39;49m\u001b[39m'\u001b[39;49m,\n\u001b[1;32m      <a href='vscode-notebook-cell:/home/bassem/code/FinRL-Meta/tutorials/2-Advance/Plug_and_Play_with_DRL_Libraries.ipynb#ch0000054?line=5'>6</a>\u001b[0m       time_interval\u001b[39m=\u001b[39;49m \u001b[39m'\u001b[39;49m\u001b[39m1D\u001b[39;49m\u001b[39m'\u001b[39;49m,\n\u001b[1;32m      <a href='vscode-notebook-cell:/home/bassem/code/FinRL-Meta/tutorials/2-Advance/Plug_and_Play_with_DRL_Libraries.ipynb#ch0000054?line=6'>7</a>\u001b[0m       technical_indicator_list\u001b[39m=\u001b[39;49m INDICATORS,\n\u001b[1;32m      <a href='vscode-notebook-cell:/home/bassem/code/FinRL-Meta/tutorials/2-Advance/Plug_and_Play_with_DRL_Libraries.ipynb#ch0000054?line=7'>8</a>\u001b[0m       drl_lib\u001b[39m=\u001b[39;49m\u001b[39m'\u001b[39;49m\u001b[39mstable_baselines3\u001b[39;49m\u001b[39m'\u001b[39;49m,\n\u001b[1;32m      <a href='vscode-notebook-cell:/home/bassem/code/FinRL-Meta/tutorials/2-Advance/Plug_and_Play_with_DRL_Libraries.ipynb#ch0000054?line=8'>9</a>\u001b[0m       env\u001b[39m=\u001b[39;49menv,\n\u001b[1;32m     <a href='vscode-notebook-cell:/home/bassem/code/FinRL-Meta/tutorials/2-Advance/Plug_and_Play_with_DRL_Libraries.ipynb#ch0000054?line=9'>10</a>\u001b[0m       model_name\u001b[39m=\u001b[39;49m\u001b[39m'\u001b[39;49m\u001b[39msac\u001b[39;49m\u001b[39m'\u001b[39;49m,\n\u001b[1;32m     <a href='vscode-notebook-cell:/home/bassem/code/FinRL-Meta/tutorials/2-Advance/Plug_and_Play_with_DRL_Libraries.ipynb#ch0000054?line=10'>11</a>\u001b[0m       cwd\u001b[39m=\u001b[39;49m\u001b[39m'\u001b[39;49m\u001b[39m./test_sac\u001b[39;49m\u001b[39m'\u001b[39;49m,\n\u001b[1;32m     <a href='vscode-notebook-cell:/home/bassem/code/FinRL-Meta/tutorials/2-Advance/Plug_and_Play_with_DRL_Libraries.ipynb#ch0000054?line=11'>12</a>\u001b[0m       agent_params \u001b[39m=\u001b[39;49m SAC_PARAMS,\n\u001b[1;32m     <a href='vscode-notebook-cell:/home/bassem/code/FinRL-Meta/tutorials/2-Advance/Plug_and_Play_with_DRL_Libraries.ipynb#ch0000054?line=12'>13</a>\u001b[0m       total_timesteps\u001b[39m=\u001b[39;49m\u001b[39m1e4\u001b[39;49m)\n",
      "\u001b[1;32m/home/bassem/code/FinRL-Meta/tutorials/2-Advance/Plug_and_Play_with_DRL_Libraries.ipynb Cell 55\u001b[0m in \u001b[0;36mtrain\u001b[0;34m(start_date, end_date, ticker_list, data_source, time_interval, technical_indicator_list, drl_lib, env, model_name, if_vix, **kwargs)\u001b[0m\n\u001b[1;32m     <a href='vscode-notebook-cell:/home/bassem/code/FinRL-Meta/tutorials/2-Advance/Plug_and_Play_with_DRL_Libraries.ipynb#ch0000054?line=62'>63</a>\u001b[0m agent \u001b[39m=\u001b[39m DRLAgent_sb3(env \u001b[39m=\u001b[39m env_instance)\n\u001b[1;32m     <a href='vscode-notebook-cell:/home/bassem/code/FinRL-Meta/tutorials/2-Advance/Plug_and_Play_with_DRL_Libraries.ipynb#ch0000054?line=64'>65</a>\u001b[0m model \u001b[39m=\u001b[39m agent\u001b[39m.\u001b[39mget_model(model_name, model_kwargs \u001b[39m=\u001b[39m agent_params)\n\u001b[0;32m---> <a href='vscode-notebook-cell:/home/bassem/code/FinRL-Meta/tutorials/2-Advance/Plug_and_Play_with_DRL_Libraries.ipynb#ch0000054?line=65'>66</a>\u001b[0m trained_model \u001b[39m=\u001b[39m agent\u001b[39m.\u001b[39;49mtrain_model(model\u001b[39m=\u001b[39;49mmodel,\n\u001b[1;32m     <a href='vscode-notebook-cell:/home/bassem/code/FinRL-Meta/tutorials/2-Advance/Plug_and_Play_with_DRL_Libraries.ipynb#ch0000054?line=66'>67</a>\u001b[0m                         tb_log_name\u001b[39m=\u001b[39;49mmodel_name,\n\u001b[1;32m     <a href='vscode-notebook-cell:/home/bassem/code/FinRL-Meta/tutorials/2-Advance/Plug_and_Play_with_DRL_Libraries.ipynb#ch0000054?line=67'>68</a>\u001b[0m                         total_timesteps\u001b[39m=\u001b[39;49mtotal_timesteps)\n\u001b[1;32m     <a href='vscode-notebook-cell:/home/bassem/code/FinRL-Meta/tutorials/2-Advance/Plug_and_Play_with_DRL_Libraries.ipynb#ch0000054?line=68'>69</a>\u001b[0m \u001b[39mprint\u001b[39m(\u001b[39m'\u001b[39m\u001b[39mTraining finished!\u001b[39m\u001b[39m'\u001b[39m)\n\u001b[1;32m     <a href='vscode-notebook-cell:/home/bassem/code/FinRL-Meta/tutorials/2-Advance/Plug_and_Play_with_DRL_Libraries.ipynb#ch0000054?line=69'>70</a>\u001b[0m trained_model\u001b[39m.\u001b[39msave(cwd)\n",
      "File \u001b[0;32m~/anaconda3/lib/python3.9/site-packages/finrl/agents/stablebaselines3/models.py:103\u001b[0m, in \u001b[0;36mDRLAgent.train_model\u001b[0;34m(self, model, tb_log_name, total_timesteps)\u001b[0m\n\u001b[1;32m    102\u001b[0m \u001b[39mdef\u001b[39;00m \u001b[39mtrain_model\u001b[39m(\u001b[39mself\u001b[39m, model, tb_log_name, total_timesteps\u001b[39m=\u001b[39m\u001b[39m5000\u001b[39m):\n\u001b[0;32m--> 103\u001b[0m     model \u001b[39m=\u001b[39m model\u001b[39m.\u001b[39;49mlearn(\n\u001b[1;32m    104\u001b[0m         total_timesteps\u001b[39m=\u001b[39;49mtotal_timesteps,\n\u001b[1;32m    105\u001b[0m         tb_log_name\u001b[39m=\u001b[39;49mtb_log_name,\n\u001b[1;32m    106\u001b[0m         callback\u001b[39m=\u001b[39;49mTensorboardCallback(),\n\u001b[1;32m    107\u001b[0m     )\n\u001b[1;32m    108\u001b[0m     \u001b[39mreturn\u001b[39;00m model\n",
      "File \u001b[0;32m~/anaconda3/lib/python3.9/site-packages/stable_baselines3/sac/sac.py:292\u001b[0m, in \u001b[0;36mSAC.learn\u001b[0;34m(self, total_timesteps, callback, log_interval, eval_env, eval_freq, n_eval_episodes, tb_log_name, eval_log_path, reset_num_timesteps)\u001b[0m\n\u001b[1;32m    279\u001b[0m \u001b[39mdef\u001b[39;00m \u001b[39mlearn\u001b[39m(\n\u001b[1;32m    280\u001b[0m     \u001b[39mself\u001b[39m,\n\u001b[1;32m    281\u001b[0m     total_timesteps: \u001b[39mint\u001b[39m,\n\u001b[0;32m   (...)\u001b[0m\n\u001b[1;32m    289\u001b[0m     reset_num_timesteps: \u001b[39mbool\u001b[39m \u001b[39m=\u001b[39m \u001b[39mTrue\u001b[39;00m,\n\u001b[1;32m    290\u001b[0m ) \u001b[39m-\u001b[39m\u001b[39m>\u001b[39m OffPolicyAlgorithm:\n\u001b[0;32m--> 292\u001b[0m     \u001b[39mreturn\u001b[39;00m \u001b[39msuper\u001b[39;49m(SAC, \u001b[39mself\u001b[39;49m)\u001b[39m.\u001b[39;49mlearn(\n\u001b[1;32m    293\u001b[0m         total_timesteps\u001b[39m=\u001b[39;49mtotal_timesteps,\n\u001b[1;32m    294\u001b[0m         callback\u001b[39m=\u001b[39;49mcallback,\n\u001b[1;32m    295\u001b[0m         log_interval\u001b[39m=\u001b[39;49mlog_interval,\n\u001b[1;32m    296\u001b[0m         eval_env\u001b[39m=\u001b[39;49meval_env,\n\u001b[1;32m    297\u001b[0m         eval_freq\u001b[39m=\u001b[39;49meval_freq,\n\u001b[1;32m    298\u001b[0m         n_eval_episodes\u001b[39m=\u001b[39;49mn_eval_episodes,\n\u001b[1;32m    299\u001b[0m         tb_log_name\u001b[39m=\u001b[39;49mtb_log_name,\n\u001b[1;32m    300\u001b[0m         eval_log_path\u001b[39m=\u001b[39;49meval_log_path,\n\u001b[1;32m    301\u001b[0m         reset_num_timesteps\u001b[39m=\u001b[39;49mreset_num_timesteps,\n\u001b[1;32m    302\u001b[0m     )\n",
      "File \u001b[0;32m~/anaconda3/lib/python3.9/site-packages/stable_baselines3/common/off_policy_algorithm.py:366\u001b[0m, in \u001b[0;36mOffPolicyAlgorithm.learn\u001b[0;34m(self, total_timesteps, callback, log_interval, eval_env, eval_freq, n_eval_episodes, tb_log_name, eval_log_path, reset_num_timesteps)\u001b[0m\n\u001b[1;32m    364\u001b[0m         \u001b[39m# Special case when the user passes `gradient_steps=0`\u001b[39;00m\n\u001b[1;32m    365\u001b[0m         \u001b[39mif\u001b[39;00m gradient_steps \u001b[39m>\u001b[39m \u001b[39m0\u001b[39m:\n\u001b[0;32m--> 366\u001b[0m             \u001b[39mself\u001b[39;49m\u001b[39m.\u001b[39;49mtrain(batch_size\u001b[39m=\u001b[39;49m\u001b[39mself\u001b[39;49m\u001b[39m.\u001b[39;49mbatch_size, gradient_steps\u001b[39m=\u001b[39;49mgradient_steps)\n\u001b[1;32m    368\u001b[0m callback\u001b[39m.\u001b[39mon_training_end()\n\u001b[1;32m    370\u001b[0m \u001b[39mreturn\u001b[39;00m \u001b[39mself\u001b[39m\n",
      "File \u001b[0;32m~/anaconda3/lib/python3.9/site-packages/stable_baselines3/sac/sac.py:226\u001b[0m, in \u001b[0;36mSAC.train\u001b[0;34m(self, gradient_steps, batch_size)\u001b[0m\n\u001b[1;32m    224\u001b[0m \u001b[39mif\u001b[39;00m ent_coef_loss \u001b[39mis\u001b[39;00m \u001b[39mnot\u001b[39;00m \u001b[39mNone\u001b[39;00m:\n\u001b[1;32m    225\u001b[0m     \u001b[39mself\u001b[39m\u001b[39m.\u001b[39ment_coef_optimizer\u001b[39m.\u001b[39mzero_grad()\n\u001b[0;32m--> 226\u001b[0m     ent_coef_loss\u001b[39m.\u001b[39;49mbackward()\n\u001b[1;32m    227\u001b[0m     \u001b[39mself\u001b[39m\u001b[39m.\u001b[39ment_coef_optimizer\u001b[39m.\u001b[39mstep()\n\u001b[1;32m    229\u001b[0m \u001b[39mwith\u001b[39;00m th\u001b[39m.\u001b[39mno_grad():\n\u001b[1;32m    230\u001b[0m     \u001b[39m# Select action according to policy\u001b[39;00m\n",
      "File \u001b[0;32m~/anaconda3/lib/python3.9/site-packages/torch/_tensor.py:307\u001b[0m, in \u001b[0;36mTensor.backward\u001b[0;34m(self, gradient, retain_graph, create_graph, inputs)\u001b[0m\n\u001b[1;32m    298\u001b[0m \u001b[39mif\u001b[39;00m has_torch_function_unary(\u001b[39mself\u001b[39m):\n\u001b[1;32m    299\u001b[0m     \u001b[39mreturn\u001b[39;00m handle_torch_function(\n\u001b[1;32m    300\u001b[0m         Tensor\u001b[39m.\u001b[39mbackward,\n\u001b[1;32m    301\u001b[0m         (\u001b[39mself\u001b[39m,),\n\u001b[0;32m   (...)\u001b[0m\n\u001b[1;32m    305\u001b[0m         create_graph\u001b[39m=\u001b[39mcreate_graph,\n\u001b[1;32m    306\u001b[0m         inputs\u001b[39m=\u001b[39minputs)\n\u001b[0;32m--> 307\u001b[0m torch\u001b[39m.\u001b[39;49mautograd\u001b[39m.\u001b[39;49mbackward(\u001b[39mself\u001b[39;49m, gradient, retain_graph, create_graph, inputs\u001b[39m=\u001b[39;49minputs)\n",
      "File \u001b[0;32m~/anaconda3/lib/python3.9/site-packages/torch/autograd/__init__.py:154\u001b[0m, in \u001b[0;36mbackward\u001b[0;34m(tensors, grad_tensors, retain_graph, create_graph, grad_variables, inputs)\u001b[0m\n\u001b[1;32m    151\u001b[0m \u001b[39mif\u001b[39;00m retain_graph \u001b[39mis\u001b[39;00m \u001b[39mNone\u001b[39;00m:\n\u001b[1;32m    152\u001b[0m     retain_graph \u001b[39m=\u001b[39m create_graph\n\u001b[0;32m--> 154\u001b[0m Variable\u001b[39m.\u001b[39;49m_execution_engine\u001b[39m.\u001b[39;49mrun_backward(\n\u001b[1;32m    155\u001b[0m     tensors, grad_tensors_, retain_graph, create_graph, inputs,\n\u001b[1;32m    156\u001b[0m     allow_unreachable\u001b[39m=\u001b[39;49m\u001b[39mTrue\u001b[39;49;00m, accumulate_grad\u001b[39m=\u001b[39;49m\u001b[39mTrue\u001b[39;49;00m)\n",
      "\u001b[0;31mRuntimeError\u001b[0m: element 0 of tensors does not require grad and does not have a grad_fn"
     ]
    }
   ],
   "source": [
    "#demo for stable-baselines3\n",
    "train(start_date = TRAIN_START_DATE,\n",
    "      end_date = TRAIN_END_DATE,\n",
    "      ticker_list = config.DOW_30_TICKER,\n",
    "      data_source = 'yahoofinance',\n",
    "      time_interval= '1D',\n",
    "      technical_indicator_list= INDICATORS,\n",
    "      drl_lib='stable_baselines3',\n",
    "      env=env,\n",
    "      model_name='sac',\n",
    "      cwd='./test_sac',\n",
    "      agent_params = SAC_PARAMS,\n",
    "      total_timesteps=1e4)\n"
   ]
  },
  {
   "cell_type": "markdown",
   "metadata": {
    "collapsed": false
   },
   "source": [
    "#### Test"
   ]
  },
  {
   "cell_type": "code",
   "execution_count": null,
   "metadata": {
    "collapsed": false,
    "pycharm": {
     "name": "#%%\n"
    }
   },
   "outputs": [],
   "source": [
    "account_value_sb3=test(start_date = TEST_START_DATE,\n",
    "     end_date = TEST_END_DATE,\n",
    "     ticker_list = config.DOW_30_TICKER,\n",
    "     data_source = 'yahoofinance',\n",
    "     time_interval= '1D',\n",
    "     technical_indicator_list= INDICATORS,\n",
    "     drl_lib='stable_baselines3',\n",
    "     env=env,\n",
    "     model_name='sac',\n",
    "     cwd='./test_sac.zip')"
   ]
  },
  {
   "cell_type": "code",
   "execution_count": null,
   "metadata": {
    "collapsed": false,
    "pycharm": {
     "name": "#%%\n"
    }
   },
   "outputs": [],
   "source": [
    "len(account_value_sb3)"
   ]
  },
  {
   "cell_type": "markdown",
   "metadata": {
    "collapsed": false
   },
   "source": [
    "#### Plot"
   ]
  },
  {
   "cell_type": "code",
   "execution_count": null,
   "metadata": {
    "collapsed": false,
    "pycharm": {
     "name": "#%%\n"
    }
   },
   "outputs": [],
   "source": [
    "DP = DataProcessor('yahoofinance')\n",
    "DP.download_data(ticker_list = [\"^DJI\"],\n",
    "                start_date = TEST_START_DATE,\n",
    "                end_date = TEST_END_DATE,\n",
    "                time_interval = \"1D\")\n",
    "stats = backtest_stats(DP.dataframe, value_col_name = 'close')\n"
   ]
  },
  {
   "cell_type": "code",
   "execution_count": null,
   "metadata": {
    "collapsed": false,
    "pycharm": {
     "name": "#%%\n"
    }
   },
   "outputs": [],
   "source": [
    "account_value_sb3 = pd.DataFrame({'date':DP.dataframe.date,'account_value':account_value_sb3[0:len(account_value_sb3)-1]})"
   ]
  },
  {
   "cell_type": "code",
   "execution_count": null,
   "metadata": {
    "collapsed": false,
    "pycharm": {
     "name": "#%%\n"
    }
   },
   "outputs": [],
   "source": [
    "perf_stats_all = backtest_stats(account_value=account_value_sb3)\n",
    "perf_stats_all = pd.DataFrame(perf_stats_all)"
   ]
  },
  {
   "cell_type": "code",
   "execution_count": null,
   "metadata": {
    "collapsed": false,
    "pycharm": {
     "name": "#%%\n"
    }
   },
   "outputs": [],
   "source": [
    "account_value_sb3.tail()"
   ]
  },
  {
   "cell_type": "code",
   "execution_count": null,
   "metadata": {
    "collapsed": false,
    "pycharm": {
     "name": "#%%\n"
    }
   },
   "outputs": [],
   "source": [
    "print(\"==============Compare to DJIA===========\")\n",
    "#%matplotlib inline\n",
    "# S&P 500: ^GSPC\n",
    "# Dow Jones Index: ^DJI\n",
    "# NASDAQ 100: ^NDX\n",
    "backtest_plot(account_value_sb3,\n",
    "             baseline_ticker = '^DJI',\n",
    "             baseline_start = account_value_sb3.loc[0,'date'],\n",
    "             baseline_end = account_value_sb3.loc[len(account_value_sb3)-1,'date'])"
   ]
  },
  {
   "cell_type": "markdown",
   "metadata": {
    "collapsed": false
   },
   "source": [
    "## Part 5: Use Plotly to compare eRL, RLlib and SB3"
   ]
  },
  {
   "cell_type": "code",
   "execution_count": null,
   "metadata": {
    "collapsed": false,
    "pycharm": {
     "name": "#%%\n"
    }
   },
   "outputs": [],
   "source": [
    "DP.dataframe"
   ]
  },
  {
   "cell_type": "code",
   "execution_count": null,
   "metadata": {
    "collapsed": false,
    "pycharm": {
     "name": "#%%\n"
    }
   },
   "outputs": [],
   "source": [
    "from datetime import datetime as dt\n",
    "\n",
    "import matplotlib.pyplot as plt\n",
    "import plotly\n",
    "import plotly.graph_objs as go"
   ]
  },
  {
   "cell_type": "code",
   "execution_count": null,
   "metadata": {
    "collapsed": false,
    "pycharm": {
     "name": "#%%\n"
    }
   },
   "outputs": [],
   "source": [
    "daily_return = account_value_sb3.copy()\n",
    "daily_return['sb3_return'] = account_value_sb3.account_value.pct_change()\n",
    "daily_return['erl_return'] = account_value_erl.account_value.pct_change()\n",
    "daily_return['rllib_return'] = account_value_rllib.account_value.pct_change()\n",
    "daily_return['djia_return'] = DP.dataframe.adjcp.pct_change()\n"
   ]
  },
  {
   "cell_type": "code",
   "execution_count": null,
   "metadata": {
    "collapsed": false,
    "pycharm": {
     "name": "#%%\n"
    }
   },
   "outputs": [],
   "source": [
    "daily_return.head()"
   ]
  },
  {
   "cell_type": "code",
   "execution_count": null,
   "metadata": {
    "collapsed": false,
    "pycharm": {
     "name": "#%%\n"
    }
   },
   "outputs": [],
   "source": [
    "daily_return.to_csv('daily_return_erl_sb3_rllib.csv',index=False)\n",
    "#daily_return = pd.read_csv('daily_return_erl_sb3_rllib.csv')"
   ]
  },
  {
   "cell_type": "code",
   "execution_count": null,
   "metadata": {
    "collapsed": false,
    "pycharm": {
     "name": "#%%\n"
    }
   },
   "outputs": [],
   "source": [
    "rllib_cumpod =(daily_return.rllib_return+1).cumprod()-1\n",
    "sb3_cumpod =(daily_return.sb3_return+1).cumprod()-1\n",
    "erl_cumpod =(daily_return.erl_return+1).cumprod()-1\n",
    "dji_cumpod =(daily_return.djia_return+1).cumprod()-1"
   ]
  },
  {
   "cell_type": "code",
   "execution_count": null,
   "metadata": {
    "collapsed": false,
    "pycharm": {
     "name": "#%%\n"
    }
   },
   "outputs": [],
   "source": []
  },
  {
   "cell_type": "code",
   "execution_count": null,
   "metadata": {
    "collapsed": false,
    "pycharm": {
     "name": "#%%\n"
    }
   },
   "outputs": [],
   "source": [
    "time_ind = pd.Series(daily_return.date)"
   ]
  },
  {
   "cell_type": "code",
   "execution_count": null,
   "metadata": {
    "collapsed": false,
    "pycharm": {
     "name": "#%%\n"
    }
   },
   "outputs": [],
   "source": [
    "trace0_portfolio = go.Scatter(x = time_ind, y = rllib_cumpod, mode = 'lines', name = 'RLlib')\n",
    "\n",
    "trace1_portfolio = go.Scatter(x = time_ind, y = dji_cumpod, mode = 'lines', name = 'DJIA')\n",
    "trace2_portfolio = go.Scatter(x = time_ind, y = sb3_cumpod, mode = 'lines', name = 'Stablebaselines3')\n",
    "trace3_portfolio = go.Scatter(x = time_ind, y = erl_cumpod, mode = 'lines', name = 'ElegantRL')\n",
    "#trace4_portfolio = go.Scatter(x = time_ind, y = addpg_cumpod, mode = 'lines', name = 'Adaptive-DDPG')\n",
    "#trace5_portfolio = go.Scatter(x = time_ind, y = min_cumpod, mode = 'lines', name = 'Min-Variance')\n",
    "\n",
    "#trace4 = go.Scatter(x = time_ind, y = addpg_cumpod, mode = 'lines', name = 'Adaptive-DDPG')\n",
    "\n",
    "#trace2 = go.Scatter(x = time_ind, y = portfolio_cost_minv, mode = 'lines', name = 'Min-Variance')\n",
    "#trace3 = go.Scatter(x = time_ind, y = spx_value, mode = 'lines', name = 'SPX')"
   ]
  },
  {
   "cell_type": "code",
   "execution_count": null,
   "metadata": {
    "collapsed": false,
    "pycharm": {
     "name": "#%%\n"
    }
   },
   "outputs": [],
   "source": [
    "fig = go.Figure()\n",
    "fig.add_trace(trace3_portfolio)\n",
    "fig.add_trace(trace2_portfolio)\n",
    "\n",
    "fig.add_trace(trace0_portfolio)\n",
    "fig.add_trace(trace1_portfolio)\n",
    "\n",
    "\n",
    "\n",
    "\n",
    "fig.update_layout(\n",
    "    legend=dict(\n",
    "        x=0,\n",
    "        y=1,\n",
    "        traceorder=\"normal\",\n",
    "        font=dict(\n",
    "            family=\"sans-serif\",\n",
    "            size=15,\n",
    "            color=\"black\"\n",
    "        ),\n",
    "        bgcolor=\"White\",\n",
    "        bordercolor=\"white\",\n",
    "        borderwidth=2\n",
    "\n",
    "    ),\n",
    ")\n",
    "#fig.update_layout(legend_orientation=\"h\")\n",
    "fig.update_layout(title={\n",
    "        #'text': \"Cumulative Return using FinRL\",\n",
    "        'y':0.85,\n",
    "        'x':0.5,\n",
    "        'xanchor': 'center',\n",
    "        'yanchor': 'top'})\n",
    "#with Transaction cost\n",
    "#fig.update_layout(title =  'Quarterly Trade Date')\n",
    "fig.update_layout(\n",
    "#    margin=dict(l=20, r=20, t=20, b=20),\n",
    "\n",
    "    paper_bgcolor='rgba(1,1,0,0)',\n",
    "    plot_bgcolor='rgba(1, 1, 0, 0)',\n",
    "    #xaxis_title=\"Date\",\n",
    "    yaxis_title=\"Cumulative Return\",\n",
    "xaxis={'type': 'date',\n",
    "       'tick0': time_ind[0],\n",
    "        'tickmode': 'linear',\n",
    "       'dtick': 86400000.0 *70}\n",
    "\n",
    ")\n",
    "fig.update_xaxes(showline=True,linecolor='black',showgrid=True, gridwidth=1, gridcolor='LightSteelBlue',mirror=True)\n",
    "fig.update_yaxes(showline=True,linecolor='black',showgrid=True, gridwidth=1, gridcolor='LightSteelBlue',mirror=True)\n",
    "fig.update_yaxes(zeroline=True, zerolinewidth=1, zerolinecolor='LightSteelBlue')\n",
    "\n",
    "fig.show()"
   ]
  },
  {
   "cell_type": "code",
   "execution_count": null,
   "metadata": {
    "collapsed": false,
    "pycharm": {
     "name": "#%%\n"
    }
   },
   "outputs": [],
   "source": []
  }
 ],
 "metadata": {
  "anaconda-cloud": {},
  "colab": {
   "collapsed_sections": [],
   "include_colab_link": true,
   "name": "Demo_Plug_and_Play_with_DRL_Libraries.ipynb",
   "provenance": [],
   "toc_visible": true
  },
  "kernelspec": {
   "display_name": "Python 3.9.12 ('base')",
   "language": "python",
   "name": "python3"
  },
  "language_info": {
   "codemirror_mode": {
    "name": "ipython",
    "version": 3
   },
   "file_extension": ".py",
   "mimetype": "text/x-python",
   "name": "python",
   "nbconvert_exporter": "python",
   "pygments_lexer": "ipython3",
   "version": "3.9.12"
  },
  "vscode": {
   "interpreter": {
    "hash": "3b3d28beda150a23b2654663fc7b6a7c024622bec4872c2b09c2a988d21c6137"
   }
  }
 },
 "nbformat": 4,
 "nbformat_minor": 1
}
